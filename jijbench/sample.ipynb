{
 "cells": [
  {
   "cell_type": "code",
   "execution_count": 14,
   "metadata": {},
   "outputs": [
    {
     "name": "stdout",
     "output_type": "stream",
     "text": [
      "2 3\n",
      "{'x': 1, 'y': 2}\n",
      "1\n",
      "3\n"
     ]
    }
   ],
   "source": [
    "def f(a, b, *args, **kwargs):\n",
    "    print(a, b)\n",
    "    print(kwargs)\n",
    "    \n",
    "kwargs = {\"x\": 1, \"y\": 2}\n",
    "\n",
    "class A:\n",
    "    x = 1\n",
    "    def __init__(self):\n",
    "        self.a = 2\n",
    "\n",
    "f(2, b=3, **kwargs)\n",
    "\n",
    "obj = A()\n",
    "print(obj.x)\n",
    "\n",
    "A.x = 3\n",
    "obj = A()\n",
    "print(obj.x)"
   ]
  },
  {
   "cell_type": "code",
   "execution_count": 31,
   "metadata": {},
   "outputs": [
    {
     "name": "stdout",
     "output_type": "stream",
     "text": [
      "aaa\n",
      "2\n"
     ]
    }
   ],
   "source": [
    "def deco(func):\n",
    "    def wrapper():\n",
    "        print(\"aaa\")\n",
    "        a = func()\n",
    "        a += 1\n",
    "        return a\n",
    "    return wrapper\n",
    "\n",
    "\n",
    "@deco\n",
    "def test():\n",
    "    return 1\n",
    "    \n",
    "    \n",
    "\n",
    "a = test()\n",
    "print(a)"
   ]
  },
  {
   "cell_type": "code",
   "execution_count": 2,
   "metadata": {},
   "outputs": [
    {
     "name": "stdout",
     "output_type": "stream",
     "text": [
      "[]\n",
      "[]\n",
      "[1]\n",
      "[]\n"
     ]
    }
   ],
   "source": [
    "class B:\n",
    "    def __init__(self, l=[]):\n",
    "        self.l = l\n",
    "        \n",
    "        self._x = []\n",
    "        \n",
    "b1 = B()\n",
    "print(b1.l)\n",
    "print(b1._x)\n",
    "b1.l.append(1)\n",
    "b1._x.append(10)\n",
    "\n",
    "b2 = B()\n",
    "print(b2.l)\n",
    "print(b2._x)"
   ]
  },
  {
   "cell_type": "code",
   "execution_count": null,
   "metadata": {},
   "outputs": [],
   "source": []
  }
 ],
 "metadata": {
  "interpreter": {
   "hash": "5a2fa1bc7ff4ec72a64f84e63b47decae21c53ae999f26508f8024e6c7451ffb"
  },
  "kernelspec": {
   "display_name": "Python 3.9.6 64-bit ('3.9.6': pyenv)",
   "language": "python",
   "name": "python3"
  },
  "language_info": {
   "codemirror_mode": {
    "name": "ipython",
    "version": 3
   },
   "file_extension": ".py",
   "mimetype": "text/x-python",
   "name": "python",
   "nbconvert_exporter": "python",
   "pygments_lexer": "ipython3",
   "version": "3.9.6"
  },
  "orig_nbformat": 4
 },
 "nbformat": 4,
 "nbformat_minor": 2
}
