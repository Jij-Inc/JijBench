{
 "cells": [
  {
   "cell_type": "code",
   "execution_count": 18,
   "metadata": {},
   "outputs": [],
   "source": [
    "import jijbench as jb\n",
    "import openjij as oj"
   ]
  },
  {
   "cell_type": "code",
   "execution_count": 19,
   "metadata": {},
   "outputs": [],
   "source": [
    "def simple_updater(sampler, problem, ph_value, multipliers, optional_args, step, experiment):\n",
    "    response = sampler(problem, ph_value, multipliers, **optional_args)\n",
    "    new_mul = {k: 2*(v + 1) for k, v in multipliers.items()}\n",
    "    return new_mul, optional_args, response\n",
    "\n",
    "\n",
    "# QUBOコンパイルを一度だけにしたいのでSamplerに状態を持たせたい\n",
    "# => なのでCallableなクラスでsamplerメソッドを作っておく.\n",
    "class Sampler:\n",
    "    __name__ = \"sampler\"\n",
    "    def __init__(self):\n",
    "        self.sampler = oj.SASampler()\n",
    "        self.pyq_obj = None\n",
    "    \n",
    "    def __call__(self, problem, ph_value, multipliers, num_reads, num_sweeps=1000):\n",
    "        if self.pyq_obj is None:\n",
    "            # QUBOコンパイルした結果はキャッシュしておくことで再コンパイルしないようにする.\n",
    "            self.pyq_obj = problem.to_pyqubo(ph_value, {}).compile()\n",
    "\n",
    "        print(multipliers)    \n",
    "        bqm = self.pyq_obj.to_bqm(feed_dict=multipliers)\n",
    "\n",
    "        response = self.sampler.sample(bqm, num_reads=num_reads, num_sweeps=num_sweeps)\n",
    "        decoded = problem.decode(response, ph_value, {})\n",
    "        print(decoded.solutions[0])\n",
    "        return response"
   ]
  },
  {
   "cell_type": "code",
   "execution_count": 20,
   "metadata": {},
   "outputs": [],
   "source": [
    "instance_files = {\n",
    "        \"knapsack\": [\n",
    "            \"../jijbench/Instances/small/knapsack/f1_l-d_kp_10_269.json\"\n",
    "        ]\n",
    "    }\n",
    "\n",
    "result_dir = '../jijbench/Results'\n",
    "\n",
    "bench = jb.Benchmark(\n",
    "    updater=simple_updater,\n",
    "    sampler=Sampler(),\n",
    "    optional_args={'num_reads': 5},\n",
    "    instance_files=instance_files,\n",
    "    result_dir=result_dir,\n",
    ")"
   ]
  },
  {
   "cell_type": "code",
   "execution_count": 21,
   "metadata": {},
   "outputs": [
    {
     "name": "stdout",
     "output_type": "stream",
     "text": [
      ">> instance_file = ../jijbench/Instances/small/knapsack/f1_l-d_kp_10_269.json\n",
      "{'knapsack_constraint': 1}\n",
      "{'x': array([0., 1., 0., 1., 1., 0., 1., 0., 0., 0.])}\n",
      "{'knapsack_constraint': 4}\n",
      "{'x': array([0., 0., 1., 1., 1., 0., 1., 0., 0., 0.])}\n",
      "{'knapsack_constraint': 10}\n",
      "{'x': array([0., 0., 1., 0., 1., 0., 0., 0., 0., 0.])}\n",
      "{'knapsack_constraint': 22}\n",
      "{'x': array([0., 0., 0., 0., 1., 1., 1., 0., 0., 1.])}\n",
      "{'knapsack_constraint': 46}\n",
      "{'x': array([0., 1., 1., 1., 0., 1., 1., 0., 0., 1.])}\n",
      "{'knapsack_constraint': 94}\n",
      "{'x': array([1., 0., 0., 0., 0., 1., 0., 1., 0., 0.])}\n",
      "{'knapsack_constraint': 190}\n",
      "{'x': array([1., 0., 0., 1., 0., 1., 0., 1., 1., 0.])}\n",
      "{'knapsack_constraint': 382}\n",
      "{'x': array([0., 1., 1., 1., 0., 1., 1., 0., 0., 0.])}\n",
      "{'knapsack_constraint': 766}\n",
      "{'x': array([0., 1., 0., 0., 0., 1., 0., 1., 0., 1.])}\n",
      "{'knapsack_constraint': 1534}\n",
      "{'x': array([1., 1., 0., 0., 0., 1., 0., 0., 1., 0.])}\n"
     ]
    }
   ],
   "source": [
    "bench.run(max_iters=10)"
   ]
  },
  {
   "cell_type": "code",
   "execution_count": 22,
   "metadata": {},
   "outputs": [
    {
     "data": {
      "text/plain": [
       "'../jijbench/Results/results_1/logs/f1_l-d_kp_10_269.json'"
      ]
     },
     "execution_count": 22,
     "metadata": {},
     "output_type": "execute_result"
    }
   ],
   "source": [
    "bench.experiments[0].results.result_file"
   ]
  },
  {
   "cell_type": "code",
   "execution_count": 10,
   "metadata": {},
   "outputs": [],
   "source": [
    "experiment = jb.Experiment(updater=simple_updater, sampler=Sampler(), result_dir=result_dir)\n",
    "experiment.load(bench.experiments[0].results.result_file)"
   ]
  },
  {
   "cell_type": "code",
   "execution_count": 11,
   "metadata": {},
   "outputs": [
    {
     "name": "stdout",
     "output_type": "stream",
     "text": [
      "{'knapsack_constraint': 1}\n",
      "{'x': array([0., 1., 0., 1., 1., 1., 1., 0., 0., 1.])}\n",
      "{'knapsack_constraint': 1534}\n",
      "{'x': array([0., 1., 0., 0., 1., 1., 1., 0., 1., 0.])}\n",
      "[({'x': array([0., 1., 0., 0., 1., 1., 1., 0., 1., 0.])}, 1290., 1, -244., {'knapsack_constraint': 0.0}, {'knapsack_constraint': {(): -112.0}}, {}, {})]\n",
      "{'knapsack_constraint': 1}\n",
      "{'x': array([0., 1., 1., 1., 1., 0., 1., 1., 0., 1.])}\n",
      "{'knapsack_constraint': 1534}\n",
      "{'x': array([0., 1., 1., 1., 0., 0., 0., 1., 0., 0.])}\n",
      "[({'x': array([0., 1., 1., 1., 0., 0., 0., 1., 0., 0.])}, 1376., 1, -158., {'knapsack_constraint': 0.0}, {'knapsack_constraint': {(): -146.0}}, {}, {})]\n",
      "{'knapsack_constraint': 1}\n",
      "{'x': array([0., 0., 1., 1., 1., 0., 1., 0., 0., 0.])}\n",
      "{'knapsack_constraint': 1534}\n",
      "{'x': array([1., 1., 0., 0., 0., 1., 0., 0., 0., 0.])}\n",
      "[({'x': array([1., 1., 0., 0., 0., 1., 0., 0., 0., 0.])}, -171., 1, -171., {'knapsack_constraint': 0.0}, {'knapsack_constraint': {(): -154.0}}, {}, {})]\n",
      "{'knapsack_constraint': 1}\n",
      "{'x': array([0., 0., 0., 1., 1., 1., 1., 0., 0., 1.])}\n",
      "{'knapsack_constraint': 1534}\n",
      "{'x': array([1., 0., 1., 1., 0., 0., 0., 0., 1., 0.])}\n",
      "[({'x': array([1., 0., 1., 1., 0., 0., 0., 0., 1., 0.])}, -252., 1, -252., {'knapsack_constraint': 0.0}, {'knapsack_constraint': {(): -77.0}}, {}, {})]\n",
      "{'knapsack_constraint': 1}\n",
      "{'x': array([0., 0., 1., 1., 1., 1., 1., 0., 1., 0.])}\n",
      "{'knapsack_constraint': 1534}\n",
      "{'x': array([0., 0., 1., 0., 1., 1., 0., 0., 0., 0.])}\n",
      "[({'x': array([0., 0., 1., 0., 1., 1., 0., 0., 0., 0.])}, -155., 1, -155., {'knapsack_constraint': 0.0}, {'knapsack_constraint': {(): -168.0}}, {}, {})]\n",
      "{'knapsack_constraint': 1}\n",
      "{'x': array([0., 1., 1., 1., 1., 1., 1., 1., 0., 0.])}\n",
      "{'knapsack_constraint': 1534}\n",
      "{'x': array([0., 1., 0., 1., 1., 0., 1., 1., 0., 0.])}\n",
      "[({'x': array([0., 1., 0., 1., 1., 0., 1., 1., 0., 0.])}, -201., 1, -201., {'knapsack_constraint': 0.0}, {'knapsack_constraint': {(): -181.0}}, {}, {})]\n"
     ]
    }
   ],
   "source": [
    "evaluator = jb.Evaluator(experiment)\n",
    "evaluator.evaluate()"
   ]
  },
  {
   "cell_type": "code",
   "execution_count": 83,
   "metadata": {},
   "outputs": [
    {
     "data": {
      "image/png": "[encoded data removed]",
      "text/plain": [
       "<Figure size 432x288 with 1 Axes>"
      ]
     },
     "metadata": {
      "needs_background": "light"
     },
     "output_type": "display_data"
    },
    {
     "data": {
      "image/png": "[encoded data removed]",
      "text/plain": [
       "<Figure size 432x288 with 1 Axes>"
      ]
     },
     "metadata": {
      "needs_background": "light"
     },
     "output_type": "display_data"
    },
    {
     "data": {
      "image/png": "[encoded data removed]",
      "text/plain": [
       "<Figure size 432x288 with 1 Axes>"
      ]
     },
     "metadata": {
      "needs_background": "light"
     },
     "output_type": "display_data"
    },
    {
     "data": {
      "image/png": "[encoded data removed]",
      "text/plain": [
       "<Figure size 432x288 with 1 Axes>"
      ]
     },
     "metadata": {
      "needs_background": "light"
     },
     "output_type": "display_data"
    }
   ],
   "source": [
    "evaluator.plot_evaluation_metrics()"
   ]
  },
  {
   "cell_type": "code",
   "execution_count": null,
   "metadata": {},
   "outputs": [],
   "source": []
  }
 ],
 "metadata": {
  "interpreter": {
   "hash": "e6631ffa907e3bd7cc3c7770b9dd62525f2a15fd87f81430de1a559e60e7da22"
  },
  "kernelspec": {
   "display_name": "Python 3.9.7 64-bit ('jijbench-GpRLI6-r-py3.9': poetry)",
   "language": "python",
   "name": "python3"
  },
  "language_info": {
   "codemirror_mode": {
    "name": "ipython",
    "version": 3
   },
   "file_extension": ".py",
   "mimetype": "text/x-python",
   "name": "python",
   "nbconvert_exporter": "python",
   "pygments_lexer": "ipython3",
   "version": "3.9.6"
  },
  "orig_nbformat": 4
 },
 "nbformat": 4,
 "nbformat_minor": 2
}
