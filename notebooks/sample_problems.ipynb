{
 "cells": [
  {
   "cell_type": "code",
   "execution_count": null,
   "metadata": {},
   "outputs": [],
   "source": [
    "import jijbench as jb"
   ]
  },
  {
   "cell_type": "code",
   "execution_count": null,
   "metadata": {},
   "outputs": [
    {
     "data": {
      "text/latex": [
       "$$\\begin{alignat*}{4} \\text{Problem} & \\text{: travelling\\_salesman} \\\\\\min & \\quad \\sum_{t = 0 }^{N - 1}\\sum_{i = 0 }^{N - 1}\\sum_{j = 0 }^{N - 1} dist_{i,j} \\cdot x_{t,i} \\cdot x_{t + 1 \\mod N,j} \\\\\\text{s.t.} & \\\\& \\text{onehot\\_time} :\\\\ &\\quad \\quad \\sum_{\\bar{i}_{1} = 0 }^{N - 1} x_{t,\\bar{i}_{1}} = 1,\\ \\forall t \\in \\left\\{ 0 ,\\ldots , N - 1 \\right\\} \\\\[8pt]& \\text{onehot\\_location} :\\\\ &\\quad \\quad \\sum_{\\bar{i}_{0} = 0 }^{N - 1} x_{\\bar{i}_{0},i} = 1,\\ \\forall i \\in \\left\\{ 0 ,\\ldots , N - 1 \\right\\} \\\\[8pt]&  x_{i_0,i_1} \\in \\{{0, 1\\}} \\end{alignat*}$$"
      ],
      "text/plain": [
       "<jijmodeling.problem.Problem at 0x7ff4b50d5730>"
      ]
     },
     "execution_count": 2,
     "metadata": {},
     "output_type": "execute_result"
    }
   ],
   "source": [
    "tsp = jb.problem.TSP()\n",
    "tsp.problem"
   ]
  },
  {
   "cell_type": "code",
   "execution_count": null,
   "metadata": {},
   "outputs": [
    {
     "data": {
      "text/latex": [
       "$$\\begin{alignat*}{4} \\text{Problem} & \\text{: travelling\\_salesman\\_with\\_time\\_windows} \\\\\\min & \\quad \\sum_{i = 0 }^{N - 1}\\sum_{j = 0 ,\\ j \\neq i}^{N - 1} dist_{i,j} \\cdot x_{i,j} \\\\\\text{s.t.} & \\\\& \\text{onehot\\_constraint1} :\\\\ &\\quad \\quad \\sum_{j = 0 ,\\ j \\neq i}^{N - 1} x_{i,j} = 1,\\ \\forall i \\in \\left\\{ 0 ,\\ldots , N - 1 \\right\\} \\\\[8pt]& \\text{onehot\\_constraint2} :\\\\ &\\quad \\quad \\sum_{j = 0 ,\\ j \\neq i}^{N - 1} x_{j,i} = 1,\\ \\forall i \\in \\left\\{ 0 ,\\ldots , N - 1 \\right\\} \\\\[8pt]& \\text{time\\_window\\_constraint} :\\\\ &\\quad \\quad t_{i} + dist_{i,j} - t_{j} \\leq 0,\\ \\forall j \\in \\left\\{ 0 ,\\ldots , N - 1 \\right\\} \\forall i \\in \\left\\{ 0 ,\\ldots , N - 1 \\right\\}  \\ j \\neq 0\\land i \\neq 0 \\ \\land \\ i \\neq j\\\\[8pt]&  x_{i_0,i_1} \\in \\{{0, 1\\}} \\end{alignat*}$$"
      ],
      "text/plain": [
       "<jijmodeling.problem.Problem at 0x7ff4b50c9fd0>"
      ]
     },
     "execution_count": 3,
     "metadata": {},
     "output_type": "execute_result"
    }
   ],
   "source": [
    "tsptw = jb.problem.TSPTW()\n",
    "tsptw.problem"
   ]
  },
  {
   "cell_type": "code",
   "execution_count": null,
   "metadata": {},
   "outputs": [
    {
     "data": {
      "text/latex": [
       "$$\\begin{alignat*}{4} \\text{Problem} & \\text{: knapsack} \\\\\\min & \\quad - \\sum_{i = 0 }^{num_items - 1} values_{i} \\cdot x_{i} \\\\\\text{s.t.} & \\\\& \\text{knapsack\\_constraint} :\\\\ &\\quad \\quad \\sum_{i = 0 }^{num_items - 1} weights_{i} \\cdot x_{i} - capacity \\leq 0,\\\\[8pt]&  x_{i_0} \\in \\{{0, 1\\}} \\end{alignat*}$$"
      ],
      "text/plain": [
       "<jijmodeling.problem.Problem at 0x7ff4b50e92e0>"
      ]
     },
     "execution_count": 4,
     "metadata": {},
     "output_type": "execute_result"
    }
   ],
   "source": [
    "kanpsack = jb.problem.Knapsack()\n",
    "kanpsack.problem"
   ]
  },
  {
   "cell_type": "code",
   "execution_count": null,
   "metadata": {},
   "outputs": [
    {
     "data": {
      "text/latex": [
       "$$\\begin{alignat*}{4} \\text{Problem} & \\text{: bin\\_packing} \\\\\\min & \\quad \\sum_{\\bar{i}_{0} = 0 }^{num_items - 1} y_{\\bar{i}_{0}} \\\\\\text{s.t.} & \\\\& \\text{onehot\\_constraint} :\\\\ &\\quad \\quad \\sum_{j = 0 }^{num_items - 1} x_{i,j} - 1 = 0,\\ \\forall i \\in \\left\\{ 0 ,\\ldots , num_items - 1 \\right\\} \\\\[8pt]& \\text{knapsack\\_constraint} :\\\\ &\\quad \\quad \\sum_{i = 0 }^{num_items - 1} w_{i} \\cdot x_{i,j} - y_{j} \\cdot c \\leq 0,\\ \\forall j \\in \\left\\{ 0 ,\\ldots , num_items - 1 \\right\\} \\\\[8pt]&  y_{i_0} \\in \\{{0, 1\\}} \\end{alignat*}$$"
      ],
      "text/plain": [
       "<jijmodeling.problem.Problem at 0x7ff4b51081c0>"
      ]
     },
     "execution_count": 5,
     "metadata": {},
     "output_type": "execute_result"
    }
   ],
   "source": [
    "bin_packing = jb.problem.BinPacking()\n",
    "bin_packing.problem"
   ]
  },
  {
   "cell_type": "code",
   "execution_count": null,
   "metadata": {},
   "outputs": [
    {
     "data": {
      "text/latex": [
       "$$\\begin{alignat*}{4} \\text{Problem} & \\text{: nurse\\_scheduling} \\\\\\min & \\quad \\sum_{i = 0 }^{I - 1}\\sum_{d = 0 }^{D - 1}\\sum_{t = 0 }^{T - 1} q_{i,d,t} \\cdot \\left( 1 - x_{i,d,t} \\right) + \\sum_{i = 0 }^{I - 1}\\sum_{d = 0 }^{D - 1}\\sum_{t = 0 }^{T - 1} p_{i,d,t} \\cdot x_{i,d,t} + \\sum_{d = 0 }^{D - 1}\\sum_{t = 0 }^{T - 1} y_{d,t} \\cdot v_min_{d,t} + \\sum_{d = 0 }^{D - 1}\\sum_{t = 0 }^{T - 1} z_{d,t} \\cdot v_max_{d,t} \\\\\\text{s.t.} & \\\\& \\text{assign} :\\\\ &\\quad \\quad \\sum_{t = 0 }^{T - 1} x_{i,d,t} - 1 \\leq 0,\\ \\forall i \\in \\left\\{ 0 ,\\ldots , I - 1 \\right\\} \\forall d \\in \\left\\{ 0 ,\\ldots , D - 1 \\right\\} \\\\[8pt]& \\text{shift\\_rotation} :\\\\ &\\quad \\quad x_{i,d,t} + x_{i,d + 1,dt} - 1 \\leq 0,\\ \\forall i \\in \\left\\{ 0 ,\\ldots , I - 1 \\right\\} \\forall d \\in \\left\\{ 0 ,\\ldots , D - 1 \\right\\} \\forall t \\in \\left\\{ 0 ,\\ldots , T - 1 \\right\\} \\forall dt \\in \\left\\{ 0 ,\\ldots , R_\\mathrm{shape(0)} - 1 \\right\\}  \\ d \\neq D - 1\\land R_{t,dt} \\neq -1\\\\[8pt]& \\text{assign\\_max} :\\\\ &\\quad \\quad \\sum_{d = 0 }^{D - 1} x_{i,d,t} - m_max_{i,t} \\leq 0,\\ \\forall i \\in \\left\\{ 0 ,\\ldots , I - 1 \\right\\} \\forall t \\in \\left\\{ 0 ,\\ldots , T - 1 \\right\\} \\\\[8pt]& \\text{minimum\\_work\\_time} :\\\\ &\\quad \\quad b_min_{i} - \\sum_{d = 0 }^{D - 1}\\sum_{t = 0 }^{T - 1} l_{t} \\cdot x_{i,d,t} \\leq 0,\\ \\forall i \\in \\left\\{ 0 ,\\ldots , I - 1 \\right\\} \\\\[8pt]& \\text{maximum\\_work\\_time} :\\\\ &\\quad \\quad \\sum_{d = 0 }^{D - 1}\\sum_{t = 0 }^{T - 1} l_{t} \\cdot x_{i,d,t} - b_max_{i} \\leq 0,\\ \\forall i \\in \\left\\{ 0 ,\\ldots , I - 1 \\right\\} \\\\[8pt]& \\text{maximum\\_consecutive\\_shifts} :\\\\ &\\quad \\quad \\sum_{j = d }^{d + c_max_{i} + 1 - 1}\\sum_{t = 0 }^{T - 1} x_{i,j,t} - c_max_{i} \\leq 0,\\ \\forall i \\in \\left\\{ 0 ,\\ldots , I - 1 \\right\\} \\forall d \\in \\left\\{ 0 ,\\ldots , D - 1 \\right\\}  \\ d \\leq D - c_max_{i} + 1\\\\[8pt]& \\text{minimum\\_consecutive\\_shifts} :\\\\ &\\quad \\quad 0 \\leq \\sum_{t = 0 }^{T - 1} x_{i,d,t} + s - \\sum_{j = d + 1 }^{d + s + 1 - 1}\\sum_{t = 0 }^{T - 1} x_{i,j,t} + \\sum_{t = 0 }^{T - 1} x_{i,d + s + 1,t} - 1,\\ \\forall i \\in \\left\\{ 0 ,\\ldots , I - 1 \\right\\} \\forall s \\in \\left\\{ 1 ,\\ldots , c_min_{i} - 1 \\right\\} \\forall d \\in \\left\\{ 0 ,\\ldots , D - 1 \\right\\}  \\ d < D - s + 1\\\\[8pt]& \\text{minimum\\_consecutive\\_days\\_off} :\\\\ &\\quad \\quad 0 \\leq 1 - \\sum_{t = 0 }^{T - 1} x_{i,d,t} + \\sum_{j = d + 1 }^{d + s + 1 - 1}\\sum_{t = 0 }^{T - 1} x_{i,j,t} + 1 - \\sum_{t = 0 }^{T - 1} x_{i,d + s + 1,t} - 1,\\ \\forall i \\in \\left\\{ 0 ,\\ldots , I - 1 \\right\\} \\forall s \\in \\left\\{ 1 ,\\ldots , o_min_{i} - 1 \\right\\} \\forall d \\in \\left\\{ 0 ,\\ldots , D - 1 \\right\\}  \\ d < D - s + 1\\\\[8pt]& \\text{variable\\_k\\_lower} :\\\\ &\\quad \\quad k_{i,w} - \\sum_{t = 0 }^{T - 1} x_{i,7 \\cdot \\left( w + 1 \\right) - 2,t} + \\sum_{t = 0 }^{T - 1} x_{i,7 \\cdot \\left( w + 1 \\right) - 1,t} \\leq 0,\\ \\forall i \\in \\left\\{ 0 ,\\ldots , I - 1 \\right\\} \\forall w \\in \\left\\{ 0 ,\\ldots , W - 1 \\right\\} \\\\[8pt]& \\text{variable\\_k\\_upper} :\\\\ &\\quad \\quad \\sum_{t = 0 }^{T - 1} x_{i,7 \\cdot \\left( w + 1 \\right) - 2,t} + \\sum_{t = 0 }^{T - 1} x_{i,7 \\cdot \\left( w + 1 \\right) - 1,t} - 2 \\cdot k_{i,w} \\leq 0,\\ \\forall i \\in \\left\\{ 0 ,\\ldots , I - 1 \\right\\} \\forall w \\in \\left\\{ 0 ,\\ldots , W - 1 \\right\\} \\\\[8pt]& \\text{maximum\\_number\\_of\\_weekends} :\\\\ &\\quad \\quad \\sum_{w = 0 }^{W - 1} k_{i,w} - a_max_{i} \\leq 0,\\ \\forall i \\in \\left\\{ 0 ,\\ldots , I - 1 \\right\\} \\\\[8pt]& \\text{days\\_off} :\\\\ &\\quad \\quad x_{i,do,t} = 0,\\ \\forall i \\in \\left\\{ 0 ,\\ldots , I - 1 \\right\\} \\forall do \\in N_{i} \\forall t \\in \\left\\{ 0 ,\\ldots , T - 1 \\right\\}  \\ do \\neq -1\\\\[8pt]& \\text{cover\\_requirements} :\\\\ &\\quad \\quad \\sum_{i = 0 }^{I - 1} x_{i,d,t} - z_{d,t} + y_{d,t} - u_{d,t} = 0,\\ \\forall d \\in \\left\\{ 0 ,\\ldots , D - 1 \\right\\} \\forall t \\in \\left\\{ 0 ,\\ldots , T - 1 \\right\\} \\\\[8pt]&  x_{i_0,i_1,i_2} \\in \\{{0, 1\\}},\\  y_{i_0,i_1} \\in \\mathbb{Z},\\  z_{i_0,i_1} \\in \\mathbb{Z} \\end{alignat*}$$"
      ],
      "text/plain": [
       "<jijmodeling.problem.Problem at 0x7ff4b5108dc0>"
      ]
     },
     "execution_count": 6,
     "metadata": {},
     "output_type": "execute_result"
    }
   ],
   "source": [
    "nurse_scheduling = jb.problem.NurseScheduling()\n",
    "nurse_scheduling.problem"
   ]
  },
  {
   "cell_type": "code",
   "execution_count": null,
   "metadata": {},
   "outputs": [],
   "source": []
  }
 ],
 "metadata": {
  "kernelspec": {
   "display_name": "Python 3.9.13 ('.venv': venv)",
   "language": "python",
   "name": "python3"
  },
  "language_info": {
   "codemirror_mode": {
    "name": "ipython",
    "version": 3
   },
   "file_extension": ".py",
   "mimetype": "text/x-python",
   "name": "python",
   "nbconvert_exporter": "python",
   "pygments_lexer": "ipython3",
   "version": "3.9.13"
  },
  "orig_nbformat": 4,
  "vscode": {
   "interpreter": {
    "hash": "fbcc5a6afa2879f801a2b3636554aa135452779a3824c1f21c6603a607ae8737"
   }
  }
 },
 "nbformat": 4,
 "nbformat_minor": 2
}
