{
 "cells": [
  {
   "cell_type": "code",
   "execution_count": 1,
   "metadata": {},
   "outputs": [],
   "source": [
    "import jijbench as jb"
   ]
  },
  {
   "cell_type": "code",
   "execution_count": 2,
   "metadata": {},
   "outputs": [
    {
     "data": {
      "text/latex": [
       "$\\begin{alignat*}{4} \\text{Problem} & \\text{: travelling_salesman} \\\\\\min & \\quad \\sum_{t = 0 }^{N - 1}\\sum_{i = 0 }^{N - 1}\\sum_{j = 0 }^{N - 1} dist_{i,j} \\cdot x_{t,i} \\cdot x_{t + 1 \\mod N,j} \\\\\\text{s.t.} & \\\\& \\text{onehot_time} :\\\\ &\\quad \\quad \\sum_{:x_1 = 0 }^{N - 1} x_{t,:x_1} = 1,\\ \\forall t \\in \\left\\{ 0 ,\\ldots , N - 1 \\right\\} \\\\[8pt]& \\text{onehot_location} :\\\\ &\\quad \\quad \\sum_{:x_0 = 0 }^{N - 1} x_{:x_0,i} = 1,\\ \\forall i \\in \\left\\{ 0 ,\\ldots , N - 1 \\right\\} \\\\[8pt]&  x_{i_0,i_1} \\in \\{{0, 1\\}},\\  x_{i_0,i_1} \\in \\{{0, 1\\}} \\end{alignat*}$"
      ],
      "text/plain": [
       "<jijmodeling.problem.Problem at 0x7f0ae543ba60>"
      ]
     },
     "execution_count": 2,
     "metadata": {},
     "output_type": "execute_result"
    }
   ],
   "source": [
    "tsp = jb.problems.TSP()\n",
    "tsp.problem"
   ]
  },
  {
   "cell_type": "code",
   "execution_count": 12,
   "metadata": {},
   "outputs": [
    {
     "data": {
      "text/latex": [
       "$\\begin{alignat*}{4} \\text{Problem} & \\text{: travelling_salesman_with_time_windows} \\\\\\min & \\quad \\sum_{i = 0 }^{N - 1}\\sum_{j = 0 ,\\ j \\neq i}^{N - 1} dist_{i,j} \\cdot x_{i,j} \\\\\\text{s.t.} & \\\\& \\text{onehot_constraint1} :\\\\ &\\quad \\quad \\sum_{j = 0 ,\\ j \\neq i}^{N - 1} x_{i,j} = 1,\\ \\forall i \\in \\left\\{ 0 ,\\ldots , N - 1 \\right\\} \\\\[8pt]& \\text{onehot_constraint2} :\\\\ &\\quad \\quad \\sum_{j = 0 ,\\ j \\neq i}^{N - 1} x_{j,i} = 1,\\ \\forall i \\in \\left\\{ 0 ,\\ldots , N - 1 \\right\\} \\\\[8pt]& \\text{time_window_constraint} :\\\\ &\\quad \\quad t_{i} + dist_{i,j} - t_{j} \\leq 0,\\ \\forall j \\in \\left\\{ 0 ,\\ldots , N - 1 \\right\\} \\forall i \\in \\left\\{ 0 ,\\ldots , N - 1 \\right\\}  \\ j \\neq 0\\land i \\neq 0 \\ \\land \\ i \\neq j\\\\[8pt]&  x_{i_0,i_1} \\in \\{{0, 1\\}} \\end{alignat*}$"
      ],
      "text/plain": [
       "<jijmodeling.problem.Problem at 0x7fa7f0e26dc0>"
      ]
     },
     "execution_count": 12,
     "metadata": {},
     "output_type": "execute_result"
    }
   ],
   "source": [
    "tsptw = jb.problems.TSPTW()\n",
    "tsptw.problem"
   ]
  },
  {
   "cell_type": "code",
   "execution_count": 13,
   "metadata": {},
   "outputs": [
    {
     "data": {
      "text/latex": [
       "$\\begin{alignat*}{4} \\text{Problem} & \\text{: knapsack} \\\\\\min & \\quad - \\sum_{i = 0 }^{num_items - 1} values_{i} \\cdot x_{i} \\\\\\text{s.t.} & \\\\& \\text{knapsack_constraint} :\\\\ &\\quad \\quad \\sum_{i = 0 }^{num_items - 1} weights_{i} \\cdot x_{i} - capacity \\leq 0,\\\\[8pt]&  x_{i_0} \\in \\{{0, 1\\}} \\end{alignat*}$"
      ],
      "text/plain": [
       "<jijmodeling.problem.Problem at 0x7fa7f0e1f370>"
      ]
     },
     "execution_count": 13,
     "metadata": {},
     "output_type": "execute_result"
    }
   ],
   "source": [
    "kanpsack = jb.problems.Knapsack()\n",
    "kanpsack.problem"
   ]
  },
  {
   "cell_type": "code",
   "execution_count": 14,
   "metadata": {},
   "outputs": [
    {
     "data": {
      "text/latex": [
       "$\\begin{alignat*}{4} \\text{Problem} & \\text{: bin_packing} \\\\\\min & \\quad \\sum_{:y_0 = 0 }^{num_items - 1} y_{:y_0} \\\\\\text{s.t.} & \\\\& \\text{onehot_constraint} :\\\\ &\\quad \\quad \\sum_{j = 0 }^{num_items - 1} x_{i,j} - 1 = 0,\\ \\forall i \\in \\left\\{ 0 ,\\ldots , num_items - 1 \\right\\} \\\\[8pt]& \\text{knapsack_constraint} :\\\\ &\\quad \\quad \\sum_{i = 0 }^{num_items - 1} w_{i} \\cdot x_{i,j} - y_{j} \\cdot c \\leq 0,\\ \\forall j \\in \\left\\{ 0 ,\\ldots , num_items - 1 \\right\\} \\\\[8pt]&  y_{i_0} \\in \\{{0, 1\\}} \\end{alignat*}$"
      ],
      "text/plain": [
       "<jijmodeling.problem.Problem at 0x7fa7f0e051c0>"
      ]
     },
     "execution_count": 14,
     "metadata": {},
     "output_type": "execute_result"
    }
   ],
   "source": [
    "bin_packing = jb.problems.BinPacking()\n",
    "bin_packing.problem"
   ]
  }
 ],
 "metadata": {
  "interpreter": {
   "hash": "44dc81d5d5c303726bd19d3098ecd5ce05def2446041de7adbbe5507a2b04295"
  },
  "kernelspec": {
   "display_name": "Python 3.9.9 64-bit ('3.9.9')",
   "language": "python",
   "name": "python3"
  },
  "language_info": {
   "codemirror_mode": {
    "name": "ipython",
    "version": 3
   },
   "file_extension": ".py",
   "mimetype": "text/x-python",
   "name": "python",
   "nbconvert_exporter": "python",
   "pygments_lexer": "ipython3",
   "version": "3.9.6"
  },
  "orig_nbformat": 4
 },
 "nbformat": 4,
 "nbformat_minor": 2
}
