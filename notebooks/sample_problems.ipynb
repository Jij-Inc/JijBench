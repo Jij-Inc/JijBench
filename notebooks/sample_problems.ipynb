{
 "cells": [
  {
   "cell_type": "code",
   "execution_count": 1,
   "metadata": {},
   "outputs": [],
   "source": [
    "import jijbench as jb"
   ]
  },
  {
   "cell_type": "code",
   "execution_count": 2,
   "metadata": {},
   "outputs": [
    {
     "data": {
      "text/latex": [
       "$$\\begin{alignat*}{4} \\text{Problem} & \\text{: travelling-salesman} \\\\\\min & \\quad \\sum_{t = 0 }^{N - 1}\\sum_{i = 0 }^{N - 1}\\sum_{j = 0 }^{N - 1} d_{i,j} \\cdot x_{t,i} \\cdot x_{t + 1 \\mod N,j} \\\\\\text{s.t.} & \\\\& \\text{onehot-time} :\\\\ &\\quad \\quad \\sum_{\\bar{i}_{1} = 0 }^{N - 1} x_{t,\\bar{i}_{1}} = 1,\\ \\forall t \\in \\left\\{ 0 ,\\ldots , N - 1 \\right\\} \\\\[8pt]& \\text{onehot-location} :\\\\ &\\quad \\quad \\sum_{\\bar{i}_{0} = 0 }^{N - 1} x_{\\bar{i}_{0},i} = 1,\\ \\forall i \\in \\left\\{ 0 ,\\ldots , N - 1 \\right\\} \\\\[8pt]&  x_{i_0,i_1} \\in \\{{0, 1\\}} \\end{alignat*}$$"
      ],
      "text/plain": [
       "<jijmodeling.problem.Problem at 0x7f14c4d38be0>"
      ]
     },
     "execution_count": 2,
     "metadata": {},
     "output_type": "execute_result"
    }
   ],
   "source": [
    "tsp = jb.problem.TSP()\n",
    "tsp.problem"
   ]
  },
  {
   "cell_type": "code",
   "execution_count": 3,
   "metadata": {},
   "outputs": [
    {
     "data": {
      "text/latex": [
       "$$\\begin{alignat*}{4} \\text{Problem} & \\text{: travelling-salesman-with-time-windows} \\\\\\min & \\quad \\sum_{i = 0 }^{N - 1}\\sum_{j = 0 ,\\ j \\neq i}^{N - 1} d_{i,j} \\cdot x_{i,j} \\\\\\text{s.t.} & \\\\& \\text{onehot-constraint1} :\\\\ &\\quad \\quad \\sum_{j = 0 ,\\ j \\neq i}^{N - 1} x_{i,j} = 1,\\ \\forall i \\in \\left\\{ 0 ,\\ldots , N - 1 \\right\\} \\\\[8pt]& \\text{onehot-constraint2} :\\\\ &\\quad \\quad \\sum_{j = 0 ,\\ j \\neq i}^{N - 1} x_{j,i} = 1,\\ \\forall i \\in \\left\\{ 0 ,\\ldots , N - 1 \\right\\} \\\\[8pt]& \\text{time-window-constraint} :\\\\ &\\quad \\quad t_{i} + d_{i,j} - t_{j} \\leq 0,\\ \\forall j \\in \\left\\{ 0 ,\\ldots , N - 1 \\right\\} \\forall i \\in \\left\\{ 0 ,\\ldots , N - 1 \\right\\}  \\ j \\neq 0\\land i \\neq 0 \\ \\land \\ i \\neq j\\\\[8pt]&  x_{i_0,i_1} \\in \\{{0, 1\\}} \\end{alignat*}$$"
      ],
      "text/plain": [
       "<jijmodeling.problem.Problem at 0x7f14c4d334f0>"
      ]
     },
     "execution_count": 3,
     "metadata": {},
     "output_type": "execute_result"
    }
   ],
   "source": [
    "tsptw = jb.problem.TSPTW()\n",
    "tsptw.problem"
   ]
  },
  {
   "cell_type": "code",
   "execution_count": 4,
   "metadata": {},
   "outputs": [
    {
     "data": {
      "text/latex": [
       "$$\\begin{alignat*}{4} \\text{Problem} & \\text{: knapsack} \\\\\\min & \\quad - \\sum_{i = 0 }^{n - 1} v_{i} \\cdot x_{i} \\\\\\text{s.t.} & \\\\& \\text{knapsack-constraint} :\\\\ &\\quad \\quad \\sum_{i = 0 }^{n - 1} w_{i} \\cdot x_{i} - c \\leq 0,\\\\[8pt]&  x_{i_0} \\in \\{{0, 1\\}} \\end{alignat*}$$"
      ],
      "text/plain": [
       "<jijmodeling.problem.Problem at 0x7f14c4d547f0>"
      ]
     },
     "execution_count": 4,
     "metadata": {},
     "output_type": "execute_result"
    }
   ],
   "source": [
    "kanpsack = jb.problem.Knapsack()\n",
    "kanpsack.problem"
   ]
  },
  {
   "cell_type": "code",
   "execution_count": 5,
   "metadata": {},
   "outputs": [
    {
     "data": {
      "text/latex": [
       "$$\\begin{alignat*}{4} \\text{Problem} & \\text{: bin-packing} \\\\\\min & \\quad \\sum_{\\bar{i}_{0} = 0 }^{n - 1} y_{\\bar{i}_{0}} \\\\\\text{s.t.} & \\\\& \\text{onehot-constraint} :\\\\ &\\quad \\quad \\sum_{j = 0 }^{n - 1} x_{i,j} - 1 = 0,\\ \\forall i \\in \\left\\{ 0 ,\\ldots , n - 1 \\right\\} \\\\[8pt]& \\text{knapsack-constraint} :\\\\ &\\quad \\quad \\sum_{i = 0 }^{n - 1} w_{i} \\cdot x_{i,j} - y_{j} \\cdot c \\leq 0,\\ \\forall j \\in \\left\\{ 0 ,\\ldots , n - 1 \\right\\} \\\\[8pt]&  y_{i_0} \\in \\{{0, 1\\}} \\end{alignat*}$$"
      ],
      "text/plain": [
       "<jijmodeling.problem.Problem at 0x7f14c4d6f760>"
      ]
     },
     "execution_count": 5,
     "metadata": {},
     "output_type": "execute_result"
    }
   ],
   "source": [
    "bin_packing = jb.problem.BinPacking()\n",
    "bin_packing.problem"
   ]
  },
  {
   "cell_type": "code",
   "execution_count": 6,
   "metadata": {},
   "outputs": [
    {
     "data": {
      "text/latex": [
       "$$\\begin{alignat*}{4} \\text{Problem} & \\text{: nurse-scheduling} \\\\\\min & \\quad \\sum_{i = 0 }^{I - 1}\\sum_{d = 0 }^{D - 1}\\sum_{t = 0 }^{T - 1} q_{i,d,t} \\cdot \\left( 1 - x_{i,d,t} \\right) + \\sum_{i = 0 }^{I - 1}\\sum_{d = 0 }^{D - 1}\\sum_{t = 0 }^{T - 1} p_{i,d,t} \\cdot x_{i,d,t} + \\sum_{d = 0 }^{D - 1}\\sum_{t = 0 }^{T - 1} y_{d,t} \\cdot v_min_{d,t} + \\sum_{d = 0 }^{D - 1}\\sum_{t = 0 }^{T - 1} z_{d,t} \\cdot v_max_{d,t} \\\\\\text{s.t.} & \\\\& \\text{assign} :\\\\ &\\quad \\quad \\sum_{t = 0 }^{T - 1} x_{i,d,t} - 1 \\leq 0,\\ \\forall i \\in \\left\\{ 0 ,\\ldots , I - 1 \\right\\} \\forall d \\in \\left\\{ 0 ,\\ldots , D - 1 \\right\\} \\\\[8pt]& \\text{shift-rotation} :\\\\ &\\quad \\quad x_{i,d,t} + x_{i,d + 1,dt} - 1 \\leq 0,\\ \\forall i \\in \\left\\{ 0 ,\\ldots , I - 1 \\right\\} \\forall d \\in \\left\\{ 0 ,\\ldots , D - 1 \\right\\} \\forall t \\in \\left\\{ 0 ,\\ldots , T - 1 \\right\\} \\forall dt \\in \\left\\{ 0 ,\\ldots , R_\\mathrm{shape(0)} - 1 \\right\\}  \\ d \\neq D - 1\\land R_{t,dt} \\neq -1\\\\[8pt]& \\text{assign-max} :\\\\ &\\quad \\quad \\sum_{d = 0 }^{D - 1} x_{i,d,t} - \\mathrm{m\\_max}_{i,t} \\leq 0,\\ \\forall i \\in \\left\\{ 0 ,\\ldots , I - 1 \\right\\} \\forall t \\in \\left\\{ 0 ,\\ldots , T - 1 \\right\\} \\\\[8pt]& \\text{minimum-work-time} :\\\\ &\\quad \\quad \\mathrm{b\\_min}_{i} - \\sum_{d = 0 }^{D - 1}\\sum_{t = 0 }^{T - 1} l_{t} \\cdot x_{i,d,t} \\leq 0,\\ \\forall i \\in \\left\\{ 0 ,\\ldots , I - 1 \\right\\} \\\\[8pt]& \\text{maximum-work-time} :\\\\ &\\quad \\quad \\sum_{d = 0 }^{D - 1}\\sum_{t = 0 }^{T - 1} l_{t} \\cdot x_{i,d,t} - \\mathrm{b\\_max}_{i} \\leq 0,\\ \\forall i \\in \\left\\{ 0 ,\\ldots , I - 1 \\right\\} \\\\[8pt]& \\text{maximum-consecutive-shifts} :\\\\ &\\quad \\quad \\sum_{j = d }^{d + \\mathrm{c\\_max}_{i} + 1 - 1}\\sum_{t = 0 }^{T - 1} x_{i,j,t} - \\mathrm{c\\_max}_{i} \\leq 0,\\ \\forall i \\in \\left\\{ 0 ,\\ldots , I - 1 \\right\\} \\forall d \\in \\left\\{ 0 ,\\ldots , D - 1 \\right\\}  \\ d \\leq D - \\mathrm{c\\_max}_{i} + 1\\\\[8pt]& \\text{minimum-consecutive-shifts} :\\\\ &\\quad \\quad 0 \\leq \\sum_{t = 0 }^{T - 1} x_{i,d,t} + s - \\sum_{j = d + 1 }^{d + s + 1 - 1}\\sum_{t = 0 }^{T - 1} x_{i,j,t} + \\sum_{t = 0 }^{T - 1} x_{i,d + s + 1,t} - 1,\\ \\forall i \\in \\left\\{ 0 ,\\ldots , I - 1 \\right\\} \\forall s \\in \\left\\{ 1 ,\\ldots , \\mathrm{c\\_min}_{i} - 1 \\right\\} \\forall d \\in \\left\\{ 0 ,\\ldots , D - 1 \\right\\}  \\ d < D - s + 1\\\\[8pt]& \\text{minimum-consecutive-days-off} :\\\\ &\\quad \\quad 0 \\leq 1 - \\sum_{t = 0 }^{T - 1} x_{i,d,t} + \\sum_{j = d + 1 }^{d + s + 1 - 1}\\sum_{t = 0 }^{T - 1} x_{i,j,t} + 1 - \\sum_{t = 0 }^{T - 1} x_{i,d + s + 1,t} - 1,\\ \\forall i \\in \\left\\{ 0 ,\\ldots , I - 1 \\right\\} \\forall s \\in \\left\\{ 1 ,\\ldots , \\mathrm{o\\_min}_{i} - 1 \\right\\} \\forall d \\in \\left\\{ 0 ,\\ldots , D - 1 \\right\\}  \\ d < D - s + 1\\\\[8pt]& \\text{variable-k-lower} :\\\\ &\\quad \\quad k_{i,w} - \\sum_{t = 0 }^{T - 1} x_{i,7 \\cdot \\left( w + 1 \\right) - 2,t} + \\sum_{t = 0 }^{T - 1} x_{i,7 \\cdot \\left( w + 1 \\right) - 1,t} \\leq 0,\\ \\forall i \\in \\left\\{ 0 ,\\ldots , I - 1 \\right\\} \\forall w \\in \\left\\{ 0 ,\\ldots , W - 1 \\right\\} \\\\[8pt]& \\text{variable-k-upper} :\\\\ &\\quad \\quad \\sum_{t = 0 }^{T - 1} x_{i,7 \\cdot \\left( w + 1 \\right) - 2,t} + \\sum_{t = 0 }^{T - 1} x_{i,7 \\cdot \\left( w + 1 \\right) - 1,t} - 2 \\cdot k_{i,w} \\leq 0,\\ \\forall i \\in \\left\\{ 0 ,\\ldots , I - 1 \\right\\} \\forall w \\in \\left\\{ 0 ,\\ldots , W - 1 \\right\\} \\\\[8pt]& \\text{maximum-number-of-weekends} :\\\\ &\\quad \\quad \\sum_{w = 0 }^{W - 1} k_{i,w} - \\mathrm{a\\_max}_{i} \\leq 0,\\ \\forall i \\in \\left\\{ 0 ,\\ldots , I - 1 \\right\\} \\\\[8pt]& \\text{days-off} :\\\\ &\\quad \\quad x_{i,{\\mathrm d\\_o},t} = 0,\\ \\forall i \\in \\left\\{ 0 ,\\ldots , I - 1 \\right\\} \\forall do \\in N_{i} \\forall t \\in \\left\\{ 0 ,\\ldots , T - 1 \\right\\}  \\ {\\mathrm d\\_o} \\neq -1\\\\[8pt]& \\text{cover-requirements} :\\\\ &\\quad \\quad \\sum_{i = 0 }^{I - 1} x_{i,d,t} - z_{d,t} + y_{d,t} - u_{d,t} = 0,\\ \\forall d \\in \\left\\{ 0 ,\\ldots , D - 1 \\right\\} \\forall t \\in \\left\\{ 0 ,\\ldots , T - 1 \\right\\} \\\\[8pt]&  x_{i_0,i_1,i_2} \\in \\{{0, 1\\}},\\  y_{i_0,i_1} \\in \\mathbb{Z},\\  z_{i_0,i_1} \\in \\mathbb{Z} \\end{alignat*}$$"
      ],
      "text/plain": [
       "<jijmodeling.problem.Problem at 0x7f14c4d80310>"
      ]
     },
     "execution_count": 6,
     "metadata": {},
     "output_type": "execute_result"
    }
   ],
   "source": [
    "nurse_scheduling = jb.problem.NurseScheduling()\n",
    "nurse_scheduling.problem"
   ]
  }
 ],
 "metadata": {
  "kernelspec": {
   "display_name": "Python 3.9.5 ('.venv': venv)",
   "language": "python",
   "name": "python3"
  },
  "language_info": {
   "codemirror_mode": {
    "name": "ipython",
    "version": 3
   },
   "file_extension": ".py",
   "mimetype": "text/x-python",
   "name": "python",
   "nbconvert_exporter": "python",
   "pygments_lexer": "ipython3",
   "version": "3.9.5"
  },
  "orig_nbformat": 4,
  "vscode": {
   "interpreter": {
    "hash": "e229d49c8b4c7d3820ed2ef840c9b44d3a851517b87fd8568148947ff888a68f"
   }
  }
 },
 "nbformat": 4,
 "nbformat_minor": 2
}
