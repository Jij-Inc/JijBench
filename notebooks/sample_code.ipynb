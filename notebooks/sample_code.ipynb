{
 "cells": [
  {
   "cell_type": "code",
   "execution_count": 2,
   "metadata": {},
   "outputs": [],
   "source": [
    "import jijbench as jb\n",
    "from jijbench.problems.tsptw import travelling_salesman_with_time_windows\n",
    "from jijbench.Instances.small import travelling_salesman_with_time_windows"
   ]
  },
  {
   "cell_type": "code",
   "execution_count": 3,
   "metadata": {},
   "outputs": [],
   "source": [
    "tspwt = travelling_salesman_with_time_windows()"
   ]
  },
  {
   "cell_type": "code",
   "execution_count": 4,
   "metadata": {},
   "outputs": [
    {
     "data": {
      "text/latex": [
       "$\\begin{alignat*}{4} \\text{Problem} & \\text{: travelling_salesman_with_time_windows} \\\\\\min & \\quad \\sum_{i = 0 }^{N - 1}\\sum_{j = 0 ,\\ j \\neq i}^{N - 1} dist_{i,j} \\cdot x_{i,j} \\\\\\text{s.t.} & \\\\& \\text{onehot_constraint1} :\\\\ &\\quad \\quad \\sum_{j = 0 ,\\ j \\neq i}^{N - 1} x_{i,j} = 1,\\ \\forall i \\in \\left\\{ 0 ,\\ldots , N - 1 \\right\\} \\\\[8pt]& \\text{onehot_constraint2} :\\\\ &\\quad \\quad \\sum_{j = 0 ,\\ j \\neq i}^{N - 1} x_{j,i} = 1,\\ \\forall i \\in \\left\\{ 0 ,\\ldots , N - 1 \\right\\} \\\\[8pt]& \\text{time_window_constraint} :\\\\ &\\quad \\quad t_{i} + dist_{i,j} - t_{j} \\leq 0,\\ \\forall j \\in \\left\\{ 0 ,\\ldots , N - 1 \\right\\} \\forall i \\in \\left\\{ 0 ,\\ldots , N - 1 \\right\\}  \\ j \\neq 0\\land i \\neq 0 \\ \\land \\ i \\neq j\\\\[8pt]&  x_{i_0,i_1} \\in \\{{0, 1\\}} \\end{alignat*}$"
      ],
      "text/plain": [
       "<jijmodeling.problem.Problem at 0x7fb078523f10>"
      ]
     },
     "execution_count": 4,
     "metadata": {},
     "output_type": "execute_result"
    }
   ],
   "source": [
    "tspwt"
   ]
  },
  {
   "cell_type": "code",
   "execution_count": null,
   "metadata": {},
   "outputs": [],
   "source": []
  }
 ],
 "metadata": {
  "interpreter": {
   "hash": "44dc81d5d5c303726bd19d3098ecd5ce05def2446041de7adbbe5507a2b04295"
  },
  "kernelspec": {
   "display_name": "Python 3.9.9 64-bit ('3.9.9')",
   "language": "python",
   "name": "python3"
  },
  "language_info": {
   "codemirror_mode": {
    "name": "ipython",
    "version": 3
   },
   "file_extension": ".py",
   "mimetype": "text/x-python",
   "name": "python",
   "nbconvert_exporter": "python",
   "pygments_lexer": "ipython3",
   "version": "3.9.9"
  },
  "orig_nbformat": 4
 },
 "nbformat": 4,
 "nbformat_minor": 2
}
