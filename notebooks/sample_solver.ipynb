{
 "cells": [
  {
   "cell_type": "code",
   "execution_count": 1,
   "metadata": {},
   "outputs": [],
   "source": [
    "from jijbench.solver import DefaultSolver"
   ]
  },
  {
   "cell_type": "code",
   "execution_count": 4,
   "metadata": {},
   "outputs": [
    {
     "data": {
      "text/plain": [
       "['JijSASampler',\n",
       " 'SASampler',\n",
       " 'SQASampler',\n",
       " '_sample_by_jijzept',\n",
       " '_sample_by_openjij',\n",
       " 'dwave_config',\n",
       " 'jijzept_config',\n",
       " 'jijzept_sa_sampler_sample_model',\n",
       " 'jijzept_sampler_names',\n",
       " 'openjij_sa_sampler_sample',\n",
       " 'openjij_sampler_names',\n",
       " 'openjij_sqa_sampler_sample']"
      ]
     },
     "execution_count": 4,
     "metadata": {},
     "output_type": "execute_result"
    }
   ],
   "source": [
    "[a for a in dir(DefaultSolver) if not \"__\" in a]"
   ]
  },
  {
   "cell_type": "code",
   "execution_count": 5,
   "metadata": {},
   "outputs": [
    {
     "data": {
      "text/plain": [
       "'openjij_sa_sampler_sample'"
      ]
     },
     "execution_count": 5,
     "metadata": {},
     "output_type": "execute_result"
    }
   ],
   "source": [
    "solver = DefaultSolver()\n",
    "solver.SASampler.__name__"
   ]
  },
  {
   "cell_type": "code",
   "execution_count": 6,
   "metadata": {},
   "outputs": [
    {
     "data": {
      "text/plain": [
       "'openjij_sa_sampler_sample'"
      ]
     },
     "execution_count": 6,
     "metadata": {},
     "output_type": "execute_result"
    }
   ],
   "source": [
    "getattr(DefaultSolver(), \"SASampler\").__name__"
   ]
  },
  {
   "cell_type": "code",
   "execution_count": 10,
   "metadata": {},
   "outputs": [
    {
     "data": {
      "text/plain": [
       "mappingproxy({'self': <Parameter \"self\">,\n",
       "              'model': <Parameter \"model: jijmodeling.expression.expression.Expression\">,\n",
       "              'feed_dict': <Parameter \"feed_dict: Dict[str, Union[numbers.Number, list, numpy.ndarray]]\">,\n",
       "              'multipliers': <Parameter \"multipliers: Dict[str, numbers.Number] = {}\">,\n",
       "              'fixed_variables': <Parameter \"fixed_variables: Dict[str, Dict[Tuple[int, ...], Union[int, float]]] = {}\">,\n",
       "              'search': <Parameter \"search: bool = False\">,\n",
       "              'num_search': <Parameter \"num_search: int = 15\">,\n",
       "              'algorithm': <Parameter \"algorithm: Optional[str] = None\">,\n",
       "              'beta_min': <Parameter \"beta_min: Optional[float] = None\">,\n",
       "              'beta_max': <Parameter \"beta_max: Optional[float] = None\">,\n",
       "              'num_sweeps': <Parameter \"num_sweeps: Optional[int] = None\">,\n",
       "              'num_reads': <Parameter \"num_reads: Optional[int] = None\">,\n",
       "              'updater': <Parameter \"updater: Optional[str] = None\">,\n",
       "              'timeout': <Parameter \"timeout: Optional[int] = None\">,\n",
       "              'sync': <Parameter \"sync: bool = True\">})"
      ]
     },
     "execution_count": 10,
     "metadata": {},
     "output_type": "execute_result"
    }
   ],
   "source": [
    "import jijzept as jz\n",
    "import inspect\n",
    "\n",
    "sampler = jz.JijSASampler\n",
    "parameters = inspect.signature(sampler.sample_model).parameters\n",
    "parameters"
   ]
  }
 ],
 "metadata": {
  "interpreter": {
   "hash": "c6e50b8803d5592ba1b6eb4ab56a56512b01184415d657b345fb22b6c08f0a26"
  },
  "kernelspec": {
   "display_name": "Python 3.9.6 64-bit ('3.9.6': pyenv)",
   "name": "python3"
  },
  "language_info": {
   "codemirror_mode": {
    "name": "ipython",
    "version": 3
   },
   "file_extension": ".py",
   "mimetype": "text/x-python",
   "name": "python",
   "nbconvert_exporter": "python",
   "pygments_lexer": "ipython3",
   "version": "3.9.6"
  },
  "orig_nbformat": 4
 },
 "nbformat": 4,
 "nbformat_minor": 2
}
