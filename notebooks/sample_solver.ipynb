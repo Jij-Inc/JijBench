{
 "cells": [
  {
   "cell_type": "code",
   "execution_count": 6,
   "metadata": {},
   "outputs": [],
   "source": [
    "from jijbench.solver.solver import DefaultSolver"
   ]
  },
  {
   "cell_type": "code",
   "execution_count": 13,
   "metadata": {},
   "outputs": [
    {
     "data": {
      "text/plain": [
       "'openjij_sa_sampler_sample'"
      ]
     },
     "execution_count": 13,
     "metadata": {},
     "output_type": "execute_result"
    }
   ],
   "source": [
    "solver = DefaultSolver()\n",
    "solver.SASampler.__name__"
   ]
  },
  {
   "cell_type": "code",
   "execution_count": 19,
   "metadata": {},
   "outputs": [
    {
     "data": {
      "text/plain": [
       "'openjij_sa_sampler_sample'"
      ]
     },
     "execution_count": 19,
     "metadata": {},
     "output_type": "execute_result"
    }
   ],
   "source": [
    "getattr(DefaultSolver(), \"SASampler\").__name__"
   ]
  },
  {
   "cell_type": "code",
   "execution_count": 11,
   "metadata": {},
   "outputs": [
    {
     "data": {
      "text/plain": [
       "['SASampler',\n",
       " 'SQASampler',\n",
       " '__class__',\n",
       " '__delattr__',\n",
       " '__dict__',\n",
       " '__dir__',\n",
       " '__doc__',\n",
       " '__eq__',\n",
       " '__format__',\n",
       " '__ge__',\n",
       " '__getattribute__',\n",
       " '__gt__',\n",
       " '__hash__',\n",
       " '__init__',\n",
       " '__init_subclass__',\n",
       " '__le__',\n",
       " '__lt__',\n",
       " '__module__',\n",
       " '__ne__',\n",
       " '__new__',\n",
       " '__reduce__',\n",
       " '__reduce_ex__',\n",
       " '__repr__',\n",
       " '__setattr__',\n",
       " '__sizeof__',\n",
       " '__str__',\n",
       " '__subclasshook__',\n",
       " '__weakref__',\n",
       " '_sample_by_jijzept',\n",
       " '_sample_by_openjij',\n",
       " 'dwave_config',\n",
       " 'jijzept_config',\n",
       " 'jijzept_sa_sampler_sample_model',\n",
       " 'openjij_sa_sampler_sample',\n",
       " 'openjij_sqa_sampler_sample']"
      ]
     },
     "execution_count": 11,
     "metadata": {},
     "output_type": "execute_result"
    }
   ],
   "source": [
    "dir(DefaultSolver)"
   ]
  },
  {
   "cell_type": "code",
   "execution_count": 11,
   "metadata": {},
   "outputs": [
    {
     "data": {
      "text/plain": [
       "mappingproxy({'self': <Parameter \"self\">,\n",
       "              'model': <Parameter \"model: jijmodeling.expression.expression.Expression\">,\n",
       "              'feed_dict': <Parameter \"feed_dict: Dict[str, Union[numbers.Number, list, numpy.ndarray]]\">,\n",
       "              'multipliers': <Parameter \"multipliers: Dict[str, numbers.Number] = {}\">,\n",
       "              'fixed_variables': <Parameter \"fixed_variables: Dict[str, Dict[Tuple[int, ...], Union[int, float]]] = {}\">,\n",
       "              'search': <Parameter \"search: bool = False\">,\n",
       "              'num_search': <Parameter \"num_search: int = 15\">,\n",
       "              'algorithm': <Parameter \"algorithm: Optional[str] = None\">,\n",
       "              'beta_min': <Parameter \"beta_min: Optional[float] = None\">,\n",
       "              'beta_max': <Parameter \"beta_max: Optional[float] = None\">,\n",
       "              'num_sweeps': <Parameter \"num_sweeps: Optional[int] = None\">,\n",
       "              'num_reads': <Parameter \"num_reads: Optional[int] = None\">,\n",
       "              'updater': <Parameter \"updater: Optional[str] = None\">,\n",
       "              'timeout': <Parameter \"timeout: Optional[int] = None\">,\n",
       "              'sync': <Parameter \"sync: bool = True\">})"
      ]
     },
     "execution_count": 11,
     "metadata": {},
     "output_type": "execute_result"
    }
   ],
   "source": [
    "import jijzept as jz\n",
    "import inspect\n",
    "\n",
    "sampler = jz.JijSASampler\n",
    "parameters = inspect.signature(sampler.sample_model).parameters\n",
    "parameters"
   ]
  }
 ],
 "metadata": {
  "interpreter": {
   "hash": "767d51c1340bd893661ea55ea3124f6de3c7a262a8b4abca0554b478b1e2ff90"
  },
  "kernelspec": {
   "display_name": "Python 2.7.17 64-bit",
   "language": "python",
   "name": "python3"
  },
  "language_info": {
   "codemirror_mode": {
    "name": "ipython",
    "version": 3
   },
   "file_extension": ".py",
   "mimetype": "text/x-python",
   "name": "python",
   "nbconvert_exporter": "python",
   "pygments_lexer": "ipython3",
   "version": "3.9.6"
  },
  "orig_nbformat": 4
 },
 "nbformat": 4,
 "nbformat_minor": 2
}
