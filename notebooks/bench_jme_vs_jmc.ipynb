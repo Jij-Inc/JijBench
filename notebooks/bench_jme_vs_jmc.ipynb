{
 "cells": [
  {
   "cell_type": "code",
   "execution_count": null,
   "metadata": {},
   "outputs": [],
   "source": []
  }
 ],
 "metadata": {
  "kernelspec": {
   "display_name": "Python 3.9.6 64-bit ('3.9.6': pyenv)",
   "language": "python",
   "name": "python3"
  },
  "language_info": {
   "name": "python",
   "version": "3.9.6"
  },
  "orig_nbformat": 4,
  "vscode": {
   "interpreter": {
    "hash": "5a2fa1bc7ff4ec72a64f84e63b47decae21c53ae999f26508f8024e6c7451ffb"
   }
  }
 },
 "nbformat": 4,
 "nbformat_minor": 2
}
