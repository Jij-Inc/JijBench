{
 "cells": [
  {
   "cell_type": "code",
   "execution_count": 1,
   "metadata": {},
   "outputs": [],
   "source": [
    "import sys\n",
    "\n",
    "sys.path.append(\"../\")\n",
    "\n",
    "import jijbench as jb"
   ]
  },
  {
   "cell_type": "code",
   "execution_count": 2,
   "metadata": {},
   "outputs": [
    {
     "name": "stderr",
     "output_type": "stream",
     "text": [
      "/home/d/JijBenchmark/tests/../jijbench/experiment/experiment.py:91: FutureWarning: Behavior when concatenating bool-dtype and numeric-dtype arrays is deprecated; in a future version these will cast to object dtype (instead of coercing bools to numeric values). To retain the old behavior, explicitly cast bool-dtype arrays to numeric dtype.\n",
      "  self._table.data.loc[self._table.current_index] = np.nan\n"
     ]
    }
   ],
   "source": [
    "def func(b):\n",
    "    return b\n",
    "\n",
    "\n",
    "bench = jb.Benchmark(\n",
    "    params={\"b\": [True, False]},\n",
    "    solver=func\n",
    ")\n",
    "bench.run()"
   ]
  },
  {
   "cell_type": "code",
   "execution_count": 3,
   "metadata": {},
   "outputs": [
    {
     "data": {
      "text/html": [
       "<div>\n",
       "<style scoped>\n",
       "    .dataframe tbody tr th:only-of-type {\n",
       "        vertical-align: middle;\n",
       "    }\n",
       "\n",
       "    .dataframe tbody tr th {\n",
       "        vertical-align: top;\n",
       "    }\n",
       "\n",
       "    .dataframe thead th {\n",
       "        text-align: right;\n",
       "    }\n",
       "</style>\n",
       "<table border=\"1\" class=\"dataframe\">\n",
       "  <thead>\n",
       "    <tr style=\"text-align: right;\">\n",
       "      <th></th>\n",
       "      <th>benchmark_id</th>\n",
       "      <th>experiment_id</th>\n",
       "      <th>run_id</th>\n",
       "      <th>timestamp</th>\n",
       "      <th>energy</th>\n",
       "      <th>energy_min</th>\n",
       "      <th>energy_mean</th>\n",
       "      <th>energy_std</th>\n",
       "      <th>objective</th>\n",
       "      <th>obj_min</th>\n",
       "      <th>...</th>\n",
       "      <th>num_feasible</th>\n",
       "      <th>num_samples</th>\n",
       "      <th>sampling_time</th>\n",
       "      <th>execution_time</th>\n",
       "      <th>problem_name</th>\n",
       "      <th>instance_data_name</th>\n",
       "      <th>opt_value</th>\n",
       "      <th>solver</th>\n",
       "      <th>b</th>\n",
       "      <th>solver_return_values[0]</th>\n",
       "    </tr>\n",
       "  </thead>\n",
       "  <tbody>\n",
       "    <tr>\n",
       "      <th>0</th>\n",
       "      <td>b2401863-bc5a-46dc-9803-182549ca0cdb</td>\n",
       "      <td>80bb8b4a-36be-490e-8858-4c88cf8f6e95</td>\n",
       "      <td>707d6175-1f15-44ea-a3ac-9d1f35cc00b7</td>\n",
       "      <td>2022-12-28 05:10:22.884594</td>\n",
       "      <td>NaN</td>\n",
       "      <td>NaN</td>\n",
       "      <td>NaN</td>\n",
       "      <td>NaN</td>\n",
       "      <td>NaN</td>\n",
       "      <td>NaN</td>\n",
       "      <td>...</td>\n",
       "      <td>NaN</td>\n",
       "      <td>NaN</td>\n",
       "      <td>NaN</td>\n",
       "      <td>NaN</td>\n",
       "      <td>NaN</td>\n",
       "      <td>NaN</td>\n",
       "      <td>NaN</td>\n",
       "      <td>func</td>\n",
       "      <td>True</td>\n",
       "      <td>True</td>\n",
       "    </tr>\n",
       "    <tr>\n",
       "      <th>1</th>\n",
       "      <td>b2401863-bc5a-46dc-9803-182549ca0cdb</td>\n",
       "      <td>80bb8b4a-36be-490e-8858-4c88cf8f6e95</td>\n",
       "      <td>ed94a1df-7947-4c89-982b-90fa6487967d</td>\n",
       "      <td>2022-12-28 05:10:22.901036</td>\n",
       "      <td>NaN</td>\n",
       "      <td>NaN</td>\n",
       "      <td>NaN</td>\n",
       "      <td>NaN</td>\n",
       "      <td>NaN</td>\n",
       "      <td>NaN</td>\n",
       "      <td>...</td>\n",
       "      <td>NaN</td>\n",
       "      <td>NaN</td>\n",
       "      <td>NaN</td>\n",
       "      <td>NaN</td>\n",
       "      <td>NaN</td>\n",
       "      <td>NaN</td>\n",
       "      <td>NaN</td>\n",
       "      <td>func</td>\n",
       "      <td>False</td>\n",
       "      <td>False</td>\n",
       "    </tr>\n",
       "  </tbody>\n",
       "</table>\n",
       "<p>2 rows × 25 columns</p>\n",
       "</div>"
      ],
      "text/plain": [
       "                           benchmark_id                         experiment_id  \\\n",
       "0  b2401863-bc5a-46dc-9803-182549ca0cdb  80bb8b4a-36be-490e-8858-4c88cf8f6e95   \n",
       "1  b2401863-bc5a-46dc-9803-182549ca0cdb  80bb8b4a-36be-490e-8858-4c88cf8f6e95   \n",
       "\n",
       "                                 run_id                   timestamp energy  \\\n",
       "0  707d6175-1f15-44ea-a3ac-9d1f35cc00b7  2022-12-28 05:10:22.884594    NaN   \n",
       "1  ed94a1df-7947-4c89-982b-90fa6487967d  2022-12-28 05:10:22.901036    NaN   \n",
       "\n",
       "  energy_min energy_mean energy_std objective obj_min  ... num_feasible  \\\n",
       "0        NaN         NaN        NaN       NaN     NaN  ...          NaN   \n",
       "1        NaN         NaN        NaN       NaN     NaN  ...          NaN   \n",
       "\n",
       "  num_samples sampling_time execution_time problem_name instance_data_name  \\\n",
       "0         NaN           NaN            NaN          NaN                NaN   \n",
       "1         NaN           NaN            NaN          NaN                NaN   \n",
       "\n",
       "  opt_value solver      b  solver_return_values[0]  \n",
       "0       NaN   func   True                     True  \n",
       "1       NaN   func  False                    False  \n",
       "\n",
       "[2 rows x 25 columns]"
      ]
     },
     "execution_count": 3,
     "metadata": {},
     "output_type": "execute_result"
    }
   ],
   "source": [
    "bench.table"
   ]
  },
  {
   "cell_type": "code",
   "execution_count": 3,
   "metadata": {},
   "outputs": [
    {
     "data": {
      "text/plain": [
       "{}"
      ]
     },
     "execution_count": 3,
     "metadata": {},
     "output_type": "execute_result"
    }
   ],
   "source": [
    "import pandas as pd\n",
    "\n",
    "pd.DataFrame().to_dict()"
   ]
  },
  {
   "cell_type": "code",
   "execution_count": 4,
   "metadata": {},
   "outputs": [
    {
     "ename": "SolverFailedError",
     "evalue": "An error occurred inside your solver. Please check implementation of \"custom_solver_failed\". -> solver is failed.",
     "output_type": "error",
     "traceback": [
      "\u001b[0;31m---------------------------------------------------------------------------\u001b[0m",
      "\u001b[0;31mException\u001b[0m                                 Traceback (most recent call last)",
      "File \u001b[0;32m~/JijBenchmark/tests/../jijbench/solver/solver.py:33\u001b[0m, in \u001b[0;36mCallableSolver.__call__\u001b[0;34m(self, **kwargs)\u001b[0m\n\u001b[1;32m     32\u001b[0m \u001b[39mtry\u001b[39;00m:\n\u001b[0;32m---> 33\u001b[0m     ret \u001b[39m=\u001b[39m \u001b[39mself\u001b[39;49m\u001b[39m.\u001b[39;49mfunction(\u001b[39m*\u001b[39;49m\u001b[39m*\u001b[39;49mkwargs)\n\u001b[1;32m     34\u001b[0m \u001b[39mexcept\u001b[39;00m \u001b[39mException\u001b[39;00m \u001b[39mas\u001b[39;00m e:\n",
      "Cell \u001b[0;32mIn[4], line 2\u001b[0m, in \u001b[0;36mcustom_solver_failed\u001b[0;34m()\u001b[0m\n\u001b[1;32m      1\u001b[0m \u001b[39mdef\u001b[39;00m \u001b[39mcustom_solver_failed\u001b[39m():\n\u001b[0;32m----> 2\u001b[0m         \u001b[39mraise\u001b[39;00m \u001b[39mException\u001b[39;00m(\u001b[39m\"\u001b[39m\u001b[39msolver is failed.\u001b[39m\u001b[39m\"\u001b[39m)\n",
      "\u001b[0;31mException\u001b[0m: solver is failed.",
      "\nDuring handling of the above exception, another exception occurred:\n",
      "\u001b[0;31mSolverFailedError\u001b[0m                         Traceback (most recent call last)",
      "Cell \u001b[0;32mIn[4], line 5\u001b[0m\n\u001b[1;32m      2\u001b[0m         \u001b[39mraise\u001b[39;00m \u001b[39mException\u001b[39;00m(\u001b[39m\"\u001b[39m\u001b[39msolver is failed.\u001b[39m\u001b[39m\"\u001b[39m)\n\u001b[1;32m      4\u001b[0m bench \u001b[39m=\u001b[39m jb\u001b[39m.\u001b[39mBenchmark(params\u001b[39m=\u001b[39m{\u001b[39m\"\u001b[39m\u001b[39mdummy\u001b[39m\u001b[39m\"\u001b[39m: [\u001b[39m1\u001b[39m]}, solver\u001b[39m=\u001b[39mcustom_solver_failed)\n\u001b[0;32m----> 5\u001b[0m bench\u001b[39m.\u001b[39;49mrun()\n",
      "File \u001b[0;32m~/JijBenchmark/tests/../jijbench/benchmark/benchmark.py:175\u001b[0m, in \u001b[0;36mBenchmark.run\u001b[0;34m(self, sync)\u001b[0m\n\u001b[1;32m    173\u001b[0m \u001b[39mfor\u001b[39;00m instance_data_ij \u001b[39min\u001b[39;00m instance_data_i:\n\u001b[1;32m    174\u001b[0m     \u001b[39mif\u001b[39;00m sync:\n\u001b[0;32m--> 175\u001b[0m         \u001b[39mself\u001b[39;49m\u001b[39m.\u001b[39;49m_run_by_sync(solver, problem_i, instance_data_ij)\n\u001b[1;32m    176\u001b[0m     \u001b[39melse\u001b[39;00m:\n\u001b[1;32m    177\u001b[0m         \u001b[39mif\u001b[39;00m \u001b[39m\"\u001b[39m\u001b[39mopenjij\u001b[39m\u001b[39m\"\u001b[39m \u001b[39min\u001b[39;00m solver\u001b[39m.\u001b[39mname:\n",
      "File \u001b[0;32m~/JijBenchmark/tests/../jijbench/benchmark/benchmark.py:247\u001b[0m, in \u001b[0;36mBenchmark._run_by_sync\u001b[0;34m(self, solver, problem, instance_data)\u001b[0m\n\u001b[1;32m    243\u001b[0m \u001b[39mwith\u001b[39;00m experiment:\n\u001b[1;32m    244\u001b[0m     solver_args\u001b[39m.\u001b[39mupdate(\n\u001b[1;32m    245\u001b[0m         \u001b[39mdict\u001b[39m([(k, v) \u001b[39mfor\u001b[39;00m k, v \u001b[39min\u001b[39;00m \u001b[39mzip\u001b[39m(\u001b[39mself\u001b[39m\u001b[39m.\u001b[39mparams\u001b[39m.\u001b[39mkeys(), r)])\n\u001b[1;32m    246\u001b[0m     )\n\u001b[0;32m--> 247\u001b[0m     ret \u001b[39m=\u001b[39m solver(\u001b[39m*\u001b[39;49m\u001b[39m*\u001b[39;49msolver_args)\n\u001b[1;32m    248\u001b[0m     ret \u001b[39m=\u001b[39m solver\u001b[39m.\u001b[39mto_named_ret(ret)\n\u001b[1;32m    249\u001b[0m     solver_args\u001b[39m.\u001b[39mupdate(ret)\n",
      "File \u001b[0;32m~/JijBenchmark/tests/../jijbench/solver/solver.py:36\u001b[0m, in \u001b[0;36mCallableSolver.__call__\u001b[0;34m(self, **kwargs)\u001b[0m\n\u001b[1;32m     34\u001b[0m \u001b[39mexcept\u001b[39;00m \u001b[39mException\u001b[39;00m \u001b[39mas\u001b[39;00m e:\n\u001b[1;32m     35\u001b[0m     msg \u001b[39m=\u001b[39m \u001b[39mf\u001b[39m\u001b[39m'\u001b[39m\u001b[39mAn error occurred inside your solver. Please check implementation of \u001b[39m\u001b[39m\"\u001b[39m\u001b[39m{\u001b[39;00m\u001b[39mself\u001b[39m\u001b[39m.\u001b[39mname\u001b[39m}\u001b[39;00m\u001b[39m\"\u001b[39m\u001b[39m. -> \u001b[39m\u001b[39m{\u001b[39;00me\u001b[39m}\u001b[39;00m\u001b[39m'\u001b[39m\n\u001b[0;32m---> 36\u001b[0m     \u001b[39mraise\u001b[39;00m SolverFailedError(msg)\n\u001b[1;32m     37\u001b[0m \u001b[39mreturn\u001b[39;00m ret\n",
      "\u001b[0;31mSolverFailedError\u001b[0m: An error occurred inside your solver. Please check implementation of \"custom_solver_failed\". -> solver is failed."
     ]
    }
   ],
   "source": [
    "def custom_solver_failed():\n",
    "        raise Exception(\"solver is failed.\")\n",
    "\n",
    "bench = jb.Benchmark(params={\"dummy\": [1]}, solver=custom_solver_failed)\n",
    "bench.run()"
   ]
  }
 ],
 "metadata": {
  "kernelspec": {
   "display_name": "jb",
   "language": "python",
   "name": "python3"
  },
  "language_info": {
   "codemirror_mode": {
    "name": "ipython",
    "version": 3
   },
   "file_extension": ".py",
   "mimetype": "text/x-python",
   "name": "python",
   "nbconvert_exporter": "python",
   "pygments_lexer": "ipython3",
   "version": "3.9.14"
  },
  "orig_nbformat": 4,
  "vscode": {
   "interpreter": {
    "hash": "5eaa3e186cacc9bb332f07e538da540336d7c8bdef1d8d919cfee9dddb691663"
   }
  }
 },
 "nbformat": 4,
 "nbformat_minor": 2
}
