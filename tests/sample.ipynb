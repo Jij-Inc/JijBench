{
 "cells": [
  {
   "cell_type": "code",
   "execution_count": 1,
   "metadata": {},
   "outputs": [],
   "source": [
    "import sys\n",
    "\n",
    "sys.path.append(\"../\")\n",
    "\n",
    "import jijbench as jb"
   ]
  },
  {
   "cell_type": "code",
   "execution_count": 2,
   "metadata": {},
   "outputs": [],
   "source": [
    "def func(b):\n",
    "    return b\n",
    "\n",
    "\n",
    "bench = jb.Benchmark(\n",
    "    params={\"b\": [True, False]},\n",
    "    solver=func\n",
    ")\n",
    "bench.run()"
   ]
  },
  {
   "cell_type": "code",
   "execution_count": 3,
   "metadata": {},
   "outputs": [
    {
     "data": {
      "text/plain": [
       "{}"
      ]
     },
     "execution_count": 3,
     "metadata": {},
     "output_type": "execute_result"
    }
   ],
   "source": [
    "import pandas as pd\n",
    "\n",
    "pd.DataFrame().to_dict()"
   ]
  },
  {
   "cell_type": "code",
   "execution_count": 4,
   "metadata": {},
   "outputs": [
    {
     "ename": "SolverFailedError",
     "evalue": "An error occurred inside your solver. Please check implementation of \"custom_solver_failed\". -> solver is failed.",
     "output_type": "error",
     "traceback": [
      "\u001b[0;31m---------------------------------------------------------------------------\u001b[0m",
      "\u001b[0;31mException\u001b[0m                                 Traceback (most recent call last)",
      "File \u001b[0;32m~/JijBenchmark/tests/../jijbench/solver/solver.py:33\u001b[0m, in \u001b[0;36mCallableSolver.__call__\u001b[0;34m(self, **kwargs)\u001b[0m\n\u001b[1;32m     32\u001b[0m \u001b[39mtry\u001b[39;00m:\n\u001b[0;32m---> 33\u001b[0m     ret \u001b[39m=\u001b[39m \u001b[39mself\u001b[39;49m\u001b[39m.\u001b[39;49mfunction(\u001b[39m*\u001b[39;49m\u001b[39m*\u001b[39;49mkwargs)\n\u001b[1;32m     34\u001b[0m \u001b[39mexcept\u001b[39;00m \u001b[39mException\u001b[39;00m \u001b[39mas\u001b[39;00m e:\n",
      "Cell \u001b[0;32mIn[4], line 2\u001b[0m, in \u001b[0;36mcustom_solver_failed\u001b[0;34m()\u001b[0m\n\u001b[1;32m      1\u001b[0m \u001b[39mdef\u001b[39;00m \u001b[39mcustom_solver_failed\u001b[39m():\n\u001b[0;32m----> 2\u001b[0m         \u001b[39mraise\u001b[39;00m \u001b[39mException\u001b[39;00m(\u001b[39m\"\u001b[39m\u001b[39msolver is failed.\u001b[39m\u001b[39m\"\u001b[39m)\n",
      "\u001b[0;31mException\u001b[0m: solver is failed.",
      "\nDuring handling of the above exception, another exception occurred:\n",
      "\u001b[0;31mSolverFailedError\u001b[0m                         Traceback (most recent call last)",
      "Cell \u001b[0;32mIn[4], line 5\u001b[0m\n\u001b[1;32m      2\u001b[0m         \u001b[39mraise\u001b[39;00m \u001b[39mException\u001b[39;00m(\u001b[39m\"\u001b[39m\u001b[39msolver is failed.\u001b[39m\u001b[39m\"\u001b[39m)\n\u001b[1;32m      4\u001b[0m bench \u001b[39m=\u001b[39m jb\u001b[39m.\u001b[39mBenchmark(params\u001b[39m=\u001b[39m{\u001b[39m\"\u001b[39m\u001b[39mdummy\u001b[39m\u001b[39m\"\u001b[39m: [\u001b[39m1\u001b[39m]}, solver\u001b[39m=\u001b[39mcustom_solver_failed)\n\u001b[0;32m----> 5\u001b[0m bench\u001b[39m.\u001b[39;49mrun()\n",
      "File \u001b[0;32m~/JijBenchmark/tests/../jijbench/benchmark/benchmark.py:175\u001b[0m, in \u001b[0;36mBenchmark.run\u001b[0;34m(self, sync)\u001b[0m\n\u001b[1;32m    173\u001b[0m \u001b[39mfor\u001b[39;00m instance_data_ij \u001b[39min\u001b[39;00m instance_data_i:\n\u001b[1;32m    174\u001b[0m     \u001b[39mif\u001b[39;00m sync:\n\u001b[0;32m--> 175\u001b[0m         \u001b[39mself\u001b[39;49m\u001b[39m.\u001b[39;49m_run_by_sync(solver, problem_i, instance_data_ij)\n\u001b[1;32m    176\u001b[0m     \u001b[39melse\u001b[39;00m:\n\u001b[1;32m    177\u001b[0m         \u001b[39mif\u001b[39;00m \u001b[39m\"\u001b[39m\u001b[39mopenjij\u001b[39m\u001b[39m\"\u001b[39m \u001b[39min\u001b[39;00m solver\u001b[39m.\u001b[39mname:\n",
      "File \u001b[0;32m~/JijBenchmark/tests/../jijbench/benchmark/benchmark.py:247\u001b[0m, in \u001b[0;36mBenchmark._run_by_sync\u001b[0;34m(self, solver, problem, instance_data)\u001b[0m\n\u001b[1;32m    243\u001b[0m \u001b[39mwith\u001b[39;00m experiment:\n\u001b[1;32m    244\u001b[0m     solver_args\u001b[39m.\u001b[39mupdate(\n\u001b[1;32m    245\u001b[0m         \u001b[39mdict\u001b[39m([(k, v) \u001b[39mfor\u001b[39;00m k, v \u001b[39min\u001b[39;00m \u001b[39mzip\u001b[39m(\u001b[39mself\u001b[39m\u001b[39m.\u001b[39mparams\u001b[39m.\u001b[39mkeys(), r)])\n\u001b[1;32m    246\u001b[0m     )\n\u001b[0;32m--> 247\u001b[0m     ret \u001b[39m=\u001b[39m solver(\u001b[39m*\u001b[39;49m\u001b[39m*\u001b[39;49msolver_args)\n\u001b[1;32m    248\u001b[0m     ret \u001b[39m=\u001b[39m solver\u001b[39m.\u001b[39mto_named_ret(ret)\n\u001b[1;32m    249\u001b[0m     solver_args\u001b[39m.\u001b[39mupdate(ret)\n",
      "File \u001b[0;32m~/JijBenchmark/tests/../jijbench/solver/solver.py:36\u001b[0m, in \u001b[0;36mCallableSolver.__call__\u001b[0;34m(self, **kwargs)\u001b[0m\n\u001b[1;32m     34\u001b[0m \u001b[39mexcept\u001b[39;00m \u001b[39mException\u001b[39;00m \u001b[39mas\u001b[39;00m e:\n\u001b[1;32m     35\u001b[0m     msg \u001b[39m=\u001b[39m \u001b[39mf\u001b[39m\u001b[39m'\u001b[39m\u001b[39mAn error occurred inside your solver. Please check implementation of \u001b[39m\u001b[39m\"\u001b[39m\u001b[39m{\u001b[39;00m\u001b[39mself\u001b[39m\u001b[39m.\u001b[39mname\u001b[39m}\u001b[39;00m\u001b[39m\"\u001b[39m\u001b[39m. -> \u001b[39m\u001b[39m{\u001b[39;00me\u001b[39m}\u001b[39;00m\u001b[39m'\u001b[39m\n\u001b[0;32m---> 36\u001b[0m     \u001b[39mraise\u001b[39;00m SolverFailedError(msg)\n\u001b[1;32m     37\u001b[0m \u001b[39mreturn\u001b[39;00m ret\n",
      "\u001b[0;31mSolverFailedError\u001b[0m: An error occurred inside your solver. Please check implementation of \"custom_solver_failed\". -> solver is failed."
     ]
    }
   ],
   "source": [
    "def custom_solver_failed():\n",
    "        raise Exception(\"solver is failed.\")\n",
    "\n",
    "bench = jb.Benchmark(params={\"dummy\": [1]}, solver=custom_solver_failed)\n",
    "bench.run()"
   ]
  }
 ],
 "metadata": {
  "kernelspec": {
   "display_name": "jb",
   "language": "python",
   "name": "python3"
  },
  "language_info": {
   "codemirror_mode": {
    "name": "ipython",
    "version": 3
   },
   "file_extension": ".py",
   "mimetype": "text/x-python",
   "name": "python",
   "nbconvert_exporter": "python",
   "pygments_lexer": "ipython3",
   "version": "3.9.14"
  },
  "orig_nbformat": 4,
  "vscode": {
   "interpreter": {
    "hash": "5eaa3e186cacc9bb332f07e538da540336d7c8bdef1d8d919cfee9dddb691663"
   }
  }
 },
 "nbformat": 4,
 "nbformat_minor": 2
}
