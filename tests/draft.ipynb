{
 "cells": [
  {
   "cell_type": "code",
   "execution_count": 3,
   "metadata": {},
   "outputs": [],
   "source": [
    "from __future__ import annotations\n",
    "from abc import ABCMeta, abstractmethod\n",
    "from dataclasses import dataclass, field\n",
    "\n",
    "import numpy as np\n",
    "import typing as tp\n",
    "\n",
    "\n",
    "Tn = tp.TypeVar(\"Tn\", \"DataNode\", \"FunctionNode\")\n",
    "Tc = tp.TypeVar(\"Tc\", list[Tn], None)\n",
    "\n",
    "@dataclass\n",
    "class DataNode(tp.Generic[Tn]):\n",
    "    data: tp.Any = None\n",
    "    name: str | None = None\n",
    "    children: list[Tn] = field(default_factory=list)\n",
    "    \n",
    "    \n",
    "class FunctionNode(tp.Generic[Tn]):\n",
    "    def __init__(\n",
    "        self, \n",
    "        name: str | None = None, \n",
    "        children: list[Tn] | None = None\n",
    "    ) -> None:\n",
    "        self.name = name\n",
    "        if children is None:\n",
    "            self.children = []\n",
    "        else:\n",
    "            self.children = children\n"
   ]
  },
  {
   "cell_type": "code",
   "execution_count": 10,
   "metadata": {},
   "outputs": [
    {
     "name": "stdout",
     "output_type": "stream",
     "text": [
      "1\n",
      "[1]\n",
      "[1.0]\n"
     ]
    }
   ],
   "source": [
    "T = tp.TypeVar(\"T\", str, int, float, list[int])\n",
    "\n",
    "def f(x: T):\n",
    "    print(x)\n",
    "    \n",
    "f(1)\n",
    "f([1])\n",
    "f([1.0])"
   ]
  },
  {
   "cell_type": "code",
   "execution_count": 6,
   "metadata": {},
   "outputs": [],
   "source": [
    "Tn = tp.TypeVar(\"Tn\", \"DataNode\", \"FunctionNode\")\n",
    "Tc = tp.TypeVar(\"Tc\", list[Tn], None)\n",
    "Tc = list[Tn]\n"
   ]
  },
  {
   "cell_type": "code",
   "execution_count": 85,
   "metadata": {},
   "outputs": [],
   "source": [
    "import uuid\n",
    "import numpy as np\n",
    "import pandas as pd\n",
    "\n",
    "\n",
    "@dataclass\n",
    "class ID(DataNode[T_Node]):\n",
    "    data: str = str(uuid.uuid4())\n",
    "\n",
    "@dataclass\n",
    "class Array(DataNode[T_Node]):\n",
    "    data: np.ndarray\n",
    "    \n",
    "    def min(self) -> float:\n",
    "        return float(self.data.min())\n",
    "    \n",
    "    def max(self) -> float:\n",
    "        return float(self.data.max())\n",
    "    \n",
    "    def mean(self) -> float:\n",
    "        return float(self.data.mean())\n",
    "    \n",
    "    def std(self) -> float:\n",
    "        return float(self.data.std())\n",
    "    \n",
    "    \n",
    "@dataclass\n",
    "class Energy(Array):\n",
    "    name: str = \"energy\"\n",
    "\n",
    "@dataclass\n",
    "class Objective(Array):\n",
    "    name: str = \"objective\"\n",
    "\n",
    "@dataclass\n",
    "class ConstraintViolation(Array):\n",
    "    pass\n",
    "\n",
    "class Record(FunctionNode[DataNode]):\n",
    "    def __init__(self, name: str | None = None, children: list[DataNode] | None = None) -> None:\n",
    "        super().__init__(name, children)\n",
    "    \n",
    "    def to_dict(self) -> dict:\n",
    "        if self.children is None:\n",
    "            raise TypeError(\"Value of attribute 'children' is None. Therefore, it cannot be converted to dict.\")\n",
    "        else:\n",
    "            return {node.name: node.data for node in self.children}\n",
    "            \n",
    "    def to_series(self) -> pd.Series:\n",
    "        return pd.Series(self.to_dict())\n",
    "\n",
    "class Table(FunctionNode):\n",
    "    def __init__(self, name: str | None = None, children: list[DataNode | FunctionNode] | None = None) -> None:\n",
    "        super().__init__(name, children)\n",
    "    \n",
    "    \n",
    "    def to_dataframe(self) -> pd.DataFrame:\n",
    "        return pd.concat([record.to_series() for record in self.children], axis=1)\n",
    "    \n",
    "class Artifact(FunctionNode):\n",
    "    children: list[Record]\n",
    "    \n",
    "    def to_dict(self):\n",
    "        pass\n",
    "    \n"
   ]
  },
  {
   "cell_type": "code",
   "execution_count": 48,
   "metadata": {},
   "outputs": [],
   "source": [
    "import jijzept as jz\n",
    "import jijmodeling as jm\n",
    "\n",
    "sampler = jz.JijSASampler(config=\"/home/d/.jijzept/config.toml\")\n",
    "\n",
    "problem = jm.Problem(\"sample\")\n",
    "x = jm.Binary(\"x\", 5)\n",
    "problem += x[:]\n",
    "problem += jm.Constraint(\"onehot\", x[:] == 1)\n",
    "\n",
    "res = sampler.sample_model(problem, {})"
   ]
  },
  {
   "cell_type": "code",
   "execution_count": 4,
   "metadata": {},
   "outputs": [
    {
     "data": {
      "text/plain": [
       "SampleSet(record=Record(solution={'x': [(([1],), [1], (5,))]}, num_occurrences=[1]), evaluation=Evaluation(energy=[0.0], objective=[1.0], constraint_violations={'onehot': [0.0]}, penalty={}), measuring_time=MeasuringTime(solve=SolvingTime(preprocess=None, solve=0.010204792022705078, postprocess=None), system=SystemTime(post_problem_and_instance_data=1.143580675125122, request_queue=0.3961308002471924, fetch_problem_and_instance_data=None, fetch_result=3.2182419300079346, deserialize_solution=8.535385131835938e-05), total=4.765757083892822))"
      ]
     },
     "execution_count": 4,
     "metadata": {},
     "output_type": "execute_result"
    }
   ],
   "source": [
    "res.feasible()"
   ]
  },
  {
   "cell_type": "code",
   "execution_count": 81,
   "metadata": {},
   "outputs": [
    {
     "name": "stdout",
     "output_type": "stream",
     "text": [
      "Energy(data=array([0.]), name='energy', children=[])\n",
      "Objective(data=array([1.]), name='objective', children=[])\n",
      "ConstraintViolation(data=array([0.]), name='onehot', children=[])\n"
     ]
    }
   ],
   "source": [
    "b_id = ID(name=\"benchmark_id\")\n",
    "energy = Energy(np.array(res.evaluation.energy))\n",
    "objective = Objective(np.array(res.evaluation.objective))\n",
    "if res.evaluation.constraint_violations is not None:\n",
    "    const_name, const_values  = list(res.evaluation.constraint_violations.items())[0]\n",
    "    constraint_violation = ConstraintViolation(np.array(const_values), const_name)\n",
    "else:\n",
    "    constraint_violation = ConstraintViolation()\n",
    "\n",
    "print(energy)\n",
    "print(objective)\n",
    "print(constraint_violation)"
   ]
  },
  {
   "cell_type": "code",
   "execution_count": 86,
   "metadata": {},
   "outputs": [],
   "source": [
    "record = Record(\n",
    "    name=\"0\",\n",
    "    children=[b_id, energy, objective, constraint_violation]\n",
    ")\n"
   ]
  },
  {
   "cell_type": "code",
   "execution_count": 83,
   "metadata": {},
   "outputs": [
    {
     "data": {
      "text/plain": [
       "{'benchmark_id': '73a1a2de-d313-42ff-975f-b6f3843cbafa',\n",
       " 'energy': array([0.]),\n",
       " 'objective': array([1.]),\n",
       " 'onehot': array([0.])}"
      ]
     },
     "execution_count": 83,
     "metadata": {},
     "output_type": "execute_result"
    }
   ],
   "source": [
    "record.to_dict()"
   ]
  },
  {
   "cell_type": "code",
   "execution_count": 84,
   "metadata": {},
   "outputs": [
    {
     "data": {
      "text/plain": [
       "benchmark_id    73a1a2de-d313-42ff-975f-b6f3843cbafa\n",
       "energy                                         [0.0]\n",
       "objective                                      [1.0]\n",
       "onehot                                         [0.0]\n",
       "dtype: object"
      ]
     },
     "execution_count": 84,
     "metadata": {},
     "output_type": "execute_result"
    }
   ],
   "source": [
    "record.to_series()"
   ]
  },
  {
   "cell_type": "code",
   "execution_count": null,
   "metadata": {},
   "outputs": [],
   "source": [
    "table = Table(children=[])"
   ]
  },
  {
   "cell_type": "code",
   "execution_count": 67,
   "metadata": {},
   "outputs": [
    {
     "data": {
      "text/plain": [
       "True"
      ]
     },
     "execution_count": 67,
     "metadata": {},
     "output_type": "execute_result"
    }
   ],
   "source": [
    "type(float(np.zeros(10).mean().astype(float))) == float"
   ]
  },
  {
   "cell_type": "code",
   "execution_count": 1,
   "metadata": {},
   "outputs": [
    {
     "ename": "NameError",
     "evalue": "name 'np' is not defined",
     "output_type": "error",
     "traceback": [
      "\u001b[0;31m---------------------------------------------------------------------------\u001b[0m",
      "\u001b[0;31mNameError\u001b[0m                                 Traceback (most recent call last)",
      "Cell \u001b[0;32mIn[1], line 1\u001b[0m\n\u001b[0;32m----> 1\u001b[0m \u001b[39mtype\u001b[39m(np\u001b[39m.\u001b[39mzeros((\u001b[39m10\u001b[39m, \u001b[39m10\u001b[39m))\u001b[39m.\u001b[39mmean(axis\u001b[39m=\u001b[39m\u001b[39m0\u001b[39m)) \u001b[39m==\u001b[39m np\u001b[39m.\u001b[39mndarray\n",
      "\u001b[0;31mNameError\u001b[0m: name 'np' is not defined"
     ]
    }
   ],
   "source": [
    "type(np.zeros((10, 10)).mean(axis=0)) == np.ndarray"
   ]
  },
  {
   "cell_type": "code",
   "execution_count": 37,
   "metadata": {},
   "outputs": [
    {
     "data": {
      "text/plain": [
       "array([1, 2, 3])"
      ]
     },
     "execution_count": 37,
     "metadata": {},
     "output_type": "execute_result"
    }
   ],
   "source": [
    "np.array([1, 2, 3])"
   ]
  },
  {
   "cell_type": "code",
   "execution_count": 31,
   "metadata": {},
   "outputs": [
    {
     "data": {
      "text/html": [
       "<div>\n",
       "<style scoped>\n",
       "    .dataframe tbody tr th:only-of-type {\n",
       "        vertical-align: middle;\n",
       "    }\n",
       "\n",
       "    .dataframe tbody tr th {\n",
       "        vertical-align: top;\n",
       "    }\n",
       "\n",
       "    .dataframe thead th {\n",
       "        text-align: right;\n",
       "    }\n",
       "</style>\n",
       "<table border=\"1\" class=\"dataframe\">\n",
       "  <thead>\n",
       "    <tr style=\"text-align: right;\">\n",
       "      <th></th>\n",
       "      <th>numpy</th>\n",
       "    </tr>\n",
       "  </thead>\n",
       "  <tbody>\n",
       "    <tr>\n",
       "      <th>0</th>\n",
       "      <td>[[[5.223747479002759, 4.800946769819401, 6.116...</td>\n",
       "    </tr>\n",
       "  </tbody>\n",
       "</table>\n",
       "</div>"
      ],
      "text/plain": [
       "                                               numpy\n",
       "0  [[[5.223747479002759, 4.800946769819401, 6.116..."
      ]
     },
     "execution_count": 31,
     "metadata": {},
     "output_type": "execute_result"
    }
   ],
   "source": [
    "import numpy as np\n",
    "import pandas as pd\n",
    "\n",
    "df = pd.DataFrame()\n",
    "df.at[0, \"numpy\"] = object\n",
    "df.at[0, \"numpy\"] = np.random.uniform(0, 10, (5, 5, 5))\n",
    "df.at[0, \"numpy\"]\n",
    "df.to_csv(\"test.csv\")\n",
    "df"
   ]
  },
  {
   "cell_type": "code",
   "execution_count": 32,
   "metadata": {},
   "outputs": [
    {
     "data": {
      "text/plain": [
       "'[[[5.22374748 4.80094677 6.11689071 7.31566368 1.23736595]\\n  [0.28428062 9.44307097 1.89903436 4.19765826 5.59597613]\\n  [9.47758591 2.04675904 8.46765006 1.51294084 1.91436422]\\n  [9.17592769 9.4342569  7.30417504 9.27726754 6.93338604]\\n  [2.37851468 2.273678   0.72553692 8.81048314 0.96157555]]\\n\\n [[0.47678681 6.60742358 5.60403739 7.47040213 2.25139269]\\n  [6.62702913 3.73385153 5.06712167 2.85190424 8.50040324]\\n  [6.65611956 0.01661034 6.66244394 3.16240103 5.04807354]\\n  [1.96589634 3.25976464 9.91987268 5.14661533 0.54151853]\\n  [1.67158872 8.4845318  0.10886078 3.44503153 6.71858885]]\\n\\n [[8.7607871  4.32735197 2.62176054 1.76345339 3.07191038]\\n  [3.61556733 7.33879381 7.02674854 4.08777969 6.84802105]\\n  [5.05147354 4.39866683 1.26395654 8.07813761 7.84091721]\\n  [5.98800736 3.51749256 3.64328247 1.14554302 9.41778514]\\n  [7.81939986 9.79472568 2.47649905 2.23550822 8.37572771]]\\n\\n [[0.34491114 1.37364409 5.67661407 8.54948312 8.16806013]\\n  [1.7780197  0.73956253 4.43219007 6.73302051 5.27628579]\\n  [6.31177974 1.58638483 8.85419837 2.53699981 1.55227476]\\n  [9.98329443 5.9311273  3.16450047 5.00377245 7.39786582]\\n  [4.3676663  2.02017576 7.33066728 4.76859633 6.17284492]]\\n\\n [[0.56068831 2.4239262  5.7931611  5.30637876 1.04962038]\\n  [3.78909166 2.44373084 4.92752254 1.56746836 9.41316039]\\n  [6.65429368 8.61455019 2.24165809 0.6918299  2.62932727]\\n  [8.15537587 5.47441018 1.28267146 9.22553944 8.31163348]\\n  [2.71151485 2.8995909  6.0083776  4.9950514  4.90034622]]]'"
      ]
     },
     "execution_count": 32,
     "metadata": {},
     "output_type": "execute_result"
    }
   ],
   "source": [
    "df2 = pd.read_csv(\"test.csv\", index_col=0)\n",
    "df2.at[0, \"numpy\"]"
   ]
  },
  {
   "cell_type": "code",
   "execution_count": 33,
   "metadata": {},
   "outputs": [],
   "source": [
    "import re\n",
    "\n",
    "def _numpystr_to_liststr(x):\n",
    "    try:\n",
    "        return re.sub(\n",
    "            r\"\\n+\",\n",
    "            \"\",\n",
    "            re.sub(\n",
    "                r\" +\",\n",
    "                \", \",\n",
    "                re.sub(\n",
    "                    r\"\\[ +\",\n",
    "                    \"[\",\n",
    "                    re.sub(\n",
    "                        r\" +\\]\",\n",
    "                        \"]\",\n",
    "                        re.sub(r\"\\.\\]\", \".0]\", re.sub(r\"\\. \", \".0 \", x)),\n",
    "                    ),\n",
    "                ),\n",
    "            ),\n",
    "        )\n",
    "    except TypeError:\n",
    "        return x\n"
   ]
  },
  {
   "cell_type": "code",
   "execution_count": 34,
   "metadata": {},
   "outputs": [
    {
     "name": "stdout",
     "output_type": "stream",
     "text": [
      "<class 'list'>\n"
     ]
    },
    {
     "data": {
      "text/plain": [
       "array([[[5.22374748, 4.80094677, 6.11689071, 7.31566368, 1.23736595],\n",
       "        [0.28428062, 9.44307097, 1.89903436, 4.19765826, 5.59597613],\n",
       "        [9.47758591, 2.04675904, 8.46765006, 1.51294084, 1.91436422],\n",
       "        [9.17592769, 9.4342569 , 7.30417504, 9.27726754, 6.93338604],\n",
       "        [2.37851468, 2.273678  , 0.72553692, 8.81048314, 0.96157555]],\n",
       "\n",
       "       [[0.47678681, 6.60742358, 5.60403739, 7.47040213, 2.25139269],\n",
       "        [6.62702913, 3.73385153, 5.06712167, 2.85190424, 8.50040324],\n",
       "        [6.65611956, 0.01661034, 6.66244394, 3.16240103, 5.04807354],\n",
       "        [1.96589634, 3.25976464, 9.91987268, 5.14661533, 0.54151853],\n",
       "        [1.67158872, 8.4845318 , 0.10886078, 3.44503153, 6.71858885]],\n",
       "\n",
       "       [[8.7607871 , 4.32735197, 2.62176054, 1.76345339, 3.07191038],\n",
       "        [3.61556733, 7.33879381, 7.02674854, 4.08777969, 6.84802105],\n",
       "        [5.05147354, 4.39866683, 1.26395654, 8.07813761, 7.84091721],\n",
       "        [5.98800736, 3.51749256, 3.64328247, 1.14554302, 9.41778514],\n",
       "        [7.81939986, 9.79472568, 2.47649905, 2.23550822, 8.37572771]],\n",
       "\n",
       "       [[0.34491114, 1.37364409, 5.67661407, 8.54948312, 8.16806013],\n",
       "        [1.7780197 , 0.73956253, 4.43219007, 6.73302051, 5.27628579],\n",
       "        [6.31177974, 1.58638483, 8.85419837, 2.53699981, 1.55227476],\n",
       "        [9.98329443, 5.9311273 , 3.16450047, 5.00377245, 7.39786582],\n",
       "        [4.3676663 , 2.02017576, 7.33066728, 4.76859633, 6.17284492]],\n",
       "\n",
       "       [[0.56068831, 2.4239262 , 5.7931611 , 5.30637876, 1.04962038],\n",
       "        [3.78909166, 2.44373084, 4.92752254, 1.56746836, 9.41316039],\n",
       "        [6.65429368, 8.61455019, 2.24165809, 0.6918299 , 2.62932727],\n",
       "        [8.15537587, 5.47441018, 1.28267146, 9.22553944, 8.31163348],\n",
       "        [2.71151485, 2.8995909 , 6.0083776 , 4.9950514 , 4.90034622]]])"
      ]
     },
     "execution_count": 34,
     "metadata": {},
     "output_type": "execute_result"
    }
   ],
   "source": [
    "import json\n",
    "\n",
    "obj = json.loads(_numpystr_to_liststr(df2.at[0, \"numpy\"]))\n",
    "print(type(obj))\n",
    "obj = np.array(obj)\n",
    "obj"
   ]
  }
 ],
 "metadata": {
  "kernelspec": {
   "display_name": "jb",
   "language": "python",
   "name": "python3"
  },
  "language_info": {
   "codemirror_mode": {
    "name": "ipython",
    "version": 3
   },
   "file_extension": ".py",
   "mimetype": "text/x-python",
   "name": "python",
   "nbconvert_exporter": "python",
   "pygments_lexer": "ipython3",
   "version": "3.9.14 (main, Nov 10 2022, 16:56:14) \n[GCC 9.4.0]"
  },
  "orig_nbformat": 4,
  "vscode": {
   "interpreter": {
    "hash": "5eaa3e186cacc9bb332f07e538da540336d7c8bdef1d8d919cfee9dddb691663"
   }
  }
 },
 "nbformat": 4,
 "nbformat_minor": 2
}
