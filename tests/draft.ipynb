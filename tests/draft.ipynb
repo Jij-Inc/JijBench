{
 "cells": [
  {
   "cell_type": "code",
   "execution_count": 2,
   "metadata": {},
   "outputs": [],
   "source": [
    "from __future__ import annotations\n",
    "from abc import ABCMeta, abstractmethod\n",
    "from dataclasses import dataclass, field\n",
    "\n",
    "import numpy as np\n",
    "import typing as tp\n",
    "\n",
    "NodeType= tp.TypeVar(\"T_Node\", bound = tp.Union[\"DataNode\", \"FunctionNode\"])\n",
    "\n",
    "@dataclass\n",
    "class DataNode:\n",
    "    data: tp.Any\n",
    "    children: list[T_Node] | None = None\n",
    "        \n",
    "class FunctionNode:\n",
    "    pass\n"
   ]
  },
  {
   "cell_type": "code",
   "execution_count": 5,
   "metadata": {},
   "outputs": [],
   "source": []
  },
  {
   "cell_type": "code",
   "execution_count": null,
   "metadata": {},
   "outputs": [],
   "source": [
    "class ID(DataNode):\n",
    "    def __init__(self, identification: str | None, children: list[DataNode] | None = None):\n",
    "        self._data = identification\n",
    "        if children is None:\n",
    "            self._children = []\n",
    "        else:\n",
    "            self._children = children\n",
    "            \n",
    "        \n",
    "    @property\n",
    "    def data(self) -> str | None:\n",
    "        return self._data\n",
    "    \n",
    "    @property\n",
    "    def children(self) -> list[Node]:\n",
    "        return self._children\n",
    "    \n",
    "    "
   ]
  },
  {
   "cell_type": "code",
   "execution_count": 2,
   "metadata": {},
   "outputs": [
    {
     "ename": "TypeError",
     "evalue": "__init__() got an unexpected keyword argument 'benchmark_id'",
     "output_type": "error",
     "traceback": [
      "\u001b[0;31m---------------------------------------------------------------------------\u001b[0m",
      "\u001b[0;31mTypeError\u001b[0m                                 Traceback (most recent call last)",
      "Cell \u001b[0;32mIn[2], line 14\u001b[0m\n\u001b[1;32m      8\u001b[0m     \u001b[39mreturn\u001b[39;00m x\n\u001b[1;32m     10\u001b[0m bench \u001b[39m=\u001b[39m jb\u001b[39m.\u001b[39mBenchmark(\n\u001b[1;32m     11\u001b[0m     params\u001b[39m=\u001b[39m{\u001b[39m\"\u001b[39m\u001b[39mx\u001b[39m\u001b[39m\"\u001b[39m:[\u001b[39m1\u001b[39m, \u001b[39m2\u001b[39m]},\n\u001b[1;32m     12\u001b[0m     solver\u001b[39m=\u001b[39mfunc\n\u001b[1;32m     13\u001b[0m )\n\u001b[0;32m---> 14\u001b[0m bench\u001b[39m.\u001b[39;49mrun()\n",
      "File \u001b[0;32m~/JijBenchmark/tests/../jijbench/benchmark/benchmark.py:186\u001b[0m, in \u001b[0;36mBenchmark.run\u001b[0;34m(self, concurrent)\u001b[0m\n\u001b[1;32m    184\u001b[0m         \u001b[39mself\u001b[39m\u001b[39m.\u001b[39m_run_by_async(solver, problem_i, instance_data_ij)\n\u001b[1;32m    185\u001b[0m \u001b[39melse\u001b[39;00m:\n\u001b[0;32m--> 186\u001b[0m     \u001b[39mself\u001b[39;49m\u001b[39m.\u001b[39;49m_run_by_sync(solver, problem_i, instance_data_ij)\n",
      "File \u001b[0;32m~/JijBenchmark/tests/../jijbench/benchmark/benchmark.py:242\u001b[0m, in \u001b[0;36mBenchmark._run_by_sync\u001b[0;34m(self, solver, problem, instance_data)\u001b[0m\n\u001b[1;32m    241\u001b[0m \u001b[39mdef\u001b[39;00m \u001b[39m_run_by_sync\u001b[39m(\u001b[39mself\u001b[39m, solver, problem, instance_data):\n\u001b[0;32m--> 242\u001b[0m     experiment \u001b[39m=\u001b[39m Experiment(benchmark_id\u001b[39m=\u001b[39;49m\u001b[39mself\u001b[39;49m\u001b[39m.\u001b[39;49mid\u001b[39m.\u001b[39;49mbenchmark, save_dir\u001b[39m=\u001b[39;49m\u001b[39mself\u001b[39;49m\u001b[39m.\u001b[39;49msave_dir)\n\u001b[1;32m    243\u001b[0m     solver_args, record \u001b[39m=\u001b[39m \u001b[39mself\u001b[39m\u001b[39m.\u001b[39m_setup_experiment(\n\u001b[1;32m    244\u001b[0m         solver, problem, instance_data, \u001b[39mTrue\u001b[39;00m\n\u001b[1;32m    245\u001b[0m     )\n\u001b[1;32m    246\u001b[0m     \u001b[39mfor\u001b[39;00m r \u001b[39min\u001b[39;00m itertools\u001b[39m.\u001b[39mproduct(\u001b[39m*\u001b[39m\u001b[39mself\u001b[39m\u001b[39m.\u001b[39mparams\u001b[39m.\u001b[39mvalues()):\n",
      "\u001b[0;31mTypeError\u001b[0m: __init__() got an unexpected keyword argument 'benchmark_id'"
     ]
    }
   ],
   "source": [
    "import sys\n",
    "\n",
    "sys.path.append(\"../\")\n",
    "\n",
    "import jijbench as jb\n",
    "\n",
    "def func(x):\n",
    "    return x\n",
    "\n",
    "bench = jb.Benchmark(\n",
    "    params={\"x\":[1, 2]},\n",
    "    solver=func\n",
    ")\n",
    "bench.run()\n"
   ]
  },
  {
   "cell_type": "code",
   "execution_count": null,
   "metadata": {},
   "outputs": [],
   "source": [
    "bench.table"
   ]
  }
 ],
 "metadata": {
  "kernelspec": {
   "display_name": "Python 3.9.14 ('jb')",
   "language": "python",
   "name": "python3"
  },
  "language_info": {
   "codemirror_mode": {
    "name": "ipython",
    "version": 3
   },
   "file_extension": ".py",
   "mimetype": "text/x-python",
   "name": "python",
   "nbconvert_exporter": "python",
   "pygments_lexer": "ipython3",
   "version": "3.9.14"
  },
  "orig_nbformat": 4,
  "vscode": {
   "interpreter": {
    "hash": "5eaa3e186cacc9bb332f07e538da540336d7c8bdef1d8d919cfee9dddb691663"
   }
  }
 },
 "nbformat": 4,
 "nbformat_minor": 2
}
