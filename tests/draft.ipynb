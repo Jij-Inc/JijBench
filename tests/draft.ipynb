{
 "cells": [
  {
   "cell_type": "code",
   "execution_count": 17,
   "metadata": {},
   "outputs": [],
   "source": [
    "from __future__ import annotations\n",
    "from abc import ABCMeta, abstractmethod\n",
    "from dataclasses import dataclass, field\n",
    "\n",
    "import numpy as np\n",
    "import typing as tp\n",
    "\n",
    "\n",
    "Tn = tp.TypeVar(\"Tn\")\n",
    "\n",
    "@dataclass\n",
    "class DataNode(tp.Generic[Tn]):\n",
    "    data: tp.Any = None\n",
    "    name: str | None = None\n",
    "    children: list[Tn] | None = None\n",
    "    \n",
    "    \n",
    "class FunctionNode(tp.Generic[Tn]):\n",
    "    def __init__(\n",
    "        self, \n",
    "        name: str | None = None, \n",
    "        children: list[Tn] | None = None\n",
    "    ) -> None:\n",
    "        self.name = name\n",
    "        if children is None:\n",
    "            self.children = []\n",
    "        else:\n",
    "            self.children = children\n",
    "            \n",
    "# Tn = tp.TypeVar(\"Tn\", bound=\"BaseNode\")\n",
    "# \n",
    "# class BaseNode(tp.Generic[Tn]):\n",
    "#     pass\n",
    "# \n",
    "# @dataclass\n",
    "# class DataNode(BaseNode[Tn]):\n",
    "#     data: tp.Any = None\n",
    "#     name: str | None = None\n",
    "#     children: list[Tn] | None = None\n",
    "#     \n",
    "#     \n",
    "# class FunctionNode(BaseNode[Tn]):\n",
    "#     def __init__(\n",
    "#         self, \n",
    "#         name: str | None = None, \n",
    "#         children: list[Tn] | None = None\n",
    "#     ) -> None:\n",
    "#         self.name = name\n",
    "#         if children is None:\n",
    "#             self.children = []\n",
    "#         else:\n",
    "#             self.children = children\n",
    "# \n"
   ]
  },
  {
   "cell_type": "code",
   "execution_count": 44,
   "metadata": {},
   "outputs": [],
   "source": [
    "import uuid\n",
    "import numpy as np\n",
    "import pandas as pd\n",
    "\n",
    "\n",
    "@dataclass\n",
    "class ID(DataNode[\"ID\"]):\n",
    "    data: str = str(uuid.uuid4())\n",
    "\n",
    "@dataclass\n",
    "class Array(DataNode):\n",
    "    data: np.ndarray\n",
    "    children: None = None\n",
    "    \n",
    "    def min(self) -> float:\n",
    "        return float(self.data.min())\n",
    "    \n",
    "    def max(self) -> float:\n",
    "        return float(self.data.max())\n",
    "    \n",
    "    def mean(self) -> float:\n",
    "        return float(self.data.mean())\n",
    "    \n",
    "    def std(self) -> float:\n",
    "        return float(self.data.std())\n",
    "    \n",
    "    \n",
    "@dataclass\n",
    "class Energy(Array):\n",
    "    name: str = \"energy\"\n",
    "\n",
    "@dataclass\n",
    "class Objective(Array):\n",
    "    name: str = \"objective\"\n",
    "\n",
    "@dataclass\n",
    "class ConstraintViolation(Array):\n",
    "    def __post_init__(self):\n",
    "        if self.name is None:\n",
    "            raise NameError(\"Attribute 'name' is None. Please set a name.\")\n",
    "\n",
    "\n",
    "class Record(FunctionNode[DataNode]):\n",
    "    def __init__(self, name: str | None = None, children: list[DataNode] | None = None) -> None:\n",
    "        super().__init__(name, children)\n",
    "    \n",
    "    def to_dict(self) -> dict:\n",
    "        if self.children is None:\n",
    "            raise TypeError(\"Value of attribute 'children' is None. Therefore, it cannot be converted to dict.\")\n",
    "        else:\n",
    "            return {node.name: node.data for node in self.children}\n",
    "            \n",
    "    def to_series(self) -> pd.Series:\n",
    "        return pd.Series(self.to_dict())\n",
    "    \n",
    "\n",
    "class Table(FunctionNode[Record]):\n",
    "    def __init__(self, name: str | None = None, children: list[Record] | None = None) -> None:\n",
    "        super().__init__(name, children)\n",
    "    \n",
    "    \n",
    "    def to_dataframe(self) -> pd.DataFrame:\n",
    "        return pd.concat([record.to_series() for record in self.children], axis=1).T\n",
    "    \n",
    "class Artifact(FunctionNode[Record]):\n",
    "    def __init__(self, name: str | None = None, children: list[Record] | None = None) -> None:\n",
    "        super().__init__(name, children)\n",
    "    \n",
    "    def to_dict(self):\n",
    "        pass\n",
    "    \n"
   ]
  },
  {
   "cell_type": "code",
   "execution_count": 19,
   "metadata": {},
   "outputs": [
    {
     "name": "stdout",
     "output_type": "stream",
     "text": [
      "6e313955-bb9e-4b9d-b66b-860a2c14f291\n",
      "None\n",
      "None\n"
     ]
    }
   ],
   "source": [
    "i = ID()\n",
    "print(i.data)\n",
    "print(i.children)\n",
    "print(i.name)"
   ]
  },
  {
   "cell_type": "code",
   "execution_count": 20,
   "metadata": {},
   "outputs": [
    {
     "name": "stdout",
     "output_type": "stream",
     "text": [
      "None\n",
      "None\n",
      "None\n"
     ]
    }
   ],
   "source": [
    "array = Array()\n",
    "print(array.data)\n",
    "print(array.children)\n",
    "print(array.name)"
   ]
  },
  {
   "cell_type": "code",
   "execution_count": 6,
   "metadata": {},
   "outputs": [],
   "source": [
    "import jijzept as jz\n",
    "import jijmodeling as jm\n",
    "\n",
    "sampler = jz.JijSASampler(config=\"/home/d/.jijzept/config.toml\")\n",
    "\n",
    "problem = jm.Problem(\"sample\")\n",
    "x = jm.Binary(\"x\", 5)\n",
    "problem += x[:]\n",
    "problem += jm.Constraint(\"onehot\", x[:] == 1)\n",
    "\n",
    "res = sampler.sample_model(problem, {})"
   ]
  },
  {
   "cell_type": "code",
   "execution_count": 21,
   "metadata": {},
   "outputs": [
    {
     "data": {
      "text/plain": [
       "SampleSet(record=Record(solution={'x': [(([4],), [1], (5,))]}, num_occurrences=[1]), evaluation=Evaluation(energy=[0.0], objective=[1.0], constraint_violations={'onehot': [0.0]}, penalty={}), measuring_time=MeasuringTime(solve=SolvingTime(preprocess=None, solve=0.009687423706054688, postprocess=None), system=SystemTime(post_problem_and_instance_data=0.8192272186279297, request_queue=0.351177453994751, fetch_problem_and_instance_data=None, fetch_result=2.4272255897521973, deserialize_solution=0.0001010894775390625), total=3.6054487228393555))"
      ]
     },
     "execution_count": 21,
     "metadata": {},
     "output_type": "execute_result"
    }
   ],
   "source": [
    "res.feasible()"
   ]
  },
  {
   "cell_type": "code",
   "execution_count": 22,
   "metadata": {},
   "outputs": [
    {
     "name": "stdout",
     "output_type": "stream",
     "text": [
      "Energy(data=array([0.]), name='energy', children=None)\n",
      "Objective(data=array([1.]), name='objective', children=None)\n",
      "ConstraintViolation(data=array([0.]), name='onehot', children=None)\n"
     ]
    }
   ],
   "source": [
    "b_id = ID(name=\"benchmark_id\")\n",
    "energy = Energy(np.array(res.evaluation.energy))\n",
    "objective = Objective(np.array(res.evaluation.objective))\n",
    "if res.evaluation.constraint_violations is not None:\n",
    "    const_name, const_values  = list(res.evaluation.constraint_violations.items())[0]\n",
    "    constraint_violation = ConstraintViolation(np.array(const_values), const_name)\n",
    "else:\n",
    "    constraint_violation = ConstraintViolation()\n",
    "\n",
    "print(energy)\n",
    "print(objective)\n",
    "print(constraint_violation)"
   ]
  },
  {
   "cell_type": "code",
   "execution_count": 23,
   "metadata": {},
   "outputs": [],
   "source": [
    "record = Record(\n",
    "    name=\"0\",\n",
    "    children=[b_id, energy, objective, constraint_violation]\n",
    ")\n"
   ]
  },
  {
   "cell_type": "code",
   "execution_count": 24,
   "metadata": {},
   "outputs": [
    {
     "data": {
      "text/plain": [
       "{'benchmark_id': '6e313955-bb9e-4b9d-b66b-860a2c14f291',\n",
       " 'energy': array([0.]),\n",
       " 'objective': array([1.]),\n",
       " 'onehot': array([0.])}"
      ]
     },
     "execution_count": 24,
     "metadata": {},
     "output_type": "execute_result"
    }
   ],
   "source": [
    "record.to_dict()"
   ]
  },
  {
   "cell_type": "code",
   "execution_count": 25,
   "metadata": {},
   "outputs": [
    {
     "data": {
      "text/plain": [
       "benchmark_id    6e313955-bb9e-4b9d-b66b-860a2c14f291\n",
       "energy                                         [0.0]\n",
       "objective                                      [1.0]\n",
       "onehot                                         [0.0]\n",
       "dtype: object"
      ]
     },
     "execution_count": 25,
     "metadata": {},
     "output_type": "execute_result"
    }
   ],
   "source": [
    "record.to_series()"
   ]
  },
  {
   "cell_type": "code",
   "execution_count": 45,
   "metadata": {},
   "outputs": [
    {
     "data": {
      "text/html": [
       "<div>\n",
       "<style scoped>\n",
       "    .dataframe tbody tr th:only-of-type {\n",
       "        vertical-align: middle;\n",
       "    }\n",
       "\n",
       "    .dataframe tbody tr th {\n",
       "        vertical-align: top;\n",
       "    }\n",
       "\n",
       "    .dataframe thead th {\n",
       "        text-align: right;\n",
       "    }\n",
       "</style>\n",
       "<table border=\"1\" class=\"dataframe\">\n",
       "  <thead>\n",
       "    <tr style=\"text-align: right;\">\n",
       "      <th></th>\n",
       "      <th>benchmark_id</th>\n",
       "      <th>energy</th>\n",
       "      <th>objective</th>\n",
       "      <th>onehot</th>\n",
       "    </tr>\n",
       "  </thead>\n",
       "  <tbody>\n",
       "    <tr>\n",
       "      <th>0</th>\n",
       "      <td>6e313955-bb9e-4b9d-b66b-860a2c14f291</td>\n",
       "      <td>[0.0]</td>\n",
       "      <td>[1.0]</td>\n",
       "      <td>[0.0]</td>\n",
       "    </tr>\n",
       "  </tbody>\n",
       "</table>\n",
       "</div>"
      ],
      "text/plain": [
       "                           benchmark_id energy objective onehot\n",
       "0  6e313955-bb9e-4b9d-b66b-860a2c14f291  [0.0]     [1.0]  [0.0]"
      ]
     },
     "execution_count": 45,
     "metadata": {},
     "output_type": "execute_result"
    }
   ],
   "source": [
    "table = Table(children=[record])\n",
    "table.to_dataframe()"
   ]
  },
  {
   "cell_type": "code",
   "execution_count": 39,
   "metadata": {},
   "outputs": [],
   "source": [
    "s1 = pd.Series([1, 2, 3], index=[\"a\", \"b\", \"c\"])\n",
    "s2 = pd.Series([1, 2, 3], index=[\"a\", \"b\", \"c\"])"
   ]
  },
  {
   "cell_type": "code",
   "execution_count": 43,
   "metadata": {},
   "outputs": [
    {
     "data": {
      "text/html": [
       "<div>\n",
       "<style scoped>\n",
       "    .dataframe tbody tr th:only-of-type {\n",
       "        vertical-align: middle;\n",
       "    }\n",
       "\n",
       "    .dataframe tbody tr th {\n",
       "        vertical-align: top;\n",
       "    }\n",
       "\n",
       "    .dataframe thead th {\n",
       "        text-align: right;\n",
       "    }\n",
       "</style>\n",
       "<table border=\"1\" class=\"dataframe\">\n",
       "  <thead>\n",
       "    <tr style=\"text-align: right;\">\n",
       "      <th></th>\n",
       "      <th>a</th>\n",
       "      <th>b</th>\n",
       "      <th>c</th>\n",
       "    </tr>\n",
       "  </thead>\n",
       "  <tbody>\n",
       "    <tr>\n",
       "      <th>0</th>\n",
       "      <td>1</td>\n",
       "      <td>2</td>\n",
       "      <td>3</td>\n",
       "    </tr>\n",
       "  </tbody>\n",
       "</table>\n",
       "</div>"
      ],
      "text/plain": [
       "   a  b  c\n",
       "0  1  2  3"
      ]
     },
     "execution_count": 43,
     "metadata": {},
     "output_type": "execute_result"
    }
   ],
   "source": [
    "pd.concat([s1], axis=1).T"
   ]
  },
  {
   "cell_type": "code",
   "execution_count": 41,
   "metadata": {},
   "outputs": [
    {
     "data": {
      "text/plain": [
       "a    1\n",
       "b    2\n",
       "c    3\n",
       "dtype: int64"
      ]
     },
     "execution_count": 41,
     "metadata": {},
     "output_type": "execute_result"
    }
   ],
   "source": []
  }
 ],
 "metadata": {
  "kernelspec": {
   "display_name": "jb",
   "language": "python",
   "name": "python3"
  },
  "language_info": {
   "codemirror_mode": {
    "name": "ipython",
    "version": 3
   },
   "file_extension": ".py",
   "mimetype": "text/x-python",
   "name": "python",
   "nbconvert_exporter": "python",
   "pygments_lexer": "ipython3",
   "version": "3.9.14"
  },
  "orig_nbformat": 4,
  "vscode": {
   "interpreter": {
    "hash": "5eaa3e186cacc9bb332f07e538da540336d7c8bdef1d8d919cfee9dddb691663"
   }
  }
 },
 "nbformat": 4,
 "nbformat_minor": 2
}
