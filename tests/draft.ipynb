{
 "cells": [
  {
   "cell_type": "code",
   "execution_count": 2,
   "metadata": {},
   "outputs": [],
   "source": [
    "from __future__ import annotations\n",
    "from abc import ABCMeta, abstractmethod\n",
    "from dataclasses import dataclass, field\n",
    "\n",
    "import numpy as np\n",
    "import typing as tp\n",
    "\n",
    "\n",
    "@dataclass\n",
    "class DataNode:\n",
    "    data: tp.Any\n",
    "    children: list[DataNode | FunctionNode] = field(default_factory=list)\n",
    "    \n",
    "    \n",
    "class FunctionNode:\n",
    "    children: list[DataNode] = field(default_factory=list)\n"
   ]
  },
  {
   "cell_type": "code",
   "execution_count": 4,
   "metadata": {},
   "outputs": [],
   "source": [
    "import uuid\n",
    "import numpy as np\n",
    "import pandas as pd\n",
    "\n",
    "@dataclass\n",
    "class ID(DataNode):\n",
    "    data: str = str(uuid.uuid4())\n",
    "\n",
    "@dataclass\n",
    "class Array(DataNode):\n",
    "    data: np.ndarray\n",
    "    \n",
    "    def min(self) -> float:\n",
    "        return float(self.data.min())\n",
    "    \n",
    "    def max(self) -> float:\n",
    "        return float(self.data.max())\n",
    "    \n",
    "    def mean(self) -> float:\n",
    "        return float(self.data.mean())\n",
    "    \n",
    "    def std(self) -> float:\n",
    "        return float(self.data.std())\n",
    "    \n",
    "    \n",
    "@dataclass\n",
    "class Energy(Array):\n",
    "    name: str = \"energy\"\n",
    "\n",
    "@dataclass\n",
    "class Objective(Array):\n",
    "    name: str = \"objective\"\n",
    "\n",
    "@dataclass\n",
    "class ConstraintViolation(Array):\n",
    "    name: str = \"constraint_violation\"\n",
    "    \n",
    "\n",
    "class Table(FunctionNode):\n",
    "    data: pd.DataFrame\n",
    "    children: list[Record]\n",
    "\n",
    "class Record(FunctionNode):\n",
    "    children: list[DataNode]\n",
    "    \n",
    "    def to_dict(self):\n",
    "        pass\n",
    "    \n",
    "    def to_series(self):\n",
    "        data = {}\n",
    "\n",
    "class Artifact(FunctionNode):\n",
    "    data: dict\n",
    "    \n"
   ]
  },
  {
   "cell_type": "code",
   "execution_count": 9,
   "metadata": {},
   "outputs": [
    {
     "data": {
      "text/plain": [
       "'Energy'"
      ]
     },
     "execution_count": 9,
     "metadata": {},
     "output_type": "execute_result"
    }
   ],
   "source": []
  },
  {
   "cell_type": "code",
   "execution_count": 11,
   "metadata": {},
   "outputs": [],
   "source": [
    "import jijzept as jz\n",
    "import jijmodeling as jm\n",
    "\n",
    "sampler = jz.JijSASampler(config=\"/home/d/.jijzept/config.toml\")\n",
    "\n",
    "problem = jm.Problem(\"sample\")\n",
    "x = jm.Binary(\"x\", 5)\n",
    "problem += x[:]\n",
    "problem += jm.Constraint(\"onehot\", x[:] == 1)\n",
    "\n",
    "res = sampler.sample_model(problem, {})"
   ]
  },
  {
   "cell_type": "code",
   "execution_count": 12,
   "metadata": {},
   "outputs": [
    {
     "data": {
      "text/plain": [
       "<bound method SampleSet.feasible of JijModelingResponse(record=Record(solution={'x': [(([4],), [1], (5,))]}, num_occurrences=[1]), evaluation=Evaluation(energy=[0.0], objective=[1.0], constraint_violations={'onehot': [0.0]}, penalty={}), measuring_time=MeasuringTime(solve=SolvingTime(preprocess=None, solve=0.012308359146118164, postprocess=None), system=SystemTime(post_problem_and_instance_data=0.8866491317749023, request_queue=0.3785228729248047, fetch_problem_and_instance_data=None, fetch_result=2.327130079269409, deserialize_solution=7.677078247070312e-05), total=3.5964653491973877))>"
      ]
     },
     "execution_count": 12,
     "metadata": {},
     "output_type": "execute_result"
    }
   ],
   "source": []
  },
  {
   "cell_type": "code",
   "execution_count": 67,
   "metadata": {},
   "outputs": [
    {
     "data": {
      "text/plain": [
       "True"
      ]
     },
     "execution_count": 67,
     "metadata": {},
     "output_type": "execute_result"
    }
   ],
   "source": [
    "type(float(np.zeros(10).mean().astype(float))) == float"
   ]
  },
  {
   "cell_type": "code",
   "execution_count": 66,
   "metadata": {},
   "outputs": [
    {
     "data": {
      "text/plain": [
       "True"
      ]
     },
     "execution_count": 66,
     "metadata": {},
     "output_type": "execute_result"
    }
   ],
   "source": [
    "type(np.zeros((10, 10)).mean(axis=0)) == np.ndarray"
   ]
  }
 ],
 "metadata": {
  "kernelspec": {
   "display_name": "Python 3.9.14 ('jb')",
   "language": "python",
   "name": "python3"
  },
  "language_info": {
   "codemirror_mode": {
    "name": "ipython",
    "version": 3
   },
   "file_extension": ".py",
   "mimetype": "text/x-python",
   "name": "python",
   "nbconvert_exporter": "python",
   "pygments_lexer": "ipython3",
   "version": "3.9.14"
  },
  "orig_nbformat": 4,
  "vscode": {
   "interpreter": {
    "hash": "5eaa3e186cacc9bb332f07e538da540336d7c8bdef1d8d919cfee9dddb691663"
   }
  }
 },
 "nbformat": 4,
 "nbformat_minor": 2
}
