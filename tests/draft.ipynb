{
 "cells": [
  {
   "cell_type": "code",
   "execution_count": 7,
   "metadata": {},
   "outputs": [],
   "source": [
    "# from __future__ import annotations\n",
    "# from dataclasses import dataclass, field\n",
    "# \n",
    "# import numpy as np\n",
    "# import pandas as pd\n",
    "# import typing as tp\n",
    "# import jijmodeling as jm\n",
    "# import pathlib\n",
    "# import uuid\n",
    "# \n",
    "# @dataclass\n",
    "# class DataNode:\n",
    "#     data: tp.Any\n",
    "#     name: str | None = None\n",
    "#     operator: FunctionNode | None = None\n",
    "# \n",
    "# \n",
    "# class FunctionNode:\n",
    "#     name: str | None = None\n",
    "# \n",
    "#     def __init__(\n",
    "#         self,\n",
    "#     ) -> None:\n",
    "#         self.inputs = []\n",
    "# \n",
    "#     def apply(self, inputs: list[DataNode], **kwargs: tp.Any) -> DataNode:\n",
    "#         self.inputs += inputs\n",
    "#         return self.operate(inputs, **kwargs)\n",
    "# \n",
    "#     def operate(self, inputs: list[DataNode], **kwargs: tp.Any) -> DataNode:\n",
    "#         raise NotImplementedError\n"
   ]
  },
  {
   "cell_type": "code",
   "execution_count": null,
   "metadata": {},
   "outputs": [],
   "source": [
    "# DEFAULT_RESULT_DIR = \"./.jb_results\"\n",
    "# \n",
    "# \n",
    "# @dataclass\n",
    "# class ID(DataNode):\n",
    "#     data: str | uuid.UUID = field(default_factory=uuid.uuid4)\n",
    "# \n",
    "#     def __post_init__(self):\n",
    "#         self.data = str(self.data)\n",
    "# \n",
    "# \n",
    "# @dataclass\n",
    "# class Date(DataNode):\n",
    "#     data: str | pd.Timestamp = field(default_factory=pd.Timestamp.now)\n",
    "#     name: str = \"timestamp\"\n",
    "# \n",
    "#     def __post_init__(self):\n",
    "#         if isinstance(self.data, str):\n",
    "#             self.data = pd.Timestamp(self.data)\n",
    "# \n",
    "# \n",
    "# class Min(FunctionNode):\n",
    "#     name = \"min\"\n",
    "# \n",
    "#     def operate(self, inputs: list[Array]) -> DataNode:\n",
    "#         data = inputs[0].data.min()\n",
    "#         name = inputs[0].name + f\"_{self.name}\" if inputs[0].name else None\n",
    "#         node = DataNode(data=data, name=name, operator=self)\n",
    "#         return node\n",
    "# \n",
    "# \n",
    "# class Max(FunctionNode):\n",
    "#     name = \"max\"\n",
    "# \n",
    "#     def operate(self, inputs: list[Array]) -> DataNode:\n",
    "#         data = inputs[0].data.max()\n",
    "#         name = inputs[0].name + f\"_{self.name}\" if inputs[0].name else None\n",
    "#         node = DataNode(data=data, name=name, operator=self)\n",
    "#         return node\n",
    "# \n",
    "# \n",
    "# class Mean(FunctionNode):\n",
    "#     name = \"mean\"\n",
    "# \n",
    "#     def operate(self, inputs: list[Array]) -> DataNode:\n",
    "#         data = inputs[0].data.mean()\n",
    "#         name = inputs[0].name + f\"_{self.name}\" if inputs[0].name else None\n",
    "#         node = DataNode(data=data, name=name, operator=self)\n",
    "#         return node\n",
    "# \n",
    "# \n",
    "# class Std(FunctionNode):\n",
    "#     name = \"std\"\n",
    "# \n",
    "#     def operate(self, inputs: list[Array]) -> DataNode:\n",
    "#         data = inputs[0].data.std()\n",
    "#         name = inputs[0].name + f\"_{self.name}\" if inputs[0].name else None\n",
    "#         node = DataNode(data=data, name=name, operator=self)\n",
    "#         return node\n",
    "# \n",
    "# \n",
    "# @dataclass\n",
    "# class Array(DataNode):\n",
    "#     data: np.ndarray\n",
    "# \n",
    "#     def min(self) -> DataNode:\n",
    "#         return Min().apply([self])\n",
    "# \n",
    "#     def max(self) -> DataNode:\n",
    "#         return Max().apply([self])\n",
    "# \n",
    "#     def mean(self) -> DataNode:\n",
    "#         return Mean().apply([self])\n",
    "# \n",
    "#     def std(self) -> DataNode:\n",
    "#         return Std().apply([self])\n",
    "# \n",
    "# \n",
    "# @dataclass\n",
    "# class Energy(Array):\n",
    "#     name: str = \"energy\"\n",
    "# \n",
    "# \n",
    "# @dataclass\n",
    "# class Objective(Array):\n",
    "#     name: str = \"objective\"\n",
    "# \n",
    "# \n",
    "# @dataclass\n",
    "# class ConstraintViolation(Array):\n",
    "#     def __post_init__(self):\n",
    "#         if self.name is None:\n",
    "#             raise NameError(\"Attribute 'name' is None. Please set a name.\")\n",
    "# \n",
    "# \n",
    "# @dataclass\n",
    "# class SampleSet(DataNode):\n",
    "#     data: jm.SampleSet\n",
    "# \n",
    "# \n",
    "# class RecordFactory(FunctionNode):\n",
    "#     name = \"record\"\n",
    "# \n",
    "#     def operate(self, inputs: list[DataNode], name: str | None = None) -> Record:\n",
    "#         data = pd.Series({node.name: node.data for node in inputs})\n",
    "#         return Record(data, name=name, operator=self)\n",
    "# \n",
    "# \n",
    "# class TableFactory(FunctionNode):\n",
    "#     name = \"table\"\n",
    "# \n",
    "#     def operate(self, inputs: list[Record], name: str | None = None) -> Table:\n",
    "#         data = pd.DataFrame({node.name: node.data for node in inputs})\n",
    "#         return Table(data, name=name, operator=self)\n",
    "# \n",
    "# \n",
    "# class ArtifactFactory(FunctionNode):\n",
    "#     name = \"artifact\"\n",
    "# \n",
    "#     def operate(self, inputs: list[Record], name: str | None = None) -> Artifact:\n",
    "#         data = {node.name: node.data.to_dict() for node in inputs}\n",
    "#         return Artifact(data, name=name, operator=self)\n",
    "# \n",
    "# \n",
    "# @dataclass\n",
    "# class Record(DataNode):\n",
    "#     data: pd.Series = field(default_factory=lambda: pd.Series(dtype=\"object\"))\n",
    "# \n",
    "# \n",
    "# @dataclass\n",
    "# class Table(DataNode):\n",
    "#     data: pd.DataFrame = field(default_factory=pd.DataFrame)\n",
    "# \n",
    "#     def append(self, record: Record, axis: tp.Literal[0, 1] = 0) -> Table:\n",
    "#         table = TableFactory().apply([record])\n",
    "#         return Concat().apply([self, table], axis=axis)\n",
    "# \n",
    "# \n",
    "# @dataclass\n",
    "# class Artifact(DataNode):\n",
    "#     data: dict = field(default_factory=dict)\n",
    "# \n",
    "# \n",
    "# class Concat(FunctionNode):\n",
    "#     name = \"concat\"\n",
    "# \n",
    "#     def operate(\n",
    "#         self, inputs: list[Table] | list[Artifact], name=None, axis: tp.Literal[0, 1] = 0\n",
    "#     ) -> Table | Artifact:\n",
    "#         dtype = type(inputs[0])\n",
    "#         if not all([isinstance(node, dtype) for node in inputs]):\n",
    "#             raise TypeError(\n",
    "#                 \"Type of elements of 'inputs' must be unified with either 'Table' or 'Artifact'.\"\n",
    "#             )\n",
    "# \n",
    "#         if isinstance(inputs[0], Artifact):\n",
    "#             data = {node.name: node.data for node in inputs}\n",
    "#             return Artifact(data=data, name=name, operator=self)\n",
    "#         elif isinstance(inputs[0], Table):\n",
    "#             data = pd.concat(\n",
    "#                 [node.data for node in inputs if isinstance(node, Table)], axis=axis\n",
    "#             )\n",
    "#             return Table(data=data, name=name, operator=self)\n",
    "#         else:\n",
    "#             raise TypeError(f\"'{inputs[0].__class__.__name__}' type is not supported.\")\n",
    "# \n",
    "# \n",
    "# @dataclass\n",
    "# class Experiment(DataNode):\n",
    "#     data: tuple = ()\n",
    "# \n",
    "#     def __post_init__(self):\n",
    "#         if not self.data:\n",
    "#             self.data = (Table(), Artifact())"
   ]
  },
  {
   "cell_type": "code",
   "execution_count": null,
   "metadata": {},
   "outputs": [],
   "source": []
  },
  {
   "cell_type": "code",
   "execution_count": null,
   "metadata": {},
   "outputs": [],
   "source": []
  },
  {
   "cell_type": "code",
   "execution_count": null,
   "metadata": {},
   "outputs": [],
   "source": []
  },
  {
   "cell_type": "code",
   "execution_count": null,
   "metadata": {},
   "outputs": [],
   "source": []
  },
  {
   "cell_type": "code",
   "execution_count": null,
   "metadata": {},
   "outputs": [],
   "source": []
  },
  {
   "cell_type": "code",
   "execution_count": null,
   "metadata": {},
   "outputs": [],
   "source": []
  },
  {
   "cell_type": "code",
   "execution_count": null,
   "metadata": {},
   "outputs": [],
   "source": []
  },
  {
   "cell_type": "code",
   "execution_count": null,
   "metadata": {},
   "outputs": [],
   "source": []
  },
  {
   "cell_type": "code",
   "execution_count": null,
   "metadata": {},
   "outputs": [],
   "source": []
  },
  {
   "cell_type": "code",
   "execution_count": null,
   "metadata": {},
   "outputs": [],
   "source": []
  },
  {
   "cell_type": "code",
   "execution_count": null,
   "metadata": {},
   "outputs": [],
   "source": []
  },
  {
   "cell_type": "code",
   "execution_count": null,
   "metadata": {},
   "outputs": [],
   "source": []
  },
  {
   "cell_type": "code",
   "execution_count": null,
   "metadata": {},
   "outputs": [],
   "source": []
  },
  {
   "cell_type": "code",
   "execution_count": null,
   "metadata": {},
   "outputs": [],
   "source": []
  },
  {
   "cell_type": "code",
   "execution_count": null,
   "metadata": {},
   "outputs": [],
   "source": []
  },
  {
   "cell_type": "code",
   "execution_count": 91,
   "metadata": {},
   "outputs": [],
   "source": [
    "from __future__ import annotations\n",
    "from dataclasses import dataclass, field\n",
    "\n",
    "import numpy as np\n",
    "import pandas as pd\n",
    "import typing as tp\n",
    "import jijmodeling as jm\n",
    "import pathlib\n",
    "import uuid\n",
    "\n",
    "T_in = tp.TypeVar(\"T_in\", bound=\"DataNode\", covariant=True)\n",
    "T_out = tp.TypeVar(\"T_out\", bound=\"DataNode\", covariant=True)\n",
    "T_f = tp.TypeVar(\"T_f\", bound=\"FunctionNode\", covariant=True)\n",
    "T_c = tp.TypeVar(\"T_c\", \"Artifact\", \"Table\")\n",
    "\n",
    "@dataclass\n",
    "class DataNode(tp.Generic[T_f]):\n",
    "    data: tp.Any\n",
    "    name: str | None = None\n",
    "    operator: T_f | None = None\n",
    "\n",
    "\n",
    "class FunctionNode(tp.Generic[T_in, T_out]):\n",
    "    name: str | None = None\n",
    "\n",
    "    def __init__(\n",
    "        self,\n",
    "    ) -> None:\n",
    "        self.inputs = []\n",
    "\n",
    "    def apply(self, inputs: list[T_in], **kwargs: tp.Any) -> T_out:\n",
    "        self.inputs += inputs\n",
    "        return self.operate(inputs, **kwargs)\n",
    "\n",
    "    def operate(self, inputs: list[T_in], **kwargs: tp.Any) -> T_out:\n",
    "        raise NotImplementedError\n",
    "\n",
    "\n",
    "DEFAULT_RESULT_DIR = \"./.jb_results\"\n",
    "\n",
    "@dataclass\n",
    "class ID(DataNode):\n",
    "    data: str = field(default_factory=lambda: str(uuid.uuid4()))\n",
    "    \n",
    "    def __post_init__(self):\n",
    "        self.data = str(self.data)\n",
    "    \n",
    "\n",
    "@dataclass\n",
    "class Date(DataNode):\n",
    "    data: str | pd.Timestamp = field(default_factory=pd.Timestamp.now)\n",
    "    name: str = \"timestamp\"\n",
    "    \n",
    "    def __post_init__(self):\n",
    "        if isinstance(self.data, str):\n",
    "            self.data = pd.Timestamp(self.data)\n",
    "\n",
    "\n",
    "class Min(FunctionNode[\"Array\", \"DataNode[Min]\"]):\n",
    "    name = \"min\"\n",
    "    \n",
    "    def operate(self, inputs: list[Array]) -> DataNode[Min]: \n",
    "        data = inputs[0].data.min()\n",
    "        name = inputs[0].name + f\"_{self.name}\" if inputs[0].name else None\n",
    "        node = DataNode(data=data, name=name, operator=self)\n",
    "        return node\n",
    "  \n",
    "class Max(FunctionNode[\"Array\", \"DataNode[Max]\"]):\n",
    "    name = \"max\"\n",
    "    \n",
    "    def operate(self, inputs: list[Array]) -> DataNode[Max]:\n",
    "        data = inputs[0].data.max()\n",
    "        name = inputs[0].name + f\"_{self.name}\" if inputs[0].name else None\n",
    "        node = DataNode(data=data, name=name, operator=self)\n",
    "        return node\n",
    "\n",
    "\n",
    "\n",
    "class Mean(FunctionNode[\"Array\", \"DataNode[Mean]\"]):\n",
    "    name = \"mean\"\n",
    "    \n",
    "    def operate(self, inputs: list[Array]) -> DataNode:\n",
    "        data = inputs[0].data.mean()\n",
    "        name = inputs[0].name + f\"_{self.name}\" if inputs[0].name else None\n",
    "        node = DataNode(data=data, name=name, operator=self)\n",
    "        return node\n",
    "    \n",
    "class Std(FunctionNode[\"Array\", \"DataNode[Std]\"]):\n",
    "    name = \"std\"\n",
    "    \n",
    "    def operate(self, inputs: list[Array]) -> DataNode[Std]:\n",
    "        data = inputs[0].data.std()\n",
    "        name = inputs[0].name + f\"_{self.name}\" if inputs[0].name else None\n",
    "        node = DataNode(data=data, name=name, operator=self)\n",
    "        return node\n",
    "\n",
    "\n",
    "@dataclass\n",
    "class Array(DataNode):\n",
    "    data: np.ndarray\n",
    "    \n",
    "    def min(self) -> DataNode:\n",
    "        return Min().apply([self])\n",
    "    \n",
    "    def max(self) -> DataNode:\n",
    "        return Max().apply([self])\n",
    "    \n",
    "    def mean(self) -> DataNode:\n",
    "        return Mean().apply([self])\n",
    "    \n",
    "    def std(self) -> DataNode:\n",
    "        return Std().apply([self])\n",
    "    \n",
    "    \n",
    "@dataclass\n",
    "class Energy(Array):\n",
    "    name: str = \"energy\"\n",
    "\n",
    "@dataclass\n",
    "class Objective(Array):\n",
    "    name: str = \"objective\"\n",
    "\n",
    "@dataclass\n",
    "class ConstraintViolation(Array):\n",
    "    def __post_init__(self):\n",
    "        if self.name is None:\n",
    "            raise NameError(\"Attribute 'name' is None. Please set a name.\")\n",
    "\n",
    "@dataclass\n",
    "class SampleSet(DataNode):\n",
    "    data: jm.SampleSet\n",
    "\n",
    "\n",
    "class RecordFactory(FunctionNode[\"T_in\", \"Record\"]):\n",
    "    name = \"record\"\n",
    "    \n",
    "    def operate(self, inputs: list[T_in], name: str | None = None) -> Record:\n",
    "        data = pd.Series({node.name: node.data for node in inputs})\n",
    "        return Record(data, name=name, operator=self)\n",
    "    \n",
    "    \n",
    "class TableFactory(FunctionNode[\"Record\", \"Table\"]):\n",
    "    name = \"table\"\n",
    "    \n",
    "    def operate(self, inputs: list[Record], name: str | None = None) -> Table:\n",
    "        data = pd.DataFrame({node.name: node.data for node in inputs})\n",
    "        return Table(data, name=name, operator=self)\n",
    "    \n",
    "class ArtifactFactory(FunctionNode[\"Record\", \"Artifact\"]):\n",
    "    name = \"artifact\"\n",
    "    \n",
    "    def operate(self, inputs: list[Record], name: str | None = None) -> Artifact:\n",
    "        data = {node.name: node.data.to_dict() for node in inputs}\n",
    "        return Artifact(data, name=name, operator=self)\n",
    "    \n",
    "\n",
    "@dataclass\n",
    "class Record(DataNode):\n",
    "    data: pd.Series = field(default_factory=lambda: pd.Series(dtype=\"object\"))\n",
    "\n",
    "\n",
    "@dataclass\n",
    "class Table(DataNode):\n",
    "    data: pd.DataFrame = field(default_factory=pd.DataFrame)\n",
    "    \n",
    "    def append(self, record: Record, axis:tp.Literal[0, 1]=0) -> Table:\n",
    "        table = TableFactory().apply([record], name=self.name)\n",
    "        return Concat().apply([self, table], axis=axis)\n",
    "\n",
    "@dataclass\n",
    "class Artifact(DataNode):\n",
    "    data: dict = field(default_factory=dict)\n",
    "    \n",
    "    def append(self, record: Record) -> Artifact:\n",
    "        artifact = ArtifactFactory().apply([record], name=self.name)\n",
    "        return Concat().apply([self, artifact])\n",
    "    \n",
    "\n",
    "class Concat(FunctionNode[T_c, T_c]):\n",
    "    name = \"concat\"\n",
    "    \n",
    "    def operate(self, inputs: list[T_c], name: str| None = None, axis: tp.Literal[0, 1]=0) -> T_c:\n",
    "        dtype = type(inputs[0])\n",
    "        if not all([isinstance(node, dtype) for node in inputs]):\n",
    "            raise TypeError(\"Type of elements of 'inputs' must be unified with either 'Table' or 'Artifact'.\")\n",
    "        \n",
    "        if isinstance(inputs[0], Artifact):\n",
    "            data = {}\n",
    "            for node in inputs:\n",
    "                if node.name in data:\n",
    "                    data[node.name].update(node.data)\n",
    "                else:\n",
    "                    data[node.name] = node.data\n",
    "            return Artifact(data=data, name=name, operator=self)\n",
    "        elif isinstance(inputs[0], Table):\n",
    "            data = pd.concat([node.data for node in inputs if isinstance(node, Table)], axis=axis)\n",
    "            return Table(data=data, name=name, operator=self)\n",
    "        else:\n",
    "            raise TypeError(f\"'{inputs[0].__class__.__name__}' type is not supported.\")\n",
    "        \n",
    "@dataclass\n",
    "class Experiment(DataNode):\n",
    "    data: tuple = ()\n",
    "    \n",
    "    def __post_init__(self):\n",
    "        if not self.data:\n",
    "            self.data = (Table(), Artifact())    "
   ]
  },
  {
   "cell_type": "code",
   "execution_count": null,
   "metadata": {},
   "outputs": [],
   "source": [
    "\n",
    "\n",
    "\n",
    "\n",
    "\n",
    "\n",
    "\n",
    "    \n",
    "\n",
    "\n",
    "# class Experiment(FunctionNode):\n",
    "#     def __init__(self, name: str | None = None, autosave=True, save_dir: str = DEFAULT_RESULT_DIR) -> None:\n",
    "#         children = [Table(), Artifact()]\n",
    "#         if name is None:\n",
    "#             name = str(ID().data)\n",
    "#         super().__init__(name, children)\n",
    "#         \n",
    "#         self.autosave = autosave\n",
    "#         self.save_dir = pathlib.Path(save_dir)\n",
    "#     \n",
    "#     @property\n",
    "#     def table(self) -> Table:\n",
    "#         children = self._narrow_children_type()\n",
    "#         return children[0]\n",
    "#     \n",
    "#     @property\n",
    "#     def artifact(self) -> Artifact:\n",
    "#         children = self._narrow_children_type()\n",
    "#         return children[1]\n",
    "#     \n",
    "#     def __enter__(self) -> Experiment:\n",
    "#         p = self.save_dir / str(self.name)\n",
    "#         (p / \"table\").mkdir(parents=True)\n",
    "#         (p / \"artifact\").mkdir(parents=True)\n",
    "#         return self\n",
    "#         \n",
    "#     def __exit__(self, exception_type, exception_value, traceback) -> None:\n",
    "#         if self.autosave:\n",
    "#             pass\n",
    "#         \n",
    "#     def append(self, record: Record) -> None:\n",
    "#         self.table.append(record)\n",
    "#         self.artifact.append(record)\n",
    "        "
   ]
  },
  {
   "cell_type": "code",
   "execution_count": null,
   "metadata": {},
   "outputs": [],
   "source": [
    "T1 = tp.TypeVar(\"T1\")\n",
    "T2 = tp.TypeVar(\"T2\", bound=float)\n",
    "\n",
    "class A(tp.Generic[T1, T2]):\n",
    "    def f(self, x: T1) -> T2:\n",
    "        raise NotImplementedError\n",
    "    \n",
    "\n",
    "class B(A[int, float]):\n",
    "    def f(self, x: int) -> float:\n",
    "        return float(x)\n",
    "    \n",
    "b = B()\n",
    "b.f(10)\n"
   ]
  },
  {
   "cell_type": "code",
   "execution_count": 6,
   "metadata": {},
   "outputs": [
    {
     "data": {
      "text/plain": [
       "True"
      ]
     },
     "execution_count": 6,
     "metadata": {},
     "output_type": "execute_result"
    }
   ],
   "source": [
    "array = Array(np.arange(10))\n",
    "isinstance(array, DataNode)"
   ]
  },
  {
   "cell_type": "code",
   "execution_count": null,
   "metadata": {},
   "outputs": [],
   "source": [
    "from torch.utils.data import Dataset"
   ]
  },
  {
   "cell_type": "code",
   "execution_count": 3,
   "metadata": {},
   "outputs": [
    {
     "name": "stdout",
     "output_type": "stream",
     "text": [
      "1dc5a427-386b-4ad8-8f24-08dedbb531df\n",
      "None\n",
      "None\n"
     ]
    }
   ],
   "source": [
    "i = ID()\n",
    "print(i.data)\n",
    "print(i.children)\n",
    "print(i.name)"
   ]
  },
  {
   "cell_type": "code",
   "execution_count": 40,
   "metadata": {},
   "outputs": [
    {
     "data": {
      "text/plain": [
       "(Table(data=   a\n",
       " 0  0\n",
       " 1  1\n",
       " 2  2, name=None, operator=None),\n",
       " Artifact(data={}, name=None, operator=None))"
      ]
     },
     "execution_count": 40,
     "metadata": {},
     "output_type": "execute_result"
    }
   ],
   "source": [
    "e0 = Experiment()\n",
    "e0.data[0].data[\"a\"] = [0, 1, 2]\n",
    "e0.data\n",
    "\n",
    "e0 = Experiment()\n",
    "e0.data"
   ]
  },
  {
   "cell_type": "code",
   "execution_count": 93,
   "metadata": {},
   "outputs": [
    {
     "data": {
      "text/plain": [
       "'int'"
      ]
     },
     "execution_count": 93,
     "metadata": {},
     "output_type": "execute_result"
    }
   ],
   "source": [
    "a = 1\n",
    "a.__class__.__name__"
   ]
  },
  {
   "cell_type": "code",
   "execution_count": 49,
   "metadata": {},
   "outputs": [
    {
     "data": {
      "text/plain": [
       "Series([], dtype: object)"
      ]
     },
     "execution_count": 49,
     "metadata": {},
     "output_type": "execute_result"
    }
   ],
   "source": [
    "pd.Series(dtype=\"object\")"
   ]
  },
  {
   "cell_type": "code",
   "execution_count": 25,
   "metadata": {},
   "outputs": [
    {
     "data": {
      "text/plain": [
       "d0    0\n",
       "d1    1\n",
       "dtype: int64"
      ]
     },
     "execution_count": 25,
     "metadata": {},
     "output_type": "execute_result"
    }
   ],
   "source": [
    "d0 = DataNode(0, name=\"d0\")\n",
    "d1 = DataNode(1, name=\"d1\")\n",
    "d2 = DataNode(2, name=\"d2\")\n",
    "\n",
    "r0 = RecordFactory().operate([d0, d1], name=\"new r0\")\n",
    "r1 = RecordFactory().operate([d0, d2], name=\"new r1\")\n",
    "r0.data"
   ]
  },
  {
   "cell_type": "code",
   "execution_count": 14,
   "metadata": {},
   "outputs": [
    {
     "data": {
      "text/html": [
       "<div>\n",
       "<style scoped>\n",
       "    .dataframe tbody tr th:only-of-type {\n",
       "        vertical-align: middle;\n",
       "    }\n",
       "\n",
       "    .dataframe tbody tr th {\n",
       "        vertical-align: top;\n",
       "    }\n",
       "\n",
       "    .dataframe thead th {\n",
       "        text-align: right;\n",
       "    }\n",
       "</style>\n",
       "<table border=\"1\" class=\"dataframe\">\n",
       "  <thead>\n",
       "    <tr style=\"text-align: right;\">\n",
       "      <th></th>\n",
       "      <th>a</th>\n",
       "      <th>b</th>\n",
       "    </tr>\n",
       "  </thead>\n",
       "  <tbody>\n",
       "    <tr>\n",
       "      <th>d0</th>\n",
       "      <td>0</td>\n",
       "      <td>2</td>\n",
       "    </tr>\n",
       "    <tr>\n",
       "      <th>d1</th>\n",
       "      <td>1</td>\n",
       "      <td>3</td>\n",
       "    </tr>\n",
       "  </tbody>\n",
       "</table>\n",
       "</div>"
      ],
      "text/plain": [
       "    a  b\n",
       "d0  0  2\n",
       "d1  1  3"
      ]
     },
     "execution_count": 14,
     "metadata": {},
     "output_type": "execute_result"
    }
   ],
   "source": [
    "t0 = Table(pd.DataFrame([0, 1], index=[\"d0\", \"d1\"], columns=[\"a\"]))\n",
    "t1 = Table(pd.DataFrame([2, 3], index=[\"d0\", \"d1\"], columns=[\"b\"]))\n",
    "tc = Concat().operate([t0, t1], axis=1)\n",
    "\n",
    "tc.data"
   ]
  },
  {
   "cell_type": "code",
   "execution_count": 15,
   "metadata": {},
   "outputs": [
    {
     "data": {
      "text/html": [
       "<div>\n",
       "<style scoped>\n",
       "    .dataframe tbody tr th:only-of-type {\n",
       "        vertical-align: middle;\n",
       "    }\n",
       "\n",
       "    .dataframe tbody tr th {\n",
       "        vertical-align: top;\n",
       "    }\n",
       "\n",
       "    .dataframe thead th {\n",
       "        text-align: right;\n",
       "    }\n",
       "</style>\n",
       "<table border=\"1\" class=\"dataframe\">\n",
       "  <thead>\n",
       "    <tr style=\"text-align: right;\">\n",
       "      <th></th>\n",
       "      <th>b</th>\n",
       "      <th>new r1</th>\n",
       "    </tr>\n",
       "  </thead>\n",
       "  <tbody>\n",
       "    <tr>\n",
       "      <th>d0</th>\n",
       "      <td>2.0</td>\n",
       "      <td>0.0</td>\n",
       "    </tr>\n",
       "    <tr>\n",
       "      <th>d1</th>\n",
       "      <td>3.0</td>\n",
       "      <td>NaN</td>\n",
       "    </tr>\n",
       "    <tr>\n",
       "      <th>d2</th>\n",
       "      <td>NaN</td>\n",
       "      <td>2.0</td>\n",
       "    </tr>\n",
       "  </tbody>\n",
       "</table>\n",
       "</div>"
      ],
      "text/plain": [
       "      b  new r1\n",
       "d0  2.0     0.0\n",
       "d1  3.0     NaN\n",
       "d2  NaN     2.0"
      ]
     },
     "execution_count": 15,
     "metadata": {},
     "output_type": "execute_result"
    }
   ],
   "source": [
    "t2 = t1.append(r1, axis=1)\n",
    "t2.data\n"
   ]
  },
  {
   "cell_type": "code",
   "execution_count": 61,
   "metadata": {},
   "outputs": [
    {
     "data": {
      "text/plain": [
       "Artifact(data={'new r0': {'d0': 0, 'd1': 1}}, name=None, operator=<__main__.ArtifactFactory object at 0x7fa8d20a4820>)"
      ]
     },
     "execution_count": 61,
     "metadata": {},
     "output_type": "execute_result"
    }
   ],
   "source": [
    "a = ArtifactFactory().apply([r0])\n",
    "a"
   ]
  },
  {
   "cell_type": "code",
   "execution_count": 90,
   "metadata": {},
   "outputs": [
    {
     "data": {
      "text/plain": [
       "{'10b92481-fd1b-4d0e-a47b-9056e15f3f7c': {'a': 0,\n",
       "  'b': 1,\n",
       "  'new r1': {'d0': 0, 'd2': 2}}}"
      ]
     },
     "execution_count": 90,
     "metadata": {},
     "output_type": "execute_result"
    }
   ],
   "source": [
    "a0 = Artifact({\"a\": 0, \"b\": 1}, name=ID().data)\n",
    "a1 = Artifact({\"c\": 0, \"d\": 1}, name=ID().data)\n",
    "\n",
    "a0.append(r1).data"
   ]
  },
  {
   "cell_type": "code",
   "execution_count": 81,
   "metadata": {},
   "outputs": [
    {
     "data": {
      "text/plain": [
       "a    1\n",
       "dtype: int64"
      ]
     },
     "execution_count": 81,
     "metadata": {},
     "output_type": "execute_result"
    }
   ],
   "source": [
    "r = Record()\n",
    "r.data[\"a\"] = 1\n",
    "r.data\n",
    "\n",
    "r1 = Record()\n",
    "r1.data\n",
    "\n",
    "r.data"
   ]
  },
  {
   "cell_type": "code",
   "execution_count": 82,
   "metadata": {},
   "outputs": [],
   "source": [
    "x = {}\n",
    "x1 = {\"a\": 1}\n",
    "# x.update(x1)\n",
    "x.get(\"b\", {}).update(x1)\n",
    "# x = {}.update(x1)"
   ]
  },
  {
   "cell_type": "code",
   "execution_count": 42,
   "metadata": {},
   "outputs": [
    {
     "name": "stdout",
     "output_type": "stream",
     "text": [
      "b\n"
     ]
    }
   ],
   "source": [
    "if ():\n",
    "    print(\"a\")\n",
    "else:\n",
    "    print(\"b\")"
   ]
  },
  {
   "cell_type": "code",
   "execution_count": 239,
   "metadata": {},
   "outputs": [
    {
     "name": "stdout",
     "output_type": "stream",
     "text": [
      "[0 1 2 3 4 5 6 7 8 9]\n",
      "Array(data=array([0, 1, 2, 3, 4, 5, 6, 7, 8, 9]), name=None, operator=<__main__.FunctionNode object at 0x7f1e0b754760>, children=None)\n",
      "DataNode(data=0, name=None, operator=<__main__.Min object at 0x7f1e0b754d90>)\n",
      "DataNode(data=9, name=None, operator=<__main__.FunctionNode object at 0x7f1e0b754610>)\n"
     ]
    }
   ],
   "source": [
    "import numpy as np\n",
    "\n",
    "array = Array(np.arange(10))\n",
    "print(array.data)\n",
    "mi = array.min()\n",
    "if mi.operator is not None:\n",
    "    print(mi.operator.inputs[0])\n",
    "    \n",
    "print(array.min())\n",
    "print(array.max())"
   ]
  },
  {
   "cell_type": "code",
   "execution_count": 29,
   "metadata": {},
   "outputs": [
    {
     "data": {
      "text/html": [
       "<div>\n",
       "<style scoped>\n",
       "    .dataframe tbody tr th:only-of-type {\n",
       "        vertical-align: middle;\n",
       "    }\n",
       "\n",
       "    .dataframe tbody tr th {\n",
       "        vertical-align: top;\n",
       "    }\n",
       "\n",
       "    .dataframe thead th {\n",
       "        text-align: right;\n",
       "    }\n",
       "</style>\n",
       "<table border=\"1\" class=\"dataframe\">\n",
       "  <thead>\n",
       "    <tr style=\"text-align: right;\">\n",
       "      <th></th>\n",
       "      <th>a</th>\n",
       "      <th>b</th>\n",
       "    </tr>\n",
       "  </thead>\n",
       "  <tbody>\n",
       "    <tr>\n",
       "      <th>0</th>\n",
       "      <td>0</td>\n",
       "      <td>2</td>\n",
       "    </tr>\n",
       "    <tr>\n",
       "      <th>1</th>\n",
       "      <td>1</td>\n",
       "      <td>3</td>\n",
       "    </tr>\n",
       "    <tr>\n",
       "      <th>2</th>\n",
       "      <td>2</td>\n",
       "      <td>4</td>\n",
       "    </tr>\n",
       "  </tbody>\n",
       "</table>\n",
       "</div>"
      ],
      "text/plain": [
       "   a  b\n",
       "0  0  2\n",
       "1  1  3\n",
       "2  2  4"
      ]
     },
     "execution_count": 29,
     "metadata": {},
     "output_type": "execute_result"
    }
   ],
   "source": [
    "d0 = DataNode(pd.Series([0, 1, 2]), name=\"a\")\n",
    "d1 = DataNode(pd.Series([2, 3, 4]), name=\"b\")\n",
    "\n",
    "x = {d0.name: d0.data, d1.name: d1.data}\n",
    "pd.DataFrame(x)"
   ]
  },
  {
   "cell_type": "code",
   "execution_count": 189,
   "metadata": {},
   "outputs": [],
   "source": [
    "@dataclass\n",
    "class A:\n",
    "    x: int\n",
    "    \n",
    "    def __post_init__(self):\n",
    "        self.y = None\n",
    "        \n",
    "    def f(self):\n",
    "        self.y += 1\n",
    "        \n",
    "a = A(1)\n",
    "a.y\n",
    "\n",
    "\n"
   ]
  },
  {
   "cell_type": "code",
   "execution_count": 5,
   "metadata": {},
   "outputs": [],
   "source": [
    "import jijzept as jz\n",
    "import jijmodeling as jm\n",
    "\n",
    "sampler = jz.JijSASampler(config=\"/home/d/.jijzept/config.toml\")\n",
    "\n",
    "problem = jm.Problem(\"sample\")\n",
    "x = jm.Binary(\"x\", 5)\n",
    "problem += x[:]\n",
    "problem += jm.Constraint(\"onehot\", x[:] == 1)\n",
    "\n",
    "res = sampler.sample_model(problem, {})"
   ]
  },
  {
   "cell_type": "code",
   "execution_count": 49,
   "metadata": {},
   "outputs": [
    {
     "data": {
      "text/plain": [
       "SampleSet(record=Record(solution={'x': [(([1],), [1], (5,))]}, num_occurrences=[1]), evaluation=Evaluation(energy=[0.0], objective=[1.0], constraint_violations={'onehot': [0.0]}, penalty={}), measuring_time=MeasuringTime(solve=SolvingTime(preprocess=None, solve=0.009699344635009766, postprocess=None), system=SystemTime(post_problem_and_instance_data=0.8710920810699463, request_queue=0.4920237064361572, fetch_problem_and_instance_data=None, fetch_result=2.3001277446746826, deserialize_solution=7.462501525878906e-05), total=3.6673190593719482))"
      ]
     },
     "execution_count": 49,
     "metadata": {},
     "output_type": "execute_result"
    }
   ],
   "source": [
    "res.feasible()"
   ]
  },
  {
   "cell_type": "code",
   "execution_count": 6,
   "metadata": {},
   "outputs": [
    {
     "name": "stdout",
     "output_type": "stream",
     "text": [
      "Energy(data=array([0.]), name='energy', children=None)\n",
      "Objective(data=array([0.]), name='objective', children=None)\n",
      "ConstraintViolation(data=array([1.]), name='onehot', children=None)\n"
     ]
    }
   ],
   "source": [
    "id0 = ID(name=\"benchmark_id\")\n",
    "energy = Energy(np.array(res.evaluation.energy))\n",
    "objective = Objective(np.array(res.evaluation.objective))\n",
    "if res.evaluation.constraint_violations is not None:\n",
    "    const_name, const_values  = list(res.evaluation.constraint_violations.items())[0]\n",
    "    constraint_violation = ConstraintViolation(np.array(const_values), const_name)\n",
    "else:\n",
    "    constraint_violation = ConstraintViolation()\n",
    "\n",
    "print(energy)\n",
    "print(objective)\n",
    "print(constraint_violation)"
   ]
  },
  {
   "cell_type": "code",
   "execution_count": 7,
   "metadata": {},
   "outputs": [
    {
     "data": {
      "text/plain": [
       "{'benchmark_id': 'ebe7ecf4-c3f4-4818-98c8-e1541f089f77',\n",
       " 'energy': array([0.]),\n",
       " 'objective': array([0.]),\n",
       " 'onehot': array([1.])}"
      ]
     },
     "execution_count": 7,
     "metadata": {},
     "output_type": "execute_result"
    }
   ],
   "source": [
    "record = Record(\n",
    "    name=id0.data,\n",
    "    children=[id0, energy, objective, constraint_violation]\n",
    ")\n",
    "record.to_dict()"
   ]
  },
  {
   "cell_type": "code",
   "execution_count": 9,
   "metadata": {},
   "outputs": [
    {
     "data": {
      "text/plain": [
       "benchmark_id    ebe7ecf4-c3f4-4818-98c8-e1541f089f77\n",
       "energy                                         [0.0]\n",
       "objective                                      [0.0]\n",
       "onehot                                         [1.0]\n",
       "dtype: object"
      ]
     },
     "execution_count": 9,
     "metadata": {},
     "output_type": "execute_result"
    }
   ],
   "source": [
    "record.to_series()"
   ]
  },
  {
   "cell_type": "code",
   "execution_count": 8,
   "metadata": {},
   "outputs": [
    {
     "data": {
      "text/html": [
       "<div>\n",
       "<style scoped>\n",
       "    .dataframe tbody tr th:only-of-type {\n",
       "        vertical-align: middle;\n",
       "    }\n",
       "\n",
       "    .dataframe tbody tr th {\n",
       "        vertical-align: top;\n",
       "    }\n",
       "\n",
       "    .dataframe thead th {\n",
       "        text-align: right;\n",
       "    }\n",
       "</style>\n",
       "<table border=\"1\" class=\"dataframe\">\n",
       "  <thead>\n",
       "    <tr style=\"text-align: right;\">\n",
       "      <th></th>\n",
       "      <th>benchmark_id</th>\n",
       "      <th>energy</th>\n",
       "      <th>objective</th>\n",
       "      <th>onehot</th>\n",
       "    </tr>\n",
       "  </thead>\n",
       "  <tbody>\n",
       "    <tr>\n",
       "      <th>0</th>\n",
       "      <td>ebe7ecf4-c3f4-4818-98c8-e1541f089f77</td>\n",
       "      <td>[0.0]</td>\n",
       "      <td>[0.0]</td>\n",
       "      <td>[1.0]</td>\n",
       "    </tr>\n",
       "  </tbody>\n",
       "</table>\n",
       "</div>"
      ],
      "text/plain": [
       "                           benchmark_id energy objective onehot\n",
       "0  ebe7ecf4-c3f4-4818-98c8-e1541f089f77  [0.0]     [0.0]  [1.0]"
      ]
     },
     "execution_count": 8,
     "metadata": {},
     "output_type": "execute_result"
    }
   ],
   "source": [
    "table = Table(children=[record])\n",
    "table.to_dataframe()"
   ]
  },
  {
   "cell_type": "code",
   "execution_count": 10,
   "metadata": {},
   "outputs": [
    {
     "data": {
      "text/html": [
       "<div>\n",
       "<style scoped>\n",
       "    .dataframe tbody tr th:only-of-type {\n",
       "        vertical-align: middle;\n",
       "    }\n",
       "\n",
       "    .dataframe tbody tr th {\n",
       "        vertical-align: top;\n",
       "    }\n",
       "\n",
       "    .dataframe thead th {\n",
       "        text-align: right;\n",
       "    }\n",
       "</style>\n",
       "<table border=\"1\" class=\"dataframe\">\n",
       "  <thead>\n",
       "    <tr style=\"text-align: right;\">\n",
       "      <th></th>\n",
       "      <th>benchmark_id</th>\n",
       "      <th>energy</th>\n",
       "      <th>objective</th>\n",
       "      <th>onehot</th>\n",
       "    </tr>\n",
       "  </thead>\n",
       "  <tbody>\n",
       "    <tr>\n",
       "      <th>0</th>\n",
       "      <td>db27355a-04ef-4e53-81df-719d6fe7fc52</td>\n",
       "      <td>[0.0]</td>\n",
       "      <td>[0.0]</td>\n",
       "      <td>[1.0]</td>\n",
       "    </tr>\n",
       "    <tr>\n",
       "      <th>1</th>\n",
       "      <td>db27355a-04ef-4e53-81df-719d6fe7fc52</td>\n",
       "      <td>[0.0]</td>\n",
       "      <td>[0.0]</td>\n",
       "      <td>[1.0]</td>\n",
       "    </tr>\n",
       "  </tbody>\n",
       "</table>\n",
       "</div>"
      ],
      "text/plain": [
       "                           benchmark_id energy objective onehot\n",
       "0  db27355a-04ef-4e53-81df-719d6fe7fc52  [0.0]     [0.0]  [1.0]\n",
       "1  db27355a-04ef-4e53-81df-719d6fe7fc52  [0.0]     [0.0]  [1.0]"
      ]
     },
     "execution_count": 10,
     "metadata": {},
     "output_type": "execute_result"
    }
   ],
   "source": [
    "table.append(record)\n",
    "table.to_dataframe()"
   ]
  },
  {
   "cell_type": "code",
   "execution_count": 10,
   "metadata": {},
   "outputs": [
    {
     "data": {
      "text/plain": [
       "{'ebe7ecf4-c3f4-4818-98c8-e1541f089f77': {'benchmark_id': 'ebe7ecf4-c3f4-4818-98c8-e1541f089f77',\n",
       "  'energy': array([0.]),\n",
       "  'objective': array([0.]),\n",
       "  'onehot': array([1.])}}"
      ]
     },
     "execution_count": 10,
     "metadata": {},
     "output_type": "execute_result"
    }
   ],
   "source": [
    "artifact = Artifact(children=[record])\n",
    "artifact.to_dict()"
   ]
  },
  {
   "cell_type": "code",
   "execution_count": 11,
   "metadata": {},
   "outputs": [
    {
     "data": {
      "text/plain": [
       "{'ebe7ecf4-c3f4-4818-98c8-e1541f089f77': {'benchmark_id': 'ebe7ecf4-c3f4-4818-98c8-e1541f089f77',\n",
       "  'energy': array([0.]),\n",
       "  'objective': array([0.]),\n",
       "  'onehot': array([1.])},\n",
       " '2198eae5-1c80-476c-9d7d-53b7f7d1cfb8': {'benchmark_id': '2198eae5-1c80-476c-9d7d-53b7f7d1cfb8',\n",
       "  'energy': array([0.]),\n",
       "  'objective': array([0.]),\n",
       "  'onehot': array([1.])}}"
      ]
     },
     "execution_count": 11,
     "metadata": {},
     "output_type": "execute_result"
    }
   ],
   "source": [
    "id1 = ID(name=\"benchmark_id\")\n",
    "record2 = Record(\n",
    "    name=id1.data,\n",
    "    children=[id1, energy, objective, constraint_violation]\n",
    ")\n",
    "artifact.append(record2)\n",
    "artifact.to_dict()"
   ]
  },
  {
   "cell_type": "code",
   "execution_count": 12,
   "metadata": {},
   "outputs": [
    {
     "name": "stdout",
     "output_type": "stream",
     "text": [
      "ID(data='ebe7ecf4-c3f4-4818-98c8-e1541f089f77', name='benchmark_id', children=None)\n",
      "ID(data='2198eae5-1c80-476c-9d7d-53b7f7d1cfb8', name='benchmark_id', children=None)\n"
     ]
    }
   ],
   "source": [
    "print(id0)\n",
    "print(id1)"
   ]
  },
  {
   "cell_type": "code",
   "execution_count": 100,
   "metadata": {},
   "outputs": [],
   "source": [
    "experiment = Experiment()"
   ]
  },
  {
   "cell_type": "code",
   "execution_count": 101,
   "metadata": {},
   "outputs": [],
   "source": [
    "experiment.append(record)\n",
    "experiment.append(record2)\n"
   ]
  },
  {
   "cell_type": "code",
   "execution_count": 102,
   "metadata": {},
   "outputs": [
    {
     "data": {
      "text/html": [
       "<div>\n",
       "<style scoped>\n",
       "    .dataframe tbody tr th:only-of-type {\n",
       "        vertical-align: middle;\n",
       "    }\n",
       "\n",
       "    .dataframe tbody tr th {\n",
       "        vertical-align: top;\n",
       "    }\n",
       "\n",
       "    .dataframe thead th {\n",
       "        text-align: right;\n",
       "    }\n",
       "</style>\n",
       "<table border=\"1\" class=\"dataframe\">\n",
       "  <thead>\n",
       "    <tr style=\"text-align: right;\">\n",
       "      <th></th>\n",
       "      <th>benchmark_id</th>\n",
       "      <th>energy</th>\n",
       "      <th>objective</th>\n",
       "      <th>onehot</th>\n",
       "      <th>timestamp</th>\n",
       "    </tr>\n",
       "  </thead>\n",
       "  <tbody>\n",
       "    <tr>\n",
       "      <th>0</th>\n",
       "      <td>ebe7ecf4-c3f4-4818-98c8-e1541f089f77</td>\n",
       "      <td>[0.0]</td>\n",
       "      <td>[0.0]</td>\n",
       "      <td>[1.0]</td>\n",
       "      <td>2023-01-10 08:21:21.162533</td>\n",
       "    </tr>\n",
       "    <tr>\n",
       "      <th>1</th>\n",
       "      <td>2198eae5-1c80-476c-9d7d-53b7f7d1cfb8</td>\n",
       "      <td>[0.0]</td>\n",
       "      <td>[0.0]</td>\n",
       "      <td>[1.0]</td>\n",
       "      <td>2023-01-10 08:21:21.162621</td>\n",
       "    </tr>\n",
       "  </tbody>\n",
       "</table>\n",
       "</div>"
      ],
      "text/plain": [
       "                           benchmark_id energy objective onehot  \\\n",
       "0  ebe7ecf4-c3f4-4818-98c8-e1541f089f77  [0.0]     [0.0]  [1.0]   \n",
       "1  2198eae5-1c80-476c-9d7d-53b7f7d1cfb8  [0.0]     [0.0]  [1.0]   \n",
       "\n",
       "                   timestamp  \n",
       "0 2023-01-10 08:21:21.162533  \n",
       "1 2023-01-10 08:21:21.162621  "
      ]
     },
     "execution_count": 102,
     "metadata": {},
     "output_type": "execute_result"
    }
   ],
   "source": [
    "df = experiment.table.to_dataframe()\n",
    "df"
   ]
  },
  {
   "cell_type": "code",
   "execution_count": 81,
   "metadata": {},
   "outputs": [],
   "source": [
    "experiment.table.children"
   ]
  },
  {
   "cell_type": "code",
   "execution_count": 59,
   "metadata": {},
   "outputs": [
    {
     "data": {
      "text/plain": [
       "Date(data=Timestamp('2023-01-10 07:38:21.498293'), name='timestamp', children=None)"
      ]
     },
     "execution_count": 59,
     "metadata": {},
     "output_type": "execute_result"
    }
   ],
   "source": [
    "Date()"
   ]
  },
  {
   "cell_type": "code",
   "execution_count": 73,
   "metadata": {},
   "outputs": [
    {
     "data": {
      "text/plain": [
       "ID(data='870be0e2-d49f-409d-abbe-aea4b54a95ce', name=None, children=None)"
      ]
     },
     "execution_count": 73,
     "metadata": {},
     "output_type": "execute_result"
    }
   ],
   "source": [
    "ID()"
   ]
  },
  {
   "cell_type": "code",
   "execution_count": 25,
   "metadata": {},
   "outputs": [
    {
     "data": {
      "text/plain": [
       "[]"
      ]
     },
     "execution_count": 25,
     "metadata": {},
     "output_type": "execute_result"
    }
   ],
   "source": [
    "experiment.table.children"
   ]
  },
  {
   "cell_type": "code",
   "execution_count": 19,
   "metadata": {},
   "outputs": [
    {
     "data": {
      "text/plain": [
       "'5ba2df6b-d1ca-471e-825f-b29eb053f986'"
      ]
     },
     "execution_count": 19,
     "metadata": {},
     "output_type": "execute_result"
    }
   ],
   "source": [
    "ID().data"
   ]
  },
  {
   "cell_type": "code",
   "execution_count": 23,
   "metadata": {},
   "outputs": [],
   "source": [
    "p = pathlib.Path(\"./a\")\n",
    "(p / \"b\").mkdir(parents=True)"
   ]
  },
  {
   "cell_type": "code",
   "execution_count": 25,
   "metadata": {},
   "outputs": [
    {
     "data": {
      "text/plain": [
       "Timestamp('2022-01-01 00:00:00')"
      ]
     },
     "execution_count": 25,
     "metadata": {},
     "output_type": "execute_result"
    }
   ],
   "source": [
    "pd.Timestamp(\"2022-01-01\")"
   ]
  },
  {
   "cell_type": "code",
   "execution_count": 107,
   "metadata": {},
   "outputs": [
    {
     "data": {
      "text/plain": [
       "0.0"
      ]
     },
     "execution_count": 107,
     "metadata": {},
     "output_type": "execute_result"
    }
   ],
   "source": [
    "class ArrayVisitor:\n",
    "    def min(self, array: Array):\n",
    "        return float(array.data.min())\n",
    "    \n",
    "\n",
    "array = Array(np.arange(10))\n",
    "array.accept_min(ArrayVisitor())\n"
   ]
  },
  {
   "cell_type": "code",
   "execution_count": 204,
   "metadata": {},
   "outputs": [
    {
     "name": "stdout",
     "output_type": "stream",
     "text": [
      "variable(12.)\n",
      "<chainer.variable.VariableNode object at 0x7f1e0b8f50d0>\n",
      "=======\n",
      "(<chainer.variable.VariableNode object at 0x7f1e0b8f5070>, <chainer.variable.VariableNode object at 0x7f1e28e34340>)\n",
      "None\n",
      "None\n",
      "None\n",
      "y\n",
      "@@@@@@@@@@\n",
      "10.0\n",
      "a\n",
      "1.0\n",
      "x\n",
      "None\n",
      "y\n",
      "++++++++++\n",
      "None\n",
      "None\n",
      "\n"
     ]
    },
    {
     "data": {
      "text/plain": [
       "<bound method Variable.mean of variable(12.)>"
      ]
     },
     "execution_count": 204,
     "metadata": {},
     "output_type": "execute_result"
    }
   ],
   "source": [
    "from chainer.variable import Variable, VariableNode\n",
    "from chainer.function_node import FunctionNode\n",
    "from chainer.function import FunctionAdapter\n",
    "\n",
    "a = Variable(np.array(10.0), name=\"a\")\n",
    "x = Variable(np.array(1.0), name=\"x\")\n",
    "y = Variable(np.array(2.0), name=\"y\")\n",
    "z = a * x + y\n",
    "\n",
    "z.backward(retain_grad=True)\n",
    "\n",
    "print(z)\n",
    "print(z.node)\n",
    "print(\"=======\")\n",
    "print(z.node.creator.inputs)\n",
    "print(z.node.creator.inputs[0].data)\n",
    "print(z.node.creator.inputs[0].name)\n",
    "print(z.node.creator.inputs[1].data)\n",
    "print(z.node.creator.inputs[1].name)\n",
    "print(\"@@@@@@@@@@\")\n",
    "print(z.node.creator.inputs[0].creator.inputs[0].data)\n",
    "print(z.node.creator.inputs[0].creator.inputs[0].name)\n",
    "print(z.node.creator.inputs[0].creator.inputs[1].data)\n",
    "print(z.node.creator.inputs[0].creator.inputs[1].name)\n",
    "print(z.node.creator.inputs[1].data)\n",
    "print(z.node.creator.inputs[1].name)\n",
    "print(\"++++++++++\")\n",
    "print(z.node.creator.inputs[0].creator.inputs[0].creator)\n",
    "print(z.node.creator.inputs[0].creator.inputs[1].creator)\n",
    "print()\n",
    "\n"
   ]
  },
  {
   "cell_type": "code",
   "execution_count": null,
   "metadata": {},
   "outputs": [],
   "source": [
    "from chainer.functions import add"
   ]
  },
  {
   "cell_type": "code",
   "execution_count": 39,
   "metadata": {},
   "outputs": [],
   "source": [
    "s1 = pd.Series([1, 2, 3], index=[\"a\", \"b\", \"c\"])\n",
    "s2 = pd.Series([1, 2, 3], index=[\"a\", \"b\", \"c\"])"
   ]
  },
  {
   "cell_type": "code",
   "execution_count": 43,
   "metadata": {},
   "outputs": [
    {
     "data": {
      "text/html": [
       "<div>\n",
       "<style scoped>\n",
       "    .dataframe tbody tr th:only-of-type {\n",
       "        vertical-align: middle;\n",
       "    }\n",
       "\n",
       "    .dataframe tbody tr th {\n",
       "        vertical-align: top;\n",
       "    }\n",
       "\n",
       "    .dataframe thead th {\n",
       "        text-align: right;\n",
       "    }\n",
       "</style>\n",
       "<table border=\"1\" class=\"dataframe\">\n",
       "  <thead>\n",
       "    <tr style=\"text-align: right;\">\n",
       "      <th></th>\n",
       "      <th>a</th>\n",
       "      <th>b</th>\n",
       "      <th>c</th>\n",
       "    </tr>\n",
       "  </thead>\n",
       "  <tbody>\n",
       "    <tr>\n",
       "      <th>0</th>\n",
       "      <td>1</td>\n",
       "      <td>2</td>\n",
       "      <td>3</td>\n",
       "    </tr>\n",
       "  </tbody>\n",
       "</table>\n",
       "</div>"
      ],
      "text/plain": [
       "   a  b  c\n",
       "0  1  2  3"
      ]
     },
     "execution_count": 43,
     "metadata": {},
     "output_type": "execute_result"
    }
   ],
   "source": [
    "pd.concat([s1], axis=1).T"
   ]
  },
  {
   "cell_type": "code",
   "execution_count": 63,
   "metadata": {},
   "outputs": [
    {
     "ename": "ModuleNotFoundError",
     "evalue": "No module named 'jijbench'",
     "output_type": "error",
     "traceback": [
      "\u001b[0;31m---------------------------------------------------------------------------\u001b[0m",
      "\u001b[0;31mModuleNotFoundError\u001b[0m                       Traceback (most recent call last)",
      "Cell \u001b[0;32mIn[63], line 1\u001b[0m\n\u001b[0;32m----> 1\u001b[0m \u001b[39mimport\u001b[39;00m \u001b[39mjijbench\u001b[39;00m\n",
      "\u001b[0;31mModuleNotFoundError\u001b[0m: No module named 'jijbench'"
     ]
    }
   ],
   "source": []
  },
  {
   "cell_type": "code",
   "execution_count": null,
   "metadata": {},
   "outputs": [],
   "source": []
  },
  {
   "cell_type": "code",
   "execution_count": null,
   "metadata": {},
   "outputs": [],
   "source": []
  },
  {
   "cell_type": "code",
   "execution_count": null,
   "metadata": {},
   "outputs": [],
   "source": []
  },
  {
   "cell_type": "code",
   "execution_count": null,
   "metadata": {},
   "outputs": [],
   "source": []
  },
  {
   "cell_type": "code",
   "execution_count": null,
   "metadata": {},
   "outputs": [],
   "source": []
  },
  {
   "cell_type": "code",
   "execution_count": null,
   "metadata": {},
   "outputs": [],
   "source": [
    "# Tn = tp.TypeVar(\"Tn\")\n",
    "\n",
    "# class FunctionNode(tp.Generic[Tn]):\n",
    "#     def __init__(\n",
    "#         self, \n",
    "#         name: str | None = None, \n",
    "#         children: list[Tn] | None = None\n",
    "#     ) -> None:\n",
    "#         self._name = name``\n",
    "#         self._children = children\n",
    "#         \n",
    "#     @property\n",
    "#     def name(self) -> str | None:\n",
    "#         return self._name\n",
    "#     \n",
    "#     @property\n",
    "#     def children(self) -> list[Tn] | None:\n",
    "#         return self._children\n",
    "#     \n",
    "#     def _narrow_children_type(self) -> list[Tn]:\n",
    "#         if self.children is None:\n",
    "#             raise ValueError(\n",
    "#                 \"Value of attribute 'children' is None, which means this node has no children. Therefore, it cannot operate node futher more.\"\n",
    "#             )\n",
    "#         return self.children\n",
    "#     \n",
    "#     def append(self, node: Tn) -> None:\n",
    "#         children = self._narrow_children_type()\n",
    "#         children.append(node)\n",
    "#     \n",
    "    \n",
    "            \n",
    "# Tn = tp.TypeVar(\"Tn\", bound=\"BaseNode\")\n",
    "# \n",
    "# class BaseNode(tp.Generic[Tn]):\n",
    "#     pass\n",
    "# \n",
    "# @dataclass\n",
    "# class DataNode(BaseNode[Tn]):\n",
    "#     data: tp.Any = None\n",
    "#     name: str | None = None\n",
    "#     children: list[Tn] | None = None\n",
    "#     \n",
    "#     \n",
    "# class FunctionNode(BaseNode[Tn]):\n",
    "#     def __init__(\n",
    "#         self, \n",
    "#         name: str | None = None, \n",
    "#         children: list[Tn] | None = None\n",
    "#     ) -> None:\n",
    "#         self.name = name\n",
    "#         if children is None:\n",
    "#             self.children = []\n",
    "#         else:\n",
    "#             self.children = children\n",
    "# "
   ]
  }
 ],
 "metadata": {
  "kernelspec": {
   "display_name": "jb",
   "language": "python",
   "name": "python3"
  },
  "language_info": {
   "codemirror_mode": {
    "name": "ipython",
    "version": 3
   },
   "file_extension": ".py",
   "mimetype": "text/x-python",
   "name": "python",
   "nbconvert_exporter": "python",
   "pygments_lexer": "ipython3",
   "version": "3.9.14"
  },
  "orig_nbformat": 4,
  "vscode": {
   "interpreter": {
    "hash": "5eaa3e186cacc9bb332f07e538da540336d7c8bdef1d8d919cfee9dddb691663"
   }
  }
 },
 "nbformat": 4,
 "nbformat_minor": 2
}
