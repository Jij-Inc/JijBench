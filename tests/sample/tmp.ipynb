{
 "cells": [
  {
   "cell_type": "code",
   "execution_count": 3,
   "metadata": {},
   "outputs": [],
   "source": [
    "import jijmodeling as jm"
   ]
  },
  {
   "cell_type": "code",
   "execution_count": 5,
   "metadata": {},
   "outputs": [
    {
     "data": {
      "text/latex": [
       "$2 \\cdot \\left( a \\cdot x + b \\right)$"
      ],
      "text/plain": [
       "2*a*x+b"
      ]
     },
     "execution_count": 5,
     "metadata": {},
     "output_type": "execute_result"
    }
   ],
   "source": [
    "problem_simple = jm.Problem(\"simple\")\n",
    "\n",
    "a = jm.Placeholder(\"a\")\n",
    "b = jm.Placeholder(\"b\")\n",
    "x = jm.Binary(\"x\")\n",
    "\n",
    "problem_simple += 2 * (a * x + b)\n",
    "problem_simple.objective"
   ]
  },
  {
   "cell_type": "code",
   "execution_count": 43,
   "metadata": {},
   "outputs": [
    {
     "data": {
      "text/latex": [
       "$\\sum_{ i = 0 }^{ n - 1 } a_{i} \\cdot x_{i}$"
      ],
      "text/plain": [
       "Sum_{i=0}^{n}(a[i]*x[i])"
      ]
     },
     "execution_count": 43,
     "metadata": {},
     "output_type": "execute_result"
    }
   ],
   "source": [
    "problem_sum = jm.Problem(\"sum\")\n",
    "\n",
    "a = jm.Placeholder(\"a\", 1)\n",
    "n = jm.Placeholder(\"n\")\n",
    "i = jm.Element(\"i\", n)\n",
    "x = jm.Binary(\"x\", n)\n",
    "\n",
    "problem_sum += jm.Sum(i, a[i] * x[i])\n",
    "problem_sum.objective"
   ]
  },
  {
   "cell_type": "code",
   "execution_count": 57,
   "metadata": {},
   "outputs": [
    {
     "data": {
      "text/latex": [
       "$$\\begin{alignat*}{4}\\text{Problem} & \\text{: log} \\\\\\min & \\quad \\log_2 \\left( a \\right) \\\\&\\end{alignat*}$$"
      ],
      "text/plain": [
       "<jijmodeling.problem.problem.Problem at 0x7fde4d15bc70>"
      ]
     },
     "execution_count": 57,
     "metadata": {},
     "output_type": "execute_result"
    }
   ],
   "source": [
    "problem_log = jm.Problem(\"log\")\n",
    "\n",
    "a = jm.Placeholder(\"a\")\n",
    "problem_log += jm.log2(a)"
   ]
  },
  {
   "cell_type": "code",
   "execution_count": 7,
   "metadata": {},
   "outputs": [
    {
     "data": {
      "text/latex": [
       "$$\\begin{alignat*}{4}\\text{Problem} & \\text{: travelling\\_salesman} \\\\\\min & \\quad \\sum_{ t = 0 }^{ N - 1 } \\sum_{ i = 0 }^{ N - 1 } \\sum_{ j = 0 }^{ N - 1 } dist_{i,j} \\cdot x_{t,i} \\cdot x_{\\left( t + 1 \\right) \\mod N,j} \\\\\\text{s.t.} & \\\\& \\text{onehot\\_time} :\\\\ &\\quad \\quad \\sum_{ \\bar{i}_{1} = 0 }^{ N - 1 } x_{t,\\bar{i}_{1}} = 1,\\ \\forall t \\in \\left\\{ 0 ,\\ldots , N - 1 \\right\\} \\\\[8pt]& \\text{onehot\\_location} :\\\\ &\\quad \\quad \\sum_{ \\bar{i}_{0} = 0 }^{ N - 1 } x_{\\bar{i}_{0},i} = 1,\\ \\forall i \\in \\left\\{ 0 ,\\ldots , N - 1 \\right\\} \\\\[8pt]& x_{i_{0},i_{1}} \\in \\{0, 1\\}\\end{alignat*}$$"
      ],
      "text/plain": [
       "<jijmodeling.problem.problem.Problem at 0x7f177397a0d0>"
      ]
     },
     "execution_count": 7,
     "metadata": {},
     "output_type": "execute_result"
    }
   ],
   "source": [
    "import sys\n",
    "\n",
    "sys.path.append(\"../\")\n",
    "\n",
    "import jijbench as jb\n",
    "\n",
    "problem_tsp = jb.get_problem(\"TSP\")\n",
    "problem_tsp"
   ]
  },
  {
   "cell_type": "code",
   "execution_count": 150,
   "metadata": {},
   "outputs": [],
   "source": [
    "from __future__ import annotations\n",
    "\n",
    "import jijmodeling as jm\n",
    "import networkx as nx\n",
    "import numpy as np\n",
    "import matplotlib\n",
    "\n",
    "from typing import Tuple, Optional\n",
    "\n",
    "\n",
    "class Graph:\n",
    "    space=1\n",
    "\n",
    "    def __init__(self, expression: jm.Expression):\n",
    "        self.expression = expression\n",
    "        self._data = nx.DiGraph()\n",
    "\n",
    "    def make(self, node: Optional[Node] = None):\n",
    "        if node is None:\n",
    "            node = Node(self.expression)\n",
    "\n",
    "        if isinstance(node.expression, jm.Number):\n",
    "            # self._data.add_node(node)\n",
    "            pass\n",
    "        elif isinstance(node.expression, jm.Variable):\n",
    "            # self._data.add_node(node)\n",
    "            pass\n",
    "        elif isinstance(node.expression, jm.Subscripts):\n",
    "            x_org, y_org = node.pos\n",
    "            n_nodes = len(node.expression.subscripts) + 1\n",
    "            delta = np.random.uniform(0, self.space / 2)\n",
    "            wspace = self.space - delta\n",
    "            x = np.linspace(-wspace / n_nodes, wspace / n_nodes, n_nodes)\n",
    "            y = self.space - delta\n",
    "            var_pos = (x_org + x[0], y_org + y)\n",
    "            subs_pos = [(x_org + xi, y_org + y) for xi in x[1:]]\n",
    "            var = Node(node.expression.variable, var_pos)\n",
    "            subs = [Node(sub, pos)  for sub, pos in zip(node.expression.subscripts, subs_pos)]\n",
    "            edges = [(var, node)] + [(sub, node) for sub in subs]\n",
    "            self._data.add_edges_from(edges)\n",
    "\n",
    "            self.make(var)\n",
    "            for sub in subs:\n",
    "                self.make(sub)\n",
    "        elif isinstance(node.expression, jm.UnaryOperator):\n",
    "            pos = (node.pos[0], node.pos[1] + self.space)\n",
    "            operand = Node(node.expression.operand, pos)\n",
    "            self._data.add_edge(operand, node)\n",
    "            self.make(operand)\n",
    "        elif isinstance(node.expression, jm.BinaryOperator):\n",
    "            x_org, y_org = node.pos\n",
    "            x = np.linspace(-self.space / 2, self.space / 2,  2)\n",
    "            y = self.space / 2\n",
    "            lpos = (x_org + x[0], y_org + y)\n",
    "            rpos = (x_org + x[1], y_org + y)\n",
    "            left = Node(node.expression.left, lpos)\n",
    "            right = Node(node.expression.right, rpos)\n",
    "            edges = [(left, node), (right, node)]\n",
    "            self._data.add_edges_from(edges)\n",
    "            \n",
    "            self.make(left)\n",
    "            self.make(right)\n",
    "        elif isinstance(node.expression, jm.expression.sum.ReductionOperator):\n",
    "            pos = (node.pos[0], node.pos[1] + self.space)\n",
    "            operand = Node(node.expression.operand, pos)\n",
    "            self._data.add_edge(operand, node)\n",
    "            self.make(operand)\n",
    "        elif isinstance(node.expression, jm.expression.condition.ConditionOperator):\n",
    "            pass\n",
    "\n",
    "        return self._data\n",
    "\n",
    "    def draw(self, **kwargs):\n",
    "        matplotlib.rcParams[\"font.family\"] = \"Times New Roman\"\n",
    "        matplotlib.rcParams['mathtext.fontset'] = 'stix'\n",
    "        pos = {node: node.pos for node in self._data.nodes}\n",
    "        nx.draw(self._data, pos=pos, with_labels=True, **kwargs)\n",
    "\n",
    "\n",
    "class Node:\n",
    "    def __init__(self, expression: jm.Expression, pos: Optional[Tuple[float, float]]=None):\n",
    "        self.expression = expression\n",
    "        if pos is None:\n",
    "            self.pos = (0.0, 0.0)\n",
    "        else:\n",
    "            self.pos = pos\n",
    "            \n",
    "        self._depth = 0\n",
    "\n",
    "    def __repr__(self) -> str:\n",
    "        if isinstance(self.expression, jm.Number):\n",
    "            return f\"${self.expression}$\"\n",
    "        elif isinstance(self.expression, jm.Variable):\n",
    "            return f\"${self.expression}$\"\n",
    "        elif isinstance(self.expression, jm.Subscripts):\n",
    "            return f\"${self.expression}$\"\n",
    "        elif isinstance(self.expression, jm.UnaryOperator):\n",
    "            return  self.expression.__class__.__name__\n",
    "        elif isinstance(self.expression, jm.BinaryOperator):\n",
    "            if isinstance(self.expression, jm.expression.expression.Mod):\n",
    "                return \"$\\mathrm{mod}$\"\n",
    "            else:\n",
    "                return f\"${self.expression._mark}$\"\n",
    "        elif isinstance(self.expression, jm.expression.sum.ReductionOperator):\n",
    "            sum_index = \"\"\n",
    "            if isinstance(self.expression.sum_index.parent, jm.expression.variables.variable.Range):\n",
    "                sum_index += \"{\" + \"{}={}\".format(\n",
    "                    self.expression.sum_index, self.expression.sum_index.parent.start\n",
    "                )\n",
    "                if not isinstance(self.expression.condition, jm.expression.condition.NoneCondition):\n",
    "                    sum_index += f\"({self.expression.condition})\"\n",
    "                sum_index += \"}\"\n",
    "                sum_index += \"^{\" + str(self.expression.sum_index.parent.last) + \"}\"\n",
    "            else:\n",
    "                sum_index += \"{\" + f\"{self.expression.sum_index} in {self.expression.sum_index.parent}\"\n",
    "                if self.expression.condition is not None:\n",
    "                    sum_index += f\"{self.expression.condition}\"\n",
    "                sum_index = sum_index + \"}\"\n",
    "\n",
    "            if isinstance(self.expression, jm.expression.sum.SumOperator):\n",
    "                op = \"\\sum\"\n",
    "            elif isinstance(self.expression, jm.expression.prod.ProdOperator):\n",
    "                op = \"\\prod\"\n",
    "            else:\n",
    "                op = \"\"\n",
    "            return f\"${op}_{sum_index}$\"\n",
    "        elif isinstance(self.expression, jm.expression.condition.ConditionOperator):\n",
    "            return \"\"\n",
    "        else:\n",
    "            return \"\"\n",
    "\n",
    "    def __str__(self) -> str:\n",
    "        return self.__repr__()"
   ]
  },
  {
   "cell_type": "code",
   "execution_count": 151,
   "metadata": {},
   "outputs": [
    {
     "data": {
      "image/png": "[encoded data removed]",
      "text/plain": [
       "<Figure size 432x288 with 1 Axes>"
      ]
     },
     "metadata": {},
     "output_type": "display_data"
    }
   ],
   "source": [
    "graph = Graph(problem_tsp.objective)\n",
    "graph.make()\n",
    "graph.draw(\n",
    "    style=\"-\",\n",
    "    arrows=\"fancy\",\n",
    "    connectionstyle=\"angle3\",\n",
    "    width=2,\n",
    "    node_color=\"c\",\n",
    "    node_size=500,\n",
    "    edge_color=\"gray\",\n",
    "    font_size=12,\n",
    ")"
   ]
  },
  {
   "cell_type": "markdown",
   "metadata": {},
   "source": [
    "$$"
   ]
  },
  {
   "cell_type": "code",
   "execution_count": 88,
   "metadata": {},
   "outputs": [
    {
     "data": {
      "text/plain": [
       "array([-10.        ,  -3.33333333,   3.33333333,  10.        ])"
      ]
     },
     "execution_count": 88,
     "metadata": {},
     "output_type": "execute_result"
    }
   ],
   "source": [
    "import numpy as np\n",
    "\n",
    "np.linspace(-10, 10, 4)"
   ]
  },
  {
   "cell_type": "code",
   "execution_count": 155,
   "metadata": {},
   "outputs": [
    {
     "data": {
      "text/plain": [
       "OutEdgeView([($\\sum_{i=0}^{N}$, $\\sum_{t=0}^{N}$), ($\\sum_{j=0}^{N}$, $\\sum_{i=0}^{N}$), ($*$, $\\sum_{j=0}^{N}$), ($*$, $*$), ($x[t+1 mod N,j]$, $*$), ($dist[i,j]$, $*$), ($x[t,i]$, $*$), ($dist$, $dist[i,j]$), ($i$, $dist[i,j]$), ($j$, $dist[i,j]$), ($x$, $x[t,i]$), ($t$, $x[t,i]$), ($i$, $x[t,i]$), ($x$, $x[t+1 mod N,j]$), ($\\mathrm{mod}$, $x[t+1 mod N,j]$), ($j$, $x[t+1 mod N,j]$), ($+$, $\\mathrm{mod}$), ($N$, $\\mathrm{mod}$), ($t$, $+$), ($1$, $+$)])"
      ]
     },
     "execution_count": 155,
     "metadata": {},
     "output_type": "execute_result"
    }
   ],
   "source": [
    "graph._data.edges"
   ]
  },
  {
   "cell_type": "code",
   "execution_count": null,
   "metadata": {},
   "outputs": [],
   "source": []
  },
  {
   "cell_type": "code",
   "execution_count": null,
   "metadata": {},
   "outputs": [],
   "source": [
    "def make_graph(graph: nx.DiGraph, node: Node):\n",
    "    if isinstance(node.expression, jm.Number):\n",
    "        graph.add_node(node)\n",
    "    elif isinstance(node.expression, jm.Variable):\n",
    "        graph.add_node(node)\n",
    "    elif isinstance(node.expression, jm.UnaryOperator):\n",
    "        pass\n",
    "    elif isinstance(node.expression, jm.BinaryOperator):\n",
    "        left, right = node.expression.left, node.expression.right\n",
    "        lnode, rnode  = Node(left), Node(right)\n",
    "    \n",
    "        edges = [(lnode, node), (rnode, node)]\n",
    "        graph.add_edges_from(edges)\n",
    "        \n",
    "        make_graph(graph, lnode)\n",
    "        make_graph(graph, rnode)\n",
    "    elif isinstance(node.expression, jm.expression.sum.ReductionOperator):\n",
    "        pass\n",
    "    elif isinstance(node.expression, jm.expression.condition.ConditionOperator):\n",
    "        pass"
   ]
  },
  {
   "cell_type": "code",
   "execution_count": null,
   "metadata": {},
   "outputs": [],
   "source": []
  },
  {
   "cell_type": "code",
   "execution_count": null,
   "metadata": {},
   "outputs": [],
   "source": []
  },
  {
   "cell_type": "code",
   "execution_count": null,
   "metadata": {},
   "outputs": [],
   "source": []
  },
  {
   "cell_type": "code",
   "execution_count": 5,
   "metadata": {},
   "outputs": [],
   "source": [
    "from __future__ import annotations\n",
    "\n",
    "import jijmodeling as jm\n",
    "import networkx as nx\n",
    "import numpy as np\n",
    "import matplotlib\n",
    "\n",
    "from typing import Tuple, List, Optional, Any\n",
    "\n",
    "\n",
    "\n",
    "class Graph:\n",
    "    space=1\n",
    "\n",
    "    def __init__(self, expression: jm.Expression):\n",
    "        self.expression = expression\n",
    "        self._data = nx.DiGraph()\n",
    "\n",
    "    @property\n",
    "    def nodes(self):\n",
    "        return self._data.nodes\n",
    "\n",
    "    @property\n",
    "    def edges(self):\n",
    "        return self._data.edges\n",
    "\n",
    "    def make(self, node: Optional[Node] = None, depth=0):\n",
    "        if node is None:\n",
    "            node = Node(self.expression)\n",
    "            self._add_node(node, depth=depth)\n",
    "\n",
    "        depth += 1\n",
    "        if isinstance(node.expression, jm.Number):\n",
    "            # self._data.add_node(node)\n",
    "            pass\n",
    "        elif isinstance(node.expression, jm.Variable):\n",
    "            # self._data.add_node(node)\n",
    "            pass\n",
    "        elif isinstance(node.expression, jm.Subscripts):\n",
    "            var = Node(node.expression.variable)\n",
    "            subs = [Node(sub) for sub in node.expression.subscripts]\n",
    "            self._add_nodes([var] + subs, depth=depth)\n",
    "\n",
    "            edges = [(var, node)] + [(sub, node) for sub in subs]\n",
    "            self._data.add_edges_from(edges)\n",
    "\n",
    "            self.make(var, depth)\n",
    "            for sub in subs:\n",
    "                self.nodes[sub][\"depth\"] = depth\n",
    "                self.make(sub, depth)\n",
    "        elif isinstance(node.expression, jm.UnaryOperator):\n",
    "            operand = Node(node.expression.operand)\n",
    "            self._add_node(node, depth=depth)\n",
    "            self._data.add_edge(operand, node)\n",
    "\n",
    "            self.make(operand, depth)\n",
    "        elif isinstance(node.expression, jm.BinaryOperator):\n",
    "            left = Node(node.expression.left)\n",
    "            right = Node(node.expression.right)\n",
    "            self._add_nodes([left, right], depth=depth)\n",
    "\n",
    "            edges = [(left, node), (right, node)]\n",
    "            self._data.add_edges_from(edges)\n",
    "\n",
    "            self.make(left, depth)\n",
    "            self.make(right, depth)\n",
    "        elif isinstance(node.expression, jm.expression.sum.ReductionOperator):\n",
    "            operand = Node(node.expression.operand)\n",
    "            self._add_node(operand, depth=depth)\n",
    "\n",
    "            self._data.add_edge(operand, node)\n",
    "            self.make(operand, depth)\n",
    "        elif isinstance(node.expression, jm.expression.condition.ConditionOperator):\n",
    "            pass\n",
    "\n",
    "    def draw(self, **kwargs):\n",
    "        matplotlib.rcParams[\"font.family\"] = \"Times New Roman\"\n",
    "        matplotlib.rcParams['mathtext.fontset'] = 'stix'\n",
    "        node_map = {}\n",
    "        for node in self.nodes:\n",
    "            depth = self.nodes[node][\"depth\"]\n",
    "            node_map[depth] = node_map.get(depth, []) + [node]\n",
    "\n",
    "        pos = {}\n",
    "        org = (0, 0)\n",
    "        for depth, nodes in node_map.items():\n",
    "            x = np.linspace(-len(nodes) - 1, len(nodes) - 1, len(nodes))\n",
    "            for node, xi in zip(nodes, x):\n",
    "                pos[node] = (org[0] + xi, org[1] +  depth)\n",
    "        nx.draw(self._data, pos=pos, with_labels=True, **kwargs)\n",
    "\n",
    "    def _add_node(self, node: Node, **attr: Any):\n",
    "        self._data.add_node(node, **attr)\n",
    "\n",
    "    def _add_nodes(self, nodes: List[Node], **attrs: Any):\n",
    "        self._data.add_nodes_from([(node, attrs) for node in nodes])\n",
    "\n",
    "\n",
    "\n",
    "\n",
    "class Node:\n",
    "    def __init__(self, expression: jm.Expression, label: Optional[str]=None):\n",
    "        self.expression = expression\n",
    "\n",
    "    def __str__(self) -> str:\n",
    "        if isinstance(self.expression, jm.Number):\n",
    "            return f\"${self.expression}$\"\n",
    "        elif isinstance(self.expression, jm.Variable):\n",
    "            return f\"${self.expression}$\"\n",
    "        elif isinstance(self.expression, jm.Subscripts):\n",
    "            return f\"${self.expression}$\"\n",
    "        elif isinstance(self.expression, jm.UnaryOperator):\n",
    "            return  self.expression.__class__.__name__\n",
    "        elif isinstance(self.expression, jm.BinaryOperator):\n",
    "            if isinstance(self.expression, jm.expression.expression.Mod):\n",
    "                return \"$\\mathrm{mod}$\"\n",
    "            else:\n",
    "                return f\"${self.expression._mark}$\"\n",
    "        elif isinstance(self.expression, jm.expression.sum.ReductionOperator):\n",
    "            sum_index = \"\"\n",
    "            if isinstance(self.expression.sum_index.parent, jm.expression.variables.variable.Range):\n",
    "                sum_index += \"{\" + \"{}={}\".format(\n",
    "                    self.expression.sum_index, self.expression.sum_index.parent.start\n",
    "                )\n",
    "                if not isinstance(self.expression.condition, jm.expression.condition.NoneCondition):\n",
    "                    sum_index += f\"({self.expression.condition})\"\n",
    "                sum_index += \"}\"\n",
    "                sum_index += \"^{\" + str(self.expression.sum_index.parent.last) + \"}\"\n",
    "            else:\n",
    "                sum_index += \"{\" + f\"{self.expression.sum_index} in {self.expression.sum_index.parent}\"\n",
    "                if self.expression.condition is not None:\n",
    "                    sum_index += f\"{self.expression.condition}\"\n",
    "                sum_index = sum_index + \"}\"\n",
    "\n",
    "            if isinstance(self.expression, jm.expression.sum.SumOperator):\n",
    "                op = \"\\sum\"\n",
    "            elif isinstance(self.expression, jm.expression.prod.ProdOperator):\n",
    "                op = \"\\prod\"\n",
    "            else:\n",
    "                op = \"\"\n",
    "            return f\"${op}_{sum_index}$\"\n",
    "        elif isinstance(self.expression, jm.expression.condition.ConditionOperator):\n",
    "            return \"\"\n",
    "        else:\n",
    "            return \"\"\n",
    "\n",
    "    "
   ]
  },
  {
   "cell_type": "code",
   "execution_count": null,
   "metadata": {},
   "outputs": [],
   "source": [
    "import sys\n",
    "\n",
    "sys.path.append(\"../\")\n",
    "\n",
    "import jijbench as jb\n",
    "\n",
    "problem_tsp = jb.get_problem(\"TSP\")\n",
    "problem_tsp"
   ]
  },
  {
   "cell_type": "code",
   "execution_count": 8,
   "metadata": {},
   "outputs": [
    {
     "data": {
      "image/png": "[encoded data removed]",
      "text/plain": [
       "<Figure size 432x288 with 1 Axes>"
      ]
     },
     "metadata": {},
     "output_type": "display_data"
    }
   ],
   "source": [
    "graph = Graph(problem_tsp.objective)\n",
    "graph.make()\n",
    "graph.draw(\n",
    "    style=\"-\",\n",
    "    arrows=\"fancy\",\n",
    "    width=1,\n",
    "    node_color=\"c\",\n",
    "    node_size=500,\n",
    "    edge_color=\"gray\",\n",
    "    font_size=12,\n",
    ")"
   ]
  },
  {
   "cell_type": "code",
   "execution_count": 41,
   "metadata": {},
   "outputs": [
    {
     "data": {
      "text/plain": [
       "[0, 1, 2, 3, 4, 5, 6, 7, 8, 9, 10, 11, 12, 13, 14, 15, 16, 17, 18, 19, 20]"
      ]
     },
     "execution_count": 41,
     "metadata": {},
     "output_type": "execute_result"
    }
   ],
   "source": [
    "nodes = list(graph._data.nodes)\n",
    "node = list(graph._data.nodes)[0]\n",
    "index = [nodes.index(node) for node in nodes]\n",
    "index"
   ]
  },
  {
   "cell_type": "code",
   "execution_count": 21,
   "metadata": {},
   "outputs": [
    {
     "data": {
      "text/plain": [
       "NodeView(($\\sum_{t=0}^{N}$, $\\sum_{i=0}^{N}$, $\\sum_{j=0}^{N}$, $*$, $*$, $x[t+1 mod N,j]$, $dist[i,j]$, $x[t,i]$, $dist$, $i$, $j$, $x$, $t$, $i$, $x$, $\\mathrm{mod}$, $j$, $+$, $N$, $t$, $1$))"
      ]
     },
     "execution_count": 21,
     "metadata": {},
     "output_type": "execute_result"
    }
   ],
   "source": [
    "graph.nodes"
   ]
  },
  {
   "cell_type": "code",
   "execution_count": 45,
   "metadata": {},
   "outputs": [
    {
     "data": {
      "text/plain": [
       "{$\\sum_{t=0}^{N}$: (-2.0, 0),\n",
       " $\\sum_{i=0}^{N}$: (-2.0, 1),\n",
       " $\\sum_{j=0}^{N}$: (-2.0, 2),\n",
       " $*$: (-2.0, 3),\n",
       " $*$: (-3.0, 4),\n",
       " $x[t+1 mod N,j]$: (1.0, 4),\n",
       " $dist[i,j]$: (-6.0, 5),\n",
       " $x[t,i]$: (-3.5, 5),\n",
       " $x$: (-1.0, 5),\n",
       " $\\mathrm{mod}$: (1.5, 5),\n",
       " $j$: (4.0, 5),\n",
       " $dist$: (-9.0, 6),\n",
       " $i$: (-6.714285714285714, 6),\n",
       " $j$: (-4.428571428571429, 6),\n",
       " $x$: (-2.1428571428571432, 6),\n",
       " $t$: (0.14285714285714235, 6),\n",
       " $i$: (2.428571428571427, 6),\n",
       " $+$: (4.7142857142857135, 6),\n",
       " $N$: (7.0, 6),\n",
       " $t$: (-3.0, 7),\n",
       " $1$: (1.0, 7)}"
      ]
     },
     "execution_count": 45,
     "metadata": {},
     "output_type": "execute_result"
    }
   ],
   "source": [
    "import numpy as np\n",
    "\n",
    "node_map = {}\n",
    "for node in graph.nodes:\n",
    "    depth = graph.nodes[node][\"depth\"]\n",
    "    node_map[depth] = node_map.get(depth, []) + [node]\n",
    "\n",
    "pos = {}\n",
    "org = (0, 0)\n",
    "for depth, nodes in node_map.items():\n",
    "    x = np.linspace(-len(nodes) - 1, len(nodes) - 1, len(nodes))\n",
    "    for node, xi in zip(nodes, x):\n",
    "        pos[node] = (org[0] + xi, org[1] + depth)\n",
    "\n",
    "pos"
   ]
  },
  {
   "cell_type": "code",
   "execution_count": 43,
   "metadata": {},
   "outputs": [
    {
     "data": {
      "text/plain": [
       "array([0.])"
      ]
     },
     "execution_count": 43,
     "metadata": {},
     "output_type": "execute_result"
    }
   ],
   "source": [
    "import numpy as np\n",
    "\n",
    "np.linspace(-0, 0, 1)"
   ]
  },
  {
   "cell_type": "code",
   "execution_count": 25,
   "metadata": {},
   "outputs": [
    {
     "data": {
      "text/plain": [
       "networkx.classes.reportviews.NodeView"
      ]
     },
     "execution_count": 25,
     "metadata": {},
     "output_type": "execute_result"
    }
   ],
   "source": [
    "from networkx.classes.reportviews import NodeView\n",
    "\n",
    "nx.classes.reportviews.NodeView"
   ]
  },
  {
   "cell_type": "code",
   "execution_count": 13,
   "metadata": {},
   "outputs": [
    {
     "ename": "NameError",
     "evalue": "name 'nodes' is not defined",
     "output_type": "error",
     "traceback": [
      "\u001b[0;31m---------------------------------------------------------------------------\u001b[0m",
      "\u001b[0;31mNameError\u001b[0m                                 Traceback (most recent call last)",
      "\u001b[1;32m/home/azureuser/JijBenchmark/tests/tmp.ipynb Cell 23\u001b[0m in \u001b[0;36m<cell line: 1>\u001b[0;34m()\u001b[0m\n\u001b[0;32m----> <a href='vscode-notebook-cell://ssh-remote%2Bparasearch-bench/home/azureuser/JijBenchmark/tests/tmp.ipynb#X25sdnNjb2RlLXJlbW90ZQ%3D%3D?line=0'>1</a>\u001b[0m nodes\n",
      "\u001b[0;31mNameError\u001b[0m: name 'nodes' is not defined"
     ]
    }
   ],
   "source": []
  },
  {
   "cell_type": "code",
   "execution_count": 52,
   "metadata": {},
   "outputs": [
    {
     "data": {
      "text/plain": [
       "{'layer': 1}"
      ]
     },
     "execution_count": 52,
     "metadata": {},
     "output_type": "execute_result"
    }
   ],
   "source": [
    "graph.nodes[node][\"layer\"] = 1\n",
    "graph.nodes[node]"
   ]
  },
  {
   "cell_type": "code",
   "execution_count": null,
   "metadata": {},
   "outputs": [],
   "source": []
  },
  {
   "cell_type": "code",
   "execution_count": 7,
   "metadata": {},
   "outputs": [
    {
     "data": {
      "text/plain": [
       "NodeView((1, 2))"
      ]
     },
     "execution_count": 7,
     "metadata": {},
     "output_type": "execute_result"
    }
   ],
   "source": [
    "graph = nx.DiGraph()\n",
    "graph.add_node(1)\n",
    "graph.add_node(2)\n",
    "graph.add_edge(1, 2)\n",
    "graph.nodes"
   ]
  },
  {
   "cell_type": "code",
   "execution_count": 8,
   "metadata": {},
   "outputs": [
    {
     "data": {
      "text/plain": [
       "OutEdgeView([(1, 2)])"
      ]
     },
     "execution_count": 8,
     "metadata": {},
     "output_type": "execute_result"
    }
   ],
   "source": [
    "graph.edges"
   ]
  },
  {
   "cell_type": "code",
   "execution_count": null,
   "metadata": {},
   "outputs": [],
   "source": []
  },
  {
   "cell_type": "code",
   "execution_count": null,
   "metadata": {},
   "outputs": [],
   "source": []
  },
  {
   "cell_type": "code",
   "execution_count": null,
   "metadata": {},
   "outputs": [],
   "source": [
    "        # if isinstance(self.left, Placeholder):\n",
    "        #     if self.left.shape != left.shape:\n",
    "        #         raise DataError(f\"Shape of left value does not match shape of placeholder '{self.left}'.\")\n",
    "# \n",
    "        # if isinstance(self.right, Placeholder):\n",
    "        #     if self.right.shape != right.shape:\n",
    "        #         raise DataError(f\"Shape of right value does not match shape of placeholder '{self.left}'.\")"
   ]
  },
  {
   "cell_type": "code",
   "execution_count": 86,
   "metadata": {},
   "outputs": [],
   "source": [
    "from __future__ import annotations\n",
    "\n",
    "from abc import ABCMeta, abstractmethod\n",
    "from typeguard import typechecked\n",
    "\n",
    "\n",
    "import typing as tp\n",
    "import numpy as np\n",
    "import networkx as nx\n",
    "import jijmodeling as jm\n",
    "\n",
    "from jijmodeling.expression import expression\n",
    "from jijmodeling.expression.variables import Element\n",
    "from jijmodeling.expression.condition import Condition\n",
    "from jijmodeling.expression.sum import INDEXWITHCOND\n",
    "from jijmodeling.exceptions import DataError\n",
    "from numpy._typing import NDArray\n",
    "\n",
    "\n",
    "ARRAY_LIKE = tp.Union[jm.NumberValue ,tp.Iterable[jm.NumberValue]]\n",
    "\n",
    "\n",
    "class Node(metaclass=ABCMeta):\n",
    "    @abstractmethod\n",
    "    def __init__(self) -> None:\n",
    "        pass\n",
    "\n",
    "    @abstractmethod\n",
    "    def __str__(self) -> str:\n",
    "        pass\n",
    "\n",
    "    @property\n",
    "    @abstractmethod\n",
    "    def data(self) -> np.ndarray:\n",
    "        pass\n",
    "\n",
    "    @data.setter\n",
    "    def data(self, data: np.ndarray) -> None:\n",
    "        pass\n",
    "\n",
    "    @property\n",
    "    @abstractmethod\n",
    "    def grad(self) -> np.ndarray:\n",
    "        pass\n",
    "\n",
    "    @grad.setter\n",
    "    def grad(self, grad: np.ndarray) -> None:\n",
    "        pass\n",
    "\n",
    "    @property\n",
    "    @abstractmethod\n",
    "    def expression(self) -> jm.Expression:\n",
    "        pass\n",
    "\n",
    "    @property\n",
    "    @abstractmethod\n",
    "    def children(self) -> List[Node]:\n",
    "        pass\n",
    "\n",
    "\n",
    "class Variable(Node):\n",
    "    def __init__(self, label: str, data: np.ndarray) -> None:\n",
    "        if not isinstance(data, np.ndarray):\n",
    "            raise TypeError(\"Type of 'data' must be np.ndarray.\")\n",
    "        self.label = label\n",
    "        self._data = data\n",
    "        self._grad = np.array([])\n",
    "        self._expression = jm.Variable(label)\n",
    "        self._children = []\n",
    "\n",
    "    def __str__(self) -> str:\n",
    "        return f\"${self.expression}$\"\n",
    "\n",
    "    @property\n",
    "    def data(self) -> np.ndarray:\n",
    "        return self._data\n",
    "\n",
    "    @data.setter\n",
    "    def data(self, data: np.ndarray) -> None:\n",
    "        if not isinstance(data, np.ndarray):\n",
    "            raise TypeError(\"Type of 'data' must be np.ndarray.\")\n",
    "        self._data = data\n",
    "\n",
    "    @property\n",
    "    def grad(self) -> np.ndarray:\n",
    "        return self._grad\n",
    "\n",
    "    @grad.setter\n",
    "    def grad(self, grad: np.ndarray) -> None:\n",
    "        if not isinstance(grad, np.ndarray):\n",
    "            raise TypeError(\"Type of 'data' must be np.ndarray.\")\n",
    "        self._grad = grad\n",
    "\n",
    "    @property\n",
    "    def expression(self) -> jm.Variable:\n",
    "        return self._expression\n",
    "\n",
    "    @property\n",
    "    def children(self) -> List[Node]:\n",
    "        return self._children\n",
    "\n",
    "\n",
    "class Placeholder(Node):\n",
    "    def __init__(self, label):\n",
    "        self.label = label\n",
    "\n",
    "        self._data = np.array([])\n",
    "        self._grad = np.array([])\n",
    "        self._expression = jm.Placeholder(label)\n",
    "        self._children = []\n",
    "\n",
    "    def __str__(self) -> str:\n",
    "        return f\"${self.expression}$\"\n",
    "\n",
    "    @property\n",
    "    def data(self) -> np.ndarray:\n",
    "        return self._data\n",
    "\n",
    "    @property\n",
    "    def grad(self) -> np.ndarray:\n",
    "        return self._grad\n",
    "\n",
    "    @property\n",
    "    def expression(self) -> jm.Variable:\n",
    "        return self._expression\n",
    "\n",
    "    @property\n",
    "    def children(self) -> List[Node]:\n",
    "        return self._children\n",
    "\n",
    "class Binary(Placeholder):\n",
    "    def __init__(\n",
    "            self,\n",
    "            label: str\n",
    "        ) -> None:\n",
    "        super().__init__(label)\n",
    "        self._expression = jm.Binary(label)\n",
    "\n",
    "    def __repr__(self) -> str:\n",
    "        return f\"${self.expression}$\"\n",
    "\n",
    "class Integer(Placeholder):\n",
    "    def __init__(\n",
    "        self,\n",
    "        label: str,\n",
    "        lower: tp.Union[jm.Expression, int, float],\n",
    "        upper: tp.Union[jm.Expression, int, float],\n",
    "        ) -> None:\n",
    "        super().__init__(label)\n",
    "        self._expression = jm.Integer(label, lower, upper)\n",
    "\n",
    "\n",
    "class Continuous(Placeholder):\n",
    "    def __init__(\n",
    "            self,\n",
    "            label: str,\n",
    "        ) -> None:\n",
    "        super().__init__(label)\n",
    "\n",
    "    def __repr__(self) -> str:\n",
    "        return f\"${self.expression}$\"\n",
    "\n",
    "\n",
    "class Operator(Node):\n",
    "    def __init__(self) -> None:\n",
    "        self._children = None\n",
    "        self._data = np.array([])\n",
    "        self._grad = np.array([])\n",
    "\n",
    "    def __str__(self) -> str:\n",
    "        return f\"${self.expression}$\"\n",
    "\n",
    "    @property\n",
    "    def data(self) -> np.ndarray:\n",
    "        return self._data\n",
    "\n",
    "    @data.setter\n",
    "    def data(self, data: np.ndarray) -> None:\n",
    "        if not isinstance(data, np.ndarray):\n",
    "            raise DataError(\"Type of 'data' must be np.ndarray.\")\n",
    "        self._data = data\n",
    "\n",
    "    @property\n",
    "    def grad(self) -> np.ndarray:\n",
    "        return self._grad\n",
    "\n",
    "    @grad.setter\n",
    "    def grad(self, grad: np.ndarray) -> None:\n",
    "        self._grad = grad\n",
    "\n",
    "    @property\n",
    "    def expression(self) -> jm.Expression:\n",
    "        raise NotImplementedError\n",
    "\n",
    "    @expression.setter\n",
    "    def expression(self, expression) -> None:\n",
    "        self._expression = expression\n",
    "\n",
    "    @property\n",
    "    def children(self) -> tp.Optional[List[Node]]:\n",
    "        return self._children\n",
    "\n",
    "    @children.setter\n",
    "    def children(self, nodes: List[Node]) -> None:\n",
    "        self._children = nodes\n",
    "\n",
    "    def forward(self, *nodes: Node) -> Operator:\n",
    "        self.children = list(nodes)\n",
    "        self.data = self._forward(*nodes)\n",
    "        return self\n",
    "\n",
    "    def _forward(self, *children: Node) -> np.ndarray:\n",
    "        raise NotImplementedError(\"Operation does not implemented.\")\n",
    "\n",
    "    def backward(self) -> tp.Tuple[Node, ...]:\n",
    "        if self.children is None:\n",
    "            raise ValueError(\"Child node for operation is None.\")\n",
    "        else:\n",
    "            for node in self.children:\n",
    "                pass\n",
    "            return self.children\n",
    "\n",
    "    def _backward(self, *children: Node) -> tp.Tuple[np.ndarray, ...]:\n",
    "        raise NotImplementedError(\"Operation does not implemented.\")\n",
    "\n",
    "\n",
    "class Add(Operator):\n",
    "    def __init__(self) -> None:\n",
    "        super().__init__()\n",
    "\n",
    "    def forward(self, left: Node, right: Node) -> Operator:\n",
    "        self._expression = expression.Add(left.expression, right.expression)\n",
    "        return super().forward(left, right)\n",
    "\n",
    "    def _forward(self, *children: Node) -> np.ndarray:\n",
    "        left, right = children\n",
    "\n",
    "        if len(left.data) and len(right.data):\n",
    "            data = left.data + right.data\n",
    "        else:\n",
    "            data = np.array([])\n",
    "        return data\n",
    "\n",
    "    def backward(self) -> tp.Tuple[Node]:\n",
    "        self.grad = self._backward()\n",
    "        return super().backward()\n",
    "\n",
    "    def _backward(self, *children: Node) -> np.ndarray:\n",
    "        return self.data\n",
    "\n",
    "    def __repr__(self):\n",
    "        return f\"$+$\"\n",
    "\n",
    "    @property\n",
    "    def expression(self) -> jm.Expression:\n",
    "        return self._expression\n",
    "\n",
    "class Sub(Node):\n",
    "    pass\n",
    "\n",
    "class Mul(Node):\n",
    "    pass\n",
    "\n",
    "class Div(Node):\n",
    "    pass\n",
    "\n",
    "class Pow(Node):\n",
    "    pass\n",
    "\n",
    "class Mod(Node):\n",
    "    pass\n",
    "\n",
    "class MatMul(Operator):\n",
    "    def __init__(self, left: Node, right: Node) -> None:\n",
    "        super().__init__(left, right)\n",
    "\n",
    "\n",
    "class Sum(Node):\n",
    "    def __init__(\n",
    "            self,\n",
    "            indices: tp.Union[INDEXWITHCOND, tp.List[INDEXWITHCOND]],\n",
    "            term: jm.Expression,\n",
    "        ) -> None:\n",
    "        self._expression = jm.Sum(indices,term)\n",
    "\n",
    "\n",
    "\n",
    "\n",
    "\n",
    "\n",
    "\n",
    "class Test1(Node):\n",
    "    def __init__(self):\n",
    "        self.x = Binary(\"x\")\n",
    "\n",
    "    def __call__(self, x, y):\n",
    "        return self.forward(x, y)\n",
    "\n",
    "    def objective(self, a):\n",
    "        v = Add(self.x, a)\n",
    "        return e"
   ]
  },
  {
   "cell_type": "code",
   "execution_count": 8,
   "metadata": {},
   "outputs": [
    {
     "name": "stdout",
     "output_type": "stream",
     "text": [
      "{0: 1, 'a': 'b'}\n"
     ]
    },
    {
     "data": {
      "text/plain": [
       "{}"
      ]
     },
     "execution_count": 8,
     "metadata": {},
     "output_type": "execute_result"
    }
   ],
   "source": [
    "a = {}\n",
    "a.update({0:1, \"a\": \"b\"})\n",
    "print(a)\n",
    "a.clear()\n",
    "a"
   ]
  },
  {
   "cell_type": "code",
   "execution_count": 10,
   "metadata": {},
   "outputs": [
    {
     "data": {
      "text/plain": [
       "datetime.datetime"
      ]
     },
     "execution_count": 10,
     "metadata": {},
     "output_type": "execute_result"
    }
   ],
   "source": [
    "import datetime as dt\n",
    "\n",
    "type(dt.datetime.now())"
   ]
  },
  {
   "cell_type": "code",
   "execution_count": 2,
   "metadata": {},
   "outputs": [],
   "source": [
    "def draw(node: Node):\n",
    "    graph = nx.DiGraph()\n",
    "    edges = [(child, node) for child in node.children]\n",
    "    graph.add_edges_from(edges)\n",
    "    edge_labels =  {edge: edge[0].data for edge in edges}\n",
    "    pos = {node: (0, 0)}\n",
    "    pos |= {child: (pos[node][0] + i, pos[node][1] + 1) for i, child in enumerate(node.children)}\n",
    "    nx.draw_networkx(graph, pos, with_labels=True)\n",
    "    nx.draw_networkx_edge_labels(graph, pos, edge_labels=edge_labels)"
   ]
  },
  {
   "cell_type": "code",
   "execution_count": 87,
   "metadata": {},
   "outputs": [
    {
     "name": "stdout",
     "output_type": "stream",
     "text": [
      "[6]\n"
     ]
    }
   ],
   "source": [
    "a = Variable(\"a\", np.array([1]))\n",
    "b = Variable(\"b\", np.array([2]))\n",
    "obj1 = Add()\n",
    "y1 = obj1.forward(a, b)\n",
    "\n",
    "a = Variable(\"a\", np.array([1]))\n",
    "x = Continuous(\"x\")\n",
    "obj2 = Add()\n",
    "y2 = obj2.forward(a, b)\n",
    "\n",
    "obj3 = Add()\n",
    "obj3.forward(y1, y2)\n",
    "print(obj3.data)\n",
    "\n",
    "# draw(obj3)"
   ]
  },
  {
   "cell_type": "code",
   "execution_count": 88,
   "metadata": {},
   "outputs": [
    {
     "data": {
      "text/plain": [
       "(array([3]), array([3]))"
      ]
     },
     "execution_count": 88,
     "metadata": {},
     "output_type": "execute_result"
    }
   ],
   "source": [
    "obj1.backward()"
   ]
  },
  {
   "cell_type": "code",
   "execution_count": 89,
   "metadata": {},
   "outputs": [
    {
     "data": {
      "image/png": "[encoded data removed]",
      "text/plain": [
       "<Figure size 432x288 with 1 Axes>"
      ]
     },
     "metadata": {},
     "output_type": "display_data"
    }
   ],
   "source": [
    "draw(obj1)"
   ]
  },
  {
   "cell_type": "code",
   "execution_count": 84,
   "metadata": {},
   "outputs": [
    {
     "data": {
      "text/plain": [
       "array([3])"
      ]
     },
     "execution_count": 84,
     "metadata": {},
     "output_type": "execute_result"
    }
   ],
   "source": [
    "obj1.data"
   ]
  },
  {
   "cell_type": "code",
   "execution_count": 49,
   "metadata": {},
   "outputs": [
    {
     "ename": "UFuncTypeError",
     "evalue": "ufunc 'logical_and' did not contain a loop with signature matching types (None, <class 'numpy.dtype[str_]'>) -> None",
     "output_type": "error",
     "traceback": [
      "\u001b[0;31m---------------------------------------------------------------------------\u001b[0m",
      "\u001b[0;31mUFuncTypeError\u001b[0m                            Traceback (most recent call last)",
      "\u001b[1;32m/home/azureuser/JijBenchmark/tests/tmp.ipynb Cell 37\u001b[0m in \u001b[0;36m<cell line: 2>\u001b[0;34m()\u001b[0m\n\u001b[1;32m      <a href='vscode-notebook-cell://ssh-remote%2Bparasearch-bench/home/azureuser/JijBenchmark/tests/tmp.ipynb#Y203sdnNjb2RlLXJlbW90ZQ%3D%3D?line=0'>1</a>\u001b[0m x \u001b[39m=\u001b[39m np\u001b[39m.\u001b[39marray([\u001b[39m\"\u001b[39m\u001b[39ma\u001b[39m\u001b[39m\"\u001b[39m])\n\u001b[0;32m----> <a href='vscode-notebook-cell://ssh-remote%2Bparasearch-bench/home/azureuser/JijBenchmark/tests/tmp.ipynb#Y203sdnNjb2RlLXJlbW90ZQ%3D%3D?line=1'>2</a>\u001b[0m x\u001b[39m.\u001b[39;49mall()\n",
      "File \u001b[0;32m~/JijBenchmark/.venv_jb/lib/python3.9/site-packages/numpy/core/_methods.py:63\u001b[0m, in \u001b[0;36m_all\u001b[0;34m(a, axis, dtype, out, keepdims, where)\u001b[0m\n\u001b[1;32m     60\u001b[0m \u001b[39mdef\u001b[39;00m \u001b[39m_all\u001b[39m(a, axis\u001b[39m=\u001b[39m\u001b[39mNone\u001b[39;00m, dtype\u001b[39m=\u001b[39m\u001b[39mNone\u001b[39;00m, out\u001b[39m=\u001b[39m\u001b[39mNone\u001b[39;00m, keepdims\u001b[39m=\u001b[39m\u001b[39mFalse\u001b[39;00m, \u001b[39m*\u001b[39m, where\u001b[39m=\u001b[39m\u001b[39mTrue\u001b[39;00m):\n\u001b[1;32m     61\u001b[0m     \u001b[39m# Parsing keyword arguments is currently fairly slow, so avoid it for now\u001b[39;00m\n\u001b[1;32m     62\u001b[0m     \u001b[39mif\u001b[39;00m where \u001b[39mis\u001b[39;00m \u001b[39mTrue\u001b[39;00m:\n\u001b[0;32m---> 63\u001b[0m         \u001b[39mreturn\u001b[39;00m umr_all(a, axis, dtype, out, keepdims)\n\u001b[1;32m     64\u001b[0m     \u001b[39mreturn\u001b[39;00m umr_all(a, axis, dtype, out, keepdims, where\u001b[39m=\u001b[39mwhere)\n",
      "\u001b[0;31mUFuncTypeError\u001b[0m: ufunc 'logical_and' did not contain a loop with signature matching types (None, <class 'numpy.dtype[str_]'>) -> None"
     ]
    }
   ],
   "source": [
    "x = np.array([\"a\"])\n",
    "x.all()"
   ]
  },
  {
   "cell_type": "code",
   "execution_count": 66,
   "metadata": {},
   "outputs": [
    {
     "data": {
      "text/plain": [
       "[]"
      ]
     },
     "execution_count": 66,
     "metadata": {},
     "output_type": "execute_result"
    }
   ],
   "source": [
    "empty = np.array([])\n",
    "empty"
   ]
  },
  {
   "cell_type": "code",
   "execution_count": 27,
   "metadata": {},
   "outputs": [
    {
     "data": {
      "text/latex": [
       "$x$"
      ],
      "text/plain": [
       "x"
      ]
     },
     "execution_count": 27,
     "metadata": {},
     "output_type": "execute_result"
    }
   ],
   "source": [
    "jm.Binary(\"x\")"
   ]
  },
  {
   "cell_type": "code",
   "execution_count": 9,
   "metadata": {},
   "outputs": [
    {
     "data": {
      "text/latex": [
       "$a + b$"
      ],
      "text/plain": [
       "a+b"
      ]
     },
     "execution_count": 9,
     "metadata": {},
     "output_type": "execute_result"
    }
   ],
   "source": [
    "a = jm.Variable(\"a\")\n",
    "b = jm.Variable(\"b\")\n",
    "\n",
    "p = jm.Placeholder(\"b\")\n",
    "\n",
    "expression.Add(a, b)"
   ]
  },
  {
   "cell_type": "code",
   "execution_count": 14,
   "metadata": {},
   "outputs": [
    {
     "data": {
      "text/plain": [
       "False"
      ]
     },
     "execution_count": 14,
     "metadata": {},
     "output_type": "execute_result"
    }
   ],
   "source": [
    "a = Variable(\"a\", np.array([1]))\n",
    "a.expression.is_operatable()"
   ]
  },
  {
   "cell_type": "code",
   "execution_count": null,
   "metadata": {},
   "outputs": [],
   "source": []
  },
  {
   "cell_type": "code",
   "execution_count": null,
   "metadata": {},
   "outputs": [],
   "source": []
  },
  {
   "cell_type": "code",
   "execution_count": null,
   "metadata": {},
   "outputs": [],
   "source": []
  },
  {
   "cell_type": "code",
   "execution_count": null,
   "metadata": {},
   "outputs": [],
   "source": []
  },
  {
   "cell_type": "code",
   "execution_count": null,
   "metadata": {},
   "outputs": [],
   "source": []
  },
  {
   "cell_type": "code",
   "execution_count": 8,
   "metadata": {},
   "outputs": [
    {
     "name": "stdout",
     "output_type": "stream",
     "text": [
      "1.0\n",
      "1.0\n",
      "None\n",
      "variable(3.)\n",
      "True\n"
     ]
    }
   ],
   "source": [
    "import numpy as np\n",
    "import chainer\n",
    "from chainer import variable\n",
    "from chainer import functions as F\n",
    "\n",
    "\n",
    "x = variable.Variable(np.array(1.))\n",
    "y = variable.Variable(np.array(2.))\n",
    "\n",
    "obj = x + y\n",
    "obj.backward()\n",
    "print(x.grad)\n",
    "print(y.grad)\n",
    "print(obj.grad)\n",
    "print(obj)\n",
    "print(obj.requires_grad)\n"
   ]
  },
  {
   "cell_type": "code",
   "execution_count": 9,
   "metadata": {},
   "outputs": [
    {
     "ename": "TypeError",
     "evalue": "unsupported operand type(s) for +: 'int' and 'list'",
     "output_type": "error",
     "traceback": [
      "\u001b[0;31m---------------------------------------------------------------------------\u001b[0m",
      "\u001b[0;31mTypeError\u001b[0m                                 Traceback (most recent call last)",
      "\u001b[1;32m/home/azureuser/JijBenchmark/tests/tmp.ipynb Cell 51\u001b[0m in \u001b[0;36m<cell line: 1>\u001b[0;34m()\u001b[0m\n\u001b[0;32m----> <a href='vscode-notebook-cell://ssh-remote%2Bparasearch-bench/home/azureuser/JijBenchmark/tests/tmp.ipynb#Y211sdnNjb2RlLXJlbW90ZQ%3D%3D?line=0'>1</a>\u001b[0m \u001b[39m1\u001b[39;49m \u001b[39m+\u001b[39;49m [\u001b[39m1\u001b[39;49m]\n",
      "\u001b[0;31mTypeError\u001b[0m: unsupported operand type(s) for +: 'int' and 'list'"
     ]
    }
   ],
   "source": []
  },
  {
   "cell_type": "code",
   "execution_count": 15,
   "metadata": {},
   "outputs": [
    {
     "ename": "DataError",
     "evalue": "Attribute 'data' is None. Execute forward computation of Add and get data.",
     "output_type": "error",
     "traceback": [
      "\u001b[0;31m---------------------------------------------------------------------------\u001b[0m",
      "\u001b[0;31mDataError\u001b[0m                                 Traceback (most recent call last)",
      "\u001b[1;32m/home/azureuser/JijBenchmark/tests/tmp.ipynb Cell 34\u001b[0m in \u001b[0;36m<cell line: 1>\u001b[0;34m()\u001b[0m\n\u001b[0;32m----> <a href='vscode-notebook-cell://ssh-remote%2Bparasearch-bench/home/azureuser/JijBenchmark/tests/tmp.ipynb#Y140sdnNjb2RlLXJlbW90ZQ%3D%3D?line=0'>1</a>\u001b[0m \u001b[39mraise\u001b[39;00m DataError(\u001b[39m\"\u001b[39m\u001b[39mAttribute \u001b[39m\u001b[39m'\u001b[39m\u001b[39mdata\u001b[39m\u001b[39m'\u001b[39m\u001b[39m is None. Execute forward computation of Add and get data.\u001b[39m\u001b[39m\"\u001b[39m)\n",
      "\u001b[0;31mDataError\u001b[0m: Attribute 'data' is None. Execute forward computation of Add and get data."
     ]
    }
   ],
   "source": [
    "raise DataError(\"Attribute 'data' is None. Execute forward computation of Add and get data.\")"
   ]
  },
  {
   "cell_type": "code",
   "execution_count": 27,
   "metadata": {},
   "outputs": [
    {
     "ename": "ModelingError",
     "evalue": "a is not operatable. If a should be operatable, please check the subscripts and dim of a.",
     "output_type": "error",
     "traceback": [
      "\u001b[0;31m---------------------------------------------------------------------------\u001b[0m",
      "\u001b[0;31mModelingError\u001b[0m                             Traceback (most recent call last)",
      "\u001b[1;32m/home/azureuser/JijBenchmark/tests/tmp.ipynb Cell 36\u001b[0m in \u001b[0;36m<cell line: 4>\u001b[0;34m()\u001b[0m\n\u001b[1;32m      <a href='vscode-notebook-cell://ssh-remote%2Bparasearch-bench/home/azureuser/JijBenchmark/tests/tmp.ipynb#X50sdnNjb2RlLXJlbW90ZQ%3D%3D?line=1'>2</a>\u001b[0m b \u001b[39m=\u001b[39m Variable(\u001b[39m\"\u001b[39m\u001b[39mb\u001b[39m\u001b[39m\"\u001b[39m, np\u001b[39m.\u001b[39marray([\u001b[39m2\u001b[39m]))\n\u001b[1;32m      <a href='vscode-notebook-cell://ssh-remote%2Bparasearch-bench/home/azureuser/JijBenchmark/tests/tmp.ipynb#X50sdnNjb2RlLXJlbW90ZQ%3D%3D?line=2'>3</a>\u001b[0m obj1 \u001b[39m=\u001b[39m Add()\n\u001b[0;32m----> <a href='vscode-notebook-cell://ssh-remote%2Bparasearch-bench/home/azureuser/JijBenchmark/tests/tmp.ipynb#X50sdnNjb2RlLXJlbW90ZQ%3D%3D?line=3'>4</a>\u001b[0m y1 \u001b[39m=\u001b[39m obj1\u001b[39m.\u001b[39;49mforward(a, b)\n\u001b[1;32m      <a href='vscode-notebook-cell://ssh-remote%2Bparasearch-bench/home/azureuser/JijBenchmark/tests/tmp.ipynb#X50sdnNjb2RlLXJlbW90ZQ%3D%3D?line=5'>6</a>\u001b[0m a \u001b[39m=\u001b[39m Variable(\u001b[39m\"\u001b[39m\u001b[39ma\u001b[39m\u001b[39m\"\u001b[39m, np\u001b[39m.\u001b[39marray([\u001b[39m1\u001b[39m]))\n\u001b[1;32m      <a href='vscode-notebook-cell://ssh-remote%2Bparasearch-bench/home/azureuser/JijBenchmark/tests/tmp.ipynb#X50sdnNjb2RlLXJlbW90ZQ%3D%3D?line=6'>7</a>\u001b[0m x \u001b[39m=\u001b[39m Continuous(\u001b[39m\"\u001b[39m\u001b[39mx\u001b[39m\u001b[39m\"\u001b[39m)\n",
      "\u001b[1;32m/home/azureuser/JijBenchmark/tests/tmp.ipynb Cell 36\u001b[0m in \u001b[0;36mAdd.forward\u001b[0;34m(self, left, right)\u001b[0m\n\u001b[1;32m    <a href='vscode-notebook-cell://ssh-remote%2Bparasearch-bench/home/azureuser/JijBenchmark/tests/tmp.ipynb#X50sdnNjb2RlLXJlbW90ZQ%3D%3D?line=208'>209</a>\u001b[0m \u001b[39mdef\u001b[39;00m \u001b[39mforward\u001b[39m(\u001b[39mself\u001b[39m, left: Node, right: Node) \u001b[39m-\u001b[39m\u001b[39m>\u001b[39m Operator:\n\u001b[0;32m--> <a href='vscode-notebook-cell://ssh-remote%2Bparasearch-bench/home/azureuser/JijBenchmark/tests/tmp.ipynb#X50sdnNjb2RlLXJlbW90ZQ%3D%3D?line=209'>210</a>\u001b[0m     \u001b[39mself\u001b[39m\u001b[39m.\u001b[39m_expression \u001b[39m=\u001b[39m expression\u001b[39m.\u001b[39;49mAdd(left\u001b[39m.\u001b[39;49mexpression, right\u001b[39m.\u001b[39;49mexpression)\n\u001b[1;32m    <a href='vscode-notebook-cell://ssh-remote%2Bparasearch-bench/home/azureuser/JijBenchmark/tests/tmp.ipynb#X50sdnNjb2RlLXJlbW90ZQ%3D%3D?line=210'>211</a>\u001b[0m     \u001b[39mreturn\u001b[39;00m \u001b[39msuper\u001b[39m()\u001b[39m.\u001b[39mforward(left, right)\n",
      "File \u001b[0;32m~/JijBenchmark/.venv_jb/lib/python3.9/site-packages/jijmodeling/expression/expression.py:292\u001b[0m, in \u001b[0;36mBinaryOperator.__init__\u001b[0;34m(self, left, right, uuid)\u001b[0m\n\u001b[1;32m    289\u001b[0m \u001b[39mimport\u001b[39;00m \u001b[39mjijmodeling\u001b[39;00m\u001b[39m.\u001b[39;00m\u001b[39mutils\u001b[39;00m\u001b[39m.\u001b[39;00m\u001b[39mutils\u001b[39;00m \u001b[39mas\u001b[39;00m \u001b[39m_uutils\u001b[39;00m\n\u001b[1;32m    291\u001b[0m _error_msg \u001b[39m=\u001b[39m \u001b[39m\"\u001b[39m\u001b[39m{0}\u001b[39;00m\u001b[39m is not operatable. If \u001b[39m\u001b[39m{0}\u001b[39;00m\u001b[39m should be operatable, please check the subscripts and dim of \u001b[39m\u001b[39m{0}\u001b[39;00m\u001b[39m.\u001b[39m\u001b[39m\"\u001b[39m\n\u001b[0;32m--> 292\u001b[0m _uutils\u001b[39m.\u001b[39;49mvalidate_value(\n\u001b[1;32m    293\u001b[0m     \u001b[39m\"\u001b[39;49m\u001b[39mleft.is_operatable()\u001b[39;49m\u001b[39m\"\u001b[39;49m,\n\u001b[1;32m    294\u001b[0m     \u001b[39mself\u001b[39;49m\u001b[39m.\u001b[39;49m_left\u001b[39m.\u001b[39;49mis_operatable(),\n\u001b[1;32m    295\u001b[0m     _error_msg\u001b[39m.\u001b[39;49mformat(\u001b[39mself\u001b[39;49m\u001b[39m.\u001b[39;49m_left),\n\u001b[1;32m    296\u001b[0m )\n\u001b[1;32m    297\u001b[0m _uutils\u001b[39m.\u001b[39mvalidate_value(\n\u001b[1;32m    298\u001b[0m     \u001b[39m\"\u001b[39m\u001b[39mright.is_operatable()\u001b[39m\u001b[39m\"\u001b[39m,\n\u001b[1;32m    299\u001b[0m     \u001b[39mself\u001b[39m\u001b[39m.\u001b[39m_right\u001b[39m.\u001b[39mis_operatable(),\n\u001b[1;32m    300\u001b[0m     _error_msg\u001b[39m.\u001b[39mformat(\u001b[39mself\u001b[39m\u001b[39m.\u001b[39m_right),\n\u001b[1;32m    301\u001b[0m )\n",
      "File \u001b[0;32m~/JijBenchmark/.venv_jb/lib/python3.9/site-packages/jijmodeling/utils/utils.py:18\u001b[0m, in \u001b[0;36mvalidate_value\u001b[0;34m(condition_str, condition, error_msg)\u001b[0m\n\u001b[1;32m     14\u001b[0m \u001b[39mdef\u001b[39;00m \u001b[39mvalidate_value\u001b[39m(\n\u001b[1;32m     15\u001b[0m     condition_str: \u001b[39mstr\u001b[39m, condition: \u001b[39mbool\u001b[39m, error_msg: Optional[\u001b[39mstr\u001b[39m] \u001b[39m=\u001b[39m \u001b[39mNone\u001b[39;00m\n\u001b[1;32m     16\u001b[0m ) \u001b[39m-\u001b[39m\u001b[39m>\u001b[39m \u001b[39mNone\u001b[39;00m:\n\u001b[1;32m     17\u001b[0m     \u001b[39mif\u001b[39;00m condition \u001b[39mis\u001b[39;00m \u001b[39mFalse\u001b[39;00m:\n\u001b[0;32m---> 18\u001b[0m         \u001b[39mraise\u001b[39;00m _exceptions\u001b[39m.\u001b[39mModelingError(\n\u001b[1;32m     19\u001b[0m             \u001b[39mf\u001b[39m\u001b[39m\"\u001b[39m\u001b[39mThe condition \u001b[39m\u001b[39m{\u001b[39;00mcondition_str\u001b[39m}\u001b[39;00m\u001b[39m is not satisfied.\u001b[39m\u001b[39m\"\u001b[39m\n\u001b[1;32m     20\u001b[0m             \u001b[39mif\u001b[39;00m error_msg \u001b[39mis\u001b[39;00m \u001b[39mNone\u001b[39;00m\n\u001b[1;32m     21\u001b[0m             \u001b[39melse\u001b[39;00m error_msg\n\u001b[1;32m     22\u001b[0m         )\n",
      "\u001b[0;31mModelingError\u001b[0m: a is not operatable. If a should be operatable, please check the subscripts and dim of a."
     ]
    }
   ],
   "source": [
    "a = Variable(\"a\", np.array([1]))\n",
    "b = Variable(\"b\", np.array([2]))\n",
    "obj1 = Add()\n",
    "y1 = obj1.forward(a, b)\n",
    "\n",
    "a = Variable(\"a\", np.array([1]))\n",
    "x = Continuous(\"x\")\n",
    "obj2 = Add()\n",
    "y2 = obj2.forward(a, x)\n",
    "\n",
    "obj3 = Add()\n",
    "obj3.forward(y1, y2)\n",
    "print(obj3.data)\n",
    "\n",
    "draw(obj3)"
   ]
  },
  {
   "cell_type": "code",
   "execution_count": 15,
   "metadata": {},
   "outputs": [
    {
     "data": {
      "text/plain": [
       "True"
      ]
     },
     "execution_count": 15,
     "metadata": {},
     "output_type": "execute_result"
    }
   ],
   "source": [
    "isinstance(np.array(1.0), np.ndarray)"
   ]
  },
  {
   "cell_type": "code",
   "execution_count": null,
   "metadata": {},
   "outputs": [],
   "source": []
  },
  {
   "cell_type": "code",
   "execution_count": 14,
   "metadata": {},
   "outputs": [
    {
     "name": "stdout",
     "output_type": "stream",
     "text": [
      "10\n"
     ]
    },
    {
     "data": {
      "image/png": "[encoded data removed]",
      "text/plain": [
       "<Figure size 432x288 with 1 Axes>"
      ]
     },
     "metadata": {},
     "output_type": "display_data"
    }
   ],
   "source": [
    "a = Placeholder(\"a\")\n",
    "b = Placeholder(\"b\")\n",
    "obj1 = Add(a, b)\n",
    "obj1.forward(np.array(1), np.array(2))\n",
    "\n",
    "a = Placeholder(\"a\")\n",
    "b = Placeholder(\"b\")\n",
    "obj2 = Add(a, b)\n",
    "obj2.forward(np.array(3), np.array(4))\n",
    "\n",
    "obj3 = Add(obj1, obj2)\n",
    "obj3.forward()\n",
    "print(obj3.data)\n",
    "\n",
    "draw(obj3)"
   ]
  },
  {
   "cell_type": "code",
   "execution_count": 47,
   "metadata": {},
   "outputs": [
    {
     "name": "stdout",
     "output_type": "stream",
     "text": [
      "a+x\n"
     ]
    },
    {
     "data": {
      "image/png": "[encoded data removed]",
      "text/plain": [
       "<Figure size 432x288 with 1 Axes>"
      ]
     },
     "metadata": {},
     "output_type": "display_data"
    }
   ],
   "source": [
    "a = Placeholder(\"a\")\n",
    "x = Continuous(\"x\")\n",
    "obj1 = Add(a, x)\n",
    "obj1.forward(np.array(1), np.array(2))\n",
    "draw(obj1)"
   ]
  },
  {
   "cell_type": "code",
   "execution_count": null,
   "metadata": {},
   "outputs": [],
   "source": [
    "a = Placeholder(\"a\")\n",
    "x = Continuous(\"x\")\n",
    "obj1 = Add(a, x)\n",
    "obj1.forward(np.array(1), np.array(2))"
   ]
  },
  {
   "cell_type": "code",
   "execution_count": 40,
   "metadata": {},
   "outputs": [
    {
     "data": {
      "text/plain": [
       "False"
      ]
     },
     "execution_count": 40,
     "metadata": {},
     "output_type": "execute_result"
    }
   ],
   "source": [
    "x.expression.is_operatable()"
   ]
  },
  {
   "cell_type": "code",
   "execution_count": 28,
   "metadata": {},
   "outputs": [
    {
     "data": {
      "text/latex": [
       "$x + a$"
      ],
      "text/plain": [
       "x+a"
      ]
     },
     "execution_count": 28,
     "metadata": {},
     "output_type": "execute_result"
    }
   ],
   "source": [
    "a = jm.Placeholder(\"a\")\n",
    "x = jm.Variable(\"x\")\n",
    "y = jm.Variable(\"y\")\n",
    "\n",
    "expression.Add(x, a)"
   ]
  },
  {
   "cell_type": "code",
   "execution_count": 4,
   "metadata": {},
   "outputs": [
    {
     "data": {
      "text/plain": [
       "1"
      ]
     },
     "execution_count": 4,
     "metadata": {},
     "output_type": "execute_result"
    }
   ],
   "source": [
    "class A:\n",
    "    @property\n",
    "    def data(self):\n",
    "        return 1\n",
    "    \n",
    "a = A()\n",
    "a.data"
   ]
  },
  {
   "cell_type": "code",
   "execution_count": 64,
   "metadata": {},
   "outputs": [
    {
     "data": {
      "text/plain": [
       "True"
      ]
     },
     "execution_count": 64,
     "metadata": {},
     "output_type": "execute_result"
    }
   ],
   "source": [
    "np.zeros((100, 100, 100)).all() is None\n",
    "np.array([]).all() is None"
   ]
  },
  {
   "cell_type": "code",
   "execution_count": 18,
   "metadata": {},
   "outputs": [
    {
     "data": {
      "text/plain": [
       "False"
      ]
     },
     "execution_count": 18,
     "metadata": {},
     "output_type": "execute_result"
    }
   ],
   "source": [
    "np.array([]) is np.array([])"
   ]
  },
  {
   "cell_type": "code",
   "execution_count": 90,
   "metadata": {},
   "outputs": [
    {
     "name": "stdout",
     "output_type": "stream",
     "text": [
      "{(0, 0): 1.0}\n",
      "0.0\n"
     ]
    }
   ],
   "source": [
    "import jijmodeling_engine as jme\n",
    "import pprint\n",
    "\n",
    "def get_qubo(problem, instance_data):\n",
    "    engine = jme.JijModelingEngine(\n",
    "        problem, {\"a\": 1.0}, {}\n",
    "    )\n",
    "    engine.compile()\n",
    "    engine.set_default_parameters({})\n",
    "    qubo, bias = engine.get_qubo()\n",
    "    pprint.pprint(qubo)\n",
    "    print(bias)\n",
    "\n",
    "problem = jm.Problem(\"sample\")\n",
    "\n",
    "a = jm.Placeholder(\"a\")\n",
    "x = jm.Binary(\"x\")\n",
    "problem += a * x * x\n",
    "\n",
    "get_qubo(problem, {\"a\": 2})"
   ]
  },
  {
   "cell_type": "code",
   "execution_count": 91,
   "metadata": {},
   "outputs": [
    {
     "data": {
      "text/latex": [
       "$$\\begin{alignat*}{4}\\text{Problem} & \\text{: sample} \\\\\\min & \\quad a \\cdot x \\cdot x \\\\& x \\in \\{0, 1\\}\\end{alignat*}$$"
      ],
      "text/plain": [
       "<jijmodeling.problem.problem.Problem at 0x7f27250002b0>"
      ]
     },
     "execution_count": 91,
     "metadata": {},
     "output_type": "execute_result"
    }
   ],
   "source": [
    "problem"
   ]
  },
  {
   "cell_type": "code",
   "execution_count": 88,
   "metadata": {},
   "outputs": [
    {
     "name": "stdout",
     "output_type": "stream",
     "text": [
      "{(0, 0): 0.5, (0, 1): 1.0, (1, 1): 0.5}\n",
      "0.0\n"
     ]
    }
   ],
   "source": [
    "problem = jm.Problem(\"sample\")\n",
    "\n",
    "a = jm.Placeholder(\"a\")\n",
    "i = jm.Element(\"i\", 2)\n",
    "j = jm.Element(\"j\", 2)\n",
    "x = jm.Binary(\"x\", (2,))\n",
    "problem += a * jm.Sum([i, j], x[i] * x[j])\n",
    "\n",
    "get_qubo(problem, {\"a\": 1.0})"
   ]
  },
  {
   "cell_type": "code",
   "execution_count": 89,
   "metadata": {},
   "outputs": [
    {
     "data": {
      "text/latex": [
       "$$\\begin{alignat*}{4}\\text{Problem} & \\text{: sample} \\\\\\min & \\quad a \\cdot \\sum_{ i = 0 }^{ 1 } \\sum_{ j = 0 }^{ 1 } x_{i} \\cdot x_{j} \\\\& x_{i_{0}} \\in \\{0, 1\\}\\end{alignat*}$$"
      ],
      "text/plain": [
       "<jijmodeling.problem.problem.Problem at 0x7f2727556370>"
      ]
     },
     "execution_count": 89,
     "metadata": {},
     "output_type": "execute_result"
    }
   ],
   "source": [
    "problem"
   ]
  },
  {
   "cell_type": "code",
   "execution_count": null,
   "metadata": {},
   "outputs": [],
   "source": [
    "problem = jm.Problem(\"sample\")\n",
    "\n",
    "a = jm.Placeholder(\"a\")\n",
    "x = jm.Binary(\"x\", (2, 2))\n",
    "problem += a * x[:]\n",
    "\n",
    "engine = jme.JijModelingEngine(\n",
    "    problem, {\"a\": 1.0}, {}\n",
    ")\n",
    "engine.compile()\n",
    "engine.set_default_parameters({})\n",
    "qubo, bias = engine.get_qubo()\n",
    "pprint.pprint(qubo)\n",
    "print(bias)"
   ]
  },
  {
   "cell_type": "code",
   "execution_count": 6,
   "metadata": {},
   "outputs": [
    {
     "data": {
      "text/plain": [
       "jijmodeling.expression.expression.Add"
      ]
     },
     "execution_count": 6,
     "metadata": {},
     "output_type": "execute_result"
    }
   ],
   "source": [
    "x = jm.Binary(\"x\")\n",
    "a = jm.Placeholder(\"a\")\n",
    "\n",
    "obj = x + a\n",
    "type(obj)"
   ]
  },
  {
   "cell_type": "code",
   "execution_count": 23,
   "metadata": {},
   "outputs": [
    {
     "data": {
      "text/plain": [
       "3"
      ]
     },
     "execution_count": 23,
     "metadata": {},
     "output_type": "execute_result"
    }
   ],
   "source": [
    "problem = Test1()\n",
    "problem(1, 2)"
   ]
  },
  {
   "cell_type": "code",
   "execution_count": 4,
   "metadata": {},
   "outputs": [
    {
     "ename": "TypeError",
     "evalue": "__init__() missing 2 required positional arguments: 'left' and 'right'",
     "output_type": "error",
     "traceback": [
      "\u001b[0;31m---------------------------------------------------------------------------\u001b[0m",
      "\u001b[0;31mTypeError\u001b[0m                                 Traceback (most recent call last)",
      "\u001b[1;32m/home/azureuser/JijBenchmark/tests/tmp.ipynb Cell 32\u001b[0m in \u001b[0;36m<cell line: 1>\u001b[0;34m()\u001b[0m\n\u001b[0;32m----> <a href='vscode-notebook-cell://ssh-remote%2Bparasearch-bench/home/azureuser/JijBenchmark/tests/tmp.ipynb#X43sdnNjb2RlLXJlbW90ZQ%3D%3D?line=0'>1</a>\u001b[0m jm\u001b[39m.\u001b[39;49mexpression\u001b[39m.\u001b[39;49mexpression\u001b[39m.\u001b[39;49mAdd()\n",
      "\u001b[0;31mTypeError\u001b[0m: __init__() missing 2 required positional arguments: 'left' and 'right'"
     ]
    }
   ],
   "source": [
    "class A(jm.Binary):\n",
    "    def __init__(self, label: str, shape=..., uuid: Optional[str] = None):\n",
    "        super().__init__(label, shape, uuid)\n",
    "        \n",
    "        \n",
    "class B(jm.expression.sum.SumOperator):\n",
    "    def __init__(self, sum_index: _variable.Element, operand: _expression.Expression, condition: tp.Optional[_conditions.Condition] = None, uuid: tp.Optional[str] = None) -> None:\n",
    "        super().__init__(sum_index, operand, condition, uuid)\n",
    "        \n",
    "class C(expression.Add):\n",
    "    def __init__(self, left: Expression, right: Expression, uuid: Optional[str] = None):\n",
    "        super().__init__(left, right, uuid)\n",
    "        \n",
    "        \n",
    "class D(jm.Placeholder):\n",
    "    def __init__(self, label: str, dim: tp.Optional[int] = None, shape=None, uuid: tp.Optional[str] = None):\n",
    "        super().__init__(label, dim, shape, uuid)\n",
    "        \n",
    "jm.Placeholder()"
   ]
  },
  {
   "cell_type": "code",
   "execution_count": 26,
   "metadata": {},
   "outputs": [
    {
     "data": {
      "text/plain": [
       "3"
      ]
     },
     "execution_count": 26,
     "metadata": {},
     "output_type": "execute_result"
    }
   ],
   "source": []
  },
  {
   "cell_type": "code",
   "execution_count": 19,
   "metadata": {},
   "outputs": [
    {
     "data": {
      "text/plain": [
       "True"
      ]
     },
     "execution_count": 19,
     "metadata": {},
     "output_type": "execute_result"
    }
   ],
   "source": []
  },
  {
   "cell_type": "code",
   "execution_count": null,
   "metadata": {},
   "outputs": [],
   "source": [
    "import sys\n",
    "\n",
    "sys.path.append(\"../\")\n",
    "\n",
    "import jijbench as jb\n",
    "\n",
    "problem_tsp = jb.get_problem(\"TSP\")\n",
    "problem_tsp"
   ]
  },
  {
   "cell_type": "code",
   "execution_count": 21,
   "metadata": {},
   "outputs": [],
   "source": [
    "import numpy as np\n",
    "\n",
    "# value = np.random.randint(0, 10, (3, 3))\n",
    "value = 1\n",
    "a = Placeholder(value, \"a\")\n"
   ]
  },
  {
   "cell_type": "code",
   "execution_count": 4,
   "metadata": {},
   "outputs": [
    {
     "data": {
      "text/plain": [
       "typing.Union[int, float]"
      ]
     },
     "execution_count": 4,
     "metadata": {},
     "output_type": "execute_result"
    }
   ],
   "source": [
    "import jijmodeling as jm\n",
    "jm.NumberValue"
   ]
  },
  {
   "cell_type": "code",
   "execution_count": 12,
   "metadata": {},
   "outputs": [
    {
     "data": {
      "text/plain": [
       "False"
      ]
     },
     "execution_count": 12,
     "metadata": {},
     "output_type": "execute_result"
    }
   ],
   "source": [
    "import typing as tp\n",
    "import numpy as np\n",
    "\n",
    "x = np.array(range(0, 10, 2))\n",
    "x\n",
    "\n",
    "isinstance(1, tp.Iterable)"
   ]
  },
  {
   "cell_type": "code",
   "execution_count": 11,
   "metadata": {},
   "outputs": [],
   "source": [
    "x: tp.Iterable[int] =  [1, 2, 3]"
   ]
  },
  {
   "cell_type": "code",
   "execution_count": null,
   "metadata": {},
   "outputs": [],
   "source": []
  },
  {
   "cell_type": "code",
   "execution_count": 22,
   "metadata": {},
   "outputs": [
    {
     "name": "stdout",
     "output_type": "stream",
     "text": [
      "3\n",
      "<class '__main__.Placeholder'>\n"
     ]
    },
    {
     "data": {
      "image/png": "[encoded data removed]",
      "text/plain": [
       "<Figure size 432x288 with 1 Axes>"
      ]
     },
     "metadata": {},
     "output_type": "display_data"
    }
   ],
   "source": [
    "a = Placeholder(1, \"a\")\n",
    "b = Placeholder(2, \"b\")\n",
    "# p1 = Placeholder(\"a\", (3, 3))\n",
    "# p2 = Placeholder(\"b\", (3, 3))\n",
    "obj = Add()\n",
    "res = obj(a, b)\n",
    "print(res.data)\n",
    "print(type(res))\n",
    "nx.draw(res.graph, with_labels=True)"
   ]
  },
  {
   "cell_type": "code",
   "execution_count": 24,
   "metadata": {},
   "outputs": [
    {
     "data": {
      "image/png": "[encoded data removed]",
      "text/plain": [
       "<Figure size 432x288 with 1 Axes>"
      ]
     },
     "metadata": {},
     "output_type": "display_data"
    }
   ],
   "source": [
    "new_obj = Add()\n",
    "new_res = new_obj(obj(a, b), obj(a, b))\n",
    "nx.draw(new_res.graph, with_labels=True)"
   ]
  },
  {
   "cell_type": "code",
   "execution_count": 162,
   "metadata": {},
   "outputs": [
    {
     "name": "stdout",
     "output_type": "stream",
     "text": [
      "[]\n",
      "[]\n",
      "[]\n",
      "[]\n",
      "[(a1, $+$), ($+$, a1 + b1), (b1, $+$)]\n",
      "[(a2, $+$), ($+$, a2 + b2), (b2, $+$)]\n"
     ]
    }
   ],
   "source": [
    "a1 = Placeholder(1, \"a1\")\n",
    "b1 = Placeholder(2, \"b1\")\n",
    "obj1 = Add()\n",
    "a2 = Placeholder(1, \"a2\")\n",
    "b2 = Placeholder(2, \"b2\")\n",
    "obj2 = Add()\n",
    "res1 = obj1(a1, b1)\n",
    "res2 = obj2(a2, b2)\n",
    "new_obj = Add()\n",
    "res3 = new_obj(res1, res2)\n",
    "\n",
    "# graph1 = nx.compose(res1.graph, graph)\n",
    "# graph2 = nx.compose(res2.graph, graph)\n",
    "# graph3 = nx.compose(graph1, graph2)\n",
    "\n",
    "# graph = nx.Graph()\n",
    "# edges = [edge for edge in res1.graph.edges]\n",
    "# graph.add_weighted_edges_from(edges)\n",
    "# graph.add_edges_from(edges)\n",
    "# nx.draw(graph, with_labels=True)\n",
    "# graph.edges[list(graph.edges)[0]]\n",
    "\n",
    "# print(graph1.nodes)\n",
    "# nx.draw(res3.graph, with_labels=True)"
   ]
  },
  {
   "cell_type": "code",
   "execution_count": 163,
   "metadata": {},
   "outputs": [
    {
     "name": "stdout",
     "output_type": "stream",
     "text": [
      "{'weight': array(1)}\n",
      "{}\n",
      "{'weight': array(3)}\n",
      "{'weight': array(2)}\n",
      "{'weight': array(1)}\n",
      "{}\n",
      "{'weight': array(3)}\n",
      "{'weight': array(2)}\n",
      "{}\n"
     ]
    }
   ],
   "source": [
    "for edge in res3.graph.edges:\n",
    "    print(res3.graph.edges[edge])"
   ]
  },
  {
   "cell_type": "code",
   "execution_count": 164,
   "metadata": {},
   "outputs": [
    {
     "data": {
      "image/png": "[encoded data removed]",
      "text/plain": [
       "<Figure size 432x288 with 1 Axes>"
      ]
     },
     "metadata": {},
     "output_type": "display_data"
    }
   ],
   "source": [
    "nx.draw(res3.graph, with_labels=True)"
   ]
  },
  {
   "cell_type": "code",
   "execution_count": 123,
   "metadata": {},
   "outputs": [
    {
     "data": {
      "image/png": "[encoded data removed]",
      "text/plain": [
       "<Figure size 432x288 with 1 Axes>"
      ]
     },
     "metadata": {},
     "output_type": "display_data"
    }
   ],
   "source": [
    "new_obj = Add()\n",
    "# new_obj(res1, res2)\n",
    "graph = nx.DiGraph()\n",
    "# graph.add_edges_from([(1, 3), (2, 3)])\n",
    "# print(graph.pred[3])\n",
    "# nx.draw(graph, with_labels=True)\n",
    "graph.add_edges_from(res1.graph.edges)\n",
    "graph.add_edge(obj1, new_obj)\n",
    "graph.add_edges_from(res2.graph.edges)\n",
    "graph.add_edge(obj2, new_obj)\n",
    "nx.draw(graph, with_labels=True)"
   ]
  },
  {
   "cell_type": "code",
   "execution_count": 167,
   "metadata": {},
   "outputs": [
    {
     "ename": "TypeError",
     "evalue": "add_edge() missing 1 required positional argument: 'v_of_edge'",
     "output_type": "error",
     "traceback": [
      "\u001b[0;31m---------------------------------------------------------------------------\u001b[0m",
      "\u001b[0;31mTypeError\u001b[0m                                 Traceback (most recent call last)",
      "\u001b[1;32m/home/azureuser/JijBenchmark/tests/tmp.ipynb Cell 48\u001b[0m in \u001b[0;36m<cell line: 1>\u001b[0;34m()\u001b[0m\n\u001b[0;32m----> <a href='vscode-notebook-cell://ssh-remote%2Bparasearch-bench/home/azureuser/JijBenchmark/tests/tmp.ipynb#Y126sdnNjb2RlLXJlbW90ZQ%3D%3D?line=0'>1</a>\u001b[0m graph\u001b[39m.\u001b[39;49madd_edge(\u001b[39m1\u001b[39;49m)\n",
      "\u001b[0;31mTypeError\u001b[0m: add_edge() missing 1 required positional argument: 'v_of_edge'"
     ]
    }
   ],
   "source": []
  },
  {
   "cell_type": "code",
   "execution_count": 106,
   "metadata": {},
   "outputs": [
    {
     "data": {
      "text/plain": [
       "NodeView((a1, <__main__.Add object at 0x7f280f9bcd60>, b1, <__main__.Add object at 0x7f280f7c8370>, a2, <__main__.Add object at 0x7f280f6f5220>, b2))"
      ]
     },
     "execution_count": 106,
     "metadata": {},
     "output_type": "execute_result"
    }
   ],
   "source": [
    "graph.nodes"
   ]
  },
  {
   "cell_type": "code",
   "execution_count": 98,
   "metadata": {},
   "outputs": [
    {
     "data": {
      "text/plain": [
       "OutEdgeView([(a1, <__main__.Add object at 0x7f2810c25970>), (b1, <__main__.Add object at 0x7f2810c25970>)])"
      ]
     },
     "execution_count": 98,
     "metadata": {},
     "output_type": "execute_result"
    }
   ],
   "source": [
    "res1.graph.edges"
   ]
  },
  {
   "cell_type": "code",
   "execution_count": 99,
   "metadata": {},
   "outputs": [
    {
     "data": {
      "text/plain": [
       "OutEdgeView([(a2, <__main__.Add object at 0x7f2810c25970>), (b2, <__main__.Add object at 0x7f2810c25970>)])"
      ]
     },
     "execution_count": 99,
     "metadata": {},
     "output_type": "execute_result"
    }
   ],
   "source": [
    "res2.graph.edges"
   ]
  },
  {
   "cell_type": "code",
   "execution_count": 78,
   "metadata": {},
   "outputs": [
    {
     "data": {
      "image/png": "[encoded data removed]",
      "text/plain": [
       "<Figure size 432x288 with 1 Axes>"
      ]
     },
     "metadata": {},
     "output_type": "display_data"
    }
   ],
   "source": []
  },
  {
   "cell_type": "code",
   "execution_count": 12,
   "metadata": {},
   "outputs": [
    {
     "ename": "TypeError",
     "evalue": "type of argument \"x\" must be int; got float instead",
     "output_type": "error",
     "traceback": [
      "\u001b[0;31m---------------------------------------------------------------------------\u001b[0m",
      "\u001b[0;31mTypeError\u001b[0m                                 Traceback (most recent call last)",
      "\u001b[1;32m/home/azureuser/JijBenchmark/tests/tmp.ipynb Cell 44\u001b[0m in \u001b[0;36m<cell line: 7>\u001b[0;34m()\u001b[0m\n\u001b[1;32m      <a href='vscode-notebook-cell://ssh-remote%2Bparasearch-bench/home/azureuser/JijBenchmark/tests/tmp.ipynb#Y104sdnNjb2RlLXJlbW90ZQ%3D%3D?line=2'>3</a>\u001b[0m \u001b[39m@typechecked\u001b[39m\n\u001b[1;32m      <a href='vscode-notebook-cell://ssh-remote%2Bparasearch-bench/home/azureuser/JijBenchmark/tests/tmp.ipynb#Y104sdnNjb2RlLXJlbW90ZQ%3D%3D?line=3'>4</a>\u001b[0m \u001b[39mdef\u001b[39;00m \u001b[39mfunc\u001b[39m(x: \u001b[39mint\u001b[39m):\n\u001b[1;32m      <a href='vscode-notebook-cell://ssh-remote%2Bparasearch-bench/home/azureuser/JijBenchmark/tests/tmp.ipynb#Y104sdnNjb2RlLXJlbW90ZQ%3D%3D?line=4'>5</a>\u001b[0m     \u001b[39mreturn\u001b[39;00m x\n\u001b[0;32m----> <a href='vscode-notebook-cell://ssh-remote%2Bparasearch-bench/home/azureuser/JijBenchmark/tests/tmp.ipynb#Y104sdnNjb2RlLXJlbW90ZQ%3D%3D?line=6'>7</a>\u001b[0m func(\u001b[39m1.0\u001b[39;49m)\n",
      "File \u001b[0;32m~/JijBenchmark/.venv_jb/lib/python3.9/site-packages/typeguard/__init__.py:1032\u001b[0m, in \u001b[0;36mtypechecked.<locals>.wrapper\u001b[0;34m(*args, **kwargs)\u001b[0m\n\u001b[1;32m   1030\u001b[0m \u001b[39mdef\u001b[39;00m \u001b[39mwrapper\u001b[39m(\u001b[39m*\u001b[39margs, \u001b[39m*\u001b[39m\u001b[39m*\u001b[39mkwargs):\n\u001b[1;32m   1031\u001b[0m     memo \u001b[39m=\u001b[39m _CallMemo(python_func, _localns, args\u001b[39m=\u001b[39margs, kwargs\u001b[39m=\u001b[39mkwargs)\n\u001b[0;32m-> 1032\u001b[0m     check_argument_types(memo)\n\u001b[1;32m   1033\u001b[0m     retval \u001b[39m=\u001b[39m func(\u001b[39m*\u001b[39margs, \u001b[39m*\u001b[39m\u001b[39m*\u001b[39mkwargs)\n\u001b[1;32m   1034\u001b[0m     \u001b[39mtry\u001b[39;00m:\n",
      "File \u001b[0;32m~/JijBenchmark/.venv_jb/lib/python3.9/site-packages/typeguard/__init__.py:875\u001b[0m, in \u001b[0;36mcheck_argument_types\u001b[0;34m(memo)\u001b[0m\n\u001b[1;32m    873\u001b[0m             check_type(description, value, expected_type, memo)\n\u001b[1;32m    874\u001b[0m         \u001b[39mexcept\u001b[39;00m \u001b[39mTypeError\u001b[39;00m \u001b[39mas\u001b[39;00m exc:  \u001b[39m# suppress unnecessarily long tracebacks\u001b[39;00m\n\u001b[0;32m--> 875\u001b[0m             \u001b[39mraise\u001b[39;00m \u001b[39mTypeError\u001b[39;00m(\u001b[39m*\u001b[39mexc\u001b[39m.\u001b[39margs) \u001b[39mfrom\u001b[39;00m \u001b[39mNone\u001b[39m\n\u001b[1;32m    877\u001b[0m \u001b[39mreturn\u001b[39;00m \u001b[39mTrue\u001b[39;00m\n",
      "\u001b[0;31mTypeError\u001b[0m: type of argument \"x\" must be int; got float instead"
     ]
    }
   ],
   "source": [
    "from typeguard import typechecked\n",
    "\n",
    "@typechecked\n",
    "def func(x: int):\n",
    "    return x\n",
    "\n",
    "func(1.0)"
   ]
  },
  {
   "cell_type": "code",
   "execution_count": 14,
   "metadata": {},
   "outputs": [
    {
     "ename": "AttributeError",
     "evalue": "'A' object has no attribute 'y'",
     "output_type": "error",
     "traceback": [
      "\u001b[0;31m---------------------------------------------------------------------------\u001b[0m",
      "\u001b[0;31mAttributeError\u001b[0m                            Traceback (most recent call last)",
      "\u001b[1;32m/home/azureuser/JijBenchmark/tests/tmp.ipynb Cell 45\u001b[0m in \u001b[0;36m<cell line: 6>\u001b[0;34m()\u001b[0m\n\u001b[1;32m      <a href='vscode-notebook-cell://ssh-remote%2Bparasearch-bench/home/azureuser/JijBenchmark/tests/tmp.ipynb#Y105sdnNjb2RlLXJlbW90ZQ%3D%3D?line=2'>3</a>\u001b[0m         \u001b[39mself\u001b[39m\u001b[39m.\u001b[39mx \u001b[39m=\u001b[39m \u001b[39m1\u001b[39m\n\u001b[1;32m      <a href='vscode-notebook-cell://ssh-remote%2Bparasearch-bench/home/azureuser/JijBenchmark/tests/tmp.ipynb#Y105sdnNjb2RlLXJlbW90ZQ%3D%3D?line=4'>5</a>\u001b[0m a \u001b[39m=\u001b[39m A()\n\u001b[0;32m----> <a href='vscode-notebook-cell://ssh-remote%2Bparasearch-bench/home/azureuser/JijBenchmark/tests/tmp.ipynb#Y105sdnNjb2RlLXJlbW90ZQ%3D%3D?line=5'>6</a>\u001b[0m a\u001b[39m.\u001b[39;49my\n",
      "\u001b[0;31mAttributeError\u001b[0m: 'A' object has no attribute 'y'"
     ]
    }
   ],
   "source": [
    "class A:\n",
    "    def __init__(self):\n",
    "        self.x = 1\n",
    "        \n",
    "a = A()\n",
    "a.y"
   ]
  },
  {
   "cell_type": "code",
   "execution_count": null,
   "metadata": {},
   "outputs": [],
   "source": []
  },
  {
   "cell_type": "code",
   "execution_count": 91,
   "metadata": {},
   "outputs": [
    {
     "data": {
      "image/png": "[encoded data removed]",
      "text/plain": [
       "<Figure size 432x288 with 1 Axes>"
      ]
     },
     "metadata": {},
     "output_type": "display_data"
    }
   ],
   "source": [
    "nx.draw(p1.graph, with_labels=True)"
   ]
  },
  {
   "cell_type": "code",
   "execution_count": 49,
   "metadata": {},
   "outputs": [
    {
     "data": {
      "text/plain": [
       "0"
      ]
     },
     "execution_count": 49,
     "metadata": {},
     "output_type": "execute_result"
    }
   ],
   "source": [
    "x = jm.Placeholder(\"x\")"
   ]
  },
  {
   "cell_type": "code",
   "execution_count": 34,
   "metadata": {},
   "outputs": [
    {
     "data": {
      "text/plain": [
       "False"
      ]
     },
     "execution_count": 34,
     "metadata": {},
     "output_type": "execute_result"
    }
   ],
   "source": [
    "any([False, False])"
   ]
  },
  {
   "cell_type": "code",
   "execution_count": 35,
   "metadata": {},
   "outputs": [
    {
     "ename": "TypeError",
     "evalue": "Can't instantiate abstract class AA with abstract method func",
     "output_type": "error",
     "traceback": [
      "\u001b[0;31m---------------------------------------------------------------------------\u001b[0m",
      "\u001b[0;31mTypeError\u001b[0m                                 Traceback (most recent call last)",
      "\u001b[1;32m/home/azureuser/JijBenchmark/tests/tmp.ipynb Cell 63\u001b[0m in \u001b[0;36m<cell line: 11>\u001b[0;34m()\u001b[0m\n\u001b[1;32m      <a href='vscode-notebook-cell://ssh-remote%2Bparasearch-bench/home/azureuser/JijBenchmark/tests/tmp.ipynb#Y126sdnNjb2RlLXJlbW90ZQ%3D%3D?line=7'>8</a>\u001b[0m \u001b[39mclass\u001b[39;00m \u001b[39mAA\u001b[39;00m(A):\n\u001b[1;32m      <a href='vscode-notebook-cell://ssh-remote%2Bparasearch-bench/home/azureuser/JijBenchmark/tests/tmp.ipynb#Y126sdnNjb2RlLXJlbW90ZQ%3D%3D?line=8'>9</a>\u001b[0m     \u001b[39mpass\u001b[39;00m\n\u001b[0;32m---> <a href='vscode-notebook-cell://ssh-remote%2Bparasearch-bench/home/azureuser/JijBenchmark/tests/tmp.ipynb#Y126sdnNjb2RlLXJlbW90ZQ%3D%3D?line=10'>11</a>\u001b[0m aa \u001b[39m=\u001b[39m AA()\n",
      "\u001b[0;31mTypeError\u001b[0m: Can't instantiate abstract class AA with abstract method func"
     ]
    }
   ],
   "source": [
    "from abc import ABCMeta, abstractmethod\n",
    "\n",
    "class A(metaclass=ABCMeta):\n",
    "    @abstractmethod\n",
    "    def func():\n",
    "        pass\n",
    "    \n",
    "class AA(A):\n",
    "    pass\n",
    "\n",
    "aa = AA()\n"
   ]
  },
  {
   "cell_type": "code",
   "execution_count": 31,
   "metadata": {},
   "outputs": [
    {
     "ename": "TypeError",
     "evalue": "unsupported operand type(s) for +: 'NoneType' and 'int'",
     "output_type": "error",
     "traceback": [
      "\u001b[0;31m---------------------------------------------------------------------------\u001b[0m",
      "\u001b[0;31mTypeError\u001b[0m                                 Traceback (most recent call last)",
      "\u001b[1;32m/home/azureuser/JijBenchmark/tests/tmp.ipynb Cell 62\u001b[0m in \u001b[0;36m<cell line: 1>\u001b[0;34m()\u001b[0m\n\u001b[0;32m----> <a href='vscode-notebook-cell://ssh-remote%2Bparasearch-bench/home/azureuser/JijBenchmark/tests/tmp.ipynb#Y124sdnNjb2RlLXJlbW90ZQ%3D%3D?line=0'>1</a>\u001b[0m np\u001b[39m.\u001b[39;49marray(\u001b[39mNone\u001b[39;49;00m) \u001b[39m+\u001b[39;49m \u001b[39m1\u001b[39;49m\n",
      "\u001b[0;31mTypeError\u001b[0m: unsupported operand type(s) for +: 'NoneType' and 'int'"
     ]
    }
   ],
   "source": [
    "np.array([]) + 1"
   ]
  },
  {
   "cell_type": "code",
   "execution_count": 88,
   "metadata": {},
   "outputs": [
    {
     "data": {
      "text/plain": [
       "{(<__main__.Placeholder at 0x7f435599aeb0>,\n",
       "  <__main__.Add at 0x7f4355a2fc40>): Text(-0.5, -0.5, '[[4 8 7 ... 9 5 3]\\n [3 7 9 ... 9 9 8]\\n [5 1 8 ... 5 8 9]\\n ...\\n [9 9 8 ... 8 3 2]\\n [7 0 4 ... 2 5 6]\\n [0 5 0 ... 5 4 0]]'),\n",
       " (<__main__.Placeholder at 0x7f4355a28e50>,\n",
       "  <__main__.Add at 0x7f4355a2fc40>): Text(0.5, -0.5, '[[8 3 2 ... 3 7 3]\\n [9 4 5 ... 2 0 5]\\n [8 3 9 ... 5 9 1]\\n ...\\n [0 6 0 ... 5 8 5]\\n [3 7 8 ... 0 9 3]\\n [5 1 4 ... 4 1 3]]')}"
      ]
     },
     "execution_count": 88,
     "metadata": {},
     "output_type": "execute_result"
    },
    {
     "data": {
      "image/png": "[encoded data removed]",
      "text/plain": [
       "<Figure size 432x288 with 1 Axes>"
      ]
     },
     "metadata": {},
     "output_type": "display_data"
    }
   ],
   "source": [
    "edge_labels = {edge[0:2]: edge[2][\"weight\"] for edge in obj.graph.edges(data=True)}\n",
    "pos = {obj.left: (-1, 0), obj.right: (1, 0), obj: (0, -1)}\n",
    "nx.draw(obj.graph, pos, with_labels=True)\n",
    "nx.draw_networkx_edge_labels(obj.graph, pos, edge_labels=edge_labels)"
   ]
  },
  {
   "cell_type": "code",
   "execution_count": 30,
   "metadata": {},
   "outputs": [
    {
     "name": "stdout",
     "output_type": "stream",
     "text": [
      "x\n"
     ]
    }
   ],
   "source": [
    "print(op)"
   ]
  },
  {
   "cell_type": "code",
   "execution_count": null,
   "metadata": {},
   "outputs": [],
   "source": [
    "jm.BinaryOperator"
   ]
  },
  {
   "cell_type": "code",
   "execution_count": null,
   "metadata": {},
   "outputs": [],
   "source": []
  },
  {
   "cell_type": "code",
   "execution_count": null,
   "metadata": {},
   "outputs": [],
   "source": []
  },
  {
   "cell_type": "code",
   "execution_count": null,
   "metadata": {},
   "outputs": [],
   "source": []
  },
  {
   "cell_type": "code",
   "execution_count": 72,
   "metadata": {},
   "outputs": [
    {
     "name": "stdout",
     "output_type": "stream",
     "text": [
      "(<chainer.variable.VariableNode object at 0x7f364b46aac0>, <chainer.variable.VariableNode object at 0x7f364b32b490>)\n",
      ";;;;;\n",
      "(<chainer.variable.VariableNode object at 0x7f364b32b610>, <chainer.variable.VariableNode object at 0x7f364b32b370>)\n",
      ";;;;;\n",
      "<chainer.variable.VariableNode object at 0x7f364b32b610>\n",
      "10.0\n",
      "faf\n",
      "<chainer.variable.VariableNode object at 0x7f364b32b490>\n",
      "None\n",
      "faf\n",
      "<chainer.variable.VariableNode object at 0x7f364b32b370>\n",
      "2.0\n",
      "faf\n",
      "=====\n",
      "2\n",
      "(<chainer.variable.VariableNode object at 0x7f364b46aac0>, <chainer.variable.VariableNode object at 0x7f364b32b490>)\n",
      "*****\n",
      "None None\n",
      "1 0\n",
      "+++++\n",
      "10.0 2.0\n",
      "0 0\n",
      ":::::\n",
      "None\n",
      "None\n",
      "<chainer.functions.math.basic_math.Add object at 0x7f364b32b970>\n"
     ]
    }
   ],
   "source": [
    "import numpy as np\n",
    "from chainer.variable import Variable, VariableNode\n",
    "from chainer.function_node import FunctionNode\n",
    "from chainer.functions.math.basic_math import Add\n",
    "\n",
    "a = Variable(np.array(10.0))\n",
    "x = Variable(np.array(2.0))\n",
    "y = Variable(np.array(1.0))\n",
    "# print(a.grad)\n",
    "# print(x.grad)\n",
    "# print(y.grad)\n",
    "# print()\n",
    "\n",
    "res = a * x + y\n",
    "res.backward()\n",
    "\n",
    "print(\"=====\")\n",
    "# print(a.grad)\n",
    "# print(x.grad)\n",
    "# print(y.grad)\n",
    "# print(res.grad)\n",
    "#print()\n",
    "\n",
    "# print(res.node.get_variable_or_none())\n",
    "print(res.node.rank)\n",
    "print(res.node.creator.inputs)\n",
    "print(\"*****\")\n",
    "print(res.node.creator.inputs[0].data, res.node.creator.inputs[1].data)\n",
    "print(res.node.creator.inputs[0].rank, res.node.creator.inputs[1].rank)\n",
    "print(\"+++++\")\n",
    "print(res.node.creator.inputs[0].creator.inputs[0].data, res.node.creator.inputs[0].creator.inputs[1].data)\n",
    "print(res.node.creator.inputs[0].creator.inputs[0].rank, res.node.creator.inputs[0].creator.inputs[1].rank)\n",
    "print(\":::::\")\n",
    "print(res.node.creator.inputs[1].data)\n",
    "print(res.node.creator.inputs[0].grad)\n",
    "print(res.node.creator)"
   ]
  },
  {
   "cell_type": "code",
   "execution_count": null,
   "metadata": {},
   "outputs": [],
   "source": [
    "from __future__ import annotations\n",
    "\n",
    "from abc import ABCMeta, abstractmethod\n",
    "from typeguard import typechecked\n",
    "\n",
    "\n",
    "import typing as tp\n",
    "import numpy as np\n",
    "import networkx as nx\n",
    "import jijmodeling as jm\n",
    "\n",
    "from jijmodeling.expression import expression\n",
    "from jijmodeling.expression.variables import Element\n",
    "from jijmodeling.expression.condition import Condition\n",
    "from jijmodeling.expression.sum import INDEXWITHCOND\n",
    "from jijmodeling.exceptions import DataError\n",
    "from numpy._typing import NDArray\n",
    "\n",
    "\n",
    "ARRAY_LIKE = tp.Union[jm.NumberValue ,tp.Iterable[jm.NumberValue]]\n",
    "\n",
    "\n",
    "\n",
    "class Node(metaclass=ABCMeta):\n",
    "    @abstractmethod\n",
    "    def __init__(self) -> None:\n",
    "        pass\n",
    "\n",
    "    @abstractmethod\n",
    "    def __str__(self) -> str:\n",
    "        pass\n",
    "\n",
    "    @property\n",
    "    @abstractmethod\n",
    "    def expression(self) -> jm.Expression:\n",
    "        pass\n",
    "\n",
    "    @property\n",
    "    @abstractmethod\n",
    "    def children(self) -> List[Node]:\n",
    "        pass\n",
    "\n",
    "    @property\n",
    "    @abstractmethod\n",
    "    def data(self) -> np.ndarray:\n",
    "        pass\n",
    "\n",
    "    @property\n",
    "    @abstractmethod\n",
    "    def grad(self) -> np.ndarray:\n",
    "        pass\n",
    "\n",
    "\n",
    "class Operand(Node):\n",
    "    def __init__(self, label: str, shape: tp.Optional[tp.Tuple[int,...]]) -> None:\n",
    "        self.label = label\n",
    "        self.shape = shape if shape else ()\n",
    "\n",
    "        self._expression = jm.Variable(label, shape)\n",
    "        self._children = []\n",
    "        self._data = np.array([])\n",
    "        self._grad = np.array([])\n",
    "\n",
    "    def __str__(self) -> str:\n",
    "        return f\"${self.expression}$\"\n",
    "\n",
    "    @property\n",
    "    def expression(self) -> jm.Variable:\n",
    "        return self._expression\n",
    "\n",
    "    @property\n",
    "    def children(self) -> List[Node]:\n",
    "        return self._children\n",
    "\n",
    "    @property\n",
    "    def data(self) -> np.ndarray:\n",
    "        return self._data\n",
    "\n",
    "    @property\n",
    "    def grad(self) -> np.ndarray:\n",
    "        return self._grad\n",
    "\n",
    "\n",
    "class Operator(Node):\n",
    "    def __init__(self, *children: Node) -> None:\n",
    "        self._children = list(children)\n",
    "        self._data = np.array([])\n",
    "        self._grad = np.array([])\n",
    "\n",
    "    def __str__(self) -> str:\n",
    "        return f\"${self.expression}$\"\n",
    "\n",
    "    @property\n",
    "    def expression(self) -> jm.Expression:\n",
    "        raise NotImplementedError\n",
    "\n",
    "    @property\n",
    "    def children(self) -> List[Node]:\n",
    "        return self._children\n",
    "\n",
    "    @property\n",
    "    def data(self) -> np.ndarray:\n",
    "        return self._data\n",
    "\n",
    "    @property\n",
    "    def grad(self) -> np.ndarray:\n",
    "        return self._grad\n",
    "\n",
    "    @data.setter\n",
    "    def data(self, data: np.ndarray) -> None:\n",
    "        self._data = data\n",
    "\n",
    "    def forward(self, *data: np.ndarray | None) -> Operator:\n",
    "        for node, x in zip(self.children, data):\n",
    "            if isinstance(node, Placeholder) and x is not None:\n",
    "                if not isinstance(x, np.ndarray):\n",
    "                    raise TypeError(f\"Type of input data must be np.ndarray, not {type(x)}.\")\n",
    "                if node.shape != x.shape:\n",
    "                    raise DataError(f\"Shape of placeholder '{node}' does not match shape of actual data.\")\n",
    "                node.data = x\n",
    "        self.data = self._forward(*self.children)\n",
    "        return self\n",
    "\n",
    "    def _forward(self, *children: Node) -> np.ndarray:\n",
    "        raise NotImplementedError(\"Operation does not implemented.\")\n",
    "\n",
    "    def backward(self, *grad: np.ndarray):\n",
    "        self._backward()\n",
    "\n",
    "    def _backward(self, *children: Node) -> np.ndarray:\n",
    "        raise NotImplementedError(\"Operation does not implemented.\")\n",
    "\n",
    "\n",
    "class Add(Operator):\n",
    "    def __init__(self, left: Node, right: Node) -> None:\n",
    "        super().__init__(left, right)\n",
    "        print(expression.Add(left.expression, right.expression))\n",
    "        self._expression = expression.Add(left.expression, right.expression)\n",
    "\n",
    "    def forward(self, left: tp.Optional[np.ndarray] = None, right: tp.Optional[np.ndarray] = None) -> Operator:\n",
    "        return super().forward(left, right)\n",
    "\n",
    "    def backward(self):\n",
    "        return\n",
    "\n",
    "    def _forward(self, *children: Node) -> np.ndarray:\n",
    "        left, right = children\n",
    "\n",
    "        if not (left.data.all() is None or right.data.all() is None):\n",
    "            data = left.data + right.data\n",
    "        else:\n",
    "            data = np.array([])\n",
    "        return data\n",
    "\n",
    "    def __repr__(self):\n",
    "        return f\"$+$\"\n",
    "\n",
    "    @property\n",
    "    def expression(self) -> jm.Expression:\n",
    "        return self._expression\n",
    "\n",
    "class Sub(Node):\n",
    "    pass\n",
    "\n",
    "class Mul(Node):\n",
    "    pass\n",
    "\n",
    "class Div(Node):\n",
    "    pass\n",
    "\n",
    "class Pow(Node):\n",
    "    pass\n",
    "\n",
    "class Mod(Node):\n",
    "    pass\n",
    "\n",
    "class MatMul(Operator):\n",
    "    def __init__(self, left: Node, right: Node) -> None:\n",
    "        super().__init__(left, right)\n",
    "\n",
    "\n",
    "class Sum(Node):\n",
    "    def __init__(\n",
    "            self,\n",
    "            indices: tp.Union[INDEXWITHCOND, tp.List[INDEXWITHCOND]],\n",
    "            term: jm.Expression,\n",
    "        ) -> None:\n",
    "        self._expression = jm.Sum(indices,term)\n",
    "\n",
    "class Placeholder(Operand):\n",
    "    def __init__(\n",
    "            self,\n",
    "            label: str,\n",
    "            shape: tp.Optional[tp.Tuple[int,...]] = None\n",
    "        ) -> None:\n",
    "        super().__init__(label, shape)\n",
    "        self._expression = jm.Placeholder(label)\n",
    "\n",
    "    def __repr__(self) -> str:\n",
    "        return f\"${self.expression}$\"\n",
    "\n",
    "    @property\n",
    "    def data(self) -> np.ndarray:\n",
    "        return self._data\n",
    "\n",
    "    @data.setter\n",
    "    def data(self, data: np.ndarray) -> None:\n",
    "        self._data = data\n",
    "\n",
    "class Variable(Node):\n",
    "    pass\n",
    "\n",
    "class Binary(Operand):\n",
    "    def __init__(\n",
    "            self,\n",
    "            label: str,\n",
    "            shape: tp.Optional[tuple[int, ...]] = None\n",
    "        ) -> None:\n",
    "        super().__init__(label, shape)\n",
    "        self._expression = jm.Binary(label, shape if shape else ())\n",
    "\n",
    "    def __repr__(self) -> str:\n",
    "        return f\"${self.expression}$\"\n",
    "\n",
    "    @property\n",
    "    def expression(self) -> jm.Expression:\n",
    "        return self._expression\n",
    "\n",
    "class Integer(Node):\n",
    "    pass\n",
    "\n",
    "class Continuous(Operand):\n",
    "    def __init__(\n",
    "            self,\n",
    "            label: str,\n",
    "            shape: tp.Optional[tuple[int, ...]] = None\n",
    "        ) -> None:\n",
    "        super().__init__(label, shape)\n",
    "        self.expression.is_operatable = lambda: True\n",
    "\n",
    "    def __repr__(self) -> str:\n",
    "        return f\"${self.expression}$\"\n",
    "\n",
    "\n",
    "\n",
    "class Test1(Node):\n",
    "    def __init__(self):\n",
    "        self.x = Binary(\"x\")\n",
    "\n",
    "    def __call__(self, x, y):\n",
    "        return self.forward(x, y)\n",
    "\n",
    "    def objective(self, a):\n",
    "        v = Add(self.x, a)\n",
    "        return e"
   ]
  },
  {
   "cell_type": "code",
   "execution_count": 63,
   "metadata": {},
   "outputs": [
    {
     "data": {
      "text/plain": [
       "()"
      ]
     },
     "execution_count": 63,
     "metadata": {},
     "output_type": "execute_result"
    }
   ],
   "source": [
    "import torch\n",
    "\n",
    "a = torch.tensor(10.0, requires_grad=True)\n",
    "x = torch.tensor(2.0, requires_grad=True)\n",
    "y = torch.tensor(1.0, requires_grad=True)\n",
    "z = a * x + y\n",
    "\n",
    "z.backward()\n",
    "z.grad_fn.next_functions[1][0].next_functions"
   ]
  }
 ],
 "metadata": {
  "kernelspec": {
   "display_name": "jb",
   "language": "python",
   "name": "python3"
  },
  "language_info": {
   "codemirror_mode": {
    "name": "ipython",
    "version": 3
   },
   "file_extension": ".py",
   "mimetype": "text/x-python",
   "name": "python",
   "nbconvert_exporter": "python",
   "pygments_lexer": "ipython3",
   "version": "3.9.16 (main, Feb  8 2023, 12:35:49) \n[GCC 9.4.0]"
  },
  "orig_nbformat": 4,
  "vscode": {
   "interpreter": {
    "hash": "5eaa3e186cacc9bb332f07e538da540336d7c8bdef1d8d919cfee9dddb691663"
   }
  }
 },
 "nbformat": 4,
 "nbformat_minor": 2
}
