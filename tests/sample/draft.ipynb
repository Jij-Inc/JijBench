{
 "cells": [
  {
   "cell_type": "code",
   "execution_count": null,
   "metadata": {},
   "outputs": [],
   "source": [
    "# from __future__ import annotations\n",
    "# from dataclasses import dataclass, field\n",
    "# \n",
    "# import numpy as np\n",
    "# import pandas as pd\n",
    "# import typing as tp\n",
    "# import jijmodeling as jm\n",
    "# import pathlib\n",
    "# import uuid\n",
    "# \n",
    "# @dataclass\n",
    "# class DataNode:\n",
    "#     data: tp.Any\n",
    "#     name: str | None = None\n",
    "#     operator: FunctionNode | None = None\n",
    "# \n",
    "# \n",
    "# class FunctionNode:\n",
    "#     name: str | None = None\n",
    "# \n",
    "#     def __init__(\n",
    "#         self,\n",
    "#     ) -> None:\n",
    "#         self.inputs = []\n",
    "# \n",
    "#     def apply(self, inputs: list[DataNode], **kwargs: tp.Any) -> DataNode:\n",
    "#         self.inputs += inputs\n",
    "#         return self.operate(inputs, **kwargs)\n",
    "# \n",
    "#     def operate(self, inputs: list[DataNode], **kwargs: tp.Any) -> DataNode:\n",
    "#         raise NotImplementedError\n"
   ]
  },
  {
   "cell_type": "code",
   "execution_count": null,
   "metadata": {},
   "outputs": [],
   "source": [
    "# DEFAULT_RESULT_DIR = \"./.jb_results\"\n",
    "# \n",
    "# \n",
    "# @dataclass\n",
    "# class ID(DataNode):\n",
    "#     data: str | uuid.UUID = field(default_factory=uuid.uuid4)\n",
    "# \n",
    "#     def __post_init__(self):\n",
    "#         self.data = str(self.data)\n",
    "# \n",
    "# \n",
    "# @dataclass\n",
    "# class Date(DataNode):\n",
    "#     data: str | pd.Timestamp = field(default_factory=pd.Timestamp.now)\n",
    "#     name: str = \"timestamp\"\n",
    "# \n",
    "#     def __post_init__(self):\n",
    "#         if isinstance(self.data, str):\n",
    "#             self.data = pd.Timestamp(self.data)\n",
    "# \n",
    "# \n",
    "# class Min(FunctionNode):\n",
    "#     name = \"min\"\n",
    "# \n",
    "#     def operate(self, inputs: list[Array]) -> DataNode:\n",
    "#         data = inputs[0].data.min()\n",
    "#         name = inputs[0].name + f\"_{self.name}\" if inputs[0].name else None\n",
    "#         node = DataNode(data=data, name=name, operator=self)\n",
    "#         return node\n",
    "# \n",
    "# \n",
    "# class Max(FunctionNode):\n",
    "#     name = \"max\"\n",
    "# \n",
    "#     def operate(self, inputs: list[Array]) -> DataNode:\n",
    "#         data = inputs[0].data.max()\n",
    "#         name = inputs[0].name + f\"_{self.name}\" if inputs[0].name else None\n",
    "#         node = DataNode(data=data, name=name, operator=self)\n",
    "#         return node\n",
    "# \n",
    "# \n",
    "# class Mean(FunctionNode):\n",
    "#     name = \"mean\"\n",
    "# \n",
    "#     def operate(self, inputs: list[Array]) -> DataNode:\n",
    "#         data = inputs[0].data.mean()\n",
    "#         name = inputs[0].name + f\"_{self.name}\" if inputs[0].name else None\n",
    "#         node = DataNode(data=data, name=name, operator=self)\n",
    "#         return node\n",
    "# \n",
    "# \n",
    "# class Std(FunctionNode):\n",
    "#     name = \"std\"\n",
    "# \n",
    "#     def operate(self, inputs: list[Array]) -> DataNode:\n",
    "#         data = inputs[0].data.std()\n",
    "#         name = inputs[0].name + f\"_{self.name}\" if inputs[0].name else None\n",
    "#         node = DataNode(data=data, name=name, operator=self)\n",
    "#         return node\n",
    "# \n",
    "# \n",
    "# @dataclass\n",
    "# class Array(DataNode):\n",
    "#     data: np.ndarray\n",
    "# \n",
    "#     def min(self) -> DataNode:\n",
    "#         return Min().apply([self])\n",
    "# \n",
    "#     def max(self) -> DataNode:\n",
    "#         return Max().apply([self])\n",
    "# \n",
    "#     def mean(self) -> DataNode:\n",
    "#         return Mean().apply([self])\n",
    "# \n",
    "#     def std(self) -> DataNode:\n",
    "#         return Std().apply([self])\n",
    "# \n",
    "# \n",
    "# @dataclass\n",
    "# class Energy(Array):\n",
    "#     name: str = \"energy\"\n",
    "# \n",
    "# \n",
    "# @dataclass\n",
    "# class Objective(Array):\n",
    "#     name: str = \"objective\"\n",
    "# \n",
    "# \n",
    "# @dataclass\n",
    "# class ConstraintViolation(Array):\n",
    "#     def __post_init__(self):\n",
    "#         if self.name is None:\n",
    "#             raise NameError(\"Attribute 'name' is None. Please set a name.\")\n",
    "# \n",
    "# \n",
    "# @dataclass\n",
    "# class SampleSet(DataNode):\n",
    "#     data: jm.SampleSet\n",
    "# \n",
    "# \n",
    "# class RecordFactory(FunctionNode):\n",
    "#     name = \"record\"\n",
    "# \n",
    "#     def operate(self, inputs: list[DataNode], name: str | None = None) -> Record:\n",
    "#         data = pd.Series({node.name: node.data for node in inputs})\n",
    "#         return Record(data, name=name, operator=self)\n",
    "# \n",
    "# \n",
    "# class TableFactory(FunctionNode):\n",
    "#     name = \"table\"\n",
    "# \n",
    "#     def operate(self, inputs: list[Record], name: str | None = None) -> Table:\n",
    "#         data = pd.DataFrame({node.name: node.data for node in inputs})\n",
    "#         return Table(data, name=name, operator=self)\n",
    "# \n",
    "# \n",
    "# class ArtifactFactory(FunctionNode):\n",
    "#     name = \"artifact\"\n",
    "# \n",
    "#     def operate(self, inputs: list[Record], name: str | None = None) -> Artifact:\n",
    "#         data = {node.name: node.data.to_dict() for node in inputs}\n",
    "#         return Artifact(data, name=name, operator=self)\n",
    "# \n",
    "# \n",
    "# @dataclass\n",
    "# class Record(DataNode):\n",
    "#     data: pd.Series = field(default_factory=lambda: pd.Series(dtype=\"object\"))\n",
    "# \n",
    "# \n",
    "# @dataclass\n",
    "# class Table(DataNode):\n",
    "#     data: pd.DataFrame = field(default_factory=pd.DataFrame)\n",
    "# \n",
    "#     def append(self, record: Record, axis: tp.Literal[0, 1] = 0) -> Table:\n",
    "#         table = TableFactory().apply([record])\n",
    "#         return Concat().apply([self, table], axis=axis)\n",
    "# \n",
    "# \n",
    "# @dataclass\n",
    "# class Artifact(DataNode):\n",
    "#     data: dict = field(default_factory=dict)\n",
    "# \n",
    "# \n",
    "# class Concat(FunctionNode):\n",
    "#     name = \"concat\"\n",
    "# \n",
    "#     def operate(\n",
    "#         self, inputs: list[Table] | list[Artifact], name=None, axis: tp.Literal[0, 1] = 0\n",
    "#     ) -> Table | Artifact:\n",
    "#         dtype = type(inputs[0])\n",
    "#         if not all([isinstance(node, dtype) for node in inputs]):\n",
    "#             raise TypeError(\n",
    "#                 \"Type of elements of 'inputs' must be unified with either 'Table' or 'Artifact'.\"\n",
    "#             )\n",
    "# \n",
    "#         if isinstance(inputs[0], Artifact):\n",
    "#             data = {node.name: node.data for node in inputs}\n",
    "#             return Artifact(data=data, name=name, operator=self)\n",
    "#         elif isinstance(inputs[0], Table):\n",
    "#             data = pd.concat(\n",
    "#                 [node.data for node in inputs if isinstance(node, Table)], axis=axis\n",
    "#             )\n",
    "#             return Table(data=data, name=name, operator=self)\n",
    "#         else:\n",
    "#             raise TypeError(f\"'{inputs[0].__class__.__name__}' type is not supported.\")\n",
    "# \n",
    "# \n",
    "# @dataclass\n",
    "# class Experiment(DataNode):\n",
    "#     data: tuple = ()\n",
    "# \n",
    "#     def __post_init__(self):\n",
    "#         if not self.data:\n",
    "#             self.data = (Table(), Artifact())"
   ]
  },
  {
   "cell_type": "code",
   "execution_count": 1,
   "metadata": {},
   "outputs": [],
   "source": [
    "import sys\n",
    "\n",
    "sys.path.append(\"../../\")\n",
    "\n",
    "import jijbench as jb"
   ]
  },
  {
   "cell_type": "code",
   "execution_count": null,
   "metadata": {},
   "outputs": [],
   "source": [
    "some_id = jb.ID(name=\"benchmark_id\")\n",
    "some_id"
   ]
  },
  {
   "cell_type": "code",
   "execution_count": null,
   "metadata": {},
   "outputs": [],
   "source": [
    "date = jb.Date()\n",
    "date"
   ]
  },
  {
   "cell_type": "code",
   "execution_count": null,
   "metadata": {},
   "outputs": [],
   "source": [
    "import numpy as np\n",
    "\n",
    "# jb.Array([1, 2, 3], name=\"x\")\n",
    "x = jb.Array(np.arange(5), name=\"x\")\n",
    "x"
   ]
  },
  {
   "cell_type": "code",
   "execution_count": 18,
   "metadata": {},
   "outputs": [],
   "source": [
    "import numpy as np\n",
    "from jijbench.functions.concat import Concat\n",
    "\n",
    "factory1 = jb.functions.RecordFactory()\n",
    "factory2 = jb.functions.RecordFactory()\n",
    "\n",
    "inputs1 = [\n",
    "    jb.ID(name=\"id1\"),\n",
    "    jb.Date(name=\"date1\"),\n",
    "    jb.Array(np.arange(5), name=\"array1\"),\n",
    "]\n",
    "inputs2 = [\n",
    "    jb.ID(name=\"id2\"),\n",
    "    jb.Date(name=\"date2\"),\n",
    "    jb.Array(np.arange(5), name=\"array2\"),\n",
    "]\n",
    "\n",
    "record1 = factory1(inputs1)\n",
    "record2 = factory2(inputs2)\n",
    "\n",
    "concat: Concat[jb.Record]  = jb.functions.Concat()\n",
    "new_record = concat([record1, record2])\n",
    "new_record = concat.operate()"
   ]
  },
  {
   "cell_type": "code",
   "execution_count": 21,
   "metadata": {},
   "outputs": [
    {
     "data": {
      "text/plain": [
       "<jijbench.functions.concat.Concat at 0x7f4fcf94b370>"
      ]
     },
     "execution_count": 21,
     "metadata": {},
     "output_type": "execute_result"
    }
   ],
   "source": [
    "new_record = record1.apply(concat, [record2])"
   ]
  },
  {
   "cell_type": "code",
   "execution_count": 28,
   "metadata": {},
   "outputs": [],
   "source": [
    "f_min = jb.functions.Min()\n",
    "f_max = jb.functions.Max()\n",
    "array = jb.Array(np.arange(5), name=\"x\")\n",
    "\n",
    "new_array = f_max([array])\n",
    "new_array.operator\n",
    "\n",
    "new_record"
   ]
  },
  {
   "cell_type": "code",
   "execution_count": null,
   "metadata": {},
   "outputs": [],
   "source": []
  },
  {
   "cell_type": "code",
   "execution_count": null,
   "metadata": {},
   "outputs": [],
   "source": [
    "record = jb.Record()\n",
    "record"
   ]
  },
  {
   "cell_type": "code",
   "execution_count": null,
   "metadata": {},
   "outputs": [],
   "source": [
    "table = jb.Table()\n",
    "table"
   ]
  },
  {
   "cell_type": "code",
   "execution_count": null,
   "metadata": {
    "notebookRunGroups": {
     "groupValue": "1"
    }
   },
   "outputs": [],
   "source": [
    "artifact = jb.Artifact()\n",
    "artifact"
   ]
  },
  {
   "cell_type": "code",
   "execution_count": null,
   "metadata": {},
   "outputs": [],
   "source": [
    "from jijbench.data.mapping import Mapping\n",
    "\n",
    "isinstance(table, Mapping)"
   ]
  },
  {
   "cell_type": "code",
   "execution_count": null,
   "metadata": {},
   "outputs": [],
   "source": [
    "new_record.operator"
   ]
  },
  {
   "cell_type": "code",
   "execution_count": null,
   "metadata": {},
   "outputs": [],
   "source": [
    "new_record.operator.inputs"
   ]
  },
  {
   "cell_type": "code",
   "execution_count": null,
   "metadata": {},
   "outputs": [],
   "source": [
    "len(new_record.operator.inputs)"
   ]
  },
  {
   "cell_type": "code",
   "execution_count": null,
   "metadata": {},
   "outputs": [],
   "source": [
    "new_record.operator.inputs[0].operator"
   ]
  },
  {
   "cell_type": "code",
   "execution_count": null,
   "metadata": {},
   "outputs": [],
   "source": [
    "new_record.operator.inputs[0].operator.inputs"
   ]
  },
  {
   "cell_type": "code",
   "execution_count": null,
   "metadata": {},
   "outputs": [],
   "source": [
    "print(new_record.operator.inputs[0].operator.inputs[0].operator)"
   ]
  },
  {
   "cell_type": "code",
   "execution_count": null,
   "metadata": {},
   "outputs": [],
   "source": [
    "def f(problem, instance_data):\n",
    "    ...\n",
    "    return sampleset\n",
    "\n",
    "experiment = jb.Experiment()\n",
    "\n",
    "for i in range(3):\n",
    "    with experiment:\n",
    "        factory = jb.functions.RecordFactory()\n",
    "        inputs = [\n",
    "            jb.ID(name=\"id1\"),\n",
    "            jb.Date(name=\"date1\"),\n",
    "            jb.Array(np.arange(i), name=\"array1\"),\n",
    "        ]\n",
    "        record = factory(inputs)\n",
    "        record.name = jb.ID().data\n",
    "\n",
    "        experiment.append(record)"
   ]
  },
  {
   "cell_type": "code",
   "execution_count": null,
   "metadata": {},
   "outputs": [],
   "source": [
    "class A:\n",
    "    def __init__(self, x) -> None:\n",
    "        self.x = 1\n",
    "\n",
    "a = A(1)\n",
    "\n",
    "a1 = a.__new__(A)\n",
    "\n"
   ]
  },
  {
   "cell_type": "code",
   "execution_count": null,
   "metadata": {},
   "outputs": [],
   "source": [
    "experiment.data[1].data"
   ]
  },
  {
   "cell_type": "code",
   "execution_count": null,
   "metadata": {},
   "outputs": [],
   "source": [
    "experiment.table"
   ]
  },
  {
   "cell_type": "code",
   "execution_count": null,
   "metadata": {},
   "outputs": [],
   "source": [
    "def f(x):\n",
    "    return x\n",
    "\n",
    "experiment = jb.Experiment()\n",
    "\n",
    "for i in range(3):\n",
    "    with experiment:\n",
    "        solver = jb.functions.Solver(f)\n",
    "        record = solver([jb.Parameter(i, \"x\")])\n",
    "        experiment.append(record)"
   ]
  },
  {
   "cell_type": "code",
   "execution_count": null,
   "metadata": {},
   "outputs": [],
   "source": [
    "a = {\"x\": 1, \"y\": 2}\n",
    "\n",
    "for k, v in tuple(a.items()):\n",
    "    print(k, v)\n",
    "    \n",
    "    \n",
    "a = (1, 2, 3)\n",
    "a[-1:]"
   ]
  },
  {
   "cell_type": "code",
   "execution_count": null,
   "metadata": {},
   "outputs": [],
   "source": [
    "class A:\n",
    "    def __enter__(self) -> \"A\":\n",
    "        print(\"enter\")\n",
    "        return self\n",
    "    \n",
    "    def __exit__(self, exception_type, exception_value, traceback) -> None:\n",
    "        pass\n",
    "    \n",
    "    \n",
    "    def start(self, x):\n",
    "        print(x)\n",
    "        return self\n",
    "\n",
    "\n",
    "\n",
    "with A().start(1):\n",
    "    print(\"test\")\n"
   ]
  },
  {
   "cell_type": "code",
   "execution_count": null,
   "metadata": {},
   "outputs": [],
   "source": [
    "import sys\n",
    "\n",
    "\n",
    "sys.path.append(\"../../\")\n",
    "\n",
    "import jijbench as jb\n",
    "\n",
    "a1 = jb.Artifact({0: {\"a\": jb.Number(1, \"num\")}})\n",
    "a2 = jb.Artifact({0: {\"a\": jb.Number(1, \"num\")}})\n",
    "\n",
    "concat: jb.functions.Concat[jb.Artifact] = jb.functions.Concat()\n",
    "a = concat([a1, a2])\n",
    "a.data\n"
   ]
  },
  {
   "cell_type": "code",
   "execution_count": 5,
   "metadata": {},
   "outputs": [
    {
     "ename": "NameError",
     "evalue": "name 'NaN' is not defined",
     "output_type": "error",
     "traceback": [
      "\u001b[0;31m---------------------------------------------------------------------------\u001b[0m",
      "\u001b[0;31mNameError\u001b[0m                                 Traceback (most recent call last)",
      "Cell \u001b[0;32mIn[5], line 4\u001b[0m\n\u001b[1;32m      1\u001b[0m \u001b[39mimport\u001b[39;00m \u001b[39mnumpy\u001b[39;00m \u001b[39mas\u001b[39;00m \u001b[39mnp\u001b[39;00m\n\u001b[1;32m      3\u001b[0m np\u001b[39m.\u001b[39mnan\n\u001b[0;32m----> 4\u001b[0m NaN\n",
      "\u001b[0;31mNameError\u001b[0m: name 'NaN' is not defined"
     ]
    }
   ],
   "source": [
    "import numpy as np\n",
    "\n",
    "np.nan"
   ]
  },
  {
   "cell_type": "code",
   "execution_count": null,
   "metadata": {},
   "outputs": [],
   "source": [
    "jb.Experiment()"
   ]
  },
  {
   "cell_type": "code",
   "execution_count": null,
   "metadata": {},
   "outputs": [],
   "source": [
    "import dill\n",
    "\n",
    "with open(\"test.dill\", \"wb\") as f:\n",
    "    dill.dump(a.__class__, f)\n",
    "    "
   ]
  },
  {
   "cell_type": "code",
   "execution_count": null,
   "metadata": {},
   "outputs": [],
   "source": [
    "import sys\n",
    "\n",
    "sys.path.append(\"../../\")\n",
    "\n",
    "import dill\n",
    "# import jijbench as jb\n",
    "\n",
    "with open(\"test.dill\", \"rb\") as f:\n",
    "    cls = dill.load(f)\n",
    "\n",
    "cls()"
   ]
  },
  {
   "cell_type": "code",
   "execution_count": null,
   "metadata": {},
   "outputs": [],
   "source": [
    "def f(x):\n",
    "    return x\n",
    "\n",
    "bench = jb.Benchmark(\n",
    "    params={\"x\": [1, 2, 3]},\n",
    "    solver=f\n",
    ")\n",
    "\n",
    "res = bench()"
   ]
  },
  {
   "cell_type": "code",
   "execution_count": null,
   "metadata": {},
   "outputs": [],
   "source": [
    "import pandas as pd\n",
    "\n",
    "def func(x):\n",
    "    print(x.name)\n",
    "    \n",
    "    return x.apply(id)\n",
    "\n",
    "df = pd.DataFrame([[1, 2], [3, 4], [5, 6]], index=[\"a\", \"b\", \"c\"])\n",
    "df.apply(func)"
   ]
  },
  {
   "cell_type": "code",
   "execution_count": null,
   "metadata": {},
   "outputs": [],
   "source": [
    "def func(x, name):\n",
    "    print(name)\n",
    "    return x\n",
    "\n",
    "ser = pd.Series([1, 2, 3], index=[\"a\", \"b\", \"c\"])"
   ]
  },
  {
   "cell_type": "code",
   "execution_count": null,
   "metadata": {},
   "outputs": [],
   "source": [
    "class A:\n",
    "    pass\n",
    "\n",
    "cls = A\n",
    "\n",
    "cls is A"
   ]
  },
  {
   "cell_type": "code",
   "execution_count": null,
   "metadata": {},
   "outputs": [],
   "source": [
    "for c in df:\n",
    "    print(c)"
   ]
  },
  {
   "cell_type": "code",
   "execution_count": null,
   "metadata": {},
   "outputs": [],
   "source": [
    "df.to_dict()"
   ]
  },
  {
   "cell_type": "code",
   "execution_count": 47,
   "metadata": {},
   "outputs": [],
   "source": [
    "import sys\n",
    "\n",
    "sys.path.append(\"../\")\n",
    "\n",
    "import jijbench as jb\n",
    "import jijzept as jz\n",
    "\n",
    "problem = jb.get_problem(\"TSP\")\n",
    "instance_data = jb.InstanceData(jb.get_instance_data(\"TSP\")[0][1], name=\"feed_dict\")\n",
    "\n",
    "sampler = jz.JijSASampler(config=\"/home/d/.jijzept/config.toml\")\n",
    "\n",
    "bench = jb.Benchmark(\n",
    "    params={\"model\": [problem], \"feed_dict\": [instance_data]},\n",
    "    solver=sampler.sample_model\n",
    ")\n",
    "\n",
    "res = bench()"
   ]
  },
  {
   "cell_type": "code",
   "execution_count": 48,
   "metadata": {},
   "outputs": [
    {
     "data": {
      "text/latex": [
       "$$\\begin{alignat*}{4}\\text{Problem} & \\text{: travelling\\_salesman} \\\\\\min & \\quad \\sum_{ t = 0 }^{ N - 1 } \\sum_{ i = 0 }^{ N - 1 } \\sum_{ j = 0 }^{ N - 1 } dist_{i,j} \\cdot x_{t,i} \\cdot x_{\\left( t + 1 \\right) \\mod N,j} \\\\\\text{s.t.} & \\\\& \\text{onehot\\_time} :\\\\ &\\quad \\quad \\sum_{ \\bar{i}_{1} = 0 }^{ N - 1 } x_{t,\\bar{i}_{1}} = 1,\\ \\forall t \\in \\left\\{ 0 ,\\ldots , N - 1 \\right\\} \\\\[8pt]& \\text{onehot\\_location} :\\\\ &\\quad \\quad \\sum_{ \\bar{i}_{0} = 0 }^{ N - 1 } x_{\\bar{i}_{0},i} = 1,\\ \\forall i \\in \\left\\{ 0 ,\\ldots , N - 1 \\right\\} \\\\[8pt]& x_{i_{0},i_{1}} \\in \\{0, 1\\}\\end{alignat*}$$"
      ],
      "text/plain": [
       "<jijmodeling.problem.problem.Problem at 0x7f4fcfce3370>"
      ]
     },
     "execution_count": 48,
     "metadata": {},
     "output_type": "execute_result"
    }
   ],
   "source": [
    "problem"
   ]
  },
  {
   "cell_type": "code",
   "execution_count": 49,
   "metadata": {},
   "outputs": [
    {
     "data": {
      "text/html": [
       "<div>\n",
       "<style scoped>\n",
       "    .dataframe tbody tr th:only-of-type {\n",
       "        vertical-align: middle;\n",
       "    }\n",
       "\n",
       "    .dataframe tbody tr th {\n",
       "        vertical-align: top;\n",
       "    }\n",
       "\n",
       "    .dataframe thead th {\n",
       "        text-align: right;\n",
       "    }\n",
       "</style>\n",
       "<table border=\"1\" class=\"dataframe\">\n",
       "  <thead>\n",
       "    <tr style=\"text-align: right;\">\n",
       "      <th></th>\n",
       "      <th></th>\n",
       "      <th></th>\n",
       "      <th>model</th>\n",
       "      <th>feed_dict</th>\n",
       "      <th>sample_model</th>\n",
       "      <th>num_occurrences</th>\n",
       "      <th>energy</th>\n",
       "      <th>objective</th>\n",
       "      <th>onehot_time_violations</th>\n",
       "      <th>onehot_location_violations</th>\n",
       "      <th>num_samples</th>\n",
       "      <th>num_feasible</th>\n",
       "      <th>execution_time</th>\n",
       "    </tr>\n",
       "    <tr>\n",
       "      <th>benchmark_id</th>\n",
       "      <th>experiment_id</th>\n",
       "      <th>run_id</th>\n",
       "      <th></th>\n",
       "      <th></th>\n",
       "      <th></th>\n",
       "      <th></th>\n",
       "      <th></th>\n",
       "      <th></th>\n",
       "      <th></th>\n",
       "      <th></th>\n",
       "      <th></th>\n",
       "      <th></th>\n",
       "      <th></th>\n",
       "    </tr>\n",
       "  </thead>\n",
       "  <tbody>\n",
       "    <tr>\n",
       "      <th>6cae3a62-8e14-455d-bf52-1a2f06cd2564</th>\n",
       "      <th>52d49379-9034-49cc-a07f-05a41b7334fc</th>\n",
       "      <th>cdd1d555-ba90-41ab-b5b0-e5216839cd4a</th>\n",
       "      <td>&lt;jijmodeling.problem.problem.Problem object at...</td>\n",
       "      <td>{'N': 17, 'dist': [[9999, 3, 5, 48, 48, 8, 8, ...</td>\n",
       "      <td>&lt;bound method JijSASampler.sample_model of &lt;ji...</td>\n",
       "      <td>[1]</td>\n",
       "      <td>[-33.97389602661133]</td>\n",
       "      <td>[261.0]</td>\n",
       "      <td>[0.0]</td>\n",
       "      <td>[0.0]</td>\n",
       "      <td>1</td>\n",
       "      <td>1</td>\n",
       "      <td>0.080752</td>\n",
       "    </tr>\n",
       "  </tbody>\n",
       "</table>\n",
       "</div>"
      ],
      "text/plain": [
       "                                                                                                                                                            model  \\\n",
       "benchmark_id                         experiment_id                        run_id                                                                                    \n",
       "6cae3a62-8e14-455d-bf52-1a2f06cd2564 52d49379-9034-49cc-a07f-05a41b7334fc cdd1d555-ba90-41ab-b5b0-e5216839cd4a  <jijmodeling.problem.problem.Problem object at...   \n",
       "\n",
       "                                                                                                                                                        feed_dict  \\\n",
       "benchmark_id                         experiment_id                        run_id                                                                                    \n",
       "6cae3a62-8e14-455d-bf52-1a2f06cd2564 52d49379-9034-49cc-a07f-05a41b7334fc cdd1d555-ba90-41ab-b5b0-e5216839cd4a  {'N': 17, 'dist': [[9999, 3, 5, 48, 48, 8, 8, ...   \n",
       "\n",
       "                                                                                                                                                     sample_model  \\\n",
       "benchmark_id                         experiment_id                        run_id                                                                                    \n",
       "6cae3a62-8e14-455d-bf52-1a2f06cd2564 52d49379-9034-49cc-a07f-05a41b7334fc cdd1d555-ba90-41ab-b5b0-e5216839cd4a  <bound method JijSASampler.sample_model of <ji...   \n",
       "\n",
       "                                                                                                               num_occurrences  \\\n",
       "benchmark_id                         experiment_id                        run_id                                                 \n",
       "6cae3a62-8e14-455d-bf52-1a2f06cd2564 52d49379-9034-49cc-a07f-05a41b7334fc cdd1d555-ba90-41ab-b5b0-e5216839cd4a             [1]   \n",
       "\n",
       "                                                                                                                              energy  \\\n",
       "benchmark_id                         experiment_id                        run_id                                                       \n",
       "6cae3a62-8e14-455d-bf52-1a2f06cd2564 52d49379-9034-49cc-a07f-05a41b7334fc cdd1d555-ba90-41ab-b5b0-e5216839cd4a  [-33.97389602661133]   \n",
       "\n",
       "                                                                                                               objective  \\\n",
       "benchmark_id                         experiment_id                        run_id                                           \n",
       "6cae3a62-8e14-455d-bf52-1a2f06cd2564 52d49379-9034-49cc-a07f-05a41b7334fc cdd1d555-ba90-41ab-b5b0-e5216839cd4a   [261.0]   \n",
       "\n",
       "                                                                                                               onehot_time_violations  \\\n",
       "benchmark_id                         experiment_id                        run_id                                                        \n",
       "6cae3a62-8e14-455d-bf52-1a2f06cd2564 52d49379-9034-49cc-a07f-05a41b7334fc cdd1d555-ba90-41ab-b5b0-e5216839cd4a                  [0.0]   \n",
       "\n",
       "                                                                                                               onehot_location_violations  \\\n",
       "benchmark_id                         experiment_id                        run_id                                                            \n",
       "6cae3a62-8e14-455d-bf52-1a2f06cd2564 52d49379-9034-49cc-a07f-05a41b7334fc cdd1d555-ba90-41ab-b5b0-e5216839cd4a                      [0.0]   \n",
       "\n",
       "                                                                                                                num_samples  \\\n",
       "benchmark_id                         experiment_id                        run_id                                              \n",
       "6cae3a62-8e14-455d-bf52-1a2f06cd2564 52d49379-9034-49cc-a07f-05a41b7334fc cdd1d555-ba90-41ab-b5b0-e5216839cd4a            1   \n",
       "\n",
       "                                                                                                                num_feasible  \\\n",
       "benchmark_id                         experiment_id                        run_id                                               \n",
       "6cae3a62-8e14-455d-bf52-1a2f06cd2564 52d49379-9034-49cc-a07f-05a41b7334fc cdd1d555-ba90-41ab-b5b0-e5216839cd4a             1   \n",
       "\n",
       "                                                                                                                execution_time  \n",
       "benchmark_id                         experiment_id                        run_id                                                \n",
       "6cae3a62-8e14-455d-bf52-1a2f06cd2564 52d49379-9034-49cc-a07f-05a41b7334fc cdd1d555-ba90-41ab-b5b0-e5216839cd4a        0.080752  "
      ]
     },
     "execution_count": 49,
     "metadata": {},
     "output_type": "execute_result"
    }
   ],
   "source": [
    "res.table"
   ]
  },
  {
   "cell_type": "code",
   "execution_count": 51,
   "metadata": {},
   "outputs": [
    {
     "data": {
      "text/plain": [
       "Index(['onehot_time_violations', 'onehot_location_violations'], dtype='object')"
      ]
     },
     "execution_count": 51,
     "metadata": {},
     "output_type": "execute_result"
    }
   ],
   "source": [
    "def violations(x):\n",
    "    x.index[x.index.str.contains(\"violations\")]\n",
    "    ...\n",
    "    return violations\n",
    "\n",
    "class MetricsPlot:\n",
    "    def __init__(self, result) -> None:\n",
    "        pass\n",
    "\n",
    "    def bar(self, f: Callable):\n",
    "        metrics = self.result.table.apply(f)\n",
    "        plot.bar(metircs)\n",
    "\n",
    "    def bar_violations(self):\n",
    "        metrics = self.bar(f=violations)\n",
    "\n",
    "    def plot():\n",
    "        pass\n",
    "\n",
    "\n",
    "def construct_experiment_from_sampleset() -> jb.Experiment:\n",
    "    pass\n",
    "\n",
    "result = construct_experiment_from_sampleset(sampleset)\n",
    "mplot = MetricsPlot(result)\n",
    "mplot.bar_violations()"
   ]
  },
  {
   "cell_type": "code",
   "execution_count": 40,
   "metadata": {},
   "outputs": [
    {
     "data": {
      "text/plain": [
       "InstanceData(data={'weights': [91.0, 72.0, 90.0, 46.0, 55.0, 8.0, 35.0, 75.0, 61.0, 15.0, 77.0, 40.0, 63.0, 75.0, 29.0, 75.0, 17.0, 78.0, 40.0, 44.0], 'values': [84.0, 83.0, 43.0, 4.0, 44.0, 6.0, 82.0, 92.0, 25.0, 83.0, 56.0, 18.0, 58.0, 14.0, 48.0, 70.0, 96.0, 32.0, 68.0, 92.0], 'num_items': 20, 'capacity': 879}, name='feed_dict')"
      ]
     },
     "execution_count": 40,
     "metadata": {},
     "output_type": "execute_result"
    }
   ],
   "source": [
    "instance_data"
   ]
  },
  {
   "cell_type": "code",
   "execution_count": null,
   "metadata": {},
   "outputs": [],
   "source": [
    "import jijzept as jz\n"
   ]
  },
  {
   "cell_type": "code",
   "execution_count": null,
   "metadata": {},
   "outputs": [],
   "source": [
    "import typing as tp\n",
    "\n",
    "\n",
    "tp.Union[str, tp.Union[int, float]]"
   ]
  },
  {
   "cell_type": "code",
   "execution_count": null,
   "metadata": {},
   "outputs": [],
   "source": [
    "class Evaluator(FunctionNode):\n",
    "    def __call__(self, inputs: list[experiment]) -> Experiment:\n",
    "        ..."
   ]
  },
  {
   "cell_type": "code",
   "execution_count": null,
   "metadata": {},
   "outputs": [],
   "source": [
    "evalutor = jb.Evaluator()\n",
    "eres = evalutor(res)\n",
    "\n"
   ]
  },
  {
   "cell_type": "code",
   "execution_count": null,
   "metadata": {},
   "outputs": [],
   "source": [
    "res.table"
   ]
  },
  {
   "cell_type": "code",
   "execution_count": null,
   "metadata": {},
   "outputs": [],
   "source": [
    "res.artifact"
   ]
  },
  {
   "cell_type": "code",
   "execution_count": null,
   "metadata": {},
   "outputs": [],
   "source": [
    "import pandas as pd\n",
    "\n",
    "\n",
    "df = pd.DataFrame([[1, 2], [3, 4]])\n",
    "df"
   ]
  },
  {
   "cell_type": "code",
   "execution_count": null,
   "metadata": {},
   "outputs": [],
   "source": [
    "df.applymap(id)"
   ]
  },
  {
   "cell_type": "code",
   "execution_count": 33,
   "metadata": {},
   "outputs": [
    {
     "data": {
      "text/plain": [
       "mappingproxy({'model': <Parameter \"model: 'Problem'\">,\n",
       "              'feed_dict': <Parameter \"feed_dict: 'dict[str, Number | list | np.ndarray]'\">,\n",
       "              'multipliers': <Parameter \"multipliers: 'dict[str, Number]' = {}\">,\n",
       "              'fixed_variables': <Parameter \"fixed_variables: 'dict[str, dict[tuple[int, ...], int | float]]' = {}\">,\n",
       "              'search': <Parameter \"search: 'bool' = False\">,\n",
       "              'num_search': <Parameter \"num_search: 'int' = 15\">,\n",
       "              'algorithm': <Parameter \"algorithm: 'str | None' = None\">,\n",
       "              'parameters': <Parameter \"parameters: 'JijSAParameters | None' = None\">,\n",
       "              'timeout': <Parameter \"timeout: 'int | None' = None\">,\n",
       "              'sync': <Parameter \"sync: 'bool' = True\">,\n",
       "              'queue_name': <Parameter \"queue_name: 'str | None' = None\">,\n",
       "              'kwargs': <Parameter \"**kwargs\">})"
      ]
     },
     "execution_count": 33,
     "metadata": {},
     "output_type": "execute_result"
    }
   ],
   "source": [
    "import inspect\n",
    "import jijzept as jz\n",
    "\n",
    "sampler = jz.JijSASampler(config=\"/home/d/.jijzept/config.toml\")\n",
    "inspect.signature(sampler.sample_model).parameters\n"
   ]
  },
  {
   "cell_type": "code",
   "execution_count": null,
   "metadata": {},
   "outputs": [],
   "source": []
  },
  {
   "cell_type": "code",
   "execution_count": null,
   "metadata": {},
   "outputs": [],
   "source": []
  },
  {
   "cell_type": "code",
   "execution_count": null,
   "metadata": {},
   "outputs": [],
   "source": []
  },
  {
   "cell_type": "code",
   "execution_count": null,
   "metadata": {},
   "outputs": [],
   "source": []
  },
  {
   "cell_type": "code",
   "execution_count": null,
   "metadata": {},
   "outputs": [],
   "source": [
    "from __future__ import annotations\n",
    "from dataclasses import dataclass\n",
    "\n",
    "import typing as tp\n",
    "\n",
    "@dataclass(frozen=True)\n",
    "class DN:\n",
    "    data: tp.Any\n",
    "    name: str | None = None\n",
    "\n",
    "    @property\n",
    "    def dtype(self) -> type:\n",
    "        return type(self.data)\n",
    "\n",
    "\n",
    "d = DN([1, 2])\n"
   ]
  },
  {
   "cell_type": "code",
   "execution_count": null,
   "metadata": {},
   "outputs": [],
   "source": [
    "import chainer.functions\n",
    "import pandas as pd\n",
    "from pandas.core import frame"
   ]
  },
  {
   "cell_type": "code",
   "execution_count": null,
   "metadata": {},
   "outputs": [],
   "source": [
    "a = [1, 2, 3]\n",
    "a[::-1]"
   ]
  },
  {
   "cell_type": "code",
   "execution_count": null,
   "metadata": {},
   "outputs": [],
   "source": [
    "import sys\n",
    "\n",
    "sys.path.append(\"../\")\n",
    "\n",
    "import jijbench as jb\n",
    "import numpy as np\n",
    "\n",
    "from jijbench.node.base import DataNode, FunctionNode\n",
    "from jijbench.functions.math import Min\n",
    "\n",
    "\n"
   ]
  },
  {
   "cell_type": "code",
   "execution_count": null,
   "metadata": {},
   "outputs": [],
   "source": [
    "array = jb.Array(np.array([1, 2, 3]))\n",
    "f: FunctionNode[jb.Array, jb.Array] = Min()\n",
    "res = array.apply(f)\n",
    "res.operator"
   ]
  },
  {
   "cell_type": "code",
   "execution_count": null,
   "metadata": {},
   "outputs": [],
   "source": [
    "factory = jb.functions.RecordFactory()\n",
    "\n",
    "inputs = [jb.ID(name=\"id\"), jb.Date(), jb.Array(np.arange(5))]\n",
    "record = factory(inputs)\n",
    "\n",
    "record = pd.concat([record.data, record.data])\n",
    "record[\"id\"]"
   ]
  },
  {
   "cell_type": "code",
   "execution_count": null,
   "metadata": {},
   "outputs": [],
   "source": []
  },
  {
   "cell_type": "code",
   "execution_count": null,
   "metadata": {},
   "outputs": [],
   "source": [
    "class A:\n",
    "    pass\n",
    "\n",
    "a = A()\n",
    "a.__class__.__name__\n",
    "\n",
    "def func(x=[]):\n",
    "    x += [1]\n",
    "    return x\n",
    "\n",
    "print(func())\n",
    "(func())\n",
    "print(a)\n",
    "func()"
   ]
  },
  {
   "cell_type": "code",
   "execution_count": null,
   "metadata": {},
   "outputs": [],
   "source": [
    "import pandas as pd\n",
    "\n",
    "pd.concat\n",
    "\n",
    "def f():\n",
    "    return 1\n",
    "\n",
    "df = pd.DataFrame()\n",
    "df.apply(f)"
   ]
  },
  {
   "cell_type": "code",
   "execution_count": null,
   "metadata": {},
   "outputs": [],
   "source": [
    "import abc\n",
    "\n",
    "class A(metaclass=abc.ABCMeta):\n",
    "    @abc.abstractmethod\n",
    "    def f(self):\n",
    "        pass\n",
    "\n",
    "class B(A):\n",
    "    def __init__(self, x) -> None:\n",
    "        self.x = x\n",
    "    \n",
    "    def f(self):\n",
    "        print(f\"x: {self.x}\")"
   ]
  },
  {
   "cell_type": "code",
   "execution_count": null,
   "metadata": {},
   "outputs": [],
   "source": [
    "b = B([1])\n",
    "\n",
    "c = type(b)(b.x)\n",
    "c.x += [2]\n",
    "b.x"
   ]
  },
  {
   "cell_type": "code",
   "execution_count": null,
   "metadata": {},
   "outputs": [],
   "source": [
    "import typing as tp\n",
    "\n",
    "x = 1\n",
    "x = tp.cast(float, x)"
   ]
  },
  {
   "cell_type": "code",
   "execution_count": null,
   "metadata": {},
   "outputs": [],
   "source": [
    "import numpy as np\n",
    "\n",
    "x = np.array([1])\n",
    "x.copy()\n",
    "type(x)\n",
    "\n",
    "np.ndarray\n",
    "np._ArrayOrScalarCommon"
   ]
  },
  {
   "cell_type": "code",
   "execution_count": null,
   "metadata": {},
   "outputs": [],
   "source": [
    "import pandas as pd\n",
    "\n",
    "df = pd.DataFrame([1])\n",
    "print(id(df))\n",
    "print(id(df.copy()))"
   ]
  },
  {
   "cell_type": "code",
   "execution_count": null,
   "metadata": {},
   "outputs": [],
   "source": [
    "dir(df)"
   ]
  },
  {
   "cell_type": "code",
   "execution_count": null,
   "metadata": {},
   "outputs": [],
   "source": [
    "import typing as tp\n",
    "\n",
    "T = tp.TypeVar(\"T\")\n",
    "\n",
    "def first(xs: list[T]) -> T:\n",
    "    return xs[0]\n",
    "\n",
    "x = first([1.0, 2.0, 3, \"4\"])\n",
    "\n",
    "\n",
    "class A:\n",
    "    _typ = \"T\"\n",
    "    \n",
    "    def f(self, x: T) -> T:\n",
    "        return x\n",
    "    \n",
    "    \n",
    "    \n",
    "    def g(self, x: T) -> T:\n",
    "        return x\n"
   ]
  },
  {
   "cell_type": "code",
   "execution_count": null,
   "metadata": {},
   "outputs": [],
   "source": [
    "a = A()\n",
    "\n",
    "getattr(a, \"a\", \"default\")"
   ]
  },
  {
   "cell_type": "code",
   "execution_count": null,
   "metadata": {},
   "outputs": [],
   "source": [
    "import sys\n",
    "\n",
    "sys.path.append(\"../../\")\n",
    "\n",
    "import jijbench as jb\n",
    "from jijbench.node.base import DataNode\n",
    "\n",
    "t = jb.Table(pd.DataFrame())\n",
    "a = jb.Any(1, \"a\")\n",
    "\n",
    "isinstance(a, DataNode)"
   ]
  },
  {
   "cell_type": "code",
   "execution_count": null,
   "metadata": {},
   "outputs": [],
   "source": [
    "type(\"ABCBase\", (type, ), {})"
   ]
  },
  {
   "cell_type": "code",
   "execution_count": null,
   "metadata": {},
   "outputs": [],
   "source": [
    "def create_pandas_abc_type(name, attr, comp):\n",
    "    def _check(inst):\n",
    "        return getattr(inst, attr, \"_typ\") in comp\n",
    "\n",
    "    # https://github.com/python/mypy/issues/1006\n",
    "    # error: 'classmethod' used with a non-method\n",
    "    @classmethod  # type: ignore[misc]\n",
    "    def _instancecheck(cls, inst) -> bool:\n",
    "        return _check(inst) and not isinstance(inst, type)\n",
    "\n",
    "    @classmethod  # type: ignore[misc]\n",
    "    def _subclasscheck(cls, inst) -> bool:\n",
    "        # Raise instead of returning False\n",
    "        # This is consistent with default __subclasscheck__ behavior\n",
    "        if not isinstance(inst, type):\n",
    "            raise TypeError(\"issubclass() arg 1 must be a class\")\n",
    "\n",
    "        return _check(inst)\n",
    "\n",
    "    dct = {\"__instancecheck__\": _instancecheck, \"__subclasscheck__\": _subclasscheck}\n",
    "    meta = type(\"ABCBase\", (type,), dct)\n",
    "    return meta(name, (), dct)\n"
   ]
  },
  {
   "cell_type": "code",
   "execution_count": null,
   "metadata": {},
   "outputs": [],
   "source": [
    "AT2"
   ]
  },
  {
   "cell_type": "code",
   "execution_count": null,
   "metadata": {},
   "outputs": [],
   "source": [
    "import sys\n",
    "\n",
    "sys.path.append(\"../../\")\n",
    "\n",
    "import typing as tp\n",
    "from typing import Type\n",
    "import jijbench as jb\n",
    "\n",
    "if tp.TYPE_CHECKING:\n",
    "    from jijbench.data.mapping import Artifact\n",
    "\n",
    "meta = type(\"Base\", (type, ), {})\n",
    "t = meta(\"Artifact\", (), {})\n",
    "AT = tp.cast(\"Artifact\", t)\n",
    "\n",
    "t2 = create_pandas_abc_type(\"ArtifactBase\", \"_typ\", (\"arifact\", ))\n",
    "AT2 = tp.cast(\"Type[Artifact]\", t2)\n",
    "\n",
    "obj = jb.Artifact({}, \"a\")\n",
    "isinstance(obj, AT2)"
   ]
  },
  {
   "cell_type": "code",
   "execution_count": null,
   "metadata": {},
   "outputs": [],
   "source": [
    "meta = type(obj.__class_, (type, ), {})\n",
    "meta"
   ]
  },
  {
   "cell_type": "code",
   "execution_count": null,
   "metadata": {},
   "outputs": [],
   "source": [
    "AT2"
   ]
  },
  {
   "cell_type": "code",
   "execution_count": null,
   "metadata": {},
   "outputs": [],
   "source": [
    "a = A()\n",
    "dir(a)"
   ]
  },
  {
   "cell_type": "code",
   "execution_count": null,
   "metadata": {},
   "outputs": [],
   "source": [
    "dir(AT)"
   ]
  },
  {
   "cell_type": "code",
   "execution_count": null,
   "metadata": {},
   "outputs": [],
   "source": []
  },
  {
   "cell_type": "code",
   "execution_count": null,
   "metadata": {},
   "outputs": [],
   "source": [
    "jb.Artifact"
   ]
  },
  {
   "cell_type": "code",
   "execution_count": null,
   "metadata": {},
   "outputs": [],
   "source": [
    "AT"
   ]
  },
  {
   "cell_type": "code",
   "execution_count": null,
   "metadata": {},
   "outputs": [],
   "source": [
    "isinstance(t, meta)"
   ]
  },
  {
   "cell_type": "code",
   "execution_count": null,
   "metadata": {},
   "outputs": [],
   "source": [
    "t"
   ]
  },
  {
   "cell_type": "code",
   "execution_count": null,
   "metadata": {},
   "outputs": [],
   "source": [
    "T = create_pandas_abc_type(\"T\", \"_typ\", (\"T\",))"
   ]
  },
  {
   "cell_type": "code",
   "execution_count": null,
   "metadata": {},
   "outputs": [],
   "source": [
    "dir(T())"
   ]
  },
  {
   "cell_type": "code",
   "execution_count": null,
   "metadata": {},
   "outputs": [],
   "source": [
    "import pandas as pd\n",
    "\n",
    "df = pd.DataFrame()\n",
    "\n",
    "df._typ"
   ]
  },
  {
   "cell_type": "code",
   "execution_count": null,
   "metadata": {},
   "outputs": [],
   "source": [
    "from pandas.core.dtypes.generic import ABCDataFrame\n",
    "\n",
    "isinstance(df, ABCDataFrame)"
   ]
  },
  {
   "cell_type": "code",
   "execution_count": null,
   "metadata": {},
   "outputs": [],
   "source": [
    "meta"
   ]
  },
  {
   "cell_type": "code",
   "execution_count": null,
   "metadata": {},
   "outputs": [],
   "source": [
    "def f(x=[]):\n",
    "    return x\n",
    "\n",
    "x = f()\n",
    "x += [1]\n",
    "\n",
    "# print(f(x=[1, 2]))\n",
    "print(f())\n",
    "\n",
    "class A:\n",
    "    def __init__(self, x={}):\n",
    "        self.x = x\n",
    "\n",
    "a = A()\n",
    "a.x.update({\"x\": 1})\n",
    "print(a.x)\n",
    "print()\n",
    "\n",
    "a = A()\n",
    "print(a.x)\n",
    "a.x.update({\"y\": 2})\n",
    "a.x"
   ]
  },
  {
   "cell_type": "code",
   "execution_count": null,
   "metadata": {},
   "outputs": [],
   "source": [
    "from __future__ import annotations\n",
    "import abc\n",
    "import typing as tp\n",
    "from typing_extensions import TypeAlias\n",
    "\n",
    "T = tp.TypeVar(\"T\")\n",
    "T_co = tp.TypeVar(\"T_co\", covariant=True, bound=\"Iter\")\n",
    "T_contra = tp.TypeVar(\"T_contra\", contravariant=True, bound=\"Iter\")\n",
    "\n",
    "class Iter(tp.Generic[T_contra]):\n",
    "    pass\n",
    "\n",
    "class Array(Iter[T_contra]):\n",
    "    pass\n",
    "\n",
    "class Dict(Iter[T_contra]):\n",
    "    pass\n",
    "\n",
    "class List(Iter[T_contra]):\n",
    "    pass\n",
    "\n"
   ]
  },
  {
   "cell_type": "code",
   "execution_count": null,
   "metadata": {},
   "outputs": [],
   "source": [
    "class Animal:\n",
    "    pass\n",
    "\n",
    "class Dog(Animal):\n",
    "    pass\n",
    "\n",
    "class Cat(Animal):\n",
    "    pass\n",
    "\n",
    "class AnimalList(list):\n",
    "    pass\n",
    "\n",
    "x: list[Animal] = [Dog(), Cat()]\n",
    "y: list[Dog] = [Animal()]"
   ]
  },
  {
   "cell_type": "code",
   "execution_count": null,
   "metadata": {},
   "outputs": [],
   "source": [
    "from __future__ import annotations\n",
    "import abc\n",
    "import typing as tp\n",
    "from dataclasses import dataclass\n",
    "from typing_extensions import TypeAlias\n",
    "\n",
    "T = tp.TypeVar(\"T\")\n",
    "T1 = tp.TypeVar(\"T1\")\n",
    "T2 = tp.TypeVar(\"T2\")\n",
    "T3 = tp.TypeVar(\"T3\")\n",
    "T4 = tp.TypeVar(\"T4\")\n",
    "\n",
    "T_co = tp.TypeVar(\"T_co\", covariant=True)\n",
    "T_contra = tp.TypeVar(\"T_contra\", contravariant=True)\n",
    "\n",
    "\n",
    "ListType: TypeAlias = tp.Union[list[int],list[float]]\n",
    "\n",
    "class A(tp.Generic[T_contra]):\n",
    "    def f(self, x: list[T_contra]) -> list[T_contra]:\n",
    "        return x\n",
    "\n",
    "    def g(self, x: T_contra) -> Iter:\n",
    "        return Iter()\n",
    "\n",
    "class B(A[Array]):\n",
    "    def f(self, x: Array) -> Array:\n",
    "        return Array()\n",
    "\n",
    "\n",
    "@dataclass\n",
    "class A2(tp.Generic[T_co]):\n",
    "    def f(self, x: list[T_co]) -> T_co:\n",
    "        return x[0]\n",
    "\n",
    "    def g(self, x: T_co) -> T_coc:\n",
    "        pass\n",
    "\n",
    "\n",
    "class A3:\n",
    "    def f(self, x: T) -> T:\n",
    "        return x\n",
    "\n",
    "    def g(self, x: T) -> T:\n",
    "        return x\n",
    "    \n",
    "class B3(A3):\n",
    "    def f(self, x: int) -> int:\n",
    "        return 1\n",
    "\n",
    "class A4(tp.Generic[T1, T2, T3, T4]):\n",
    "    pass\n",
    "\n",
    "class B4(A4[T, T, T, T]):\n",
    "    pass\n",
    "\n",
    "a = A()\n",
    "a.f([Array()])\n",
    "\n",
    "a2 = A2()\n",
    "a2.f([Array()])\n",
    "a2.g(Iter())\n",
    "\n",
    "b3 = B3()\n",
    "b3.f(1)\n",
    "b3.g(1)\n",
    "\n",
    "a4: A4[int, int, int, int] = A4()\n",
    "b4: B4[int] = B4()"
   ]
  },
  {
   "cell_type": "code",
   "execution_count": null,
   "metadata": {},
   "outputs": [],
   "source": [
    "import abc\n",
    "from dataclasses import dataclass\n",
    "\n",
    "@dataclass\n",
    "class Base(metaclass=abc.ABCMeta):\n",
    "    pass\n",
    "\n",
    "class Some(Base):\n",
    "    @abc.abstractmethod\n",
    "    def f(self):\n",
    "        return \"abc\"\n",
    "\n",
    "\n",
    "Some()"
   ]
  },
  {
   "cell_type": "code",
   "execution_count": null,
   "metadata": {},
   "outputs": [],
   "source": [
    "def f(x: int) -> AB:\n",
    "    return A()\n"
   ]
  },
  {
   "cell_type": "code",
   "execution_count": null,
   "metadata": {},
   "outputs": [],
   "source": [
    "from dataclasses import dataclass, field\n",
    "\n",
    "class A:\n",
    "    def __init__(self, x) -> None:\n",
    "        self.x = x\n",
    "    \n",
    "    def f(self, a: A) -> A:\n",
    "        c = type(a)\n",
    "\n",
    "a = A(1)\n",
    "a.__dict__\n"
   ]
  },
  {
   "cell_type": "code",
   "execution_count": null,
   "metadata": {},
   "outputs": [],
   "source": [
    "from __future__ import annotations\n",
    "\n",
    "@dataclass\n",
    "class A:\n",
    "    x: int | None = field(repr=False, default=None)\n",
    "\n",
    "a = A(1)\n",
    "a.x\n",
    "a.__dict__"
   ]
  },
  {
   "cell_type": "code",
   "execution_count": null,
   "metadata": {},
   "outputs": [],
   "source": [
    "import copy\n",
    "\n",
    "x = [[1]]\n",
    "# x = {0: [1]}\n",
    "xc = copy.copy(x)\n",
    "xc2 = x.copy()\n",
    "xc3 = copy.deepcopy(x)\n",
    "print(id(x))\n",
    "print(id(xc))\n",
    "print(id(xc2))\n",
    "print(id(xc3))\n",
    "print(id(x[0]))\n",
    "print(id(xc[0]))\n",
    "print(id(xc2[0]))\n",
    "print(id(xc3[0]))"
   ]
  },
  {
   "cell_type": "code",
   "execution_count": null,
   "metadata": {},
   "outputs": [],
   "source": [
    "import numpy as np\n",
    "import pandas as pd\n",
    "\n",
    "def f(x):\n",
    "    print(type(x))\n",
    "    if x == 1:\n",
    "        return x\n",
    "    else:\n",
    "        return np.NaN\n",
    "\n",
    "df = pd.DataFrame([[1, 2], [3, 4]])\n",
    "df = df.applymap(f)\n",
    "df = df.dropna(how=\"all\").dropna(how=\"all\", axis=1)\n",
    "df"
   ]
  },
  {
   "cell_type": "code",
   "execution_count": null,
   "metadata": {},
   "outputs": [],
   "source": [
    "pd.concat()"
   ]
  },
  {
   "cell_type": "code",
   "execution_count": null,
   "metadata": {},
   "outputs": [],
   "source": [
    "@tp.overload\n",
    "def f(x: int):\n",
    "    ...\n",
    "\n",
    "@tp.overload\n",
    "def f(x: float, y: int = ...):\n",
    "    ...\n",
    "\n",
    "def f(x: int | float, y: int=1):\n",
    "    print(x)\n",
    "    \n",
    "f()"
   ]
  },
  {
   "cell_type": "code",
   "execution_count": null,
   "metadata": {},
   "outputs": [],
   "source": [
    "import pandas as pd\n",
    "\n",
    "df = pd.DataFrame([[1, 2],[3, 4], [5, 6]])\n",
    "df[df == 1]"
   ]
  },
  {
   "cell_type": "code",
   "execution_count": null,
   "metadata": {},
   "outputs": [],
   "source": [
    "df.apply(id)"
   ]
  },
  {
   "cell_type": "code",
   "execution_count": null,
   "metadata": {},
   "outputs": [],
   "source": [
    "df = pd.DataFrame([[1, 2],[3, 4], [5, 6]])\n",
    "index = [(\"a\", i) for i in df.index]\n",
    "df.index = pd.MultiIndex.from_tuples(index)\n",
    "df"
   ]
  },
  {
   "cell_type": "code",
   "execution_count": null,
   "metadata": {},
   "outputs": [],
   "source": [
    "a: int = 1.0"
   ]
  },
  {
   "cell_type": "code",
   "execution_count": null,
   "metadata": {},
   "outputs": [],
   "source": [
    "class A:\n",
    "    def __init__(self) -> None:\n",
    "        setattr(self, \"x\", 1)\n",
    "        setattr(self, \"y\", 2)\n",
    "\n",
    "a = A()"
   ]
  },
  {
   "cell_type": "code",
   "execution_count": null,
   "metadata": {},
   "outputs": [],
   "source": [
    "class A:\n",
    "    pass"
   ]
  },
  {
   "cell_type": "code",
   "execution_count": null,
   "metadata": {},
   "outputs": [],
   "source": [
    "import pandas as pd\n",
    "\n",
    "df = pd.DataFrame([[1, 2], [3, 4]])\n",
    "index = pd.MultiIndex.from_tuples([(\"a\", 0), (\"a\", 1)])\n",
    "df.index = index\n",
    "df2 = pd.DataFrame([[1, 2], [3, 4]])\n",
    "pd.concat([df, df2])\n",
    "\n",
    "df = pd.DataFrame([[1, 2], [3, 4]])\n",
    "df.rename(index={0: index[0], 1: index[1]})\n"
   ]
  },
  {
   "cell_type": "code",
   "execution_count": null,
   "metadata": {},
   "outputs": [],
   "source": [
    "index = pd.MultiIndex.from_tuples([(\"a\", 0), (\"a\" , 1)])\n",
    "index.levels"
   ]
  },
  {
   "cell_type": "code",
   "execution_count": null,
   "metadata": {},
   "outputs": [],
   "source": []
  },
  {
   "cell_type": "code",
   "execution_count": null,
   "metadata": {},
   "outputs": [],
   "source": [
    "from __future__ import annotations\n",
    "import pandas as pd\n",
    "\n",
    "a = pd.Series([1, 2], index=[\"a\", \"b\"])\n",
    "_attrs: dict[str, int] = {\"x\": 1}\n",
    "a._attrs = _attrs\n",
    "d = a.to_dict()"
   ]
  },
  {
   "cell_type": "code",
   "execution_count": null,
   "metadata": {},
   "outputs": [],
   "source": [
    "import typing as tp\n",
    "\n",
    "x: dict[tp.Hashable, tp.Any] = {\"x\": \"1\"}\n",
    "x"
   ]
  },
  {
   "cell_type": "code",
   "execution_count": null,
   "metadata": {},
   "outputs": [],
   "source": [
    "isinstance(None, tp.Hashable)"
   ]
  },
  {
   "cell_type": "code",
   "execution_count": null,
   "metadata": {},
   "outputs": [],
   "source": []
  },
  {
   "cell_type": "code",
   "execution_count": null,
   "metadata": {},
   "outputs": [],
   "source": [
    "T = tp.TypeVar(\"T\", covariant=True)\n",
    "\n",
    "class A(pd.DataFrame, tp.Generic[T]):\n",
    "    def __init__(\n",
    "        self,\n",
    "        data=None,\n",
    "        index=None,\n",
    "        columns=None,\n",
    "        dtype=None,\n",
    "        copy=None,\n",
    "    ) -> None:\n",
    "        super().__init__(data, index, columns, dtype, copy)\n",
    "\n",
    "\n",
    "a: A[int] = A([1, 2])\n",
    "b: A[int] = A([3, 4])\n",
    "\n",
    "c = pd.concat([a, b])\n",
    "\n",
    "x: A = pd.DataFrame([1])\n",
    "\n"
   ]
  },
  {
   "cell_type": "code",
   "execution_count": null,
   "metadata": {},
   "outputs": [],
   "source": [
    "from pandas.core.generic import NDFrame\n"
   ]
  },
  {
   "cell_type": "code",
   "execution_count": null,
   "metadata": {},
   "outputs": [],
   "source": [
    "class A:\n",
    "    x: int\n",
    "    \n",
    "    def __init__(self) -> None:\n",
    "        setattr(self, \"x\", 1)\n",
    "        setattr(self, \"y\", 1)\n",
    "        setattr(self, \"z\", 1)\n",
    "    \n",
    "object.__annotations__"
   ]
  },
  {
   "cell_type": "code",
   "execution_count": null,
   "metadata": {},
   "outputs": [],
   "source": [
    "from pandas.core.dtypes.generic import ABCSeries, ABCDataFrame\n",
    "\n",
    "a = pd.Series([1])"
   ]
  },
  {
   "cell_type": "code",
   "execution_count": null,
   "metadata": {},
   "outputs": [],
   "source": [
    "from dataclasses import dataclass\n",
    "\n",
    "def validate_data(f):\n",
    "    def _validate_data(obj: A, name, value):\n",
    "        dtype = obj.__annotations__[\"data\"]\n",
    "        if name == \"data\":\n",
    "            if not isinstance(value, dtype):\n",
    "                raise TypeError(f\"Attribute 'data' of class {obj.__class__.__name__} must be type '{dtype.__name__}'\")\n",
    "        f(obj, name, value)\n",
    "    return _validate_data\n",
    "\n",
    "@dataclass\n",
    "class A:\n",
    "    data: int\n",
    "    x: tuple[list[int]]\n",
    "\n",
    "    @validate_data\n",
    "    def __setattr__(self, __name: str, __value: tp.Any) -> None:\n",
    "        super().__setattr__(__name, __value)\n",
    "\n",
    "a = A(1, ([1],))\n",
    "a.data = 1\n",
    "\n"
   ]
  },
  {
   "cell_type": "code",
   "execution_count": null,
   "metadata": {},
   "outputs": [],
   "source": [
    "df = pd.DataFrame([[1, 2.0], [\"a\", 2]])\n",
    "df.dtypes"
   ]
  },
  {
   "cell_type": "code",
   "execution_count": null,
   "metadata": {},
   "outputs": [],
   "source": [
    "t"
   ]
  },
  {
   "cell_type": "code",
   "execution_count": null,
   "metadata": {},
   "outputs": [],
   "source": [
    "try:\n",
    "    pd.Timestamp(\"aaa\")\n",
    "except Exception as e:\n",
    "    raise ValueError(f\"Date string is invalid.: {e}\")"
   ]
  },
  {
   "cell_type": "code",
   "execution_count": null,
   "metadata": {},
   "outputs": [],
   "source": [
    "from dataclasses import dataclass\n",
    "\n",
    "\"_\".join(map(lambda x: str(x), (1, 2)))\n",
    "\n",
    "\n",
    "@dataclass\n",
    "class A:\n",
    "    x: int\n",
    "\n",
    "@dataclass\n",
    "class B(A):\n",
    "    y: int\n",
    "\n",
    "b = B(1, 2)\n",
    "b"
   ]
  },
  {
   "cell_type": "code",
   "execution_count": null,
   "metadata": {},
   "outputs": [],
   "source": [
    "def func():\n",
    "    pass\n",
    "\n",
    "isinstance(func, (tp.Callable,))\n"
   ]
  },
  {
   "cell_type": "code",
   "execution_count": null,
   "metadata": {},
   "outputs": [],
   "source": [
    "hasattr(tp.Callable, \"__name__\")\n",
    "print(str(tp.Callable))\n",
    "print(str(A))"
   ]
  },
  {
   "cell_type": "code",
   "execution_count": null,
   "metadata": {},
   "outputs": [],
   "source": [
    "import datetime as dt\n",
    "\n",
    "pd.Timestamp(dt.datetime.now())"
   ]
  },
  {
   "cell_type": "code",
   "execution_count": null,
   "metadata": {},
   "outputs": [],
   "source": [
    "import re\n",
    "\n",
    "s = \"2022-01-01\"\n",
    "\n",
    "re.match"
   ]
  },
  {
   "cell_type": "code",
   "execution_count": null,
   "metadata": {},
   "outputs": [],
   "source": [
    "t = tp.Union[int, float]"
   ]
  },
  {
   "cell_type": "code",
   "execution_count": null,
   "metadata": {},
   "outputs": [],
   "source": [
    "a.__class__.__annotations__"
   ]
  },
  {
   "cell_type": "code",
   "execution_count": null,
   "metadata": {},
   "outputs": [],
   "source": [
    "type(a.__annotations__[\"x\"])\n",
    "dir(a.__annotations__[\"x\"])"
   ]
  },
  {
   "cell_type": "code",
   "execution_count": null,
   "metadata": {},
   "outputs": [],
   "source": [
    "a.__annotations__[\"x\"]"
   ]
  },
  {
   "cell_type": "code",
   "execution_count": null,
   "metadata": {},
   "outputs": [],
   "source": [
    "a.__annotations__"
   ]
  },
  {
   "cell_type": "code",
   "execution_count": null,
   "metadata": {},
   "outputs": [],
   "source": [
    "a.__annotations__[\"data\"].__mro__"
   ]
  },
  {
   "cell_type": "code",
   "execution_count": null,
   "metadata": {},
   "outputs": [],
   "source": [
    "obj"
   ]
  },
  {
   "cell_type": "code",
   "execution_count": null,
   "metadata": {},
   "outputs": [],
   "source": [
    "df = pd.DataFrame([[1, 2], [3, 4]], columns=[\"a\", \"b\"])\n",
    "df.applymap(lambda x: isinstance(x, int)).values.all()"
   ]
  },
  {
   "cell_type": "code",
   "execution_count": null,
   "metadata": {},
   "outputs": [],
   "source": [
    "a: int = 1.0"
   ]
  },
  {
   "cell_type": "code",
   "execution_count": null,
   "metadata": {},
   "outputs": [],
   "source": [
    "class B:\n",
    "    pass\n",
    "\n",
    "b = B()\n",
    "b.__annotations__"
   ]
  },
  {
   "cell_type": "code",
   "execution_count": null,
   "metadata": {},
   "outputs": [],
   "source": [
    "@dataclass\n",
    "class A:\n",
    "    x: int = 1\n",
    "    y: int = 2\n",
    "    z: int = 3\n",
    "    \n",
    "\n",
    "pd.DataFrame([A(), A()])"
   ]
  },
  {
   "cell_type": "code",
   "execution_count": null,
   "metadata": {},
   "outputs": [],
   "source": [
    "isinstance((1,), tuple[int])"
   ]
  },
  {
   "cell_type": "code",
   "execution_count": null,
   "metadata": {},
   "outputs": [],
   "source": [
    "import numpy as np\n",
    "\n",
    "array = np.array([1, 2, 3], dtype=np.int32)\n",
    "isinstance(np.array(1), np.ndarray)\n",
    "type(array.min()) == np.int32\n",
    "isinstance(array.min(), np.int32)\n",
    "str(array.min().dtype)\n",
    "\n",
    "x = np.array([1.0, 2.0])\n",
    "str(x.dtype)"
   ]
  },
  {
   "cell_type": "code",
   "execution_count": null,
   "metadata": {},
   "outputs": [],
   "source": [
    "x = np.array([\"a\", \"b\"])\n",
    "x.dtype"
   ]
  },
  {
   "cell_type": "code",
   "execution_count": null,
   "metadata": {},
   "outputs": [],
   "source": [
    "import typing as tp\n",
    "\n",
    "isinstance(1, tp.Hashable)"
   ]
  },
  {
   "cell_type": "code",
   "execution_count": null,
   "metadata": {},
   "outputs": [],
   "source": [
    "import pandas as pd\n",
    "\n",
    "index = pd.MultiIndex.from_tuples([(\"a\", 0), (\"a\", 1), (\"b\", 0), (\"b\", 1)])\n",
    "ser = pd.Series([10, 20, 30, 40], index=index)\n",
    "ser.index"
   ]
  },
  {
   "cell_type": "code",
   "execution_count": null,
   "metadata": {},
   "outputs": [],
   "source": [
    "ser = pd.Series([10, 20, 30, 40])\n",
    "ser.index"
   ]
  },
  {
   "cell_type": "code",
   "execution_count": null,
   "metadata": {},
   "outputs": [],
   "source": [
    "pd.RangeIndex"
   ]
  },
  {
   "cell_type": "code",
   "execution_count": null,
   "metadata": {},
   "outputs": [],
   "source": [
    "import pandas as pd\n",
    "\n",
    "df = pd.DataFrame([10, 20, 30, 40])\n",
    "index = pd.MultiIndex.from_tuples([(\"a\", 0), (\"a\", 1), (\"b\", 0), (\"b\", 1)])\n",
    "df.index = index\n",
    "df"
   ]
  },
  {
   "cell_type": "code",
   "execution_count": null,
   "metadata": {},
   "outputs": [],
   "source": [
    "from pandas import io"
   ]
  },
  {
   "cell_type": "code",
   "execution_count": null,
   "metadata": {},
   "outputs": [],
   "source": [
    "df = pd.DataFrame([1])\n",
    "index = pd.MultiIndex.from_tuples([(\"a\", \"b\", \"c\")])\n",
    "type(df.columns)\n",
    "\n",
    "pd.DataFrame()\n",
    "\n",
    "df.index = [1]\n",
    "df.to_csv\n",
    "\n",
    "pd.read_csv"
   ]
  },
  {
   "cell_type": "code",
   "execution_count": null,
   "metadata": {},
   "outputs": [],
   "source": [
    "import typing as tp\n",
    "\n",
    "isinstance([1], pd.Index)"
   ]
  },
  {
   "cell_type": "code",
   "execution_count": null,
   "metadata": {},
   "outputs": [],
   "source": [
    "isinstance(None, tp.Hashable)\n",
    "def f(x: tp.Hashable = None):\n",
    "    print(x)"
   ]
  },
  {
   "cell_type": "code",
   "execution_count": null,
   "metadata": {},
   "outputs": [],
   "source": [
    "from chainer.variable import Variable\n",
    "from chainer.function_node import FunctionNode\n",
    "from chainer.functions\n"
   ]
  },
  {
   "cell_type": "code",
   "execution_count": null,
   "metadata": {},
   "outputs": [],
   "source": [
    "import jijmodeling as jm\n",
    "\n",
    "problem = jm.Problem(\"sample\")\n",
    "a = jm.Placeholder(\"a\")\n",
    "b = jm.Placeholder(\"b\")\n",
    "c = jm.Placeholder(\"c\", 1)\n",
    "i = jm.Element(\"i\", 5)\n",
    "x = jm.DecisionVariable(\"x\", 5)\n",
    "\n",
    "problem = jm.Problem(\"sample\")\n",
    "problem += a + b + jm.Sum(i, c[i] * x[i])\n",
    "problem"
   ]
  },
  {
   "cell_type": "code",
   "execution_count": 15,
   "metadata": {},
   "outputs": [
    {
     "name": "stdout",
     "output_type": "stream",
     "text": [
      "10\n"
     ]
    },
    {
     "data": {
      "text/plain": [
       "{'x': 2, 'y': 10}"
      ]
     },
     "execution_count": 15,
     "metadata": {},
     "output_type": "execute_result"
    }
   ],
   "source": [
    "from __future__ import annotations\n",
    "from dataclasses import dataclass\n",
    "\n",
    "\n",
    "@dataclass\n",
    "class A:\n",
    "    x: int\n",
    "\n",
    "    def __post_init__(self) -> None:\n",
    "        self.y: int = 0\n",
    "\n",
    "    def _init_attrs(self, a: A) -> None:\n",
    "        y = a.__dict__.pop(\"y\")\n",
    "        self.__init__(**a.__dict__)\n",
    "        self.y = y\n",
    "\n",
    "a = A(1)\n",
    "a2 = A(2)\n",
    "a2.y = 10\n",
    "a._init_attrs(a2)\n",
    "a.__dict__"
   ]
  },
  {
   "cell_type": "code",
   "execution_count": 45,
   "metadata": {},
   "outputs": [
    {
     "data": {
      "text/plain": [
       "[[1, 2, 'a', 'b'], [1, 2, 'c', 'd'], [3, 4, 'a', 'b'], [3, 4, 'c', 'd']]"
      ]
     },
     "execution_count": 45,
     "metadata": {},
     "output_type": "execute_result"
    }
   ],
   "source": [
    "import itertools\n",
    "\n",
    "a = [[1, 2], [3, 4]]\n",
    "b = [[\"a\", \"b\"], [\"c\", \"d\"]]\n",
    "\n",
    "params = []\n",
    "for ai in a:\n",
    "    for bi in b:\n",
    "        params.append(ai + bi)\n",
    "\n",
    "params = [ai + bi for ai in a for bi in b]\n",
    "params\n"
   ]
  },
  {
   "cell_type": "code",
   "execution_count": 47,
   "metadata": {},
   "outputs": [
    {
     "data": {
      "text/plain": [
       "<Signature (model: 'Problem', feed_dict: 'dict[str, Number | list | np.ndarray]', multipliers: 'dict[str, Number]' = {}, fixed_variables: 'dict[str, dict[tuple[int, ...], int | float]]' = {}, search: 'bool' = False, num_search: 'int' = 15, algorithm: 'str | None' = None, parameters: 'JijSAParameters | None' = None, timeout: 'int | None' = None, sync: 'bool' = True, queue_name: 'str | None' = None, **kwargs) -> 'JijModelingResponse'>"
      ]
     },
     "execution_count": 47,
     "metadata": {},
     "output_type": "execute_result"
    }
   ],
   "source": [
    "import inspect\n",
    "import jijzept as jz\n",
    "\n",
    "sampler = jz.JijSASampler(config=\"/home/d/.jijzept/config.toml\")\n",
    "inspect.signature(sampler.sample_model)"
   ]
  },
  {
   "cell_type": "code",
   "execution_count": 27,
   "metadata": {},
   "outputs": [
    {
     "data": {
      "text/plain": [
       "(0, 1, 2)"
      ]
     },
     "execution_count": 27,
     "metadata": {},
     "output_type": "execute_result"
    }
   ],
   "source": [
    "x = [(\"a\", 0), (\"b\", 1), (\"c\", 2)]\n",
    "\n",
    "n, m = zip(*x)"
   ]
  },
  {
   "cell_type": "code",
   "execution_count": 31,
   "metadata": {},
   "outputs": [
    {
     "data": {
      "text/plain": [
       "(0, 2)"
      ]
     },
     "execution_count": 31,
     "metadata": {},
     "output_type": "execute_result"
    }
   ],
   "source": [
    "x = (0, 2) \n",
    "x"
   ]
  },
  {
   "cell_type": "code",
   "execution_count": 19,
   "metadata": {},
   "outputs": [
    {
     "name": "stdout",
     "output_type": "stream",
     "text": [
      "(('a', 0), ('b', 1), ('c', 2))\n"
     ]
    }
   ],
   "source": [
    "x = [(\"a\", 0), (\"b\", 1), (\"c\", 2)]\n",
    "\n",
    "def f(*args):\n",
    "    print(args)\n",
    "\n",
    "f(*x)"
   ]
  },
  {
   "cell_type": "code",
   "execution_count": 13,
   "metadata": {},
   "outputs": [
    {
     "name": "stdout",
     "output_type": "stream",
     "text": [
      "x\n",
      "y\n",
      "1\n",
      "2\n",
      "1\n",
      "2\n",
      "3\n"
     ]
    }
   ],
   "source": [
    "import pandas as pd\n",
    "\n",
    "from dataclasses import dataclass\n",
    "\n",
    "df = pd.DataFrame([[1, 2], [3, 4]], index=[\"a\", \"b\"], columns=[\"x\", \"y\"])\n",
    "\n",
    "for i in df:\n",
    "    print(i)\n",
    "    \n",
    "ser = pd.Series([1, 2],index=[\"a\", \"b\"])\n",
    "for i in ser:\n",
    "    print(i)\n",
    "    \n",
    "ser.__iter__\n",
    "    \n",
    "@dataclass\n",
    "class A:\n",
    "    data: list[int]\n",
    "    \n",
    "    def __iter__(self):\n",
    "        return iter(self.data)\n",
    "\n",
    "print()\n",
    "a = A([1, 2, 3])\n",
    "for ai in a:\n",
    "    print(ai)"
   ]
  },
  {
   "cell_type": "code",
   "execution_count": 45,
   "metadata": {},
   "outputs": [
    {
     "name": "stdout",
     "output_type": "stream",
     "text": [
      "variable(1)\n",
      "variable(2)\n"
     ]
    },
    {
     "ename": "TypeError",
     "evalue": "'A' object is not iterable",
     "output_type": "error",
     "traceback": [
      "\u001b[0;31m---------------------------------------------------------------------------\u001b[0m",
      "\u001b[0;31mTypeError\u001b[0m                                 Traceback (most recent call last)",
      "Cell \u001b[0;32mIn[45], line 22\u001b[0m\n\u001b[1;32m     18\u001b[0m         \u001b[39mreturn\u001b[39;00m \u001b[39mself\u001b[39m\u001b[39m.\u001b[39mdata\u001b[39m.\u001b[39m\u001b[39m__repr__\u001b[39m()\n\u001b[1;32m     20\u001b[0m a \u001b[39m=\u001b[39m A()\n\u001b[0;32m---> 22\u001b[0m \u001b[39mfor\u001b[39;00m ai \u001b[39min\u001b[39;00m a:\n\u001b[1;32m     23\u001b[0m     \u001b[39mprint\u001b[39m(ai)\n",
      "\u001b[0;31mTypeError\u001b[0m: 'A' object is not iterable"
     ]
    }
   ],
   "source": [
    "import numpy as np\n",
    "import typing as tp\n",
    "from chainer.variable import Variable\n",
    "\n",
    "v = Variable(np.array([1, 2]))\n",
    "\n",
    "# isinstance(v, tp.Iterable)\n",
    "\n",
    "for vi in v:\n",
    "    print(vi)\n",
    "    \n",
    "\n",
    "class A(object):\n",
    "    def __init__(self) -> None:\n",
    "        self.data = [1, 2]\n",
    "        \n",
    "    def __repr__(self) -> str:\n",
    "        return self.data.__repr__()\n",
    "    \n",
    "a = A()\n",
    "\n",
    "for ai in a:\n",
    "    print(ai)"
   ]
  },
  {
   "cell_type": "code",
   "execution_count": 46,
   "metadata": {},
   "outputs": [
    {
     "data": {
      "text/plain": [
       "chainer.variable.Variable"
      ]
     },
     "execution_count": 46,
     "metadata": {},
     "output_type": "execute_result"
    }
   ],
   "source": [
    "type(v)"
   ]
  },
  {
   "cell_type": "code",
   "execution_count": 51,
   "metadata": {},
   "outputs": [
    {
     "data": {
      "text/plain": [
       "<chainer.variable.VariableNode at 0x7f9921d9a970>"
      ]
     },
     "execution_count": 51,
     "metadata": {},
     "output_type": "execute_result"
    }
   ],
   "source": [
    "v.node"
   ]
  },
  {
   "cell_type": "code",
   "execution_count": 57,
   "metadata": {},
   "outputs": [
    {
     "data": {
      "text/plain": [
       "(tensor(1), tensor(2))"
      ]
     },
     "execution_count": 57,
     "metadata": {},
     "output_type": "execute_result"
    }
   ],
   "source": [
    "import torch\n",
    "\n",
    "tns = torch.tensor([1, 2])\n",
    "tns.unbind()"
   ]
  },
  {
   "cell_type": "code",
   "execution_count": 62,
   "metadata": {},
   "outputs": [
    {
     "data": {
      "text/plain": [
       "array([4, 6])"
      ]
     },
     "execution_count": 62,
     "metadata": {},
     "output_type": "execute_result"
    }
   ],
   "source": [
    "x = {\"x\": [1, 2], \"y\": [3, 4]}\n",
    "x = np.array(list(x.values()))\n",
    "x.sum(axis=0)"
   ]
  },
  {
   "cell_type": "code",
   "execution_count": 71,
   "metadata": {},
   "outputs": [
    {
     "data": {
      "text/plain": [
       "0"
      ]
     },
     "execution_count": 71,
     "metadata": {},
     "output_type": "execute_result"
    }
   ],
   "source": [
    "o = np.array([1, 2, 3])\n",
    "sum(((o <= 2) & [False, False, False]))"
   ]
  },
  {
   "cell_type": "code",
   "execution_count": 124,
   "metadata": {},
   "outputs": [
    {
     "name": "stderr",
     "output_type": "stream",
     "text": [
      "/tmp/ipykernel_932117/790488739.py:1: RuntimeWarning: divide by zero encountered in log\n",
      "  1 / np.log(0)\n"
     ]
    },
    {
     "data": {
      "text/plain": [
       "-0.0"
      ]
     },
     "execution_count": 124,
     "metadata": {},
     "output_type": "execute_result"
    }
   ],
   "source": [
    "1 / np.log(0)"
   ]
  },
  {
   "cell_type": "code",
   "execution_count": 119,
   "metadata": {},
   "outputs": [
    {
     "name": "stdout",
     "output_type": "stream",
     "text": [
      "140294961736848\n",
      "140294961736848\n"
     ]
    }
   ],
   "source": [
    "x = np.array([1])\n",
    "\n",
    "class A:\n",
    "    def __init__(self, x) -> None:\n",
    "        self.x = x\n",
    "        \n",
    "\n",
    "a = A(x)\n",
    "\n",
    "print(id(x))\n",
    "print(id(a.x))\n",
    "\n"
   ]
  },
  {
   "cell_type": "code",
   "execution_count": 122,
   "metadata": {},
   "outputs": [
    {
     "data": {
      "text/plain": [
       "{'N': 17,\n",
       " 'dist': [[9999, 3, 5, 48, 48, 8, 8, 5, 5, 3, 3, 0, 3, 5, 8, 8, 5],\n",
       "  [3, 9999, 3, 48, 48, 8, 8, 5, 5, 0, 0, 3, 0, 3, 8, 8, 5],\n",
       "  [5, 3, 9999, 72, 72, 48, 48, 24, 24, 3, 3, 5, 3, 0, 48, 48, 24],\n",
       "  [48, 48, 74, 9999, 0, 6, 6, 12, 12, 48, 48, 48, 48, 74, 6, 6, 12],\n",
       "  [48, 48, 74, 0, 9999, 6, 6, 12, 12, 48, 48, 48, 48, 74, 6, 6, 12],\n",
       "  [8, 8, 50, 6, 6, 9999, 0, 8, 8, 8, 8, 8, 8, 50, 0, 0, 8],\n",
       "  [8, 8, 50, 6, 6, 0, 9999, 8, 8, 8, 8, 8, 8, 50, 0, 0, 8],\n",
       "  [5, 5, 26, 12, 12, 8, 8, 9999, 0, 5, 5, 5, 5, 26, 8, 8, 0],\n",
       "  [5, 5, 26, 12, 12, 8, 8, 0, 9999, 5, 5, 5, 5, 26, 8, 8, 0],\n",
       "  [3, 0, 3, 48, 48, 8, 8, 5, 5, 9999, 0, 3, 0, 3, 8, 8, 5],\n",
       "  [3, 0, 3, 48, 48, 8, 8, 5, 5, 0, 9999, 3, 0, 3, 8, 8, 5],\n",
       "  [0, 3, 5, 48, 48, 8, 8, 5, 5, 3, 3, 9999, 3, 5, 8, 8, 5],\n",
       "  [3, 0, 3, 48, 48, 8, 8, 5, 5, 0, 0, 3, 9999, 3, 8, 8, 5],\n",
       "  [5, 3, 0, 72, 72, 48, 48, 24, 24, 3, 3, 5, 3, 9999, 48, 48, 24],\n",
       "  [8, 8, 50, 6, 6, 0, 0, 8, 8, 8, 8, 8, 8, 50, 9999, 0, 8],\n",
       "  [8, 8, 50, 6, 6, 0, 0, 8, 8, 8, 8, 8, 8, 50, 0, 9999, 8],\n",
       "  [5, 5, 26, 12, 12, 8, 8, 0, 0, 5, 5, 5, 5, 26, 8, 8, 9999]],\n",
       " 'opt_value': 39}"
      ]
     },
     "execution_count": 122,
     "metadata": {},
     "output_type": "execute_result"
    }
   ],
   "source": [
    "import sys\n",
    "sys.path.append(\"../../\")\n",
    "\n",
    "import jijbench as jb\n",
    "\n",
    "jb.get_instance_data(\"TSP\")[0][1]\n"
   ]
  },
  {
   "cell_type": "code",
   "execution_count": null,
   "metadata": {},
   "outputs": [],
   "source": []
  },
  {
   "cell_type": "code",
   "execution_count": null,
   "metadata": {},
   "outputs": [],
   "source": []
  },
  {
   "cell_type": "code",
   "execution_count": null,
   "metadata": {},
   "outputs": [],
   "source": []
  },
  {
   "cell_type": "code",
   "execution_count": null,
   "metadata": {},
   "outputs": [],
   "source": []
  },
  {
   "cell_type": "code",
   "execution_count": null,
   "metadata": {},
   "outputs": [],
   "source": []
  },
  {
   "cell_type": "code",
   "execution_count": null,
   "metadata": {},
   "outputs": [],
   "source": []
  },
  {
   "cell_type": "code",
   "execution_count": null,
   "metadata": {},
   "outputs": [],
   "source": []
  },
  {
   "cell_type": "code",
   "execution_count": null,
   "metadata": {},
   "outputs": [],
   "source": [
    "from __future__ import annotations\n",
    "from dataclasses import dataclass, field\n",
    "\n",
    "import copy\n",
    "import dill\n",
    "import numpy as np\n",
    "import pandas as pd\n",
    "import typing as tp\n",
    "import inspect\n",
    "import itertools\n",
    "import jijmodeling as jm\n",
    "import pathlib\n",
    "import uuid\n",
    "import warnings\n",
    "\n",
    "import sys\n",
    "sys.path.append(\"../\")\n",
    "# from jijbench.exceptions import SolverFailedError\n",
    "class SolverFailedError(Exception):\n",
    "    pass\n",
    "\n",
    "\n",
    "DNodeInType = tp.TypeVar(\"DNodeInType\", bound=\"DataNode\", covariant=True)\n",
    "DNodeOutType = tp.TypeVar(\"DNodeOutType\", bound=\"DataNode\", covariant=True)\n",
    "\n",
    "DEFAULT_RESULT_DIR = pathlib.Path(\"./.jb_results\")\n",
    "\n",
    "\n",
    "@dataclass\n",
    "class DataNode:\n",
    "    data: tp.Any\n",
    "    name: str | None = None\n",
    "\n",
    "    def __post_init__(self) -> None:\n",
    "        self.operator: FunctionNode[DataNode, DataNode] | None = None\n",
    "\n",
    "\n",
    "\n",
    "class FunctionNode(tp.Generic[DNodeInType, DNodeOutType]):\n",
    "    def __init__(\n",
    "        self,\n",
    "        name: str | None = None\n",
    "    ) -> None:\n",
    "        self._name = name\n",
    "        self.inputs: list[DataNode] = []\n",
    "\n",
    "    def __call__(self, inputs: list[DNodeInType], **kwargs: tp.Any) -> DNodeOutType:\n",
    "        raise NotImplementedError\n",
    "\n",
    "    @property\n",
    "    def name(self) -> str | None:\n",
    "        return self._name\n",
    "\n",
    "    def apply(self, inputs: list[DNodeInType], **kwargs: tp.Any) -> DNodeOutType:\n",
    "        self.inputs += inputs\n",
    "        node = self(inputs, **kwargs)\n",
    "        node.operator = self\n",
    "        return node\n",
    "\n",
    "\n",
    "@dataclass\n",
    "class ID(DataNode):\n",
    "    data: str = field(default_factory=lambda: str(uuid.uuid4()))\n",
    "\n",
    "    def __post_init__(self) -> None:\n",
    "        self.data = str(self.data)\n",
    "\n",
    "\n",
    "@dataclass\n",
    "class Date(DataNode):\n",
    "    data: str | pd.Timestamp = field(default_factory=pd.Timestamp.now)\n",
    "    name: str = \"timestamp\"\n",
    "\n",
    "    def __post_init__(self) -> None:\n",
    "        if isinstance(self.data, str):\n",
    "            self.data = pd.Timestamp(self.data)\n",
    "\n",
    "\n",
    "@dataclass\n",
    "class Value(DataNode):\n",
    "    data: int | float\n",
    "\n",
    "\n",
    "@dataclass\n",
    "class Array(DataNode):\n",
    "    data: np.ndarray\n",
    "    name: str\n",
    "\n",
    "    def min(self) -> Array:\n",
    "        return Min().apply([self])\n",
    "\n",
    "    def max(self) -> Array:\n",
    "        return Max().apply([self])\n",
    "\n",
    "    def mean(self) -> Array:\n",
    "        return Mean().apply([self])\n",
    "\n",
    "    def std(self) -> Array:\n",
    "        return Std().apply([self])\n",
    "\n",
    "\n",
    "class Min(FunctionNode[\"Array\", \"Array\"]):\n",
    "    def __call__(self, inputs: list[Array]) -> Array:\n",
    "        data = inputs[0].data.min()\n",
    "        name = inputs[0].name + f\"_{self.name}\"\n",
    "        node = Array(data=data, name=name)\n",
    "        return node\n",
    "\n",
    "    @property\n",
    "    def name(self) -> str:\n",
    "        return \"min\"\n",
    "\n",
    "\n",
    "class Max(FunctionNode[\"Array\", \"Array\"]):\n",
    "    def __call__(self, inputs: list[Array]) -> Array:\n",
    "        data = inputs[0].data.max()\n",
    "        name = inputs[0].name + f\"_{self.name}\"\n",
    "        node = Array(data=data, name=name)\n",
    "        return node\n",
    "\n",
    "    @property\n",
    "    def name(self) -> str:\n",
    "        return \"max\"\n",
    "\n",
    "\n",
    "class Mean(FunctionNode[\"Array\", \"Array\"]):\n",
    "    def __call__(self, inputs: list[Array]) -> Array:\n",
    "        data = inputs[0].data.mean()\n",
    "        name = inputs[0].name + f\"_{self.name}\"\n",
    "        node = Array(data=data, name=name)\n",
    "        return node\n",
    "\n",
    "    @property\n",
    "    def name(self) -> str:\n",
    "        return \"mean\"\n",
    "\n",
    "\n",
    "class Std(FunctionNode[\"Array\", \"Array\"]):\n",
    "    def __call__(self, inputs: list[Array]) -> Array:\n",
    "        data = inputs[0].data.std()\n",
    "        name = inputs[0].name + f\"_{self.name}\"\n",
    "        node = Array(data=data, name=name)\n",
    "        return node\n",
    "\n",
    "    @property\n",
    "    def name(self) -> str:\n",
    "        return \"std\"\n",
    "\n",
    "\n",
    "class RecordFactory(FunctionNode[\"DataNode\", \"Record\"]):\n",
    "    def __call__(self, inputs: list[DataNode], name: str | None = None, extract: bool = True) -> Record:\n",
    "        data = {}\n",
    "        for node in inputs:\n",
    "            if isinstance(node.data, jm.SampleSet) and extract:\n",
    "                data.update({n.name: n.data for n in self._to_nodes_from_sampleset(node.data)})\n",
    "            else:\n",
    "                data[node.name] = node.data\n",
    "        data = pd.Series(data)\n",
    "        return Record(data, name=name)\n",
    "\n",
    "    @property\n",
    "    def name(self) -> str:\n",
    "        return \"record\"\n",
    "\n",
    "    def _to_nodes_from_sampleset(self, sampleset: jm.SampleSet) -> list[DataNode]:\n",
    "        data = []\n",
    "\n",
    "        data.append(Array(np.array(sampleset.record.num_occurrences), \"num_occurrences\"))\n",
    "        data.append(Array(np.array(sampleset.evaluation.energy), \"energy\"))\n",
    "        data.append(Array(np.array(sampleset.evaluation.objective), \"objective\"))\n",
    "\n",
    "        constraint_violations = sampleset.evaluation.constraint_violations\n",
    "        if constraint_violations:\n",
    "            for k, v in constraint_violations.items():\n",
    "                data.append(Array(np.array(v), k))\n",
    "\n",
    "        data.append(Value(sum(sampleset.record.num_occurrences), \"num_samples\"))\n",
    "        data.append(Value(sum(sampleset.feasible().record.num_occurrences), \"num_feasible\"))\n",
    "\n",
    "        # TODO スキーマが変わったら修正\n",
    "        solving_time = sampleset.measuring_time.solve\n",
    "        if solving_time is None:\n",
    "            execution_time = np.nan\n",
    "            warnings.warn(\n",
    "                \"'solve' of jijmodeling.SampleSet is None. Give it if you want to evaluate automatically.\"\n",
    "            )\n",
    "        else:\n",
    "            if solving_time.solve is None:\n",
    "                execution_time = np.nan\n",
    "                warnings.warn(\n",
    "                    \"'solve' of jijmodeling.SampleSet is None. Give it if you want to evaluate automatically.\"\n",
    "                )\n",
    "            else:\n",
    "                execution_time = solving_time.solve\n",
    "        data.append(Value(execution_time, \"execution_time\"))\n",
    "        return data\n",
    "\n",
    "\n",
    "class TableFactory(FunctionNode[\"Record\", \"Table\"]):\n",
    "    def __call__(self, inputs: list[Record], name: str | None = None, index_name: str | None = None) -> Table:\n",
    "        data = pd.DataFrame({node.name: node.data for node in inputs}).T\n",
    "        data.index.name = index_name\n",
    "        return Table(data, name=name)\n",
    "\n",
    "    @property\n",
    "    def name(self) -> str:\n",
    "        return \"table\"\n",
    "\n",
    "\n",
    "class ArtifactFactory(FunctionNode[\"Record\", \"Artifact\"]):\n",
    "    def __call__(self, inputs: list[Record], name: str | None = None) -> Artifact:\n",
    "        data = {node.name: node.data.to_dict() for node in inputs}\n",
    "        return Artifact(data, name=name)\n",
    "\n",
    "    @property\n",
    "    def name(self) -> str:\n",
    "        return \"artifact\"\n",
    "\n",
    "\n",
    "@dataclass\n",
    "class Record(DataNode):\n",
    "    data: pd.Series = field(default_factory=lambda: pd.Series(dtype=\"object\"))\n",
    "\n",
    "\n",
    "@dataclass\n",
    "class DataBase(DataNode):\n",
    "    def append(self, record: Record, **kwargs: tp.Any) -> None:\n",
    "        raise NotImplementedError\n",
    "\n",
    "    def _append(self, record: Record, factory: TableFactory | ArtifactFactory, **kwargs: tp.Any) -> None:\n",
    "        node = factory.apply([record], name=self.name)\n",
    "        node.operator = factory\n",
    "\n",
    "        c = Concat()\n",
    "        inputs = [copy.deepcopy(self), node]\n",
    "        c.inputs = inputs\n",
    "        self.data = c(inputs, **kwargs).data\n",
    "        self.operator = c\n",
    "\n",
    "\n",
    "@dataclass\n",
    "class Table(DataBase):\n",
    "    data: pd.DataFrame = field(default_factory=pd.DataFrame)\n",
    "\n",
    "    def append(self, record: Record, axis: tp.Literal[0, 1] = 0, index_name: str | None = None, **kwargs: tp.Any) -> None:\n",
    "        self._append(record, TableFactory(), axis=axis, index_name=index_name)\n",
    "\n",
    "\n",
    "@dataclass\n",
    "class Artifact(DataBase):\n",
    "    data: dict = field(default_factory=dict)\n",
    "\n",
    "    def append(self, record: Record, **kwargs: tp.Any) -> None:\n",
    "        self._append(record, ArtifactFactory(), **kwargs)\n",
    "\n",
    "\n",
    "class Concat(FunctionNode[\"DataBase\", \"DataBase\"]):\n",
    "    def __call__(\n",
    "        self,\n",
    "        inputs: list[DataBase],\n",
    "        name: str | None = None,\n",
    "        axis: tp.Literal[0, 1] = 0,\n",
    "        index_name: str | None = None\n",
    "    ) -> DataBase:\n",
    "        dtype = type(inputs[0])\n",
    "        if not all([isinstance(node, dtype) for node in inputs]):\n",
    "            raise TypeError(\n",
    "                \"Type of elements of 'inputs' must be unified with either 'Table' or 'Artifact'.\"\n",
    "            )\n",
    "\n",
    "        if isinstance(inputs[0], Artifact):\n",
    "            data = inputs[0].data.copy()\n",
    "            for node in inputs[1:]:\n",
    "                if node.name in data:\n",
    "                    data[node.name].update(node.data.copy())\n",
    "                else:\n",
    "                    data[node.name] = node.data.copy()\n",
    "            return Artifact(data=data, name=name)\n",
    "        elif isinstance(inputs[0], Table):\n",
    "            data = pd.concat(\n",
    "                [node.data for node in inputs], axis=axis\n",
    "            )\n",
    "            data.index.name = index_name\n",
    "            return Table(data=data, name=name)\n",
    "        else:\n",
    "            raise TypeError(f\"'{inputs[0].__class__.__name__}' type is not supported.\")\n",
    "\n",
    "    @property\n",
    "    def name(self) -> str:\n",
    "        return \"concat\"\n",
    "\n",
    "\n",
    "@dataclass\n",
    "class Experiment(DataBase):\n",
    "    def __init__(\n",
    "            self,\n",
    "            data: tuple[Artifact, Table] | None = None,\n",
    "            name: str | None = None,\n",
    "            autosave: bool = True,\n",
    "            savedir: str | pathlib.Path = DEFAULT_RESULT_DIR\n",
    "        ):\n",
    "        if name is None:\n",
    "            name = ID().data\n",
    "\n",
    "        if data is None:\n",
    "            data = (Artifact(), Table())\n",
    "\n",
    "        if data[0].name is None:\n",
    "            data[0].name = name\n",
    "\n",
    "        if data[1].name is None:\n",
    "            data[1].name = name\n",
    "\n",
    "        self.data = data\n",
    "        self.name = name\n",
    "        self.autosave = autosave\n",
    "\n",
    "        if isinstance(savedir, str):\n",
    "            savedir = pathlib.Path(savedir)\n",
    "        self.savedir = savedir\n",
    "\n",
    "    @property\n",
    "    def artifact(self) -> dict:\n",
    "        return self.data[0].data\n",
    "\n",
    "    @property\n",
    "    def table(self) -> pd.DataFrame:\n",
    "        t = self.data[1].data\n",
    "        is_tuple_index = all([isinstance(i, tuple) for i in t.index])\n",
    "        if is_tuple_index:\n",
    "            names = t.index.names if len(t.index.names) >= 2 else None\n",
    "            index = pd.MultiIndex.from_tuples(t.index, names=names)\n",
    "            t.index = index\n",
    "        return t\n",
    "\n",
    "    def __enter__(self) -> Experiment:\n",
    "        p = self.savedir / str(self.name)\n",
    "        (p / \"table\").mkdir(parents=True, exist_ok=True)\n",
    "        (p / \"artifact\").mkdir(parents=True, exist_ok=True)\n",
    "        return self\n",
    "\n",
    "    def __exit__(self, exception_type, exception_value, traceback) -> None:\n",
    "        index = (self.name, self.table.index[-1])\n",
    "        self.table.rename(index={self.table.index[-1]: index}, inplace=True)\n",
    "\n",
    "        if self.autosave:\n",
    "            self.save()\n",
    "\n",
    "    def append(self, record: Record) -> None:\n",
    "        for d in self.data:\n",
    "            d.append(record, index_name=(\"experiment_id\", \"run_id\"))\n",
    "\n",
    "    def concat(self, experiment: Experiment) -> None:\n",
    "        c = Concat()\n",
    "\n",
    "        artifact = c([self.data[0], experiment.data[0]])\n",
    "        table = c([self.data[1], experiment.data[1]])\n",
    "\n",
    "        self.data = (artifact, table)\n",
    "        self.operator = c\n",
    "\n",
    "    def save(self):\n",
    "        def is_dillable(obj: tp.Any):\n",
    "            try:\n",
    "                dill.dumps(obj)\n",
    "                return True\n",
    "            except Exception:\n",
    "                return False\n",
    "\n",
    "        p = self.savedir / str(self.name) / \"table\" / \"table.csv\"\n",
    "        self.table.to_csv(p)\n",
    "\n",
    "        p = self.savedir / str(self.name) / \"artifact\" / \"artifact.dill\"\n",
    "        record_name = list(self.data[0].operator.inputs[1].data.keys())[0]\n",
    "        if p.exists():\n",
    "            with open(p, \"rb\") as f:\n",
    "                artifact = dill.load(f)\n",
    "                artifact[self.name][record_name] = {}\n",
    "        else:\n",
    "            artifact = {self.name: {record_name: {}}}\n",
    "\n",
    "        record = {}\n",
    "        for k, v in self.artifact[self.name][record_name].items():\n",
    "            if is_dillable(v):\n",
    "                record[k] = v\n",
    "            else:\n",
    "                record[k] = str(v)\n",
    "        artifact[self.name][record_name].update(record)\n",
    "\n",
    "        with open(p, \"wb\") as f:\n",
    "            dill.dump(artifact, f)\n",
    "\n",
    "\n",
    "class Solver(FunctionNode[\"DataNode\", \"Record\"]):\n",
    "    def __init__(self, function: tp.Callable) -> None:\n",
    "        super().__init__()\n",
    "        self.function = function\n",
    "\n",
    "    def __call__(self, extract: bool = True, **kwargs: tp.Any) -> Record:\n",
    "        parameters = inspect.signature(self.function).parameters\n",
    "        is_kwargs = any([p.kind == 4 for p in parameters.values()])\n",
    "        kwargs = (\n",
    "            kwargs\n",
    "            if is_kwargs\n",
    "            else {k: v for k, v in kwargs.items() if k in parameters}\n",
    "        )\n",
    "        try:\n",
    "            ret = self.function(**kwargs)\n",
    "            if not isinstance(ret, tuple):\n",
    "                ret = (ret, )\n",
    "        except Exception as e:\n",
    "            msg = f'An error occurred inside your solver. Please check implementation of \"{self.name}\". -> {e}'\n",
    "            raise SolverFailedError(msg)\n",
    "\n",
    "        solver_return_names = [f\"{self.name}_return[{i}]\" for i in range(len(ret))]\n",
    "        nodes = [DataNode(data=data, name=name) for data, name in zip(ret, solver_return_names)]\n",
    "        return RecordFactory().apply(nodes, extract=extract)\n",
    "\n",
    "    @property\n",
    "    def name(self) -> str:\n",
    "        return self.function.__name__\n",
    "\n",
    "\n",
    "class Benchmark(FunctionNode[\"DataNode\", \"Experiment\"]):\n",
    "    def __init__(\n",
    "            self,\n",
    "            params: dict[str, tp.Iterable[tp.Any]],\n",
    "            solver: tp.Callable | list[tp.Callable],\n",
    "            name: str | None = None,\n",
    "            autosave: bool = True,\n",
    "            savedir: str | pathlib.Path = DEFAULT_RESULT_DIR,\n",
    "        ) -> None:\n",
    "        super().__init__()\n",
    "        self.params = params\n",
    "        if isinstance(solver, tp.Callable):\n",
    "            self.solver = [solver]\n",
    "        else:\n",
    "            self.solver = solver\n",
    "\n",
    "        if name is None:\n",
    "            name = ID().data\n",
    "        self._name = name\n",
    "\n",
    "        self.autosave = autosave\n",
    "        self.savedir = savedir\n",
    "\n",
    "    def __call__(self, concurrent=False, extract=True) -> Experiment:\n",
    "        experiment = Experiment(name=ID().data, autosave=self.autosave, savedir=self.savedir)\n",
    "        for f in self.solver:\n",
    "            if concurrent:\n",
    "                experiment = self._run_concurrently(experiment, Solver(f))\n",
    "            else:\n",
    "                experiment = self._run_sequentially(experiment, Solver(f))\n",
    "        return experiment\n",
    "\n",
    "    @property\n",
    "    def name(self) -> str:\n",
    "        return self._name\n",
    "\n",
    "    def _run_concurrently(self, experiment: Experiment, solver: Solver) -> Experiment:\n",
    "        raise NotImplementedError\n",
    "\n",
    "    def _run_sequentially(self, experiment: Experiment, solver: Solver, extract=True) -> Experiment:\n",
    "        # TODO 返り値名を変更できるようにする。\n",
    "        # solver.rename_return(ret)\n",
    "        for r in itertools.product(*self.params.values()):\n",
    "            with experiment:\n",
    "                solver_args = dict([(k, v) for k, v in zip(self.params.keys(), r)])\n",
    "                name = ID().data\n",
    "                record = solver(**solver_args, extract=extract)\n",
    "                record.name = name\n",
    "                experiment.append(record)\n",
    "\n",
    "                # TODO 入力パラメータをtableで保持する\n",
    "                # params = (dict([(k, v) for k, v in zip(self.params.keys(), r)]))\n",
    "                # params = RecordFactory().apply(params)\n",
    "                # params.name = name\n",
    "                # experiment.append(record)\n",
    "        return experiment\n"
   ]
  },
  {
   "cell_type": "code",
   "execution_count": null,
   "metadata": {},
   "outputs": [],
   "source": [
    "def sample_model(x, y):\n",
    "    jm_sampleset_dict = {\n",
    "        \"record\": {\n",
    "            \"solution\": {\n",
    "                \"x\": [\n",
    "                    (([0, 1], [0, 1]), [1, 1], (2, 2)),\n",
    "                    (([0, 1], [1, 0]), [1, 1], (2, 2)),\n",
    "                    (([], []), [], (2, 2)),\n",
    "                    (([0, 1], [0, 0]), [1, 1], (2, 2)),\n",
    "                ]\n",
    "            },\n",
    "            \"num_occurrences\": [4, 3, 2, 1],\n",
    "        },\n",
    "        \"evaluation\": {\n",
    "            \"energy\": [3.0, 24.0, 0.0, 20.0],\n",
    "            \"objective\": [3.0, 24.0, 0.0, 17.0],\n",
    "            \"constraint_violations\": {\n",
    "                \"onehot1\": [0.0, 0.0, 2.0, 0.0],\n",
    "                \"onehot2\": [0.0, 0.0, 2.0, 2.0],\n",
    "            },\n",
    "            \"penalty\": {},\n",
    "        },\n",
    "        \"measuring_time\": {\"solve\": None, \"system\": None, \"total\": None},\n",
    "    }\n",
    "    jm_sampleset = jm.SampleSet.from_serializable(jm_sampleset_dict)\n",
    "    solving_time = jm.SolvingTime(\n",
    "        **{\"preprocess\": 1.0, \"solve\": 1.0, \"postprocess\": 1.0}\n",
    "    )\n",
    "    jm_sampleset.measuring_time.solve = solving_time\n",
    "    return jm_sampleset, x, y\n",
    "\n",
    "\n",
    "bench = Benchmark(\n",
    "    params={\"x\": range(3), \"y\": range(3)},\n",
    "    solver=[sample_model]\n",
    ")\n",
    "result = bench()"
   ]
  },
  {
   "cell_type": "code",
   "execution_count": null,
   "metadata": {},
   "outputs": [],
   "source": [
    "result.table"
   ]
  },
  {
   "cell_type": "code",
   "execution_count": null,
   "metadata": {},
   "outputs": [],
   "source": [
    "result.artifact"
   ]
  },
  {
   "cell_type": "code",
   "execution_count": null,
   "metadata": {},
   "outputs": [],
   "source": [
    "import pandas \n",
    "tp.MutableMapping"
   ]
  },
  {
   "cell_type": "code",
   "execution_count": null,
   "metadata": {},
   "outputs": [],
   "source": [
    "result.data[0].operator.inputs[0].operator"
   ]
  },
  {
   "cell_type": "code",
   "execution_count": null,
   "metadata": {},
   "outputs": [],
   "source": [
    "import jijmodeling2 as jm2"
   ]
  },
  {
   "cell_type": "code",
   "execution_count": null,
   "metadata": {},
   "outputs": [],
   "source": [
    "result.table.shape"
   ]
  },
  {
   "cell_type": "code",
   "execution_count": null,
   "metadata": {},
   "outputs": [],
   "source": [
    "def f1():\n",
    "    return 1\n",
    "\n",
    "def f2():\n",
    "    return 1, \"a\", 3.0\n",
    "\n",
    "def f3(x, y):\n",
    "    return x * 2, y / 2\n",
    "\n",
    "s1 = Solver(f1)\n",
    "ret = s1()\n",
    "\n",
    "s2 = Solver(f2)\n",
    "ret = s2()\n",
    "ret.data\n",
    "\n",
    "s3 = Solver(f3)\n",
    "ret = s3(x=2, y=3)\n",
    "print(ret.data)\n",
    "print()\n",
    "\n",
    "table = TableFactory()([ret])\n",
    "table.data"
   ]
  },
  {
   "cell_type": "code",
   "execution_count": null,
   "metadata": {},
   "outputs": [],
   "source": [
    "x = (0, 1)\n",
    "x[0] = 2"
   ]
  },
  {
   "cell_type": "code",
   "execution_count": null,
   "metadata": {},
   "outputs": [],
   "source": []
  },
  {
   "cell_type": "code",
   "execution_count": null,
   "metadata": {},
   "outputs": [],
   "source": [
    "x = {\"a\": {\"i\": 0}}\n",
    "y = {\"a\": {\"sss\": \"ttt\"}}\n",
    "\n",
    "if \"a\" in x:\n",
    "    x[\"a\"].update(y[\"a\"])\n",
    "x"
   ]
  },
  {
   "cell_type": "code",
   "execution_count": null,
   "metadata": {},
   "outputs": [],
   "source": [
    "import jijmodeling as jm\n",
    "\n",
    "def sample_model(x, y):\n",
    "    jm_sampleset_dict = {\n",
    "        \"record\": {\n",
    "            \"solution\": {\n",
    "                \"x\": [\n",
    "                    (([0, 1], [0, 1]), [1, 1], (2, 2)),\n",
    "                    (([0, 1], [1, 0]), [1, 1], (2, 2)),\n",
    "                    (([], []), [], (2, 2)),\n",
    "                    (([0, 1], [0, 0]), [1, 1], (2, 2)),\n",
    "                ]\n",
    "            },\n",
    "            \"num_occurrences\": [4, 3, 2, 1],\n",
    "        },\n",
    "        \"evaluation\": {\n",
    "            \"energy\": [3.0, 24.0, 0.0, 20.0],\n",
    "            \"objective\": [3.0, 24.0, 0.0, 17.0],\n",
    "            \"constraint_violations\": {\n",
    "                \"onehot1\": [0.0, 0.0, 2.0, 0.0],\n",
    "                \"onehot2\": [0.0, 0.0, 2.0, 2.0],\n",
    "            },\n",
    "            \"penalty\": {},\n",
    "        },\n",
    "        \"measuring_time\": {\"solve\": None, \"system\": None, \"total\": None},\n",
    "    }\n",
    "    jm_sampleset = jm.SampleSet.from_serializable(jm_sampleset_dict)\n",
    "    solving_time = jm.SolvingTime(\n",
    "        **{\"preprocess\": 1.0, \"solve\": 1.0, \"postprocess\": 1.0}\n",
    "    )\n",
    "    jm_sampleset.measuring_time.solve = solving_time\n",
    "    return jm_sampleset, x, y\n",
    "\n",
    "e = Experiment(name=\"test\")\n",
    "print(\"start\")\n",
    "print(e.data[0])\n",
    "print(e.data[0].data)\n",
    "print()\n",
    "\n",
    "for x in range(3):\n",
    "    for y in range(3):\n",
    "        with e:\n",
    "            solver = Solver(sample_model)\n",
    "            record = solver(x=x, y=y)\n",
    "            record.name = ID().data\n",
    "            e.append(record)\n"
   ]
  },
  {
   "cell_type": "code",
   "execution_count": null,
   "metadata": {},
   "outputs": [],
   "source": [
    "e.data[1].data"
   ]
  },
  {
   "cell_type": "code",
   "execution_count": null,
   "metadata": {},
   "outputs": [],
   "source": [
    "pd.MultiIndex.from_tuples(e.table.index)"
   ]
  },
  {
   "cell_type": "code",
   "execution_count": null,
   "metadata": {},
   "outputs": [],
   "source": [
    "df = pd.DataFrame([1, 2, 3])\n",
    "len(df.index.names)"
   ]
  },
  {
   "cell_type": "code",
   "execution_count": null,
   "metadata": {},
   "outputs": [],
   "source": [
    "e.artifact"
   ]
  },
  {
   "cell_type": "code",
   "execution_count": null,
   "metadata": {},
   "outputs": [],
   "source": [
    "index = ((\"x\", 0), (\"x\", 1), (\"y\", 0), (\"y\", 1))\n",
    "df = pd.DataFrame([0, 1, 2, 3])\n",
    "df.index = pd.MultiIndex.from_tuples(index, names=None)\n",
    "df2 = df.reset_index()\n",
    "df2.index.names = [\"a\"]\n",
    "df3 = df2.rename(index={3: (5,)})\n",
    "df3"
   ]
  },
  {
   "cell_type": "code",
   "execution_count": null,
   "metadata": {},
   "outputs": [],
   "source": [
    "df"
   ]
  },
  {
   "cell_type": "code",
   "execution_count": null,
   "metadata": {},
   "outputs": [],
   "source": [
    "pd.concat([df, df2])"
   ]
  },
  {
   "cell_type": "code",
   "execution_count": null,
   "metadata": {},
   "outputs": [],
   "source": [
    "e1 = Experiment()\n",
    "e1.data[1].data"
   ]
  },
  {
   "cell_type": "code",
   "execution_count": null,
   "metadata": {},
   "outputs": [],
   "source": [
    "e.data[0].operator.inputs"
   ]
  },
  {
   "cell_type": "code",
   "execution_count": null,
   "metadata": {},
   "outputs": [],
   "source": [
    "e.data[1].operator.inputs"
   ]
  },
  {
   "cell_type": "code",
   "execution_count": null,
   "metadata": {},
   "outputs": [],
   "source": [
    "import dill\n",
    "import pathlib\n",
    "\n",
    "def func():\n",
    "    def inner():\n",
    "        return 1\n",
    "\n",
    "    return inner\n",
    "\n",
    "p = pathlib.Path(\"./test.dill\")\n",
    "\n",
    "with open(p, \"wb\") as f:\n",
    "    dill.dump(func, f)\n",
    "\n",
    "dill.dumps(lambda x: x ** 2)"
   ]
  },
  {
   "cell_type": "code",
   "execution_count": null,
   "metadata": {},
   "outputs": [],
   "source": [
    "import dill\n",
    "import pathlib\n",
    "\n",
    "p = pathlib.Path(\"./test.dill\")\n",
    "\n",
    "with open(p, \"rb\") as f:\n",
    "    obj = dill.load(f)"
   ]
  },
  {
   "cell_type": "code",
   "execution_count": null,
   "metadata": {},
   "outputs": [],
   "source": [
    "import pickle\n",
    "import pathlib\n",
    "\n",
    "def func():\n",
    "    def inner():\n",
    "        return 1\n",
    "\n",
    "    return inner\n",
    "\n",
    "p = pathlib.Path(\"./test.pkl\")\n",
    "\n",
    "with open(p, \"wb\") as f:\n",
    "    pickle.dump(func, f)\n",
    "\n",
    "try:\n",
    "    f = lambda x: x ** 2\n",
    "    pickle.dumps(f)\n",
    "except Exception:\n",
    "    print(\"False\")\n",
    "    print(f)\n",
    "    print(str(f))\n"
   ]
  },
  {
   "cell_type": "code",
   "execution_count": null,
   "metadata": {},
   "outputs": [],
   "source": [
    "a = pickle.dumps(\"a\")\n",
    "b = pickle.dumps(\"b\")\n",
    "\n",
    "\n",
    "with open(\"test.pkl\", \"wb\") as f:\n",
    "    f.write(a + b)"
   ]
  },
  {
   "cell_type": "code",
   "execution_count": null,
   "metadata": {},
   "outputs": [],
   "source": [
    "pickle.dumps(\"a\" + \"b\")"
   ]
  },
  {
   "cell_type": "code",
   "execution_count": null,
   "metadata": {},
   "outputs": [],
   "source": [
    "with open(\"test.pkl\", \"rb\") as f:\n",
    "    obj = pickle.load(f)\n",
    "obj"
   ]
  },
  {
   "cell_type": "code",
   "execution_count": null,
   "metadata": {},
   "outputs": [],
   "source": [
    "import pickle\n",
    "import pathlib\n",
    "\n",
    "p = pathlib.Path(\"./test.pkl\")\n",
    "\n",
    "with open(p, \"rb\") as f:\n",
    "    obj = pickle.load(f)"
   ]
  },
  {
   "cell_type": "code",
   "execution_count": null,
   "metadata": {},
   "outputs": [],
   "source": [
    "obj()()"
   ]
  },
  {
   "cell_type": "code",
   "execution_count": null,
   "metadata": {},
   "outputs": [],
   "source": [
    "! pip install dill"
   ]
  },
  {
   "cell_type": "code",
   "execution_count": null,
   "metadata": {},
   "outputs": [],
   "source": [
    "p = pathlib.Path(\".\")\n",
    "df = pd.DataFrame([1])\n",
    "df.to_csv(p / \"table.csv\")"
   ]
  },
  {
   "cell_type": "code",
   "execution_count": null,
   "metadata": {},
   "outputs": [],
   "source": [
    "p = e.savedir / \"test\" /\"table\"\n",
    "p.exists()"
   ]
  },
  {
   "cell_type": "code",
   "execution_count": null,
   "metadata": {},
   "outputs": [],
   "source": [
    "p"
   ]
  },
  {
   "cell_type": "code",
   "execution_count": null,
   "metadata": {},
   "outputs": [],
   "source": [
    "e.table"
   ]
  },
  {
   "cell_type": "code",
   "execution_count": null,
   "metadata": {},
   "outputs": [],
   "source": [
    "e.table.to_csv(p)"
   ]
  },
  {
   "cell_type": "code",
   "execution_count": null,
   "metadata": {},
   "outputs": [],
   "source": [
    "p = pathlib.Path(\".\") / \"table2.csv\"\n",
    "p.exists()"
   ]
  },
  {
   "cell_type": "code",
   "execution_count": null,
   "metadata": {},
   "outputs": [],
   "source": [
    "e.table"
   ]
  },
  {
   "cell_type": "code",
   "execution_count": null,
   "metadata": {},
   "outputs": [],
   "source": [
    "e.artifact"
   ]
  },
  {
   "cell_type": "code",
   "execution_count": null,
   "metadata": {},
   "outputs": [],
   "source": [
    "table = Table()\n",
    "table.append(record, axis=1)\n",
    "table.data"
   ]
  },
  {
   "cell_type": "code",
   "execution_count": null,
   "metadata": {},
   "outputs": [],
   "source": [
    "table = TableFactory().apply([record])\n",
    "table.data"
   ]
  },
  {
   "cell_type": "code",
   "execution_count": null,
   "metadata": {},
   "outputs": [],
   "source": [
    "e.table.data"
   ]
  },
  {
   "cell_type": "code",
   "execution_count": null,
   "metadata": {},
   "outputs": [],
   "source": [
    "e.table.data.shape"
   ]
  },
  {
   "cell_type": "code",
   "execution_count": null,
   "metadata": {},
   "outputs": [],
   "source": [
    "e.artifact.data"
   ]
  },
  {
   "cell_type": "code",
   "execution_count": null,
   "metadata": {},
   "outputs": [],
   "source": [
    "T1 = tp.TypeVar(\"T1\")\n",
    "T2 = tp.TypeVar(\"T2\", bound=float)\n",
    "\n",
    "class A(tp.Generic[T1, T2]):\n",
    "    def f(self, x: T1) -> T2:\n",
    "        raise NotImplementedError\n",
    "    \n",
    "\n",
    "class B(A[int, float]):\n",
    "    def f(self, x: int) -> float:\n",
    "        return float(x)\n",
    "    \n",
    "b = B()\n",
    "b.f(10)\n"
   ]
  },
  {
   "cell_type": "code",
   "execution_count": null,
   "metadata": {},
   "outputs": [],
   "source": [
    "array = Array(np.arange(10))\n",
    "isinstance(array, DataNode)"
   ]
  },
  {
   "cell_type": "code",
   "execution_count": null,
   "metadata": {},
   "outputs": [],
   "source": [
    "from torch.utils.data import Dataset"
   ]
  },
  {
   "cell_type": "code",
   "execution_count": null,
   "metadata": {},
   "outputs": [],
   "source": [
    "i = ID()\n",
    "print(i.data)\n",
    "print(i.name)"
   ]
  },
  {
   "cell_type": "code",
   "execution_count": null,
   "metadata": {},
   "outputs": [],
   "source": [
    "e0 = Experiment()\n",
    "e0.data[0].data[\"a\"] = [0, 1, 2]\n",
    "e0.data\n",
    "\n",
    "e0 = Experiment()\n",
    "e0.data"
   ]
  },
  {
   "cell_type": "code",
   "execution_count": null,
   "metadata": {},
   "outputs": [],
   "source": [
    "a = 1\n",
    "a.__class__.__name__"
   ]
  },
  {
   "cell_type": "code",
   "execution_count": null,
   "metadata": {},
   "outputs": [],
   "source": [
    "pd.Series(dtype=\"object\")"
   ]
  },
  {
   "cell_type": "code",
   "execution_count": null,
   "metadata": {},
   "outputs": [],
   "source": [
    "d0 = DataNode(0, name=\"d0\")\n",
    "d1 = DataNode(1, name=\"d1\")\n",
    "d2 = DataNode(2, name=\"d2\")\n",
    "\n",
    "r0 = RecordFactory()([d0, d1], name=\"new r0\")\n",
    "r1 = RecordFactory()([d0, d2], name=\"new r1\")\n",
    "r1.data"
   ]
  },
  {
   "cell_type": "code",
   "execution_count": null,
   "metadata": {},
   "outputs": [],
   "source": [
    "t0 = Table(pd.DataFrame([0, 1], index=[\"d0\", \"d1\"], columns=[\"a\"]))\n",
    "t1 = Table(pd.DataFrame([2, 3], index=[\"d0\", \"d1\"], columns=[\"b\"]))\n",
    "tc = Concat()([t0, t1], axis=1)\n",
    "\n",
    "tc.data"
   ]
  },
  {
   "cell_type": "code",
   "execution_count": null,
   "metadata": {},
   "outputs": [],
   "source": [
    "t1.append(r1, axis=1)"
   ]
  },
  {
   "cell_type": "code",
   "execution_count": null,
   "metadata": {},
   "outputs": [],
   "source": [
    "t1.data"
   ]
  },
  {
   "cell_type": "code",
   "execution_count": null,
   "metadata": {},
   "outputs": [],
   "source": [
    "a = ArtifactFactory().apply([r0])\n",
    "a"
   ]
  },
  {
   "cell_type": "code",
   "execution_count": null,
   "metadata": {},
   "outputs": [],
   "source": [
    "a0 = Artifact({\"a\": 0, \"b\": 1}, name=ID().data)\n",
    "a1 = Artifact({\"c\": 0, \"d\": 1}, name=ID().data)\n",
    "\n",
    "print(\"aaaaa\")\n",
    "print(a0.data)\n",
    "print(id(a0))\n",
    "print()\n",
    "\n",
    "print(\"bbbbb\")\n",
    "a0.append(r1)\n",
    "print(a0.data)\n",
    "print(id(a0))\n",
    "print()\n",
    "\n",
    "print(a0.operator.inputs[0].data)\n",
    "print(id(a0.operator.inputs[0].data))\n"
   ]
  },
  {
   "cell_type": "code",
   "execution_count": null,
   "metadata": {},
   "outputs": [],
   "source": []
  },
  {
   "cell_type": "code",
   "execution_count": null,
   "metadata": {},
   "outputs": [],
   "source": [
    "a = {}\n",
    "b = a.copy()\n",
    "print(id(a))\n",
    "print(id(b))"
   ]
  },
  {
   "cell_type": "code",
   "execution_count": null,
   "metadata": {},
   "outputs": [],
   "source": [
    "acopy = a0.copy()\n",
    "print(acopy)\n",
    "print(id(acopy))"
   ]
  },
  {
   "cell_type": "code",
   "execution_count": null,
   "metadata": {},
   "outputs": [],
   "source": [
    "print(a0.operator.inputs[0])\n",
    "print(id(a0.operator.inputs[0]))"
   ]
  },
  {
   "cell_type": "code",
   "execution_count": null,
   "metadata": {},
   "outputs": [],
   "source": [
    "ac = Concat()([a0, a1])\n",
    "print(ac.data)\n",
    "print(a0.data)\n",
    "print(a1.data)"
   ]
  },
  {
   "cell_type": "code",
   "execution_count": null,
   "metadata": {},
   "outputs": [],
   "source": [
    "df = pd.DataFrame()\n",
    "df.copy()\n",
    "\n",
    "n = np.array(1)\n",
    "n.copy()\n",
    "\n",
    "from numpy import array_api"
   ]
  },
  {
   "cell_type": "code",
   "execution_count": null,
   "metadata": {},
   "outputs": [],
   "source": [
    "x = ([1], )\n",
    "print(x)\n",
    "print(id(x[0]))\n",
    "\n",
    "y = (x[0], )\n",
    "print(y)\n",
    "print(id(y[0]))"
   ]
  },
  {
   "cell_type": "code",
   "execution_count": null,
   "metadata": {},
   "outputs": [],
   "source": [
    "x = 1\n",
    "\n",
    "x.copy()"
   ]
  },
  {
   "cell_type": "code",
   "execution_count": null,
   "metadata": {},
   "outputs": [],
   "source": [
    "dn = object.__new__(DataNode)\n",
    "dn.__init__(1)\n",
    "dn"
   ]
  },
  {
   "cell_type": "code",
   "execution_count": null,
   "metadata": {},
   "outputs": [],
   "source": [
    "class A:\n",
    "    def __init__(self, x: int | None = None) -> None:\n",
    "        self.x = x\n",
    "        \n",
    "    def f(self):\n",
    "        obj = super().__new__(self.__class__)\n",
    "        obj.__init__()\n",
    "        return obj\n",
    "\n",
    "\n",
    "\n",
    "a = A(1)\n",
    "print(a.x)\n",
    "obj1 = object.__new__(a.__class__)\n",
    "obj2 = object.__new__(A)\n",
    "print(obj1)\n",
    "print(obj2)\n",
    "# print(a.__class__)\n",
    "# print(A)\n",
    "a2 = a.f()\n",
    "print(a2.x)\n",
    "print(a.x)"
   ]
  },
  {
   "cell_type": "code",
   "execution_count": null,
   "metadata": {},
   "outputs": [],
   "source": [
    "data = Array(np.arange(10))\n",
    "m = data.min()\n",
    "print(m)\n",
    "if m.operator is not None:\n",
    "    print(m.operator.inputs)"
   ]
  },
  {
   "cell_type": "code",
   "execution_count": null,
   "metadata": {},
   "outputs": [],
   "source": [
    "a0.operator"
   ]
  },
  {
   "cell_type": "code",
   "execution_count": null,
   "metadata": {},
   "outputs": [],
   "source": [
    "@tp.overload\n",
    "def func(x: int) -> int:\n",
    "    ...\n",
    "\n",
    "@tp.overload\n",
    "def func(x: float) -> float:\n",
    "    ...\n",
    "\n",
    "def func(x: int | float) -> int | float:\n",
    "    if isinstance(x, int):\n",
    "        return x\n",
    "    else:\n",
    "        return x\n",
    "\n",
    "func(1.0)"
   ]
  },
  {
   "cell_type": "code",
   "execution_count": null,
   "metadata": {},
   "outputs": [],
   "source": [
    "r = Record()\n",
    "r.data[\"a\"] = 1\n",
    "r.data\n",
    "\n",
    "r1 = Record()\n",
    "r1.data\n",
    "\n",
    "r.data"
   ]
  },
  {
   "cell_type": "code",
   "execution_count": null,
   "metadata": {},
   "outputs": [],
   "source": [
    "x = {}\n",
    "x1 = {\"a\": 1}\n",
    "# x.update(x1)\n",
    "x.get(\"b\", {}).update(x1)\n",
    "# x = {}.update(x1)"
   ]
  },
  {
   "cell_type": "code",
   "execution_count": null,
   "metadata": {},
   "outputs": [],
   "source": [
    "if ():\n",
    "    print(\"a\")\n",
    "else:\n",
    "    print(\"b\")"
   ]
  },
  {
   "cell_type": "code",
   "execution_count": null,
   "metadata": {},
   "outputs": [],
   "source": [
    "class A:\n",
    "    pass\n",
    "\n",
    "class B(A):\n",
    "    pass\n",
    "\n",
    "def func() -> A:\n",
    "    return B()"
   ]
  },
  {
   "cell_type": "code",
   "execution_count": null,
   "metadata": {},
   "outputs": [],
   "source": [
    "import numpy as np\n",
    "\n",
    "array = Array(np.arange(10))\n",
    "print(array.data)\n",
    "mi = array.min()\n",
    "if mi.operator is not None:\n",
    "    print(mi.operator.inputs[0])\n",
    "    \n",
    "print(array.min())\n",
    "print(array.max())"
   ]
  },
  {
   "cell_type": "code",
   "execution_count": null,
   "metadata": {},
   "outputs": [],
   "source": [
    "d0 = DataNode(pd.Series([0, 1, 2]), name=\"a\")\n",
    "d1 = DataNode(pd.Series([2, 3, 4]), name=\"b\")\n",
    "\n",
    "x = {d0.name: d0.data, d1.name: d1.data}\n",
    "pd.DataFrame(x)"
   ]
  },
  {
   "cell_type": "code",
   "execution_count": null,
   "metadata": {},
   "outputs": [],
   "source": [
    "@dataclass\n",
    "class A:\n",
    "    x: int\n",
    "    \n",
    "    def __post_init__(self):\n",
    "        self.y = None\n",
    "        \n",
    "    def f(self):\n",
    "        self.y += 1\n",
    "        \n",
    "a = A(1)\n",
    "a.y\n",
    "\n",
    "\n"
   ]
  },
  {
   "cell_type": "code",
   "execution_count": null,
   "metadata": {},
   "outputs": [],
   "source": [
    "import jijzept as jz\n",
    "import jijmodeling as jm\n",
    "\n",
    "sampler = jz.JijSASampler(config=\"/home/d/.jijzept/config.toml\")\n",
    "\n",
    "problem = jm.Problem(\"sample\")\n",
    "x = jm.Binary(\"x\", 5)\n",
    "problem += x[:]\n",
    "problem += jm.Constraint(\"onehot\", x[:] == 1)\n",
    "\n",
    "res = sampler.sample_model(problem, {})"
   ]
  },
  {
   "cell_type": "code",
   "execution_count": null,
   "metadata": {},
   "outputs": [],
   "source": [
    "res.feasible()"
   ]
  },
  {
   "cell_type": "code",
   "execution_count": null,
   "metadata": {},
   "outputs": [],
   "source": [
    "id0 = ID(name=\"benchmark_id\")\n",
    "energy = Energy(np.array(res.evaluation.energy))\n",
    "objective = Objective(np.array(res.evaluation.objective))\n",
    "if res.evaluation.constraint_violations is not None:\n",
    "    const_name, const_values  = list(res.evaluation.constraint_violations.items())[0]\n",
    "    constraint_violation = ConstraintViolation(np.array(const_values), const_name)\n",
    "else:\n",
    "    constraint_violation = ConstraintViolation()\n",
    "\n",
    "print(energy)\n",
    "print(objective)\n",
    "print(constraint_violation)"
   ]
  },
  {
   "cell_type": "code",
   "execution_count": null,
   "metadata": {},
   "outputs": [],
   "source": [
    "record = Record(\n",
    "    name=id0.data,\n",
    "    children=[id0, energy, objective, constraint_violation]\n",
    ")\n",
    "record.to_dict()"
   ]
  },
  {
   "cell_type": "code",
   "execution_count": null,
   "metadata": {},
   "outputs": [],
   "source": [
    "record.to_series()"
   ]
  },
  {
   "cell_type": "code",
   "execution_count": null,
   "metadata": {},
   "outputs": [],
   "source": [
    "table = Table(children=[record])\n",
    "table.to_dataframe()"
   ]
  },
  {
   "cell_type": "code",
   "execution_count": null,
   "metadata": {},
   "outputs": [],
   "source": [
    "table.append(record)\n",
    "table.to_dataframe()"
   ]
  },
  {
   "cell_type": "code",
   "execution_count": null,
   "metadata": {},
   "outputs": [],
   "source": [
    "artifact = Artifact(children=[record])\n",
    "artifact.to_dict()"
   ]
  },
  {
   "cell_type": "code",
   "execution_count": null,
   "metadata": {},
   "outputs": [],
   "source": [
    "id1 = ID(name=\"benchmark_id\")\n",
    "record2 = Record(\n",
    "    name=id1.data,\n",
    "    children=[id1, energy, objective, constraint_violation]\n",
    ")\n",
    "artifact.append(record2)\n",
    "artifact.to_dict()"
   ]
  },
  {
   "cell_type": "code",
   "execution_count": null,
   "metadata": {},
   "outputs": [],
   "source": [
    "print(id0)\n",
    "print(id1)"
   ]
  },
  {
   "cell_type": "code",
   "execution_count": null,
   "metadata": {},
   "outputs": [],
   "source": [
    "experiment = Experiment()"
   ]
  },
  {
   "cell_type": "code",
   "execution_count": null,
   "metadata": {},
   "outputs": [],
   "source": [
    "experiment.append(record)\n",
    "experiment.append(record2)\n"
   ]
  },
  {
   "cell_type": "code",
   "execution_count": null,
   "metadata": {},
   "outputs": [],
   "source": [
    "df = experiment.table.to_dataframe()\n",
    "df"
   ]
  },
  {
   "cell_type": "code",
   "execution_count": null,
   "metadata": {},
   "outputs": [],
   "source": [
    "experiment.table.children"
   ]
  },
  {
   "cell_type": "code",
   "execution_count": null,
   "metadata": {},
   "outputs": [],
   "source": [
    "Date()"
   ]
  },
  {
   "cell_type": "code",
   "execution_count": null,
   "metadata": {},
   "outputs": [],
   "source": [
    "ID()"
   ]
  },
  {
   "cell_type": "code",
   "execution_count": null,
   "metadata": {},
   "outputs": [],
   "source": [
    "experiment.table.children"
   ]
  },
  {
   "cell_type": "code",
   "execution_count": null,
   "metadata": {},
   "outputs": [],
   "source": [
    "ID().data"
   ]
  },
  {
   "cell_type": "code",
   "execution_count": null,
   "metadata": {},
   "outputs": [],
   "source": [
    "p = pathlib.Path(\"./a\")\n",
    "(p / \"b\").mkdir(parents=True)"
   ]
  },
  {
   "cell_type": "code",
   "execution_count": null,
   "metadata": {},
   "outputs": [],
   "source": [
    "pd.Timestamp(\"2022-01-01\")"
   ]
  },
  {
   "cell_type": "code",
   "execution_count": null,
   "metadata": {},
   "outputs": [],
   "source": [
    "class ArrayVisitor:\n",
    "    def min(self, array: Array):\n",
    "        return float(array.data.min())\n",
    "    \n",
    "\n",
    "array = Array(np.arange(10))\n",
    "array.accept_min(ArrayVisitor())\n"
   ]
  },
  {
   "cell_type": "code",
   "execution_count": null,
   "metadata": {},
   "outputs": [],
   "source": [
    "from chainer.variable import Variable, VariableNode\n",
    "from chainer.function_node import FunctionNode\n",
    "from chainer.function import FunctionAdapter\n",
    "\n",
    "a = Variable(np.array(10.0), name=\"a\")\n",
    "x = Variable(np.array(1.0), name=\"x\")\n",
    "y = Variable(np.array(2.0), name=\"y\")\n",
    "z = a * x + y\n",
    "\n",
    "z.backward(retain_grad=True)\n",
    "\n",
    "print(z)\n",
    "print(z.node)\n",
    "print(\"=======\")\n",
    "print(z.node.creator.inputs)\n",
    "print(z.node.creator.inputs[0].data)\n",
    "print(z.node.creator.inputs[0].name)\n",
    "print(z.node.creator.inputs[1].data)\n",
    "print(z.node.creator.inputs[1].name)\n",
    "print(\"@@@@@@@@@@\")\n",
    "print(z.node.creator.inputs[0].creator.inputs[0].data)\n",
    "print(z.node.creator.inputs[0].creator.inputs[0].name)\n",
    "print(z.node.creator.inputs[0].creator.inputs[1].data)\n",
    "print(z.node.creator.inputs[0].creator.inputs[1].name)\n",
    "print(z.node.creator.inputs[1].data)\n",
    "print(z.node.creator.inputs[1].name)\n",
    "print(\"++++++++++\")\n",
    "print(z.node.creator.inputs[0].creator.inputs[0].creator)\n",
    "print(z.node.creator.inputs[0].creator.inputs[1].creator)\n",
    "print()\n",
    "\n"
   ]
  },
  {
   "cell_type": "code",
   "execution_count": null,
   "metadata": {},
   "outputs": [],
   "source": [
    "from chainer.functions import add"
   ]
  },
  {
   "cell_type": "code",
   "execution_count": null,
   "metadata": {},
   "outputs": [],
   "source": [
    "s1 = pd.Series([1, 2, 3], index=[\"a\", \"b\", \"c\"])\n",
    "s2 = pd.Series([1, 2, 3], index=[\"a\", \"b\", \"c\"])"
   ]
  },
  {
   "cell_type": "code",
   "execution_count": null,
   "metadata": {},
   "outputs": [],
   "source": [
    "pd.concat([s1], axis=1).T"
   ]
  },
  {
   "cell_type": "code",
   "execution_count": null,
   "metadata": {},
   "outputs": [],
   "source": []
  },
  {
   "cell_type": "code",
   "execution_count": null,
   "metadata": {},
   "outputs": [],
   "source": []
  },
  {
   "cell_type": "code",
   "execution_count": null,
   "metadata": {},
   "outputs": [],
   "source": []
  },
  {
   "cell_type": "code",
   "execution_count": null,
   "metadata": {},
   "outputs": [],
   "source": []
  },
  {
   "cell_type": "code",
   "execution_count": null,
   "metadata": {},
   "outputs": [],
   "source": []
  },
  {
   "cell_type": "code",
   "execution_count": null,
   "metadata": {},
   "outputs": [],
   "source": []
  },
  {
   "cell_type": "code",
   "execution_count": null,
   "metadata": {},
   "outputs": [],
   "source": [
    "# Tn = tp.TypeVar(\"Tn\")\n",
    "\n",
    "# class FunctionNode(tp.Generic[Tn]):\n",
    "#     def __init__(\n",
    "#         self, \n",
    "#         name: str | None = None, \n",
    "#         children: list[Tn] | None = None\n",
    "#     ) -> None:\n",
    "#         self._name = name``\n",
    "#         self._children = children\n",
    "#         \n",
    "#     @property\n",
    "#     def name(self) -> str | None:\n",
    "#         return self._name\n",
    "#     \n",
    "#     @property\n",
    "#     def children(self) -> list[Tn] | None:\n",
    "#         return self._children\n",
    "#     \n",
    "#     def _narrow_children_type(self) -> list[Tn]:\n",
    "#         if self.children is None:\n",
    "#             raise ValueError(\n",
    "#                 \"Value of attribute 'children' is None, which means this node has no children. Therefore, it cannot operate node futher more.\"\n",
    "#             )\n",
    "#         return self.children\n",
    "#     \n",
    "#     def append(self, node: Tn) -> None:\n",
    "#         children = self._narrow_children_type()\n",
    "#         children.append(node)\n",
    "#     \n",
    "    \n",
    "            \n",
    "# Tn = tp.TypeVar(\"Tn\", bound=\"BaseNode\")\n",
    "# \n",
    "# class BaseNode(tp.Generic[Tn]):\n",
    "#     pass\n",
    "# \n",
    "# @dataclass\n",
    "# class DataNode(BaseNode[Tn]):\n",
    "#     data: tp.Any = None\n",
    "#     name: str | None = None\n",
    "#     children: list[Tn] | None = None\n",
    "#     \n",
    "#     \n",
    "# class FunctionNode(BaseNode[Tn]):\n",
    "#     def __init__(\n",
    "#         self, \n",
    "#         name: str | None = None, \n",
    "#         children: list[Tn] | None = None\n",
    "#     ) -> None:\n",
    "#         self.name = name\n",
    "#         if children is None:\n",
    "#             self.children = []\n",
    "#         else:\n",
    "#             self.children = children\n",
    "# "
   ]
  }
 ],
 "metadata": {
  "kernelspec": {
   "display_name": "jb",
   "language": "python",
   "name": "python3"
  },
  "language_info": {
   "codemirror_mode": {
    "name": "ipython",
    "version": 3
   },
   "file_extension": ".py",
   "mimetype": "text/x-python",
   "name": "python",
   "nbconvert_exporter": "python",
   "pygments_lexer": "ipython3",
   "version": "3.9.16"
  },
  "orig_nbformat": 4,
  "vscode": {
   "interpreter": {
    "hash": "5eaa3e186cacc9bb332f07e538da540336d7c8bdef1d8d919cfee9dddb691663"
   }
  }
 },
 "nbformat": 4,
 "nbformat_minor": 2
}
