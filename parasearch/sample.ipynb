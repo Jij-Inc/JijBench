{
 "cells": [
  {
   "cell_type": "code",
   "execution_count": 8,
   "metadata": {},
   "outputs": [],
   "source": [
    "import pickle\n",
    "import numpy as np\n",
    "import jijmodeling as jm\n",
    "from problems import strip_packing\n"
   ]
  },
  {
   "cell_type": "code",
   "execution_count": 12,
   "metadata": {},
   "outputs": [
    {
     "data": {
      "text/latex": [
       "$\\begin{alignat*}{4} \\text{Problem} & \\text{: strip packing} \\\\\\min & \\quad \\sum_{i = 0 }^{4}\\sum_{k = 0 }^{4}\\sum_{l = 0 }^{17} \\left( h_{l} \\cdot x_{i,0,k,l,0} + w_{l} \\cdot x_{i,0,k,l,1} \\right) \\\\\\text{s.t.} & \\\\& \\text{const1} :\\\\ &\\quad \\quad \\sum_{i = 0 }^{4}\\sum_{j = 0 }^{2}\\sum_{k = 0 }^{4}\\sum_{r = 0 }^{1} x_{i,j,k,l,r} = 1,\\ \\forall l \\in \\left\\{ 0 ,\\ldots , 17 \\right\\} \\\\[8pt]& \\text{const2} :\\\\ &\\quad \\quad \\sum_{l = 0 }^{17}\\sum_{r = 0 }^{1} x_{i,j,k,l,r} \\leq 1,\\ \\forall i \\in \\left\\{ 0 ,\\ldots , 4 \\right\\} \\forall j \\in \\left\\{ 0 ,\\ldots , 2 \\right\\} \\forall k \\in \\left\\{ 0 ,\\ldots , 4 \\right\\} \\\\[8pt]& \\text{const3} :\\\\ &\\quad \\quad \\sum_{k = 0 }^{4}\\sum_{l = 0 }^{17} \\left( h_{l} \\cdot x_{i,j,k,l,0} + w_{l} \\cdot x_{i,j,k,l,1} - h_{l} \\cdot x_{i,0,k,l,0} + w_{l} \\cdot x_{i,0,k,l,1} \\right) \\leq 0,\\ \\forall i \\in \\left\\{ 0 ,\\ldots , 4 \\right\\} \\forall j \\in \\left\\{ 0 ,\\ldots , 2 \\right\\} \\\\[8pt]& \\text{const4} :\\\\ &\\quad \\quad \\sum_{l = 0 }^{17} \\left( w_{l} \\cdot x_{i,j,k,l,0} + h_{l} \\cdot x_{i,j,k,l,1} - w_{l} \\cdot x_{i,j,0,l,0} + h_{l} \\cdot x_{i,j,0,l,1} \\right) \\leq 0,\\ \\forall i \\in \\left\\{ 0 ,\\ldots , 4 \\right\\} \\forall j \\in \\left\\{ 0 ,\\ldots , 2 \\right\\} \\forall k \\in \\left\\{ 0 ,\\ldots , 4 \\right\\} \\\\[8pt]& \\text{const5} :\\\\ &\\quad \\quad \\sum_{j = 0 }^{2}\\sum_{l = 0 }^{17} \\left( w_{l} \\cdot x_{i,j,0,l,0} + h_{l} \\cdot x_{i,j,0,l,1} \\right) \\leq 2540,\\ \\forall i \\in \\left\\{ 0 ,\\ldots , 4 \\right\\} \\\\[8pt]&  x_{i_0,i_1,i_2,i_3,i_4} \\in \\{{0, 1\\}},\\  x_{i_0,i_1,i_2,i_3,i_4} \\in \\{{0, 1\\}} \\end{alignat*}$"
      ],
      "text/plain": [
       "<jijmodeling.problem.Problem at 0x7efc0092a8e0>"
      ]
     },
     "execution_count": 12,
     "metadata": {},
     "output_type": "execute_result"
    }
   ],
   "source": [
    "problem = strip_packing()\n",
    "problem"
   ]
  },
  {
   "cell_type": "code",
   "execution_count": 5,
   "metadata": {},
   "outputs": [],
   "source": [
    "with open(\"../../instance_data.pickle\", \"rb\") as f:\n",
    "    instance_data = pickle.load(f)\n"
   ]
  },
  {
   "cell_type": "code",
   "execution_count": 13,
   "metadata": {},
   "outputs": [
    {
     "ename": "DataError",
     "evalue": "Key Error occurred (corresponding key does not exist in instance data). Please check the variable with the label 'x' is defined in instance data or not defined twice in expression.",
     "output_type": "error",
     "traceback": [
      "\u001b[0;31m---------------------------------------------------------------------------\u001b[0m",
      "\u001b[0;31mKeyError\u001b[0m                                  Traceback (most recent call last)",
      "\u001b[0;32m/usr/local/lib/python3.9/site-packages/jijmodeling/transpilers/elementwise_substitution.py\u001b[0m in \u001b[0;36m_elementwise_substitution\u001b[0;34m(***failed resolving arguments***)\u001b[0m\n",
      "\u001b[0;32m/usr/local/lib/python3.9/site-packages/jijmodeling/transpilers/elementwise_substitution.py\u001b[0m in \u001b[0;36m__call__\u001b[0;34m(***failed resolving arguments***)\u001b[0m\n",
      "\u001b[0;31mKeyError\u001b[0m: x",
      "\nDuring handling of the above exception, another exception occurred:\n",
      "\u001b[0;31mDataError\u001b[0m                                 Traceback (most recent call last)",
      "\u001b[0;32m/tmp/ipykernel_63514/2056677887.py\u001b[0m in \u001b[0;36m<module>\u001b[0;34m\u001b[0m\n\u001b[1;32m      6\u001b[0m \u001b[0mx1\u001b[0m \u001b[0;34m=\u001b[0m \u001b[0mjm\u001b[0m\u001b[0;34m.\u001b[0m\u001b[0mBinary\u001b[0m\u001b[0;34m(\u001b[0m\u001b[0;34m\"x1\"\u001b[0m\u001b[0;34m,\u001b[0m \u001b[0mshape\u001b[0m\u001b[0;34m=\u001b[0m\u001b[0;34m(\u001b[0m\u001b[0md0\u001b[0m\u001b[0;34m,\u001b[0m \u001b[0md1\u001b[0m\u001b[0;34m,\u001b[0m \u001b[0md2\u001b[0m\u001b[0;34m,\u001b[0m \u001b[0md3\u001b[0m\u001b[0;34m,\u001b[0m \u001b[0md4\u001b[0m\u001b[0;34m)\u001b[0m\u001b[0;34m)\u001b[0m\u001b[0;34m\u001b[0m\u001b[0;34m\u001b[0m\u001b[0m\n\u001b[1;32m      7\u001b[0m \u001b[0msolution\u001b[0m \u001b[0;34m=\u001b[0m \u001b[0;34m{\u001b[0m\u001b[0mx1\u001b[0m\u001b[0;34m:\u001b[0m \u001b[0mnp\u001b[0m\u001b[0;34m.\u001b[0m\u001b[0mzeros\u001b[0m\u001b[0;34m(\u001b[0m\u001b[0;34m(\u001b[0m\u001b[0;36m5\u001b[0m\u001b[0;34m,\u001b[0m \u001b[0;36m3\u001b[0m\u001b[0;34m,\u001b[0m \u001b[0;36m5\u001b[0m\u001b[0;34m,\u001b[0m \u001b[0;36m18\u001b[0m\u001b[0;34m,\u001b[0m \u001b[0;36m2\u001b[0m\u001b[0;34m)\u001b[0m\u001b[0;34m,\u001b[0m \u001b[0mdtype\u001b[0m\u001b[0;34m=\u001b[0m\u001b[0mint\u001b[0m\u001b[0;34m)\u001b[0m\u001b[0;34m}\u001b[0m\u001b[0;34m\u001b[0m\u001b[0;34m\u001b[0m\u001b[0m\n\u001b[0;32m----> 8\u001b[0;31m \u001b[0mresult\u001b[0m \u001b[0;34m=\u001b[0m \u001b[0mjm\u001b[0m\u001b[0;34m.\u001b[0m\u001b[0mevaluate_solutions\u001b[0m\u001b[0;34m(\u001b[0m\u001b[0mproblem\u001b[0m\u001b[0;34m,\u001b[0m \u001b[0;34m[\u001b[0m\u001b[0msolution\u001b[0m\u001b[0;34m]\u001b[0m\u001b[0;34m,\u001b[0m \u001b[0minstance_data\u001b[0m\u001b[0;34m)\u001b[0m\u001b[0;34m\u001b[0m\u001b[0;34m\u001b[0m\u001b[0m\n\u001b[0m",
      "\u001b[0;32m/usr/local/lib/python3.9/site-packages/jijmodeling/decode.py\u001b[0m in \u001b[0;36mevaluate_solutions\u001b[0;34m(***failed resolving arguments***)\u001b[0m\n",
      "\u001b[0;32m/usr/local/lib/python3.9/site-packages/jijmodeling/transpilers/calc_value.py\u001b[0m in \u001b[0;36mcalc_value\u001b[0;34m(***failed resolving arguments***)\u001b[0m\n",
      "\u001b[0;32m/usr/local/lib/python3.9/site-packages/jijmodeling/transpilers/elementwise_substitution.py\u001b[0m in \u001b[0;36melementwise_substitution\u001b[0;34m(***failed resolving arguments***)\u001b[0m\n",
      "\u001b[0;32m/usr/local/lib/python3.9/site-packages/jijmodeling/transpilers/elementwise_substitution.py\u001b[0m in \u001b[0;36m_elementwise_substitution\u001b[0;34m(***failed resolving arguments***)\u001b[0m\n",
      "\u001b[0;32m/usr/local/lib/python3.9/site-packages/jijmodeling/transpilers/elementwise_substitution.py\u001b[0m in \u001b[0;36m_elementwise_substitution\u001b[0;34m(***failed resolving arguments***)\u001b[0m\n",
      "\u001b[0;32m/usr/local/lib/python3.9/site-packages/jijmodeling/transpilers/elementwise_substitution.py\u001b[0m in \u001b[0;36m_elementwise_substitution\u001b[0;34m(***failed resolving arguments***)\u001b[0m\n",
      "\u001b[0;32m/usr/local/lib/python3.9/site-packages/jijmodeling/transpilers/elementwise_substitution.py\u001b[0m in \u001b[0;36m_elementwise_substitution\u001b[0;34m(***failed resolving arguments***)\u001b[0m\n",
      "\u001b[0;32m/usr/local/lib/python3.9/site-packages/jijmodeling/transpilers/elementwise_substitution.py\u001b[0m in \u001b[0;36m_elementwise_substitution\u001b[0;34m(***failed resolving arguments***)\u001b[0m\n",
      "\u001b[0;32m/usr/local/lib/python3.9/site-packages/jijmodeling/transpilers/elementwise_substitution.py\u001b[0m in \u001b[0;36m_elementwise_substitution\u001b[0;34m(***failed resolving arguments***)\u001b[0m\n",
      "\u001b[0;31mDataError\u001b[0m: Key Error occurred (corresponding key does not exist in instance data). Please check the variable with the label 'x' is defined in instance data or not defined twice in expression."
     ]
    }
   ],
   "source": [
    "d0 = jm.Element(\"i\", 5)\n",
    "d1 = jm.Element(\"j\", 3)\n",
    "d2 = jm.Element(\"k\", 5)\n",
    "d3 = jm.Element(\"l\", 18)\n",
    "d4 = jm.Element(\"r\", 2)\n",
    "x1 = jm.Binary(\"x1\", shape=(d0, d1, d2, d3, d4))\n",
    "solution = {x1: np.zeros((5, 3, 5, 18, 2), dtype=int)}\n",
    "result = jm.evaluate_solutions(problem, [solution], instance_data)"
   ]
  },
  {
   "cell_type": "code",
   "execution_count": null,
   "metadata": {},
   "outputs": [],
   "source": []
  },
  {
   "cell_type": "code",
   "execution_count": 14,
   "metadata": {},
   "outputs": [
    {
     "data": {
      "text/plain": [
       "[EvaluationResult(objective=0, constraint_violation={'onehot': 2.0}, constraint_expr_value={'onehot': {(0,): -1.0, (1,): 0.0, (2,): 1.0}}, penalty={})]"
      ]
     },
     "execution_count": 14,
     "metadata": {},
     "output_type": "execute_result"
    }
   ],
   "source": [
    "n = jm.Placeholder(\"n\")\n",
    "x = jm.Binary(\"x\", shape=(n, n))\n",
    "i = jm.Element(\"i\", n)\n",
    "problem = jm.Problem(\"sample\")\n",
    "problem += jm.Constraint(\"onehot\", x[i, :] == 1, forall=i)\n",
    "solution = {x: np.array([[0, 0, 0], [1, 0, 0], [0, 1, 1]])}\n",
    "ph_value = {n: 3}\n",
    "result = jm.evaluate_solutions(problem, [solution], ph_value)\n",
    "result"
   ]
  },
  {
   "cell_type": "code",
   "execution_count": null,
   "metadata": {},
   "outputs": [],
   "source": []
  }
 ],
 "metadata": {
  "interpreter": {
   "hash": "949777d72b0d2535278d3dc13498b2535136f6dfe0678499012e853ee9abcab1"
  },
  "kernelspec": {
   "display_name": "Python 3.9.9 64-bit",
   "language": "python",
   "name": "python3"
  },
  "language_info": {
   "codemirror_mode": {
    "name": "ipython",
    "version": 3
   },
   "file_extension": ".py",
   "mimetype": "text/x-python",
   "name": "python",
   "nbconvert_exporter": "python",
   "pygments_lexer": "ipython3",
   "version": "3.9.9"
  },
  "orig_nbformat": 4
 },
 "nbformat": 4,
 "nbformat_minor": 2
}
